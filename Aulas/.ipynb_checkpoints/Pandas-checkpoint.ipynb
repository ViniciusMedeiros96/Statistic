{
 "cells": [
  {
   "cell_type": "markdown",
   "metadata": {},
   "source": [
    "<img src=\"https://upload.wikimedia.org/wikipedia/commons/thumb/e/ed/Pandas_logo.svg/1200px-Pandas_logo.svg.png\" alt=\"imagem\" width=\"200\">"
   ]
  },
  {
   "cell_type": "markdown",
   "metadata": {},
   "source": [
    "## `Utilizando Series a partir de Listas:`"
   ]
  },
  {
   "cell_type": "code",
   "execution_count": 5,
   "metadata": {},
   "outputs": [],
   "source": [
    "import pandas as pd"
   ]
  },
  {
   "cell_type": "code",
   "execution_count": null,
   "metadata": {},
   "outputs": [],
   "source": [
    "notas = pd.Series([7.6 , 5.0, 8.5, 9.5, 6.5])"
   ]
  },
  {
   "cell_type": "code",
   "execution_count": null,
   "metadata": {},
   "outputs": [],
   "source": [
    "lst_nomes = [\"Bob\", \"Dayse\", \"Bill\", \"Cris\", \"Jimi\"]"
   ]
  },
  {
   "cell_type": "code",
   "execution_count": null,
   "metadata": {},
   "outputs": [],
   "source": [
    "lst_matriculas = [\"M02\", \"M05\", \"M13\", \"M14\", \"M19\"]"
   ]
  },
  {
   "cell_type": "code",
   "execution_count": null,
   "metadata": {},
   "outputs": [],
   "source": [
    "alunos = pd.Series(lst_nomes,index=lst_matriculas)"
   ]
  },
  {
   "cell_type": "code",
   "execution_count": null,
   "metadata": {},
   "outputs": [],
   "source": [
    "print(notas); print(\"----------------\"); print(alunos)"
   ]
  },
  {
   "cell_type": "markdown",
   "metadata": {},
   "source": [
    "## `Criando Series a partir de Dicionários:`"
   ]
  },
  {
   "cell_type": "code",
   "execution_count": 13,
   "metadata": {},
   "outputs": [],
   "source": [
    "dic_alunos = {'M02':'Bob','M05':'Dayse','M13':'Bill',\n",
    "'M14':'Cris','M19':'Jimi'}"
   ]
  },
  {
   "cell_type": "code",
   "execution_count": 14,
   "metadata": {},
   "outputs": [],
   "source": [
    "alunos = pd.Series(dic_alunos)"
   ]
  },
  {
   "cell_type": "code",
   "execution_count": 15,
   "metadata": {},
   "outputs": [
    {
     "data": {
      "text/plain": [
       "M02      Bob\n",
       "M05    Dayse\n",
       "M13     Bill\n",
       "M14     Cris\n",
       "M19     Jimi\n",
       "dtype: object"
      ]
     },
     "execution_count": 15,
     "metadata": {},
     "output_type": "execute_result"
    }
   ],
   "source": [
    "alunos"
   ]
  },
  {
   "cell_type": "markdown",
   "metadata": {},
   "source": [
    "## Propriedades das Series"
   ]
  },
  {
   "cell_type": "code",
   "execution_count": 2,
   "metadata": {},
   "outputs": [],
   "source": [
    "#P02: Propriedades básicas das Series\n",
    "import pandas as pd"
   ]
  },
  {
   "cell_type": "code",
   "execution_count": 3,
   "metadata": {},
   "outputs": [],
   "source": [
    "#cria a Series \"alunos\"\n",
    "alunos = pd.Series({'M02':'Bob','M05':'Dayse','M13':'Bill',\n",
    "'M14':'Cris','M19':'Jimi'})"
   ]
  },
  {
   "cell_type": "code",
   "execution_count": 4,
   "metadata": {},
   "outputs": [],
   "source": [
    "#atribui nomes p/ os vetores de dados e rótulos\n",
    "alunos.name = \"alunos\"\n",
    "alunos.index.name = \"matrículas\""
   ]
  },
  {
   "cell_type": "code",
   "execution_count": 5,
   "metadata": {},
   "outputs": [
    {
     "data": {
      "text/plain": [
       "matrículas\n",
       "M02      Bob\n",
       "M05    Dayse\n",
       "M13     Bill\n",
       "M14     Cris\n",
       "M19     Jimi\n",
       "Name: alunos, dtype: object"
      ]
     },
     "execution_count": 5,
     "metadata": {},
     "output_type": "execute_result"
    }
   ],
   "source": [
    "#recupera e imprime as propriedades\n",
    "alunos"
   ]
  },
  {
   "cell_type": "markdown",
   "metadata": {},
   "source": [
    "* size : tamanho da Series (número de elementos);\n",
    "* values : vetor de dados;\n",
    "* index : vetor de rótulos;\n",
    "* name : nome do vetor de dados;\n",
    "* index.name : nome do vetor de rótulos;\n",
    "* index.dtype : dtype do vetor de rótulos."
   ]
  },
  {
   "cell_type": "code",
   "execution_count": 14,
   "metadata": {},
   "outputs": [],
   "source": [
    "tamanho = alunos.size\n",
    "dados = alunos.values\n",
    "rotulos = alunos.index\n",
    "alunos_tipo = type(alunos)\n",
    "alunos_dtype = alunos.dtype\n",
    "alunos_idx_dtype = alunos.index.dtype"
   ]
  },
  {
   "cell_type": "code",
   "execution_count": 15,
   "metadata": {},
   "outputs": [
    {
     "name": "stdout",
     "output_type": "stream",
     "text": [
      "número de elementos:  5\n",
      "vetor de dados:  ['Bob' 'Dayse' 'Bill' 'Cris' 'Jimi']\n",
      "vetor de rótulos:  Index(['M02', 'M05', 'M13', 'M14', 'M19'], dtype='object')\n",
      "tipo (type):  <class 'pandas.core.series.Series'>\n",
      "dtype da Series: object\n",
      "dtype do vetor de rótulos: object\n"
     ]
    }
   ],
   "source": [
    "print('número de elementos: ', tamanho)\n",
    "print('vetor de dados: ', dados)\n",
    "print('vetor de rótulos: ', rotulos)\n",
    "print('tipo (type): ', alunos_tipo)\n",
    "print('dtype da Series:', alunos_dtype)\n",
    "print('dtype do vetor de rótulos:', alunos_idx_dtype)"
   ]
  },
  {
   "cell_type": "markdown",
   "metadata": {},
   "source": []
  },
  {
   "cell_type": "markdown",
   "metadata": {},
   "source": [
    "### `Indexação`"
   ]
  },
  {
   "cell_type": "markdown",
   "metadata": {},
   "source": [
    "A pandas permite o emprego de três\n",
    "diferentes técnicas: indexação tradicional, fatiamento e indexação\n",
    "booleana."
   ]
  },
  {
   "cell_type": "markdown",
   "metadata": {},
   "source": [
    "#### Tradicional"
   ]
  },
  {
   "cell_type": "markdown",
   "metadata": {},
   "source": [
    "exemplo[0]"
   ]
  },
  {
   "cell_type": "markdown",
   "metadata": {},
   "source": [
    "#### Fatiamento"
   ]
  },
  {
   "cell_type": "raw",
   "metadata": {},
   "source": [
    "exemplos[i:j]\n",
    "exemplos[i:]\n",
    "exemplos[:j]\n",
    "exemplos[-k:]\n",
    "exemplos[i:j:k]\n",
    "exemplos[[lista]]"
   ]
  },
  {
   "cell_type": "markdown",
   "metadata": {},
   "source": [
    "#### Booleana"
   ]
  },
  {
   "cell_type": "code",
   "execution_count": 7,
   "metadata": {},
   "outputs": [],
   "source": [
    "#Indexação booleana\n",
    "import pandas as pd"
   ]
  },
  {
   "cell_type": "code",
   "execution_count": 8,
   "metadata": {},
   "outputs": [],
   "source": [
    "#cria as Series \"notas\" e \"alunos\"\n",
    "notas = pd.Series([7.6, 5.0, 8.5, 9.5, 6.4])\n",
    "alunos = pd.Series({'M02':'Bob','M05':'Dayse','M13':'Bill',\n",
    "'M14':'Cris','M19':'Jimi'})"
   ]
  },
  {
   "cell_type": "code",
   "execution_count": 19,
   "metadata": {},
   "outputs": [],
   "source": [
    "#obtém os índices dos alunos aprovados\n",
    "idx_aprovados = notas[notas >= 7].index"
   ]
  },
  {
   "cell_type": "code",
   "execution_count": 20,
   "metadata": {},
   "outputs": [
    {
     "name": "stdout",
     "output_type": "stream",
     "text": [
      "relação de alunos aprovados:\n",
      "---------------------------\n",
      "M02     Bob\n",
      "M13    Bill\n",
      "M14    Cris\n",
      "dtype: object\n"
     ]
    }
   ],
   "source": [
    "#imprime os alunos aprovados\n",
    "print('relação de alunos aprovados:')\n",
    "print('---------------------------')\n",
    "print(alunos[idx_aprovados])"
   ]
  },
  {
   "cell_type": "markdown",
   "metadata": {},
   "source": [
    "### `Busca`"
   ]
  },
  {
   "cell_type": "markdown",
   "metadata": {},
   "source": [
    "O próximo programa mostra como verificar se determinados\n",
    "rótulos ou valores estão presentes em uma Series."
   ]
  },
  {
   "cell_type": "code",
   "execution_count": 21,
   "metadata": {},
   "outputs": [],
   "source": [
    "#P04: Busca em Series\n",
    "import pandas as pd"
   ]
  },
  {
   "cell_type": "code",
   "execution_count": 22,
   "metadata": {},
   "outputs": [],
   "source": [
    "#cria a Series \"alunos\"\n",
    "alunos = pd.Series({'M02':'Bob','M05':'Dayse','M13':'Bill',\n",
    "'M14':'Cris','M19':'Jimi'})"
   ]
  },
  {
   "cell_type": "code",
   "execution_count": 23,
   "metadata": {},
   "outputs": [
    {
     "name": "stdout",
     "output_type": "stream",
     "text": [
      "existe o rótulo 'M13'? ->  True\n",
      "existe o rótulo 'M99'? ->  False\n",
      "---------------------------\n"
     ]
    }
   ],
   "source": [
    "#testa se rótulos fazem parte de uma Series\n",
    "tem_M13 = 'M13' in alunos\n",
    "tem_M99 = 'M99' in alunos\n",
    "print(\"existe o rótulo 'M13'? -> \",tem_M13)\n",
    "print(\"existe o rótulo 'M99'? -> \",tem_M99)\n",
    "print('---------------------------')"
   ]
  },
  {
   "cell_type": "code",
   "execution_count": 24,
   "metadata": {},
   "outputs": [
    {
     "name": "stdout",
     "output_type": "stream",
     "text": [
      "existe o valor 'Bob'\n",
      "M02     True\n",
      "M05    False\n",
      "M13    False\n",
      "M14    False\n",
      "M19    False\n",
      "dtype: bool\n"
     ]
    }
   ],
   "source": [
    "#testa se valor faz parte de uma Series\n",
    "tem_Bob = alunos.isin(['Bob'])\n",
    "print(\"existe o valor 'Bob'\")\n",
    "print(tem_Bob)"
   ]
  },
  {
   "cell_type": "markdown",
   "metadata": {},
   "source": [
    "### `Modificação`"
   ]
  },
  {
   "cell_type": "raw",
   "metadata": {},
   "source": [
    "No próximo exemplo, apresentamos a forma básica para inserir, modificar e excluir elementos."
   ]
  },
  {
   "cell_type": "code",
   "execution_count": 6,
   "metadata": {},
   "outputs": [],
   "source": [
    "#P05: Inserindo, Alterando e Removendo elementos de Series\n",
    "import pandas as pd"
   ]
  },
  {
   "cell_type": "code",
   "execution_count": 7,
   "metadata": {},
   "outputs": [],
   "source": [
    "#cria a Series \"alunos\"\n",
    "alunos = pd.Series({'M02':'Bob','M05':'Dayse','M13':'Bill',\n",
    "'M14':'Cris','M19':'Jimi'})"
   ]
  },
  {
   "cell_type": "code",
   "execution_count": 8,
   "metadata": {},
   "outputs": [
    {
     "name": "stdout",
     "output_type": "stream",
     "text": [
      "Series original:\n",
      "M02      Bob\n",
      "M05    Dayse\n",
      "M13     Bill\n",
      "M14     Cris\n",
      "M19     Jimi\n",
      "dtype: object\n"
     ]
    }
   ],
   "source": [
    "print('Series original:')\n",
    "print(alunos)"
   ]
  },
  {
   "cell_type": "code",
   "execution_count": 9,
   "metadata": {},
   "outputs": [],
   "source": [
    "#insere o aluno de matrícula M55, Rakesh\n",
    "alunos['M55'] = 'Rakesh'"
   ]
  },
  {
   "cell_type": "code",
   "execution_count": 10,
   "metadata": {},
   "outputs": [],
   "source": [
    "#altera os nomes Bill, Cris e Jimi para Billy, Cristy e Jimmy\n",
    "alunos['M13'] = 'Billy'\n",
    "alunos[['M14','M19']] = ['Cristy','Jimmy']"
   ]
  },
  {
   "cell_type": "code",
   "execution_count": 11,
   "metadata": {},
   "outputs": [],
   "source": [
    "#remove o aluno de matrícula M02 (Bob)\n",
    "alunos = alunos.drop('M02')"
   ]
  },
  {
   "cell_type": "code",
   "execution_count": 12,
   "metadata": {},
   "outputs": [
    {
     "name": "stdout",
     "output_type": "stream",
     "text": [
      "---------------------------\n",
      "Series após as alterações:\n",
      "M05     Dayse\n",
      "M13     Billy\n",
      "M14    Cristy\n",
      "M19     Jimmy\n",
      "M55    Rakesh\n",
      "dtype: object\n"
     ]
    }
   ],
   "source": [
    "print('---------------------------')\n",
    "print('Series após as alterações:')\n",
    "print(alunos)"
   ]
  },
  {
   "cell_type": "markdown",
   "metadata": {},
   "source": [
    "## `COMPUTAÇÃO VETORIZADA`"
   ]
  },
  {
   "cell_type": "code",
   "execution_count": 14,
   "metadata": {},
   "outputs": [],
   "source": [
    "#P07: Operações aritméticas com computação vetorizada\n",
    "import pandas as pd\n",
    "import numpy as np"
   ]
  },
  {
   "cell_type": "code",
   "execution_count": 15,
   "metadata": {},
   "outputs": [
    {
     "name": "stdout",
     "output_type": "stream",
     "text": [
      "s1:\n",
      "0    2\n",
      "1    4\n",
      "2    6\n",
      "dtype: int64\n",
      "s2:\n",
      "0    1\n",
      "1    3\n",
      "2    5\n",
      "dtype: int64\n"
     ]
    }
   ],
   "source": [
    "#cria as Series s1 e s2\n",
    "s1 = pd.Series([2,4,6])\n",
    "s2 = pd.Series([1,3,5])\n",
    "print('s1:'); print(s1)\n",
    "print('s2:'); print(s2)"
   ]
  },
  {
   "cell_type": "code",
   "execution_count": 16,
   "metadata": {},
   "outputs": [
    {
     "name": "stdout",
     "output_type": "stream",
     "text": [
      "---------------------------\n",
      "s1 * 2\n",
      "0     4\n",
      "1     8\n",
      "2    12\n",
      "dtype: int64\n",
      "---------------------------\n",
      "s1 + s2\n",
      "0     3\n",
      "1     7\n",
      "2    11\n",
      "dtype: int64\n",
      "---------------------------\n",
      "raiz quadrada dos elementos de s1\n",
      "0    1.414214\n",
      "1    2.000000\n",
      "2    2.449490\n",
      "dtype: float64\n"
     ]
    }
   ],
   "source": [
    "#efetua as operações aritméticas\n",
    "print('---------------------------')\n",
    "print('s1 * 2')\n",
    "print(s1 * 2)\n",
    "print('---------------------------')\n",
    "print('s1 + s2')\n",
    "print(s1 + s2)\n",
    "print('---------------------------')\n",
    "print('raiz quadrada dos elementos de s1')\n",
    "print(np.sqrt(s1)) #com a Numpy!"
   ]
  },
  {
   "cell_type": "markdown",
   "metadata": {},
   "source": [
    "### `O valor NaN`"
   ]
  },
  {
   "cell_type": "markdown",
   "metadata": {},
   "source": [
    "<img src=\"https://i.imgur.com/2uTUmKD.png\" alt=\"imagem\" width=\"400\">"
   ]
  },
  {
   "cell_type": "markdown",
   "metadata": {},
   "source": [
    "O programa a seguir examina o comportamento da pandas ao\n",
    "realizar uma operação aritmética (soma) envolvendo estas duas\n",
    "Series que não possuem os rótulos inteiramente compatíveis."
   ]
  },
  {
   "cell_type": "code",
   "execution_count": 17,
   "metadata": {},
   "outputs": [],
   "source": [
    "#P08: o valor NaN\n",
    "import pandas as pd"
   ]
  },
  {
   "cell_type": "code",
   "execution_count": 18,
   "metadata": {},
   "outputs": [],
   "source": [
    "verde = pd.Series({'BR':1, 'FR': 0, 'IT':1, 'UK': 0})\n",
    "azul = pd.Series({'AR':1, 'BR':1, 'FR': 1, 'IT':0, 'UK': 1})"
   ]
  },
  {
   "cell_type": "code",
   "execution_count": 58,
   "metadata": {},
   "outputs": [
    {
     "name": "stdout",
     "output_type": "stream",
     "text": [
      "soma:\n",
      "AR    NaN\n",
      "BR    2.0\n",
      "FR    1.0\n",
      "IT    1.0\n",
      "UK    1.0\n",
      "dtype: float64\n",
      "---------------------------\n",
      "isnull(soma):\n",
      "AR     True\n",
      "BR    False\n",
      "FR    False\n",
      "IT    False\n",
      "UK    False\n",
      "dtype: bool\n"
     ]
    }
   ],
   "source": [
    "soma = verde + azul\n",
    "print(\"soma:\")\n",
    "print(soma)\n",
    "print('---------------------------')\n",
    "print(\"isnull(soma):\")\n",
    "print(pd.isnull(soma))"
   ]
  },
  {
   "cell_type": "markdown",
   "metadata": {},
   "source": [
    "### `ÍNDICES DATETIME`"
   ]
  },
  {
   "cell_type": "markdown",
   "metadata": {},
   "source": [
    "<img src=\"https://i.imgur.com/ZQ6TeUF.png\" alt=\"imagem\" width=\"450\">"
   ]
  },
  {
   "cell_type": "markdown",
   "metadata": {},
   "source": [
    "O programa a seguir mostra como podemos criar essa série\n",
    "temporal, configurando explicitamente o vetor de índices para que\n",
    "ele possua o tipo data ( dtype datetime64 ). Afinal de contas,\n",
    "essa é a semântica correta da nossa série de registro temperaturas!"
   ]
  },
  {
   "cell_type": "code",
   "execution_count": 22,
   "metadata": {},
   "outputs": [],
   "source": [
    "#P09: Índices datetime\n",
    "import pandas as pd"
   ]
  },
  {
   "cell_type": "code",
   "execution_count": 25,
   "metadata": {},
   "outputs": [],
   "source": [
    "#(1)-cria a série temporal\n",
    "dias = ['10/02/2019', '11/02/2019','12/02/2019','13/02/2019',\n",
    "'14/02/2019','15/02/2019']\n",
    "temp_max = [31,35,34,28,27,27]\n",
    "serie_temporal = pd.Series(temp_max,index=dias)"
   ]
  },
  {
   "cell_type": "code",
   "execution_count": 26,
   "metadata": {},
   "outputs": [
    {
     "name": "stdout",
     "output_type": "stream",
     "text": [
      "2019-02-10    31\n",
      "2019-02-11    35\n",
      "2019-02-12    34\n",
      "2019-02-13    28\n",
      "2019-02-14    27\n",
      "2019-02-15    27\n",
      "dtype: int64\n"
     ]
    }
   ],
   "source": [
    "#(2)-converte o tipo do índice para datetime e imprime a série\n",
    "serie_temporal.index = pd.to_datetime(serie_temporal.index,\n",
    "format='%d/%m/%Y')\n",
    "print(serie_temporal)"
   ]
  },
  {
   "cell_type": "markdown",
   "metadata": {},
   "source": [
    "### `INDEXAÇÃO HIERÁRQUICA`"
   ]
  },
  {
   "cell_type": "markdown",
   "metadata": {},
   "source": [
    "<img src=\"https://i.imgur.com/OERWBbN.png\" alt=\"imagem\" width=\"400\">"
   ]
  },
  {
   "cell_type": "code",
   "execution_count": 27,
   "metadata": {},
   "outputs": [],
   "source": [
    "#P10: Índexação hierárquica\n",
    "import pandas as pd"
   ]
  },
  {
   "cell_type": "code",
   "execution_count": 28,
   "metadata": {},
   "outputs": [],
   "source": [
    "moedas = ['Peso', 'Real', 'Euro', 'Euro', 'Libra']\n",
    "paises = [['América','América','Europa','Europa','Europa'],\n",
    "['AR','BR','FR','IT','UK']]"
   ]
  },
  {
   "cell_type": "code",
   "execution_count": 29,
   "metadata": {},
   "outputs": [],
   "source": [
    "paises = pd.Series(moedas, index=paises)"
   ]
  },
  {
   "cell_type": "code",
   "execution_count": 30,
   "metadata": {},
   "outputs": [
    {
     "name": "stdout",
     "output_type": "stream",
     "text": [
      "América  AR     Peso\n",
      "         BR     Real\n",
      "Europa   FR     Euro\n",
      "         IT     Euro\n",
      "         UK    Libra\n",
      "dtype: object\n",
      "----------------------\n",
      "AR    Peso\n",
      "BR    Real\n",
      "dtype: object\n",
      "----------------------\n",
      "Europa    Euro\n",
      "dtype: object\n",
      "----------------------\n",
      "Euro\n"
     ]
    }
   ],
   "source": [
    "print(paises) #imprime toda a Series\n",
    "print('----------------------')\n",
    "print(paises['América']) #{AR: Peso, BR:Real}\n",
    "print('----------------------')\n",
    "print(paises[:,'IT']) #{Europa: Euro}\n",
    "print('----------------------')\n",
    "print(paises['Europa','IT']) #Euro"
   ]
  },
  {
   "cell_type": "markdown",
   "metadata": {},
   "source": [
    "## `A ESTRUTURA DE DADOS DATAFRAME`"
   ]
  },
  {
   "cell_type": "markdown",
   "metadata": {},
   "source": [
    "DataFrame é a ED pandas utilizada para representar dados\n",
    "tabulares em memória, isto é, dados dispostos em linhas e colunas.\n",
    "Trata-se da ED mais importante para ciência de dados, responsável\n",
    "por disponibilizar um amplo e sofisticado conjunto de métodos\n",
    "para a importação e o pré-processamento de grandes bases de\n",
    "dados."
   ]
  },
  {
   "cell_type": "markdown",
   "metadata": {},
   "source": [
    "### COMO CRIAR DATAFRAMES?"
   ]
  },
  {
   "cell_type": "markdown",
   "metadata": {},
   "source": [
    "<img src=\"https://i.imgur.com/38mtUTq.png\" alt=\"imagem\" width=\"400\">"
   ]
  },
  {
   "cell_type": "code",
   "execution_count": 31,
   "metadata": {},
   "outputs": [],
   "source": [
    "#cria o DataFrame\n",
    "dados = {'nome': ['Argentina','Brasil','França','Itália',\n",
    "'Reino Unido'],\n",
    "'continente': ['América','América','Europa','Europa',\n",
    "'Europa'],\n",
    "'extensao': [2780,8511,644,301,244],\n",
    "'corVerde': [0,1,0,1,0]\n",
    "}"
   ]
  },
  {
   "cell_type": "code",
   "execution_count": 32,
   "metadata": {},
   "outputs": [],
   "source": [
    "siglas = ['AR','BR','FR','IT','UK']\n",
    "paises = pd.DataFrame(dados,index=siglas)"
   ]
  },
  {
   "cell_type": "code",
   "execution_count": 48,
   "metadata": {},
   "outputs": [
    {
     "name": "stdout",
     "output_type": "stream",
     "text": [
      "           nome continente  extensao  corVerde\n",
      "AR    Argentina    América      2780         0\n",
      "BR       Brasil    América      8511         1\n",
      "FR       França     Europa       644         0\n",
      "IT       Itália     Europa       301         1\n",
      "UK  Reino Unido     Europa       244         0\n"
     ]
    }
   ],
   "source": [
    "#imprime o DataFrame\n",
    "print(paises)"
   ]
  },
  {
   "cell_type": "markdown",
   "metadata": {},
   "source": [
    "Todo DataFrame é um objeto do tipo\n",
    "pandas.core.frame.DataFrame que possui as seguintes\n",
    "propriedades básicas:"
   ]
  },
  {
   "cell_type": "markdown",
   "metadata": {},
   "source": [
    "* shape : formato do DataFrame, ou seja, o seu número de\n",
    "* linhas ( shape[0] ) e de colunas ( shape[1] );\n",
    "* index : lista com os rótulos das linhas;\n",
    "* columns : lista com os rótulos das colunas;\n",
    "* dtypes : retorna uma Series com os dtypes de cada\n",
    "* coluna;\n",
    "* index.dtype : dtype dos rótulos das linhas."
   ]
  },
  {
   "cell_type": "markdown",
   "metadata": {},
   "source": [
    "O programa listado a seguir mostra como trabalhar com estas\n",
    "propriedades."
   ]
  },
  {
   "cell_type": "code",
   "execution_count": 34,
   "metadata": {},
   "outputs": [],
   "source": [
    "#P12: Propriedades básicas dos DataFrames\n",
    "import pandas as pd"
   ]
  },
  {
   "cell_type": "code",
   "execution_count": 39,
   "metadata": {},
   "outputs": [
    {
     "data": {
      "text/html": [
       "<div>\n",
       "<style scoped>\n",
       "    .dataframe tbody tr th:only-of-type {\n",
       "        vertical-align: middle;\n",
       "    }\n",
       "\n",
       "    .dataframe tbody tr th {\n",
       "        vertical-align: top;\n",
       "    }\n",
       "\n",
       "    .dataframe thead th {\n",
       "        text-align: right;\n",
       "    }\n",
       "</style>\n",
       "<table border=\"1\" class=\"dataframe\">\n",
       "  <thead>\n",
       "    <tr style=\"text-align: right;\">\n",
       "      <th></th>\n",
       "      <th>nome</th>\n",
       "      <th>continente</th>\n",
       "      <th>extensao</th>\n",
       "      <th>corVerde</th>\n",
       "    </tr>\n",
       "  </thead>\n",
       "  <tbody>\n",
       "    <tr>\n",
       "      <th>AR</th>\n",
       "      <td>Argentina</td>\n",
       "      <td>América</td>\n",
       "      <td>2780</td>\n",
       "      <td>0</td>\n",
       "    </tr>\n",
       "    <tr>\n",
       "      <th>BR</th>\n",
       "      <td>Brasil</td>\n",
       "      <td>América</td>\n",
       "      <td>8511</td>\n",
       "      <td>1</td>\n",
       "    </tr>\n",
       "    <tr>\n",
       "      <th>FR</th>\n",
       "      <td>França</td>\n",
       "      <td>Europa</td>\n",
       "      <td>644</td>\n",
       "      <td>0</td>\n",
       "    </tr>\n",
       "    <tr>\n",
       "      <th>IT</th>\n",
       "      <td>Itália</td>\n",
       "      <td>Europa</td>\n",
       "      <td>301</td>\n",
       "      <td>1</td>\n",
       "    </tr>\n",
       "    <tr>\n",
       "      <th>UK</th>\n",
       "      <td>Reino Unido</td>\n",
       "      <td>Europa</td>\n",
       "      <td>244</td>\n",
       "      <td>0</td>\n",
       "    </tr>\n",
       "  </tbody>\n",
       "</table>\n",
       "</div>"
      ],
      "text/plain": [
       "           nome continente  extensao  corVerde\n",
       "AR    Argentina    América      2780         0\n",
       "BR       Brasil    América      8511         1\n",
       "FR       França     Europa       644         0\n",
       "IT       Itália     Europa       301         1\n",
       "UK  Reino Unido     Europa       244         0"
      ]
     },
     "execution_count": 39,
     "metadata": {},
     "output_type": "execute_result"
    }
   ],
   "source": [
    "#cria o DataFrame\n",
    "dados = {'nome': ['Argentina','Brasil','França','Itália',\n",
    "'Reino Unido'],\n",
    "'continente': ['América','América','Europa','Europa',\n",
    "'Europa'],\n",
    "'extensao': [2780,8511,644,301,244],\n",
    "'corVerde': [0,1,0,1,0]}\n",
    "siglas = ['AR','BR','FR','IT','UK']\n",
    "paises = pd.DataFrame(dados,index=siglas)"
   ]
  },
  {
   "cell_type": "code",
   "execution_count": 60,
   "metadata": {},
   "outputs": [
    {
     "name": "stdout",
     "output_type": "stream",
     "text": [
      "           nome continente  extensao  corVerde\n",
      "AR    Argentina    América      2780         0\n",
      "BR       Brasil    América      8511         1\n",
      "FR       França     Europa       644         0\n",
      "IT       Itália     Europa       301         1\n",
      "UK  Reino Unido     Europa       244         0\n",
      "-------------------------------------------------\n",
      "número de linhas:  5\n",
      "número de colunas:  4\n",
      "rótulos das linhas:  Index(['AR', 'BR', 'FR', 'IT', 'UK'], dtype='object')\n",
      "rótulos das colunas:  Index(['nome', 'continente', 'extensao', 'corVerde'], dtype='object')\n",
      "tipo (type):  <class 'pandas.core.frame.DataFrame'>\n",
      "dtypes das colunas:\n",
      " nome          object\n",
      "continente    object\n",
      "extensao       int64\n",
      "corVerde       int64\n",
      "dtype: object\n",
      "dtype dos rótulos das linhas: object\n"
     ]
    }
   ],
   "source": [
    "#recupera e imprime as propriedades\n",
    "print(paises)\n",
    "print('-------------------------------------------------')\n",
    "num_linhas = paises.shape[0]\n",
    "num_colunas = paises.shape[1]\n",
    "indices = paises.index\n",
    "colunas = paises.columns\n",
    "paises_tipo = type(paises)\n",
    "paises_dtypes = paises.dtypes\n",
    "paises_idx_dtype = paises.index.dtype\n",
    "print('número de linhas: ', num_linhas)\n",
    "print('número de colunas: ', num_colunas)\n",
    "print('rótulos das linhas: ', indices)\n",
    "print('rótulos das colunas: ', colunas)\n",
    "print('tipo (type): ',paises_tipo)\n",
    "print('dtypes das colunas:\\n', paises_dtypes)\n",
    "print('dtype dos rótulos das linhas:', paises_idx_dtype)"
   ]
  },
  {
   "cell_type": "markdown",
   "metadata": {},
   "source": [
    "### `TÉCNICAS PARA CONSULTA E MODIFICAÇÃO DE DADOS`\n",
    "#### Indexação\n",
    "Utilizamos colchetes [ ] para indexar elementos de um\n",
    "DataFrame."
   ]
  },
  {
   "cell_type": "markdown",
   "metadata": {},
   "source": [
    "Veja que a pandas disponibiliza quatro diferentes\n",
    "métodos para esta operação: iloc() , iat() , loc() e at() .\n",
    "Os dois primeiros são utilizados para indexação baseada na\n",
    "posição da linha (número inteiro), enquanto os dois últimos são\n",
    "para acessar linhas através de seus rótulos."
   ]
  },
  {
   "cell_type": "markdown",
   "metadata": {},
   "source": [
    "#### `INDEX = INDÍCES DAS LINHAS, COLUMN = ÍNDICES DAS COLUNAS` "
   ]
  },
  {
   "cell_type": "markdown",
   "metadata": {},
   "source": [
    "<img src=\"https://i.imgur.com/FWjcsQv.png\" alt=\"imagem\" width=\"500\">\n",
    "O fatiamento de DataFrames pode ser realizado com o uso dos\n",
    "métodos iloc( ) (por posição) e loc( ) (por rótulo)."
   ]
  },
  {
   "cell_type": "markdown",
   "metadata": {},
   "source": [
    "### `Busca`\n",
    "O próximo programa mostra:\n",
    "1. Como verificar se um determinado rótulo de linha ou coluna\n",
    "existe em um DataFrame;\n",
    "2. Como verificar se um determinado valor está armazenado\n",
    "em alguma coluna do DataFrame."
   ]
  },
  {
   "cell_type": "code",
   "execution_count": 22,
   "metadata": {},
   "outputs": [],
   "source": [
    "#P13: Busca em DataFrames\n",
    "import pandas as pd"
   ]
  },
  {
   "cell_type": "code",
   "execution_count": 26,
   "metadata": {},
   "outputs": [],
   "source": [
    "#cria o DataFrame\n",
    "dados = {'nome': ['Argentina','Brasil','França','Itália',\n",
    "'Reino Unido'],\n",
    "'continente': ['América','América','Europa','Europa',\n",
    "'Europa'],\n",
    "'extensao': [2780,8511,644,301,244],\n",
    "'corVerde': [0,1,0,1,0]}\n",
    "siglas = ['AR','BR','FR','IT','UK']\n",
    "paises = pd.DataFrame(dados,index=siglas)"
   ]
  },
  {
   "cell_type": "code",
   "execution_count": 27,
   "metadata": {},
   "outputs": [
    {
     "name": "stdout",
     "output_type": "stream",
     "text": [
      "existe o rótulo 'BR? ->  True\n",
      "existe o rótulo 'US'? ->  False\n"
     ]
    }
   ],
   "source": [
    "#testa se um dado rótulo de linha existe\n",
    "tem_BR = 'BR' in paises.index\n",
    "tem_US = 'US' in paises.index\n",
    "print(\"existe o rótulo 'BR? -> \",tem_BR)\n",
    "print(\"existe o rótulo 'US'? -> \",tem_US)"
   ]
  },
  {
   "cell_type": "code",
   "execution_count": 28,
   "metadata": {},
   "outputs": [
    {
     "name": "stdout",
     "output_type": "stream",
     "text": [
      "existe o rótulo 'corVerde? ->  True\n",
      "existe o rótulo 'corAzul'? ->  False\n",
      "---------------------------\n"
     ]
    }
   ],
   "source": [
    "#testa se um dado rótulo de coluna existe\n",
    "tem_corVerde = 'corVerde' in paises.columns\n",
    "tem_corAzul = 'corAzul' in paises.columns\n",
    "print(\"existe o rótulo 'corVerde? -> \",tem_corVerde)\n",
    "print(\"existe o rótulo 'corAzul'? -> \",tem_corAzul)\n",
    "print('---------------------------')"
   ]
  },
  {
   "cell_type": "code",
   "execution_count": 29,
   "metadata": {},
   "outputs": [
    {
     "name": "stdout",
     "output_type": "stream",
     "text": [
      "existe o valor 'Brasil' na coluna 'nome'?\n",
      "AR    False\n",
      "BR     True\n",
      "FR    False\n",
      "IT    False\n",
      "UK    False\n",
      "Name: nome, dtype: bool\n"
     ]
    }
   ],
   "source": [
    "#testa se valor faz parte de uma coluna\n",
    "tem_Brasil = paises['nome'].isin(['Brasil'])\n",
    "print(\"existe o valor 'Brasil' na coluna 'nome'?\")\n",
    "print(tem_Brasil)"
   ]
  },
  {
   "cell_type": "markdown",
   "metadata": {},
   "source": [
    "Para verificar se um rótulo de linha ou de coluna existe em um\n",
    "DataFrame, você deve aplicar o operador in sobre a lista de\n",
    "rótulos de linha ou de colunas, respectivamente (propriedades\n",
    "index e columns )."
   ]
  },
  {
   "cell_type": "markdown",
   "metadata": {},
   "source": [
    "### `Modificação`\n",
    "Este tópico apresenta as técnicas básicas para inserir e alterar\n",
    "linhas de um DataFrame e para modificar o conteúdo de alguma célula."
   ]
  },
  {
   "cell_type": "code",
   "execution_count": 13,
   "metadata": {},
   "outputs": [],
   "source": [
    "#P14: Modificação de DataFrame\n",
    "import pandas as pd"
   ]
  },
  {
   "cell_type": "code",
   "execution_count": 14,
   "metadata": {},
   "outputs": [],
   "source": [
    "#cria o DataFrame\n",
    "dados = {'nome': ['Argentina','Brasil','França','Itália',\n",
    "'Reino Unido'],\n",
    "'continente': ['América','América','Europa','Europa',\n",
    "'Europa'],\n",
    "'extensao': [2780,8511,644,301,244],\n",
    "'corVerde': [0,1,0,1,0]}\n",
    "siglas = ['AR','BR','FR','IT','UK']\n",
    "paises = pd.DataFrame(dados,index=siglas)"
   ]
  },
  {
   "cell_type": "code",
   "execution_count": 15,
   "metadata": {},
   "outputs": [],
   "source": [
    "#insere o país Japão (JP)\n",
    "paises.loc['JP']= {'nome': 'Japão',\n",
    "'continente': 'Ásia',\n",
    "'extensao': 372,\n",
    "'corVerde': 0}"
   ]
  },
  {
   "cell_type": "code",
   "execution_count": 16,
   "metadata": {},
   "outputs": [],
   "source": [
    "#altera a extensão do Brasil\n",
    "paises.at['BR','extensao']=8512"
   ]
  },
  {
   "cell_type": "code",
   "execution_count": 17,
   "metadata": {},
   "outputs": [
    {
     "name": "stdout",
     "output_type": "stream",
     "text": [
      "DataFrame após as alterações:\n",
      "      nome continente  extensao  corVerde\n",
      "BR  Brasil    América      8512         1\n",
      "FR  França     Europa       644         0\n",
      "IT  Itália     Europa       301         1\n",
      "JP   Japão       Ásia       372         0\n"
     ]
    }
   ],
   "source": [
    "#remove a Argentina e o Reino Unido\n",
    "paises = paises.drop(['AR','UK'])\n",
    "print('DataFrame após as alterações:')\n",
    "print(paises)"
   ]
  },
  {
   "cell_type": "markdown",
   "metadata": {},
   "source": [
    "## `TRABALHANDO COM ARQUIVOS`\n",
    "Tipicamente, os dados dos DataFrames são obtidos a partir de\n",
    "arquivos ou tabelas de banco de dados.\n",
    "### `Importação de arquivo CSV`\n",
    "Podemos realizar a leitura de arquivos CSV (comma-separated values — valores separados por vírgula) e de outros tipos de\n",
    "arquivos baseados em caracteres delimitadores utilizando o\n",
    "método read_csv().\n",
    "A seguir, apresenta-se um\n",
    "programa que importa o conteúdo do arquivo para um\n",
    "DataFrame, definindo ainda que a coluna sigla será utilizada\n",
    "como índice de linha."
   ]
  },
  {
   "cell_type": "code",
   "execution_count": 19,
   "metadata": {},
   "outputs": [],
   "source": [
    "#P15: Importação de CSV padrão para um DataFrame\n",
    "import pandas as pd"
   ]
  },
  {
   "cell_type": "markdown",
   "metadata": {},
   "source": [
    "`paises = pd.read_csv(\"c:/bases/paises.csv\",index_col=\"sigla\")\n",
    "print(paises)`"
   ]
  },
  {
   "cell_type": "markdown",
   "metadata": {},
   "source": [
    "<img src=\"https://i.imgur.com/DAL6S9u.png\" alt=\"imagem\" width=\"500\">\n",
    "O único parâmetro que\n",
    "utilizamos foi index_col , para permitir que a coluna sigla\n",
    "fosse transformada no índice de linha.\n",
    "O método read_csv() é extremamente flexível, possuindo\n",
    "uma série de parâmetros que podem ser utilizados para permitir a\n",
    "importação de arquivos CSV estruturados de diferentes maneiras.\n",
    "Os principais parâmetros são relacionados e explicados a seguir:\n",
    "sep : caractere ou expressão regular utilizada para separar\n",
    "campos em cada linha;\n",
    "\n",
    "* skiprows : número de linhas no início do arquivo que dvem ser ignoradas;\n",
    "* skip_footer : número de linhas no final do arquivo que devem ser ignoradas;\n",
    "* encoding : padrão de codificação do arquivo. A codificação default da pandas é utf-8. Se o seu arquivo estiver codificado no formato ANSI, você deverá utilizar encoding='ansi' . Para obter uma lista completa dos encodings;\n",
    "* header : número da linha que contém o cabeçalho (default=0). Se não houver cabeçalho, deve-se especificar header=None ou passar uma lista de nomes através do parâmetro names ;\n",
    "* names : permit especificar uma lista de nomes para as colunas;\n",
    "* index_col : permite que uma das colunas seja transformada em índice de linhas;\n",
    "* na_values : sequência de valores que deverão ser substituídos por NA . Útil para transformação de dados;\n",
    "* thousands : definição do separador de milhar, por exemplo . ou , ;\n",
    "* squeeze : caso o arquivo CSV possua apenas uma coluna, é possível fazer com que ele seja importado para uma Series em vez de um DataFrame, bastando para isso especificar squeeze=True ."
   ]
  },
  {
   "cell_type": "code",
   "execution_count": null,
   "metadata": {},
   "outputs": [],
   "source": []
  }
 ],
 "metadata": {
  "kernelspec": {
   "display_name": "Python 3",
   "language": "python",
   "name": "python3"
  },
  "language_info": {
   "codemirror_mode": {
    "name": "ipython",
    "version": 3
   },
   "file_extension": ".py",
   "mimetype": "text/x-python",
   "name": "python",
   "nbconvert_exporter": "python",
   "pygments_lexer": "ipython3",
   "version": "3.8.5"
  }
 },
 "nbformat": 4,
 "nbformat_minor": 4
}
