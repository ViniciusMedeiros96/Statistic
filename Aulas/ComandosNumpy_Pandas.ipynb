{
 "cells": [
  {
   "cell_type": "markdown",
   "metadata": {},
   "source": [
    "# **Alguns comandos do Numpy**"
   ]
  },
  {
   "cell_type": "markdown",
   "metadata": {},
   "source": [
    "#### Importar o numpy"
   ]
  },
  {
   "cell_type": "code",
   "execution_count": 27,
   "metadata": {},
   "outputs": [],
   "source": [
    "import numpy as np"
   ]
  },
  {
   "cell_type": "markdown",
   "metadata": {},
   "source": [
    "##### Para saber quantas colunas ou linhas possui\n",
    "`shape`\n",
    "##### Calculando a média\n",
    "`mean`\n",
    "##### Descobrir o valor do meio\n",
    "`median`\n",
    "##### Descobrir a correlação entre valores\n",
    "`corrcoef`\n",
    "##### Desvio padrão\n",
    "`std`\n",
    "##### Soma de todos os elementos\n",
    "`sum`\n",
    "##### Ordendando os valores de forma crescente\n",
    "`sort`\n",
    "##### Pegar valores no pandas usando fatiamento\n",
    "`iloc`\n",
    "##### Pegar as 5 primeiras linhas\n",
    "`head`\n",
    "##### Pegar as 5 ultimas linhas\n",
    "`tail`\n",
    "##### Pegar informações\n",
    "`info`"
   ]
  },
  {
   "cell_type": "markdown",
   "metadata": {},
   "source": [
    "# **Alguns comandos do Pandas**"
   ]
  },
  {
   "cell_type": "markdown",
   "metadata": {},
   "source": [
    "##### Tamanho da Series (número de elementos);\n",
    "`size`\n",
    "##### Vetor de dados;\n",
    "`values`\n",
    "##### Vetor de rótulos;\n",
    "`index`\n",
    "##### Nome do vetor de dados;\n",
    "`name`\n",
    "##### Nome do vetor de rótulos;\n",
    "`index.name`\n",
    "##### Dtype do vetor de rótulos.\n",
    "`index.dtype`\n",
    "##### Testa se valor faz parte de uma Series ou Columns\n",
    "`isin`\n",
    "##### Remover elementos\n",
    "`drop`\n",
    "##### Tira a raíz quadrada dos elementos\n",
    "`sqrt`\n",
    "##### Retorna caso houver um caso de NaN\n",
    "`isnull`\n",
    "##### Converte o tipo do índice para datetime\n",
    "`pd.to_datetime`\n",
    "##### Converte o tipo do índice para excel\n",
    "`pd.to_excel`\n",
    "##### Criar um DataFrame\n",
    "`DataFrame`\n",
    "##### Remomear colunas ou linhas\n",
    "`rename`\n",
    "##### Testa se um dado rótulo de coluna existe\n",
    "`columns`\n",
    "##### Identificar qual elemento tem maior valor\n",
    "`idxmax`\n",
    "##### Adicionar dados num DataFrame a partir do rótulo\n",
    "`loc`\n",
    "##### Adicionar dados a partir do índice\n",
    "`iloc`\n",
    "##### Alterar Dados a partir do rótulo\n",
    "`at`\n",
    "##### Alterar Dados a partir do índice\n",
    "`iat`\n",
    "##### Leitura de arquivos csv\n",
    "`read_csv()`\n",
    "\n",
    "\n",
    "\n",
    "\n",
    "\n"
   ]
  },
  {
   "cell_type": "code",
   "execution_count": null,
   "metadata": {},
   "outputs": [],
   "source": []
  }
 ],
 "metadata": {
  "kernelspec": {
   "display_name": "Python 3",
   "language": "python",
   "name": "python3"
  },
  "language_info": {
   "codemirror_mode": {
    "name": "ipython",
    "version": 3
   },
   "file_extension": ".py",
   "mimetype": "text/x-python",
   "name": "python",
   "nbconvert_exporter": "python",
   "pygments_lexer": "ipython3",
   "version": "3.8.5"
  }
 },
 "nbformat": 4,
 "nbformat_minor": 4
}
