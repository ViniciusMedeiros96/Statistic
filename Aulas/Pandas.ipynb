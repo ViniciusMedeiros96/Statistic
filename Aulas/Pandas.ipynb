{
 "cells": [
  {
   "cell_type": "markdown",
   "metadata": {},
   "source": [
    "# **PANDAS**"
   ]
  },
  {
   "cell_type": "markdown",
   "metadata": {},
   "source": [
    "<img src=\"https://upload.wikimedia.org/wikipedia/commons/thumb/e/ed/Pandas_logo.svg/1200px-Pandas_logo.svg.png\" alt=\"imagem\" width=\"200\">"
   ]
  },
  {
   "cell_type": "markdown",
   "metadata": {},
   "source": [
    "## Utilizando Series a partir de Listas:"
   ]
  },
  {
   "cell_type": "code",
   "execution_count": 5,
   "metadata": {},
   "outputs": [],
   "source": [
    "import pandas as pd"
   ]
  },
  {
   "cell_type": "code",
   "execution_count": null,
   "metadata": {},
   "outputs": [],
   "source": [
    "notas = pd.Series([7.6 , 5.0, 8.5, 9.5, 6.5])"
   ]
  },
  {
   "cell_type": "code",
   "execution_count": null,
   "metadata": {},
   "outputs": [],
   "source": [
    "lst_nomes = [\"Bob\", \"Dayse\", \"Bill\", \"Cris\", \"Jimi\"]"
   ]
  },
  {
   "cell_type": "code",
   "execution_count": null,
   "metadata": {},
   "outputs": [],
   "source": [
    "lst_matriculas = [\"M02\", \"M05\", \"M13\", \"M14\", \"M19\"]"
   ]
  },
  {
   "cell_type": "code",
   "execution_count": null,
   "metadata": {},
   "outputs": [],
   "source": [
    "alunos = pd.Series(lst_nomes,index=lst_matriculas)"
   ]
  },
  {
   "cell_type": "code",
   "execution_count": null,
   "metadata": {},
   "outputs": [],
   "source": [
    "print(notas); print(\"----------------\"); print(alunos)"
   ]
  },
  {
   "cell_type": "markdown",
   "metadata": {},
   "source": [
    "## Criando Series a partir de Dicionários:"
   ]
  },
  {
   "cell_type": "code",
   "execution_count": null,
   "metadata": {},
   "outputs": [],
   "source": [
    "dic_alunos = {'M02':'Bob','M05':'Dayse','M13':'Bill',\n",
    "'M14':'Cris','M19':'Jimi'}"
   ]
  },
  {
   "cell_type": "code",
   "execution_count": null,
   "metadata": {},
   "outputs": [],
   "source": [
    "alunos = pd.Series(dic_alunos)"
   ]
  },
  {
   "cell_type": "code",
   "execution_count": null,
   "metadata": {},
   "outputs": [],
   "source": [
    "alunos"
   ]
  },
  {
   "cell_type": "markdown",
   "metadata": {},
   "source": [
    "# Propriedades das Series"
   ]
  },
  {
   "cell_type": "code",
   "execution_count": null,
   "metadata": {},
   "outputs": [],
   "source": [
    "#P02: Propriedades básicas das Series\n",
    "import pandas as pd"
   ]
  },
  {
   "cell_type": "code",
   "execution_count": null,
   "metadata": {},
   "outputs": [],
   "source": [
    "#cria a Series \"alunos\"\n",
    "alunos = pd.Series({'M02':'Bob','M05':'Dayse','M13':'Bill',\n",
    "'M14':'Cris','M19':'Jimi'})"
   ]
  },
  {
   "cell_type": "code",
   "execution_count": null,
   "metadata": {},
   "outputs": [],
   "source": [
    "#atribui nomes p/ os vetores de dados e rótulos\n",
    "alunos.name = \"alunos\"\n",
    "alunos.index.name = \"matrículas\""
   ]
  },
  {
   "cell_type": "code",
   "execution_count": null,
   "metadata": {},
   "outputs": [],
   "source": [
    "#recupera e imprime as propriedades\n",
    "alunos"
   ]
  },
  {
   "cell_type": "markdown",
   "metadata": {},
   "source": [
    "* size : tamanho da Series (número de elementos);\n",
    "* values : vetor de dados;\n",
    "* index : vetor de rótulos;\n",
    "* name : nome do vetor de dados;\n",
    "* index.name : nome do vetor de rótulos;\n",
    "* index.dtype : dtype do vetor de rótulos."
   ]
  },
  {
   "cell_type": "code",
   "execution_count": 14,
   "metadata": {},
   "outputs": [],
   "source": [
    "tamanho = alunos.size\n",
    "dados = alunos.values\n",
    "rotulos = alunos.index\n",
    "alunos_tipo = type(alunos)\n",
    "alunos_dtype = alunos.dtype\n",
    "alunos_idx_dtype = alunos.index.dtype"
   ]
  },
  {
   "cell_type": "code",
   "execution_count": 15,
   "metadata": {},
   "outputs": [
    {
     "name": "stdout",
     "output_type": "stream",
     "text": [
      "número de elementos:  5\n",
      "vetor de dados:  ['Bob' 'Dayse' 'Bill' 'Cris' 'Jimi']\n",
      "vetor de rótulos:  Index(['M02', 'M05', 'M13', 'M14', 'M19'], dtype='object')\n",
      "tipo (type):  <class 'pandas.core.series.Series'>\n",
      "dtype da Series: object\n",
      "dtype do vetor de rótulos: object\n"
     ]
    }
   ],
   "source": [
    "print('número de elementos: ', tamanho)\n",
    "print('vetor de dados: ', dados)\n",
    "print('vetor de rótulos: ', rotulos)\n",
    "print('tipo (type): ', alunos_tipo)\n",
    "print('dtype da Series:', alunos_dtype)\n",
    "print('dtype do vetor de rótulos:', alunos_idx_dtype)"
   ]
  },
  {
   "cell_type": "markdown",
   "metadata": {},
   "source": []
  },
  {
   "cell_type": "markdown",
   "metadata": {},
   "source": [
    "### **Indexação**"
   ]
  },
  {
   "cell_type": "markdown",
   "metadata": {},
   "source": [
    "A pandas permite o emprego de três\n",
    "diferentes técnicas: indexação tradicional, fatiamento e indexação\n",
    "booleana."
   ]
  },
  {
   "cell_type": "markdown",
   "metadata": {},
   "source": [
    "#### Tradicional"
   ]
  },
  {
   "cell_type": "markdown",
   "metadata": {},
   "source": [
    "exemplo[0]"
   ]
  },
  {
   "cell_type": "markdown",
   "metadata": {},
   "source": [
    "#### Fatiamento"
   ]
  },
  {
   "cell_type": "raw",
   "metadata": {},
   "source": [
    "exemplos[i:j]\n",
    "exemplos[i:]\n",
    "exemplos[:j]\n",
    "exemplos[-k:]\n",
    "exemplos[i:j:k]\n",
    "exemplos[[lista]]"
   ]
  },
  {
   "cell_type": "markdown",
   "metadata": {},
   "source": [
    "#### Booleana"
   ]
  },
  {
   "cell_type": "code",
   "execution_count": 7,
   "metadata": {},
   "outputs": [],
   "source": [
    "#Indexação booleana\n",
    "import pandas as pd"
   ]
  },
  {
   "cell_type": "code",
   "execution_count": 8,
   "metadata": {},
   "outputs": [],
   "source": [
    "#cria as Series \"notas\" e \"alunos\"\n",
    "notas = pd.Series([7.6, 5.0, 8.5, 9.5, 6.4])\n",
    "alunos = pd.Series({'M02':'Bob','M05':'Dayse','M13':'Bill',\n",
    "'M14':'Cris','M19':'Jimi'})"
   ]
  },
  {
   "cell_type": "code",
   "execution_count": 19,
   "metadata": {},
   "outputs": [],
   "source": [
    "#obtém os índices dos alunos aprovados\n",
    "idx_aprovados = notas[notas >= 7].index"
   ]
  },
  {
   "cell_type": "code",
   "execution_count": 20,
   "metadata": {},
   "outputs": [
    {
     "name": "stdout",
     "output_type": "stream",
     "text": [
      "relação de alunos aprovados:\n",
      "---------------------------\n",
      "M02     Bob\n",
      "M13    Bill\n",
      "M14    Cris\n",
      "dtype: object\n"
     ]
    }
   ],
   "source": [
    "#imprime os alunos aprovados\n",
    "print('relação de alunos aprovados:')\n",
    "print('---------------------------')\n",
    "print(alunos[idx_aprovados])"
   ]
  },
  {
   "cell_type": "markdown",
   "metadata": {},
   "source": [
    "### Busca"
   ]
  },
  {
   "cell_type": "markdown",
   "metadata": {},
   "source": [
    "O próximo programa mostra como verificar se determinados\n",
    "rótulos ou valores estão presentes em uma Series."
   ]
  },
  {
   "cell_type": "code",
   "execution_count": 21,
   "metadata": {},
   "outputs": [],
   "source": [
    "#P04: Busca em Series\n",
    "import pandas as pd"
   ]
  },
  {
   "cell_type": "code",
   "execution_count": 22,
   "metadata": {},
   "outputs": [],
   "source": [
    "#cria a Series \"alunos\"\n",
    "alunos = pd.Series({'M02':'Bob','M05':'Dayse','M13':'Bill',\n",
    "'M14':'Cris','M19':'Jimi'})"
   ]
  },
  {
   "cell_type": "code",
   "execution_count": 23,
   "metadata": {},
   "outputs": [
    {
     "name": "stdout",
     "output_type": "stream",
     "text": [
      "existe o rótulo 'M13'? ->  True\n",
      "existe o rótulo 'M99'? ->  False\n",
      "---------------------------\n"
     ]
    }
   ],
   "source": [
    "#testa se rótulos fazem parte de uma Series\n",
    "tem_M13 = 'M13' in alunos\n",
    "tem_M99 = 'M99' in alunos\n",
    "print(\"existe o rótulo 'M13'? -> \",tem_M13)\n",
    "print(\"existe o rótulo 'M99'? -> \",tem_M99)\n",
    "print('---------------------------')"
   ]
  },
  {
   "cell_type": "code",
   "execution_count": 24,
   "metadata": {},
   "outputs": [
    {
     "name": "stdout",
     "output_type": "stream",
     "text": [
      "existe o valor 'Bob'\n",
      "M02     True\n",
      "M05    False\n",
      "M13    False\n",
      "M14    False\n",
      "M19    False\n",
      "dtype: bool\n"
     ]
    }
   ],
   "source": [
    "#testa se valor faz parte de uma Series\n",
    "tem_Bob = alunos.isin(['Bob'])\n",
    "print(\"existe o valor 'Bob'\")\n",
    "print(tem_Bob)"
   ]
  },
  {
   "cell_type": "code",
   "execution_count": null,
   "metadata": {},
   "outputs": [],
   "source": []
  },
  {
   "cell_type": "code",
   "execution_count": null,
   "metadata": {},
   "outputs": [],
   "source": []
  }
 ],
 "metadata": {
  "kernelspec": {
   "display_name": "Python 3",
   "language": "python",
   "name": "python3"
  },
  "language_info": {
   "codemirror_mode": {
    "name": "ipython",
    "version": 3
   },
   "file_extension": ".py",
   "mimetype": "text/x-python",
   "name": "python",
   "nbconvert_exporter": "python",
   "pygments_lexer": "ipython3",
   "version": "3.8.5"
  }
 },
 "nbformat": 4,
 "nbformat_minor": 4
}
