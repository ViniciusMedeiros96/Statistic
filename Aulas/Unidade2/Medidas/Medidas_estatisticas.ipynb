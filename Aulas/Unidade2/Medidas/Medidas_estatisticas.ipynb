{
 "cells": [
  {
   "cell_type": "code",
   "execution_count": 2,
   "metadata": {},
   "outputs": [],
   "source": [
    "import pandas as pd\n",
    "import numpy as np\n",
    "import scipy as sp\n",
    "import matplotlib.pyplot as plt\n",
    "import seaborn as sns"
   ]
  },
  {
   "cell_type": "markdown",
   "metadata": {},
   "source": [
    "# Medidas Estatísticas"
   ]
  },
  {
   "cell_type": "markdown",
   "metadata": {},
   "source": [
    "Nas aulas dessa semana nós trabalharemos com um conjunto de medidas que podem ser usadas para resumir informações sobre um conjunto de dados, nos fornecendo alguns _insigths_ que a visualização gráfica e as distribuições de frequência não nos dão.\n",
    "\n",
    "De forma resumida, veremos, ao todo, quatro tipos de medidas:\n",
    "\n",
    "* __medidas de posição__, que nos fornecem informações sobre a posições típicas dos dados, que podem nos dar descrições sobre a centralidade, sobre a formação de caudas nas distribuições e sobre concentrações de valores. São medidas de posição a média, a mediana, a moda, e os quantis;\n",
    "\n",
    "* __medidas de dispersão__, que fornecem informações sobre a variação dos dados em torno de uma das medidas de centralidade, tipicamente média e mediana. São medidas de variação a variância e o desvio padrão;\n",
    "\n",
    "* __medidas de forma__, que fornecem informações sobre e estrututura e o formato de uma distribuição de dados. São medidas de forma a assimetria e a curtose;\n",
    "\n",
    "* __medidas de comparação__, que fornecem informações que permitem comparar duas ou mais variáveis a partir de medidas diretas ou indiretas de ponderação e/ou de relação. São medidas de comparação o coeficiente de variação, o escore padronizado e a correlação.\n",
    "\n",
    "Vamos analisar a definição de cada uma dessas medidas e verificar como realizá-las da maneira mais direta usando o Python.\n",
    "\n",
    "Para todos os exemplos apresentados e discutidos, nós consideraremos o já conhecido conjunto de dados do Morettin, carregado abaixo."
   ]
  },
  {
   "cell_type": "code",
   "execution_count": 4,
   "metadata": {},
   "outputs": [
    {
     "data": {
      "text/html": [
       "<div>\n",
       "<style scoped>\n",
       "    .dataframe tbody tr th:only-of-type {\n",
       "        vertical-align: middle;\n",
       "    }\n",
       "\n",
       "    .dataframe tbody tr th {\n",
       "        vertical-align: top;\n",
       "    }\n",
       "\n",
       "    .dataframe thead th {\n",
       "        text-align: right;\n",
       "    }\n",
       "</style>\n",
       "<table border=\"1\" class=\"dataframe\">\n",
       "  <thead>\n",
       "    <tr style=\"text-align: right;\">\n",
       "      <th></th>\n",
       "      <th>Estado Civil</th>\n",
       "      <th>Grau de Instrução</th>\n",
       "      <th>N de Filhos</th>\n",
       "      <th>Salario (x Sal Min)</th>\n",
       "      <th>Anos</th>\n",
       "      <th>Região de Procedência</th>\n",
       "    </tr>\n",
       "  </thead>\n",
       "  <tbody>\n",
       "    <tr>\n",
       "      <th>0</th>\n",
       "      <td>solteiro</td>\n",
       "      <td>ensino fundamental</td>\n",
       "      <td>NaN</td>\n",
       "      <td>4.00</td>\n",
       "      <td>26</td>\n",
       "      <td>interior</td>\n",
       "    </tr>\n",
       "    <tr>\n",
       "      <th>1</th>\n",
       "      <td>casado</td>\n",
       "      <td>ensino fundamental</td>\n",
       "      <td>1.0</td>\n",
       "      <td>4.56</td>\n",
       "      <td>32</td>\n",
       "      <td>capital</td>\n",
       "    </tr>\n",
       "    <tr>\n",
       "      <th>2</th>\n",
       "      <td>casado</td>\n",
       "      <td>ensino fundamental</td>\n",
       "      <td>2.0</td>\n",
       "      <td>5.25</td>\n",
       "      <td>36</td>\n",
       "      <td>capital</td>\n",
       "    </tr>\n",
       "    <tr>\n",
       "      <th>3</th>\n",
       "      <td>solteiro</td>\n",
       "      <td>ensino médio</td>\n",
       "      <td>NaN</td>\n",
       "      <td>5.73</td>\n",
       "      <td>20</td>\n",
       "      <td>outra</td>\n",
       "    </tr>\n",
       "    <tr>\n",
       "      <th>4</th>\n",
       "      <td>solteiro</td>\n",
       "      <td>ensino fundamental</td>\n",
       "      <td>NaN</td>\n",
       "      <td>6.26</td>\n",
       "      <td>40</td>\n",
       "      <td>outra</td>\n",
       "    </tr>\n",
       "  </tbody>\n",
       "</table>\n",
       "</div>"
      ],
      "text/plain": [
       "  Estado Civil   Grau de Instrução  N de Filhos  Salario (x Sal Min)  Anos  \\\n",
       "0     solteiro  ensino fundamental          NaN                 4.00    26   \n",
       "1       casado  ensino fundamental          1.0                 4.56    32   \n",
       "2       casado  ensino fundamental          2.0                 5.25    36   \n",
       "3     solteiro        ensino médio          NaN                 5.73    20   \n",
       "4     solteiro  ensino fundamental          NaN                 6.26    40   \n",
       "\n",
       "  Região de Procedência  \n",
       "0              interior  \n",
       "1               capital  \n",
       "2               capital  \n",
       "3                 outra  \n",
       "4                 outra  "
      ]
     },
     "execution_count": 4,
     "metadata": {},
     "output_type": "execute_result"
    }
   ],
   "source": [
    "dados = pd.read_csv('Dados_moretin.csv', \n",
    "                    sep=';', decimal=',')\n",
    "dados.head()"
   ]
  },
  {
   "cell_type": "code",
   "execution_count": 5,
   "metadata": {},
   "outputs": [
    {
     "name": "stdout",
     "output_type": "stream",
     "text": [
      "<class 'pandas.core.frame.DataFrame'>\n",
      "RangeIndex: 36 entries, 0 to 35\n",
      "Data columns (total 6 columns):\n",
      " #   Column                 Non-Null Count  Dtype  \n",
      "---  ------                 --------------  -----  \n",
      " 0   Estado Civil           36 non-null     object \n",
      " 1   Grau de Instrução      36 non-null     object \n",
      " 2   N de Filhos            20 non-null     float64\n",
      " 3   Salario (x Sal Min)    36 non-null     float64\n",
      " 4   Anos                   36 non-null     int64  \n",
      " 5   Região de Procedência  36 non-null     object \n",
      "dtypes: float64(2), int64(1), object(3)\n",
      "memory usage: 1.8+ KB\n"
     ]
    }
   ],
   "source": [
    "dados.info()"
   ]
  },
  {
   "cell_type": "markdown",
   "metadata": {},
   "source": [
    "## Medidas de posição\n",
    "\n",
    "### Média "
   ]
  },
  {
   "cell_type": "markdown",
   "metadata": {},
   "source": [
    "Por definição, a média aritmética pode ser calculada somando-se todos os valores da variável e dividindo-os pelo número de entradas da variável.\n",
    "\n",
    "$$\n",
    "\\bar{x} = \\dfrac{x_1 + x_2 + x_3 \\cdots + x_n}{n} = \\sum_{i= 1}^{n} x_i \n",
    "$$\n",
    "\n",
    "em que:\n",
    "\n",
    "* $\\bar{x}$ (lê-se x barra) é tipicamente usado para representar média;\n",
    "* em geral, a média de um conjunto de dados tem a mesma unidade dos dados originais\n",
    "* só existe média de dados quantitativos (não faz muito sentido somar masculino e feminino, não ao menos matematicamente)\n",
    "\n",
    "A média aritmética, ou simplesmente média, é uma medida de centralidade, indicando o ponto de \"equilíbrio\" da distribuição de dados. Aqui entendemos ponto de equilíbrio como o centro de massa de uma gangorra, por exemplo, como indicado na imagem abaixo.\n",
    "\n",
    "![](16_med.png)\n",
    "\n",
    "Relembremos um pouco os conceitos de física. Se tivermos dois pesos iguais em cada um dos lados da gangorra, o ponto de equilíbrio dessa gangorra (em amarelo) deverá ficar exatamente no meio para que possamos ter equilíbrio entre as duas pontas. Se um dos pesos é aumentado, é intuitivo (e possivelmente muitos de vocês viram isso no ensino médio) que esse ponto de equilíbrio precisa se aproximar dessa carga maior, para que ela não penda para esse lado.\n",
    "\n",
    "O importante aqui é diferenciarmos ponto médio de ponto de equilíbrio. O ponto de equilíbrio só será médio quando a distribuição de pesos for simétrica.\n",
    "\n",
    "Essa mesma ideia embasa a definição que temos de média. \n",
    "\n",
    "Nossa intuição diária sempre nos leva a acreditar que a média é um valor central numa distribuição de dados. Porém, isso só acontecerá quando nós tivermos uma distribuição _simétrica_, isto é, uma distribuição que seja igualmente distribuída para os dois lados do ponto central. \n",
    "\n",
    "Se a distribuição tem uma concentração nos valores mais baixos, a média baixa junto. Se tem concentração nos valores mais altos, ela também aumenta. É isso que é mostrado na figura abaixo, com relação a quatro histogramas.\n",
    "\n",
    "![](media1.png)\n",
    "\n",
    "Note que o valor da média aritmética é um valor tal que, se substituı́ssemos todos os dados por ela, isto é, se todas as observações fossem iguais à média aritmética, a soma total seria igual à soma dos dados originais. Então, a média aritmética é uma forma de se distribuir o total observado pelos $n$ elementos, de modo que todos tenham o mesmo valor.\n",
    "\n",
    "Para calcular a média usando Python, podemos recorrer, de forma bem simples, ao método `mean()`, do próprio Pandas, cuja documentação é disponível [aqui](https://pandas.pydata.org/pandas-docs/stable/reference/api/pandas.DataFrame.mean.html).\n",
    "\n",
    "![](media2.png)\n",
    "\n",
    "Tomando como exemplo o cálculo da média para a variável __Anos__ do nosso conjunto de dados, basta fazermos"
   ]
  },
  {
   "cell_type": "code",
   "execution_count": 5,
   "metadata": {},
   "outputs": [
    {
     "data": {
      "text/plain": [
       "34.583333333333336"
      ]
     },
     "execution_count": 5,
     "metadata": {},
     "output_type": "execute_result"
    }
   ],
   "source": [
    "dados['Anos'].mean()"
   ]
  },
  {
   "cell_type": "markdown",
   "metadata": {},
   "source": [
    "e obteremos a média de 34.58 anos (lembre-se que a unidade de medida se conserva).\n",
    "\n",
    "Poderíamos também, ao invés de ter selecionado só uma variável, ter aplicado o método para o dataframe inteiro, obtendo"
   ]
  },
  {
   "cell_type": "code",
   "execution_count": 8,
   "metadata": {},
   "outputs": [
    {
     "data": {
      "text/plain": [
       "array(['solteiro', 'casado'], dtype=object)"
      ]
     },
     "execution_count": 8,
     "metadata": {},
     "output_type": "execute_result"
    }
   ],
   "source": [
    "dados['Estado Civil'].unique()"
   ]
  },
  {
   "cell_type": "code",
   "execution_count": 6,
   "metadata": {},
   "outputs": [
    {
     "data": {
      "text/plain": [
       "N de Filhos             1.650000\n",
       "Salario (x Sal Min)    11.122222\n",
       "Anos                   34.583333\n",
       "dtype: float64"
      ]
     },
     "execution_count": 6,
     "metadata": {},
     "output_type": "execute_result"
    }
   ],
   "source": [
    "dados.mean()"
   ]
  },
  {
   "cell_type": "markdown",
   "metadata": {},
   "source": [
    "que é a média para as variáveis que são numéricas. Note que, nesse caso, o próprio Pandas não faz o cálculo para as variáveis cujos valores são `string` (no caso do pandas, chamados de `object`). Dessa forma, precisamos estar atentos, fazendo a checagem da variável inicialmente, pois, se uma variável quantitativa tiver seus valores, por algum motivo, gravados como `string`, o Pandas não calculará a média!\n",
    "\n"
   ]
  },
  {
   "cell_type": "markdown",
   "metadata": {},
   "source": [
    "### Mediana"
   ]
  },
  {
   "cell_type": "markdown",
   "metadata": {},
   "source": [
    "A mediana é outra medida de centralidade, assim como a média. Porém, a mediana é o valor que divide o conjunto de dados ao meio, independente dele ser simétrico ou não.\n",
    "\n",
    "Dessa forma, podemos entender o valor da mediana como o valor tal que 50% das observações da variável são menores que ele, e 50% são maiores que ele.\n",
    "\n",
    "Sendo a mediana uma medida de posição, ela será sempre o valor em uma dada posição a depender, unicamente, da quantidade de valores do conjunto de dados, não sendo, dessa forma _calculada_, como no caso da média, mas localizada.\n",
    "\n",
    "Para encontrar a mediana de um conjunto de dados, basta utilizarmos uma das seguintes regras, após o ordenamento dos valores:\n",
    "\n",
    "$$\n",
    "Q_2 = \n",
    "\\begin{cases}\n",
    "x_{\\left(\\frac{n+1}{2}\\right)}, & \\text{se } n \\text{ é ímpar}\\\\[2mm]\n",
    "\\dfrac{x_{\\left(\\frac{n}{2}\\right)} + x_{\\left(\\frac{n}{2}+1\\right)}}{2}, & \\text{se } n \\text{ é par}\n",
    "\\end{cases}\n",
    "$$\n",
    "\n",
    "Para entendermos melhor essas regras, vejamos um exemplo bem simples.\n",
    "\n",
    "Considere os conjuntos de dados"
   ]
  },
  {
   "cell_type": "code",
   "execution_count": 8,
   "metadata": {},
   "outputs": [
    {
     "data": {
      "text/plain": [
       "15"
      ]
     },
     "execution_count": 8,
     "metadata": {},
     "output_type": "execute_result"
    }
   ],
   "source": [
    "A = [24, 25, 26, 26, 29, 29, 31, 35, \n",
    "     36, 37, 38, 42, 45, 51, 53]\n",
    "len(A)"
   ]
  },
  {
   "cell_type": "code",
   "execution_count": 9,
   "metadata": {},
   "outputs": [
    {
     "data": {
      "text/plain": [
       "14"
      ]
     },
     "execution_count": 9,
     "metadata": {},
     "output_type": "execute_result"
    }
   ],
   "source": [
    "B = [24, 25, 26, 26, 29, 29, 31, \n",
    "     35, 36, 37, 38, 42, 45, 51]\n",
    "len(B)"
   ]
  },
  {
   "cell_type": "markdown",
   "metadata": {},
   "source": [
    "em que $A$ tem 15 elementos ($n_A = 15$) e $B$ tem 14 elementos ($n_B = 14$).\n",
    "\n",
    "Primeiro passo é ordenar esses valores, para que depois possamos achar as posições referentes a mediana.\n",
    "\n",
    "Assim, podemos fazer"
   ]
  },
  {
   "cell_type": "code",
   "execution_count": 10,
   "metadata": {},
   "outputs": [
    {
     "data": {
      "text/plain": [
       "[24, 25, 26, 26, 29, 29, 31, 35, 36, 37, 38, 42, 45, 51, 53]"
      ]
     },
     "execution_count": 10,
     "metadata": {},
     "output_type": "execute_result"
    }
   ],
   "source": [
    "A_ = sorted(A)\n",
    "A_"
   ]
  },
  {
   "cell_type": "code",
   "execution_count": 11,
   "metadata": {},
   "outputs": [
    {
     "data": {
      "text/plain": [
       "[24, 25, 26, 26, 29, 29, 31, 35, 36, 37, 38, 42, 45, 51]"
      ]
     },
     "execution_count": 11,
     "metadata": {},
     "output_type": "execute_result"
    }
   ],
   "source": [
    "B_ = sorted(B)\n",
    "B_"
   ]
  },
  {
   "cell_type": "markdown",
   "metadata": {},
   "source": [
    "Como $n_A$ é ímpar, então a mediana estará na posição $\\dfrac{n+1}{2} = 8$, ou seja, será o elemento $x_8$ do conjunto de dados ordenado. Assim, a mediana de $A$ é"
   ]
  },
  {
   "cell_type": "code",
   "execution_count": 12,
   "metadata": {},
   "outputs": [
    {
     "data": {
      "text/plain": [
       "35"
      ]
     },
     "execution_count": 12,
     "metadata": {},
     "output_type": "execute_result"
    }
   ],
   "source": [
    "Q_2 = A_[7]\n",
    "Q_2"
   ]
  },
  {
   "cell_type": "markdown",
   "metadata": {},
   "source": [
    "Já com relação ao conjunto $B$, como $n_B$ é par, então a mediana será a média entre os elementos das posições $\\dfrac{n}{2} = 7$ e $\\dfrac{n}{2} +1 = 8$ do conjunto de dados ordenado, ou seja, será $\\dfrac{x_7 + x_8}{2}$. Dessa forma, para o conjunto $B$, temos"
   ]
  },
  {
   "cell_type": "code",
   "execution_count": 16,
   "metadata": {},
   "outputs": [
    {
     "data": {
      "text/plain": [
       "33.0"
      ]
     },
     "execution_count": 16,
     "metadata": {},
     "output_type": "execute_result"
    }
   ],
   "source": [
    "Q_2 = (B_[6] + B_[7])/2\n",
    "Q_2"
   ]
  },
  {
   "cell_type": "markdown",
   "metadata": {},
   "source": [
    "Note que, no caso do conjunto $A$, a mediana é um dos valores disponíveis no conjunto; porém, quando o número de elementos é par, como no caso de $B$, isso não ocorre, e a mediana é o valor entre os dois valores centrais da distribuição.\n",
    "\n",
    "Obviamente, não precisaremos fazer o procedimento acima toda vez que desejarmos uma mediana de uma dada variável quantitativa. Assim como no caso da média, o Pandas nos fornece um método para isso: o `median`, cuja documentação pode ser acessada [aqui](https://pandas.pydata.org/pandas-docs/stable/reference/api/pandas.DataFrame.median.html).\n",
    "\n",
    "![](median1.png)\n",
    "\n",
    "Aplicando ao nosso conjunto de dados, teríamos"
   ]
  },
  {
   "cell_type": "code",
   "execution_count": 18,
   "metadata": {},
   "outputs": [
    {
     "data": {
      "text/plain": [
       "N de Filhos             2.000\n",
       "Salario (x Sal Min)    10.165\n",
       "Anos                   34.500\n",
       "dtype: float64"
      ]
     },
     "execution_count": 18,
     "metadata": {},
     "output_type": "execute_result"
    }
   ],
   "source": [
    "dados.median()"
   ]
  },
  {
   "cell_type": "code",
   "execution_count": 19,
   "metadata": {},
   "outputs": [
    {
     "data": {
      "text/plain": [
       "N de Filhos             1.650000\n",
       "Salario (x Sal Min)    11.122222\n",
       "Anos                   34.583333\n",
       "dtype: float64"
      ]
     },
     "execution_count": 19,
     "metadata": {},
     "output_type": "execute_result"
    }
   ],
   "source": [
    "dados.mean()"
   ]
  },
  {
   "cell_type": "markdown",
   "metadata": {},
   "source": [
    "### Moda\n",
    "\n",
    "A moda de uma distribuição ou conjunto de dados é o valor que mais se repete nesse conjunto, ou seja, o valor mais frequente. \n",
    "\n",
    "Diferente da média e da mediana, a moda não é um valor que obrigatoriamente exista, e, quando existe, pode ter mais de um valor. Podemos ter distribuições amodais (todos os valores ocorrem o mesmo número de vezes), unimodais (uma moda), bimodais (duas modas), etc.\n",
    "\n",
    "Para calcular a moda de uma distribuição usando o Pandas, basta usar o método `mode()`, cuja documentação pode ser encontrada [aqui](https://pandas.pydata.org/docs/reference/api/pandas.DataFrame.mode.html).\n",
    "\n",
    "![](moda1.png)\n",
    "\n",
    "Para nosso exemplo, podemos fazer"
   ]
  },
  {
   "cell_type": "code",
   "execution_count": 21,
   "metadata": {},
   "outputs": [
    {
     "data": {
      "text/plain": [
       "0    2.0\n",
       "dtype: float64"
      ]
     },
     "execution_count": 21,
     "metadata": {},
     "output_type": "execute_result"
    }
   ],
   "source": [
    "dados['N de Filhos'].mode()"
   ]
  },
  {
   "cell_type": "code",
   "execution_count": 22,
   "metadata": {},
   "outputs": [
    {
     "data": {
      "text/plain": [
       "2.0    7\n",
       "1.0    5\n",
       "0.0    4\n",
       "3.0    3\n",
       "5.0    1\n",
       "Name: N de Filhos, dtype: int64"
      ]
     },
     "execution_count": 22,
     "metadata": {},
     "output_type": "execute_result"
    }
   ],
   "source": [
    "dados['N de Filhos'].value_counts()"
   ]
  },
  {
   "cell_type": "markdown",
   "metadata": {},
   "source": [
    "o que nos indica uma distribuição unimodal, isto é, com uma única moda; ou ainda"
   ]
  },
  {
   "cell_type": "code",
   "execution_count": 13,
   "metadata": {},
   "outputs": [
    {
     "data": {
      "text/plain": [
       "0     26\n",
       "1     30\n",
       "2     31\n",
       "3     32\n",
       "4     33\n",
       "5     34\n",
       "6     35\n",
       "7     36\n",
       "8     37\n",
       "9     40\n",
       "10    41\n",
       "11    43\n",
       "dtype: int64"
      ]
     },
     "execution_count": 13,
     "metadata": {},
     "output_type": "execute_result"
    }
   ],
   "source": [
    "dados['Anos'].mode()"
   ]
  },
  {
   "cell_type": "code",
   "execution_count": 14,
   "metadata": {},
   "outputs": [
    {
     "data": {
      "text/plain": [
       "34    2\n",
       "37    2\n",
       "31    2\n",
       "32    2\n",
       "33    2\n",
       "35    2\n",
       "36    2\n",
       "30    2\n",
       "26    2\n",
       "40    2\n",
       "41    2\n",
       "43    2\n",
       "29    1\n",
       "28    1\n",
       "25    1\n",
       "23    1\n",
       "27    1\n",
       "48    1\n",
       "46    1\n",
       "38    1\n",
       "39    1\n",
       "42    1\n",
       "44    1\n",
       "20    1\n",
       "Name: Anos, dtype: int64"
      ]
     },
     "execution_count": 14,
     "metadata": {},
     "output_type": "execute_result"
    }
   ],
   "source": [
    "dados['Anos'].value_counts()"
   ]
  },
  {
   "cell_type": "markdown",
   "metadata": {},
   "source": [
    "que nos mostra uma distribuição multimodal, com 12 modas.\n",
    "\n",
    "Podemos também aplicar ao dataframe inteiro"
   ]
  },
  {
   "cell_type": "code",
   "execution_count": 15,
   "metadata": {},
   "outputs": [
    {
     "data": {
      "text/html": [
       "<div>\n",
       "<style scoped>\n",
       "    .dataframe tbody tr th:only-of-type {\n",
       "        vertical-align: middle;\n",
       "    }\n",
       "\n",
       "    .dataframe tbody tr th {\n",
       "        vertical-align: top;\n",
       "    }\n",
       "\n",
       "    .dataframe thead th {\n",
       "        text-align: right;\n",
       "    }\n",
       "</style>\n",
       "<table border=\"1\" class=\"dataframe\">\n",
       "  <thead>\n",
       "    <tr style=\"text-align: right;\">\n",
       "      <th></th>\n",
       "      <th>N de Filhos</th>\n",
       "      <th>Salario (x Sal Min)</th>\n",
       "      <th>Anos</th>\n",
       "    </tr>\n",
       "  </thead>\n",
       "  <tbody>\n",
       "    <tr>\n",
       "      <th>0</th>\n",
       "      <td>2.0</td>\n",
       "      <td>4.00</td>\n",
       "      <td>26.0</td>\n",
       "    </tr>\n",
       "    <tr>\n",
       "      <th>1</th>\n",
       "      <td>NaN</td>\n",
       "      <td>4.56</td>\n",
       "      <td>30.0</td>\n",
       "    </tr>\n",
       "    <tr>\n",
       "      <th>2</th>\n",
       "      <td>NaN</td>\n",
       "      <td>5.25</td>\n",
       "      <td>31.0</td>\n",
       "    </tr>\n",
       "    <tr>\n",
       "      <th>3</th>\n",
       "      <td>NaN</td>\n",
       "      <td>5.73</td>\n",
       "      <td>32.0</td>\n",
       "    </tr>\n",
       "    <tr>\n",
       "      <th>4</th>\n",
       "      <td>NaN</td>\n",
       "      <td>6.26</td>\n",
       "      <td>33.0</td>\n",
       "    </tr>\n",
       "    <tr>\n",
       "      <th>5</th>\n",
       "      <td>NaN</td>\n",
       "      <td>6.66</td>\n",
       "      <td>34.0</td>\n",
       "    </tr>\n",
       "    <tr>\n",
       "      <th>6</th>\n",
       "      <td>NaN</td>\n",
       "      <td>6.86</td>\n",
       "      <td>35.0</td>\n",
       "    </tr>\n",
       "    <tr>\n",
       "      <th>7</th>\n",
       "      <td>NaN</td>\n",
       "      <td>7.39</td>\n",
       "      <td>36.0</td>\n",
       "    </tr>\n",
       "    <tr>\n",
       "      <th>8</th>\n",
       "      <td>NaN</td>\n",
       "      <td>7.44</td>\n",
       "      <td>37.0</td>\n",
       "    </tr>\n",
       "    <tr>\n",
       "      <th>9</th>\n",
       "      <td>NaN</td>\n",
       "      <td>7.59</td>\n",
       "      <td>40.0</td>\n",
       "    </tr>\n",
       "    <tr>\n",
       "      <th>10</th>\n",
       "      <td>NaN</td>\n",
       "      <td>8.12</td>\n",
       "      <td>41.0</td>\n",
       "    </tr>\n",
       "    <tr>\n",
       "      <th>11</th>\n",
       "      <td>NaN</td>\n",
       "      <td>8.46</td>\n",
       "      <td>43.0</td>\n",
       "    </tr>\n",
       "    <tr>\n",
       "      <th>12</th>\n",
       "      <td>NaN</td>\n",
       "      <td>8.74</td>\n",
       "      <td>NaN</td>\n",
       "    </tr>\n",
       "    <tr>\n",
       "      <th>13</th>\n",
       "      <td>NaN</td>\n",
       "      <td>8.95</td>\n",
       "      <td>NaN</td>\n",
       "    </tr>\n",
       "    <tr>\n",
       "      <th>14</th>\n",
       "      <td>NaN</td>\n",
       "      <td>9.13</td>\n",
       "      <td>NaN</td>\n",
       "    </tr>\n",
       "    <tr>\n",
       "      <th>15</th>\n",
       "      <td>NaN</td>\n",
       "      <td>9.35</td>\n",
       "      <td>NaN</td>\n",
       "    </tr>\n",
       "    <tr>\n",
       "      <th>16</th>\n",
       "      <td>NaN</td>\n",
       "      <td>9.77</td>\n",
       "      <td>NaN</td>\n",
       "    </tr>\n",
       "    <tr>\n",
       "      <th>17</th>\n",
       "      <td>NaN</td>\n",
       "      <td>9.80</td>\n",
       "      <td>NaN</td>\n",
       "    </tr>\n",
       "    <tr>\n",
       "      <th>18</th>\n",
       "      <td>NaN</td>\n",
       "      <td>10.53</td>\n",
       "      <td>NaN</td>\n",
       "    </tr>\n",
       "    <tr>\n",
       "      <th>19</th>\n",
       "      <td>NaN</td>\n",
       "      <td>10.76</td>\n",
       "      <td>NaN</td>\n",
       "    </tr>\n",
       "    <tr>\n",
       "      <th>20</th>\n",
       "      <td>NaN</td>\n",
       "      <td>11.06</td>\n",
       "      <td>NaN</td>\n",
       "    </tr>\n",
       "    <tr>\n",
       "      <th>21</th>\n",
       "      <td>NaN</td>\n",
       "      <td>11.59</td>\n",
       "      <td>NaN</td>\n",
       "    </tr>\n",
       "    <tr>\n",
       "      <th>22</th>\n",
       "      <td>NaN</td>\n",
       "      <td>12.00</td>\n",
       "      <td>NaN</td>\n",
       "    </tr>\n",
       "    <tr>\n",
       "      <th>23</th>\n",
       "      <td>NaN</td>\n",
       "      <td>12.79</td>\n",
       "      <td>NaN</td>\n",
       "    </tr>\n",
       "    <tr>\n",
       "      <th>24</th>\n",
       "      <td>NaN</td>\n",
       "      <td>13.23</td>\n",
       "      <td>NaN</td>\n",
       "    </tr>\n",
       "    <tr>\n",
       "      <th>25</th>\n",
       "      <td>NaN</td>\n",
       "      <td>13.60</td>\n",
       "      <td>NaN</td>\n",
       "    </tr>\n",
       "    <tr>\n",
       "      <th>26</th>\n",
       "      <td>NaN</td>\n",
       "      <td>13.85</td>\n",
       "      <td>NaN</td>\n",
       "    </tr>\n",
       "    <tr>\n",
       "      <th>27</th>\n",
       "      <td>NaN</td>\n",
       "      <td>14.69</td>\n",
       "      <td>NaN</td>\n",
       "    </tr>\n",
       "    <tr>\n",
       "      <th>28</th>\n",
       "      <td>NaN</td>\n",
       "      <td>14.71</td>\n",
       "      <td>NaN</td>\n",
       "    </tr>\n",
       "    <tr>\n",
       "      <th>29</th>\n",
       "      <td>NaN</td>\n",
       "      <td>15.99</td>\n",
       "      <td>NaN</td>\n",
       "    </tr>\n",
       "    <tr>\n",
       "      <th>30</th>\n",
       "      <td>NaN</td>\n",
       "      <td>16.22</td>\n",
       "      <td>NaN</td>\n",
       "    </tr>\n",
       "    <tr>\n",
       "      <th>31</th>\n",
       "      <td>NaN</td>\n",
       "      <td>16.61</td>\n",
       "      <td>NaN</td>\n",
       "    </tr>\n",
       "    <tr>\n",
       "      <th>32</th>\n",
       "      <td>NaN</td>\n",
       "      <td>17.26</td>\n",
       "      <td>NaN</td>\n",
       "    </tr>\n",
       "    <tr>\n",
       "      <th>33</th>\n",
       "      <td>NaN</td>\n",
       "      <td>18.75</td>\n",
       "      <td>NaN</td>\n",
       "    </tr>\n",
       "    <tr>\n",
       "      <th>34</th>\n",
       "      <td>NaN</td>\n",
       "      <td>19.40</td>\n",
       "      <td>NaN</td>\n",
       "    </tr>\n",
       "    <tr>\n",
       "      <th>35</th>\n",
       "      <td>NaN</td>\n",
       "      <td>23.30</td>\n",
       "      <td>NaN</td>\n",
       "    </tr>\n",
       "  </tbody>\n",
       "</table>\n",
       "</div>"
      ],
      "text/plain": [
       "    N de Filhos  Salario (x Sal Min)  Anos\n",
       "0           2.0                 4.00  26.0\n",
       "1           NaN                 4.56  30.0\n",
       "2           NaN                 5.25  31.0\n",
       "3           NaN                 5.73  32.0\n",
       "4           NaN                 6.26  33.0\n",
       "5           NaN                 6.66  34.0\n",
       "6           NaN                 6.86  35.0\n",
       "7           NaN                 7.39  36.0\n",
       "8           NaN                 7.44  37.0\n",
       "9           NaN                 7.59  40.0\n",
       "10          NaN                 8.12  41.0\n",
       "11          NaN                 8.46  43.0\n",
       "12          NaN                 8.74   NaN\n",
       "13          NaN                 8.95   NaN\n",
       "14          NaN                 9.13   NaN\n",
       "15          NaN                 9.35   NaN\n",
       "16          NaN                 9.77   NaN\n",
       "17          NaN                 9.80   NaN\n",
       "18          NaN                10.53   NaN\n",
       "19          NaN                10.76   NaN\n",
       "20          NaN                11.06   NaN\n",
       "21          NaN                11.59   NaN\n",
       "22          NaN                12.00   NaN\n",
       "23          NaN                12.79   NaN\n",
       "24          NaN                13.23   NaN\n",
       "25          NaN                13.60   NaN\n",
       "26          NaN                13.85   NaN\n",
       "27          NaN                14.69   NaN\n",
       "28          NaN                14.71   NaN\n",
       "29          NaN                15.99   NaN\n",
       "30          NaN                16.22   NaN\n",
       "31          NaN                16.61   NaN\n",
       "32          NaN                17.26   NaN\n",
       "33          NaN                18.75   NaN\n",
       "34          NaN                19.40   NaN\n",
       "35          NaN                23.30   NaN"
      ]
     },
     "execution_count": 15,
     "metadata": {},
     "output_type": "execute_result"
    }
   ],
   "source": [
    "dados.mode(numeric_only=True)"
   ]
  },
  {
   "cell_type": "code",
   "execution_count": 29,
   "metadata": {},
   "outputs": [
    {
     "data": {
      "text/plain": [
       "0      4.00\n",
       "1      4.56\n",
       "2      5.25\n",
       "3      5.73\n",
       "4      6.26\n",
       "5      6.66\n",
       "6      6.86\n",
       "7      7.39\n",
       "8      7.44\n",
       "9      7.59\n",
       "10     8.12\n",
       "11     8.46\n",
       "12     8.74\n",
       "13     8.95\n",
       "14     9.13\n",
       "15     9.35\n",
       "16     9.77\n",
       "17     9.80\n",
       "18    10.53\n",
       "19    10.76\n",
       "20    11.06\n",
       "21    11.59\n",
       "22    12.00\n",
       "23    12.79\n",
       "24    13.23\n",
       "25    13.60\n",
       "26    13.85\n",
       "27    14.69\n",
       "28    14.71\n",
       "29    15.99\n",
       "30    16.22\n",
       "31    16.61\n",
       "32    17.26\n",
       "33    18.75\n",
       "34    19.40\n",
       "35    23.30\n",
       "dtype: float64"
      ]
     },
     "execution_count": 29,
     "metadata": {},
     "output_type": "execute_result"
    }
   ],
   "source": [
    "dados['Salario (x Sal Min)'].mode()"
   ]
  },
  {
   "cell_type": "markdown",
   "metadata": {},
   "source": [
    "Notemos duas coisas importantes:\n",
    "\n",
    "* usando a função para o dataframe inteiro, nós observamos os valores que são moda de cada uma das colunas; por exemplo, na coluna \"N de Filhos\" temos uma única moda, em \"Anos\", temos 12, mas em \"Salario\" temos 36 valores, o que indica que nenhum se repete mais que outro e, portanto, temos uma variável amodal, isto é, sem nenhuma moda;\n",
    "\n",
    "* a moda é uma medida que também pode ser aplicada a variáveis categóricas, como pode ser visto."
   ]
  },
  {
   "cell_type": "markdown",
   "metadata": {},
   "source": [
    "## Medidas de Dispersão\n",
    "\n",
    "O resumo de um conjunto de dados por uma única medida representativa de posição central esconde toda a informação sobre a variabilidade do conjunto de observações. Por exemplo, suponhamos que cinco grupos de alunos submeteram-se a um teste, obtendo-se as seguintes notas:\n",
    "\n"
   ]
  },
  {
   "cell_type": "code",
   "execution_count": 30,
   "metadata": {},
   "outputs": [
    {
     "data": {
      "text/html": [
       "<div>\n",
       "<style scoped>\n",
       "    .dataframe tbody tr th:only-of-type {\n",
       "        vertical-align: middle;\n",
       "    }\n",
       "\n",
       "    .dataframe tbody tr th {\n",
       "        vertical-align: top;\n",
       "    }\n",
       "\n",
       "    .dataframe thead th {\n",
       "        text-align: right;\n",
       "    }\n",
       "</style>\n",
       "<table border=\"1\" class=\"dataframe\">\n",
       "  <thead>\n",
       "    <tr style=\"text-align: right;\">\n",
       "      <th></th>\n",
       "      <th>A</th>\n",
       "      <th>B</th>\n",
       "      <th>C</th>\n",
       "      <th>D</th>\n",
       "      <th>E</th>\n",
       "    </tr>\n",
       "  </thead>\n",
       "  <tbody>\n",
       "    <tr>\n",
       "      <th>0</th>\n",
       "      <td>3</td>\n",
       "      <td>1</td>\n",
       "      <td>5</td>\n",
       "      <td>3.0</td>\n",
       "      <td>3</td>\n",
       "    </tr>\n",
       "    <tr>\n",
       "      <th>1</th>\n",
       "      <td>4</td>\n",
       "      <td>3</td>\n",
       "      <td>5</td>\n",
       "      <td>5.0</td>\n",
       "      <td>5</td>\n",
       "    </tr>\n",
       "    <tr>\n",
       "      <th>2</th>\n",
       "      <td>5</td>\n",
       "      <td>5</td>\n",
       "      <td>5</td>\n",
       "      <td>5.0</td>\n",
       "      <td>5</td>\n",
       "    </tr>\n",
       "    <tr>\n",
       "      <th>3</th>\n",
       "      <td>6</td>\n",
       "      <td>7</td>\n",
       "      <td>5</td>\n",
       "      <td>7.0</td>\n",
       "      <td>6</td>\n",
       "    </tr>\n",
       "    <tr>\n",
       "      <th>4</th>\n",
       "      <td>7</td>\n",
       "      <td>9</td>\n",
       "      <td>5</td>\n",
       "      <td>NaN</td>\n",
       "      <td>6</td>\n",
       "    </tr>\n",
       "  </tbody>\n",
       "</table>\n",
       "</div>"
      ],
      "text/plain": [
       "   A  B  C    D  E\n",
       "0  3  1  5  3.0  3\n",
       "1  4  3  5  5.0  5\n",
       "2  5  5  5  5.0  5\n",
       "3  6  7  5  7.0  6\n",
       "4  7  9  5  NaN  6"
      ]
     },
     "execution_count": 30,
     "metadata": {},
     "output_type": "execute_result"
    }
   ],
   "source": [
    "notas = pd.DataFrame([[3, 1, 5, 3, 3],[4, 3, 5, 5, 5],[5, 5, 5, 5, 5],[6, 7, 5, 7, 6],[7, 9, 5, np.nan, 6]],\n",
    "                    columns = ['A', 'B', 'C', 'D', 'E'])\n",
    "notas"
   ]
  },
  {
   "cell_type": "markdown",
   "metadata": {},
   "source": [
    "Olhando as medidas de posição, vemos que"
   ]
  },
  {
   "cell_type": "code",
   "execution_count": 31,
   "metadata": {},
   "outputs": [
    {
     "data": {
      "text/plain": [
       "A    5.0\n",
       "B    5.0\n",
       "C    5.0\n",
       "D    5.0\n",
       "E    5.0\n",
       "dtype: float64"
      ]
     },
     "execution_count": 31,
     "metadata": {},
     "output_type": "execute_result"
    }
   ],
   "source": [
    "notas.mean()"
   ]
  },
  {
   "cell_type": "code",
   "execution_count": 32,
   "metadata": {},
   "outputs": [
    {
     "data": {
      "text/plain": [
       "A    5.0\n",
       "B    5.0\n",
       "C    5.0\n",
       "D    5.0\n",
       "E    5.0\n",
       "dtype: float64"
      ]
     },
     "execution_count": 32,
     "metadata": {},
     "output_type": "execute_result"
    }
   ],
   "source": [
    "notas.median()"
   ]
  },
  {
   "cell_type": "markdown",
   "metadata": {},
   "source": [
    "Olhando somente para média e mediana, nossa conclusão seria de que todos os grupos tiveram o mesmo desempenho.\n",
    "\n",
    "No entanto, observando as notas, não é difícil verificar que essa afirmação pode não ser muito verdadeira.\n",
    "\n",
    "Essa tipo de situação pede que observemos, além das medidas de posição, mais especificamente de centralidade, também medidas de dispersão, que vão nos dar uma ideia de como e quanto os dados variam em torno da média (ou da mediana, mas aqui nos concentraremos da média).\n",
    "\n",
    "Duas medidas, nesse caso são importantes para medir essa dispersão: a variância e o desvio padrão.\n",
    "\n",
    "### Variância\n",
    "\n",
    "A variância de um conjunto de dados é definida como\n",
    "\n",
    "$$\n",
    "\\sigma^2 = \\dfrac{(x_1 - \\bar{x})^2 + (x_2 - \\bar{x})^2 + \\cdots + (x_n - \\bar{x})^2}{n} = \\dfrac{1}{n} \\sum_{i=1}^{n} (x_i - \\bar{x})^2\n",
    "$$\n",
    "\n",
    "indicando o desvio quadrático médio. Em outras palavras, o que a variância calcula é a média da distância de cada valor para a média, chamado de desvio médio. \n",
    "\n",
    "Por que elevar ao quadrado? Por que a soma de todos os desvios médios será sempre 0, por conta dos sinais. esse problema se resolve, quando somamos os quadrados desses desvios médios. E ao fazer a média desses desvios médios quadráticos, obtemos a variância.\n",
    "\n",
    "Agora, sabendo que as medidas $x_i$ representam uma determinada grandeza (peso, altura, distância, etc.), temos que a média $\\bar{x}$ é o valor médio dessa grandeza, com mesma unidade dela, o mesmo acontecendo com $(x_i - \\bar{x})$. \n",
    "\n",
    "Ao elevarmos essas diferenças ao quadrado, passamos a ter a variância medida na unidade da grandeza ao quadrado, uma unidade que não tem interpretação fı́sica (o que significa $kg^2$?). Uma forma de se obter uma medida de dispersão com a mesma unidade dos dados, e portanto mais relacionável com alguma interpretação física, consiste em tomar a raiz quadrada da variância, denominada desvio padrão, tipicamente representado pela letra $\\sigma$.\n",
    "\n",
    "$$\n",
    "\\sigma = \\sqrt{\\sigma^2} = \\sqrt{\\dfrac{1}{n} \\sum_{i=1}^{n} (x_i - \\bar{x})^2}\n",
    "$$\n",
    "\n",
    "lembrando que $\\sqrt{a^2 + b^2} \\neq a + b = \\sqrt{(a+b)^2}$.\n",
    "\n",
    "Para calcular variância e desvio padrão usando o Pandas, nós podemos usar, respectivamente, os métodos `var()` e `std()`, cujas documentações podem ser encontradas [aqui](https://pandas.pydata.org/pandas-docs/stable/reference/api/pandas.DataFrame.var.html) e [aqui](https://pandas.pydata.org/docs/reference/api/pandas.DataFrame.std.html).\n",
    "\n",
    "![](var.png)\n",
    "\n",
    "![](std2.png)\n",
    "\n",
    "O maior destaque sobre ambas as funções é a presença do parâmetro `ddof`, referente aos graus de liberdade da variância e do desvio padrão, um conceito que não nos cabe discutir agora. Para nós, nesse momento, só existem dois casos a discutir:\n",
    "\n",
    "* quando `ddof=0`, o que significa que o denominador do cálculo da variância (e, por conseguinte, do desvio padrão) será $n$. Nesse caso dizemos que estamos calculando a variância (ou desvio padrão) de uma população inteira, isto é, de todos os dados medidos ou observados de nossa variável, o que, nesse momento, é o nosso caso;\n",
    "\n",
    "* quando `ddof=1` (valor _default_), o que significa que o denominador do cálculo da variância (e, por conseguinte, do desvio padrão) será $n -1$. Nesse caso dizemos que estamos calculando a variância (ou desvio padrão) de uma amostra da população, isto é, de um subconjunto de todos os dados medidos ou observados de nossa variável, situação com a qual trabalharemos mais adiante no curso, quando estivermos vendo distribuições amostrais e estimação de parâmetros em Inferência;\n",
    "\n",
    "Para podermos pensar um pouco no significado das medidas de dispersão, e na importância de calculá-las, voltemos ao exemplo das notas dos grupos apresentado no início da sessão."
   ]
  },
  {
   "cell_type": "code",
   "execution_count": 33,
   "metadata": {},
   "outputs": [
    {
     "data": {
      "text/html": [
       "<div>\n",
       "<style scoped>\n",
       "    .dataframe tbody tr th:only-of-type {\n",
       "        vertical-align: middle;\n",
       "    }\n",
       "\n",
       "    .dataframe tbody tr th {\n",
       "        vertical-align: top;\n",
       "    }\n",
       "\n",
       "    .dataframe thead th {\n",
       "        text-align: right;\n",
       "    }\n",
       "</style>\n",
       "<table border=\"1\" class=\"dataframe\">\n",
       "  <thead>\n",
       "    <tr style=\"text-align: right;\">\n",
       "      <th></th>\n",
       "      <th>A</th>\n",
       "      <th>B</th>\n",
       "      <th>C</th>\n",
       "      <th>D</th>\n",
       "      <th>E</th>\n",
       "    </tr>\n",
       "  </thead>\n",
       "  <tbody>\n",
       "    <tr>\n",
       "      <th>0</th>\n",
       "      <td>3</td>\n",
       "      <td>1</td>\n",
       "      <td>5</td>\n",
       "      <td>3.0</td>\n",
       "      <td>3</td>\n",
       "    </tr>\n",
       "    <tr>\n",
       "      <th>1</th>\n",
       "      <td>4</td>\n",
       "      <td>3</td>\n",
       "      <td>5</td>\n",
       "      <td>5.0</td>\n",
       "      <td>5</td>\n",
       "    </tr>\n",
       "    <tr>\n",
       "      <th>2</th>\n",
       "      <td>5</td>\n",
       "      <td>5</td>\n",
       "      <td>5</td>\n",
       "      <td>5.0</td>\n",
       "      <td>5</td>\n",
       "    </tr>\n",
       "    <tr>\n",
       "      <th>3</th>\n",
       "      <td>6</td>\n",
       "      <td>7</td>\n",
       "      <td>5</td>\n",
       "      <td>7.0</td>\n",
       "      <td>6</td>\n",
       "    </tr>\n",
       "    <tr>\n",
       "      <th>4</th>\n",
       "      <td>7</td>\n",
       "      <td>9</td>\n",
       "      <td>5</td>\n",
       "      <td>NaN</td>\n",
       "      <td>6</td>\n",
       "    </tr>\n",
       "  </tbody>\n",
       "</table>\n",
       "</div>"
      ],
      "text/plain": [
       "   A  B  C    D  E\n",
       "0  3  1  5  3.0  3\n",
       "1  4  3  5  5.0  5\n",
       "2  5  5  5  5.0  5\n",
       "3  6  7  5  7.0  6\n",
       "4  7  9  5  NaN  6"
      ]
     },
     "execution_count": 33,
     "metadata": {},
     "output_type": "execute_result"
    }
   ],
   "source": [
    "notas"
   ]
  },
  {
   "cell_type": "markdown",
   "metadata": {},
   "source": [
    "Como havíamos feito antes, a média de cada grupo é"
   ]
  },
  {
   "cell_type": "code",
   "execution_count": 34,
   "metadata": {},
   "outputs": [
    {
     "data": {
      "text/plain": [
       "A    5.0\n",
       "B    5.0\n",
       "C    5.0\n",
       "D    5.0\n",
       "E    5.0\n",
       "dtype: float64"
      ]
     },
     "execution_count": 34,
     "metadata": {},
     "output_type": "execute_result"
    }
   ],
   "source": [
    "notas.mean()"
   ]
  },
  {
   "cell_type": "markdown",
   "metadata": {},
   "source": [
    "Já a variância será"
   ]
  },
  {
   "cell_type": "code",
   "execution_count": 35,
   "metadata": {},
   "outputs": [
    {
     "data": {
      "text/plain": [
       "A    2.0\n",
       "B    8.0\n",
       "C    0.0\n",
       "D    2.0\n",
       "E    1.2\n",
       "dtype: float64"
      ]
     },
     "execution_count": 35,
     "metadata": {},
     "output_type": "execute_result"
    }
   ],
   "source": [
    "notas.var(ddof=0)"
   ]
  },
  {
   "cell_type": "markdown",
   "metadata": {},
   "source": [
    "indicando que, apesar de todos terem a mesma média, a variação dos dados em torno da média é bastante diferente. Podemos ver, por exemplo, que como todas as notas do grupo C são iguais, a variância será 0, como é de se esperar. E que apesar de terem a mesma média, a variância do grupo B é 4x maior que a do grupo A.\n",
    "\n",
    "Como falamos, a unidade observada pela variância está elevada ao quadrado. para termos uma variação dentro da mesma unidade dos dados (no caso de notas, em pontos), basta calcula o desvio padrão"
   ]
  },
  {
   "cell_type": "code",
   "execution_count": 36,
   "metadata": {},
   "outputs": [
    {
     "data": {
      "text/plain": [
       "A    1.414214\n",
       "B    2.828427\n",
       "C    0.000000\n",
       "D    1.414214\n",
       "E    1.095445\n",
       "dtype: float64"
      ]
     },
     "execution_count": 36,
     "metadata": {},
     "output_type": "execute_result"
    }
   ],
   "source": [
    "notas.std(ddof=0)"
   ]
  },
  {
   "cell_type": "markdown",
   "metadata": {},
   "source": [
    "Agora, de posse dessas medidas, podemos fazer diversas observações mais realistas sobre os dados, sem ficarmos presos nas limitações das medidas de centralidade."
   ]
  },
  {
   "cell_type": "markdown",
   "metadata": {},
   "source": [
    "O desvio padrão é bastante importante quando trabalhamos com estimação de parâmetros estatísticos, principalmente por uma propriedade que a distribuição gaussiana ou normal apresenta: \n",
    "\n",
    "![](std.png)"
   ]
  },
  {
   "cell_type": "markdown",
   "metadata": {},
   "source": [
    "Trazendo isso para a variável `Anos` de nosso conjunto de dados principal, teríamos que, sendo"
   ]
  },
  {
   "cell_type": "code",
   "execution_count": 37,
   "metadata": {},
   "outputs": [],
   "source": [
    "sigma = dados['Anos'].std(ddof=0)\n",
    "media = dados['Anos'].mean()"
   ]
  },
  {
   "cell_type": "markdown",
   "metadata": {},
   "source": [
    "68.2% das idades registradas estão entre $[a,b]$, sendo "
   ]
  },
  {
   "cell_type": "code",
   "execution_count": 42,
   "metadata": {},
   "outputs": [
    {
     "data": {
      "text/plain": [
       "21.296957688418814"
      ]
     },
     "execution_count": 42,
     "metadata": {},
     "output_type": "execute_result"
    }
   ],
   "source": [
    "a = media - 2*sigma\n",
    "a"
   ]
  },
  {
   "cell_type": "code",
   "execution_count": 43,
   "metadata": {},
   "outputs": [
    {
     "data": {
      "text/plain": [
       "47.86970897824786"
      ]
     },
     "execution_count": 43,
     "metadata": {},
     "output_type": "execute_result"
    }
   ],
   "source": [
    "b = media + 2*sigma\n",
    "b"
   ]
  },
  {
   "cell_type": "markdown",
   "metadata": {},
   "source": [
    "Vamos verificar se essa regra é válida para essa variável?"
   ]
  },
  {
   "cell_type": "markdown",
   "metadata": {},
   "source": [
    "Vamos fazer uma contagem da quantidade de valores que caem nesse intervalo."
   ]
  },
  {
   "cell_type": "code",
   "execution_count": 44,
   "metadata": {},
   "outputs": [
    {
     "data": {
      "text/plain": [
       "(34, 6)"
      ]
     },
     "execution_count": 44,
     "metadata": {},
     "output_type": "execute_result"
    }
   ],
   "source": [
    "f = dados[(dados['Anos'] >= a) & (dados['Anos'] <= b)]\n",
    "f.shape"
   ]
  },
  {
   "cell_type": "code",
   "execution_count": 45,
   "metadata": {},
   "outputs": [
    {
     "data": {
      "text/plain": [
       "94.44444444444444"
      ]
     },
     "execution_count": 45,
     "metadata": {},
     "output_type": "execute_result"
    }
   ],
   "source": [
    "len(f)*100/len(dados)"
   ]
  }
 ],
 "metadata": {
  "kernelspec": {
   "display_name": "Python 3",
   "language": "python",
   "name": "python3"
  },
  "language_info": {
   "codemirror_mode": {
    "name": "ipython",
    "version": 3
   },
   "file_extension": ".py",
   "mimetype": "text/x-python",
   "name": "python",
   "nbconvert_exporter": "python",
   "pygments_lexer": "ipython3",
   "version": "3.8.5"
  }
 },
 "nbformat": 4,
 "nbformat_minor": 5
}
