{
 "cells": [
  {
   "cell_type": "code",
   "execution_count": 1,
   "metadata": {},
   "outputs": [],
   "source": [
    "import pandas as pd\n",
    "import matplotlib.pyplot as plt\n",
    "import seaborn as sns"
   ]
  },
  {
   "cell_type": "code",
   "execution_count": 2,
   "metadata": {},
   "outputs": [],
   "source": [
    "df = pd.read_csv(\"http://data.insideairbnb.com/brazil/rj/rio-de-janeiro/2021-02-22/visualisations/listings.csv\")"
   ]
  },
  {
   "cell_type": "markdown",
   "metadata": {},
   "source": [
    "##### Dicionário das variáveis\n",
    "    - id - número de id gerado para identificar o imóvel\n",
    "    - name - nome da propriedade anunciada\n",
    "    - host_id - número de id do proprietário (anfitrião) da propriedade\n",
    "    - host_name - Nome do anfitrião\n",
    "    - neighbourhood_group - esta coluna não contém nenhum valor válido\n",
    "    - neighbourhood - nome do bairro\n",
    "    - latitude - coordenada da latitude da propriedade\n",
    "    - longitude - coordenada da longitude da propriedade\n",
    "    - room_type - informa o tipo de quarto que é oferecido\n",
    "    - price - preço para alugar o imóvel\n",
    "    - minimum_nights - quantidade mínima de noites para reservar\n",
    "    - number_of_reviews - número de reviews que a propriedade possui\n",
    "    - last_review - data do último review\n",
    "    - reviews_per_month - quantidade de reviews por mês\n",
    "    - calculated_host_listings_count - quantidade de imóveis do mesmo anfitrião\n",
    "    - availability_365 - número de dias de disponibilidade dentro de 365 dias"
   ]
  },
  {
   "cell_type": "code",
   "execution_count": 3,
   "metadata": {},
   "outputs": [
    {
     "data": {
      "text/html": [
       "<div>\n",
       "<style scoped>\n",
       "    .dataframe tbody tr th:only-of-type {\n",
       "        vertical-align: middle;\n",
       "    }\n",
       "\n",
       "    .dataframe tbody tr th {\n",
       "        vertical-align: top;\n",
       "    }\n",
       "\n",
       "    .dataframe thead th {\n",
       "        text-align: right;\n",
       "    }\n",
       "</style>\n",
       "<table border=\"1\" class=\"dataframe\">\n",
       "  <thead>\n",
       "    <tr style=\"text-align: right;\">\n",
       "      <th></th>\n",
       "      <th>id</th>\n",
       "      <th>name</th>\n",
       "      <th>host_id</th>\n",
       "      <th>host_name</th>\n",
       "      <th>neighbourhood_group</th>\n",
       "      <th>neighbourhood</th>\n",
       "      <th>latitude</th>\n",
       "      <th>longitude</th>\n",
       "      <th>room_type</th>\n",
       "      <th>price</th>\n",
       "      <th>minimum_nights</th>\n",
       "      <th>number_of_reviews</th>\n",
       "      <th>last_review</th>\n",
       "      <th>reviews_per_month</th>\n",
       "      <th>calculated_host_listings_count</th>\n",
       "      <th>availability_365</th>\n",
       "    </tr>\n",
       "  </thead>\n",
       "  <tbody>\n",
       "    <tr>\n",
       "      <th>0</th>\n",
       "      <td>17878</td>\n",
       "      <td>Very Nice 2Br in Copacabana w. balcony, fast WiFi</td>\n",
       "      <td>68997</td>\n",
       "      <td>Matthias</td>\n",
       "      <td>NaN</td>\n",
       "      <td>Copacabana</td>\n",
       "      <td>-22.96592</td>\n",
       "      <td>-43.17896</td>\n",
       "      <td>Entire home/apt</td>\n",
       "      <td>221</td>\n",
       "      <td>5</td>\n",
       "      <td>260</td>\n",
       "      <td>2021-02-08</td>\n",
       "      <td>2.01</td>\n",
       "      <td>1</td>\n",
       "      <td>304</td>\n",
       "    </tr>\n",
       "    <tr>\n",
       "      <th>1</th>\n",
       "      <td>24480</td>\n",
       "      <td>Nice and cozy near Ipanema Beach</td>\n",
       "      <td>99249</td>\n",
       "      <td>Goya</td>\n",
       "      <td>NaN</td>\n",
       "      <td>Ipanema</td>\n",
       "      <td>-22.98570</td>\n",
       "      <td>-43.20193</td>\n",
       "      <td>Entire home/apt</td>\n",
       "      <td>307</td>\n",
       "      <td>3</td>\n",
       "      <td>85</td>\n",
       "      <td>2018-02-14</td>\n",
       "      <td>0.67</td>\n",
       "      <td>1</td>\n",
       "      <td>10</td>\n",
       "    </tr>\n",
       "    <tr>\n",
       "      <th>2</th>\n",
       "      <td>25026</td>\n",
       "      <td>Beautiful Modern Decorated Studio in Copa</td>\n",
       "      <td>3746246</td>\n",
       "      <td>Ghizlane</td>\n",
       "      <td>NaN</td>\n",
       "      <td>Copacabana</td>\n",
       "      <td>-22.97712</td>\n",
       "      <td>-43.19045</td>\n",
       "      <td>Entire home/apt</td>\n",
       "      <td>160</td>\n",
       "      <td>7</td>\n",
       "      <td>238</td>\n",
       "      <td>2020-02-15</td>\n",
       "      <td>1.82</td>\n",
       "      <td>11</td>\n",
       "      <td>328</td>\n",
       "    </tr>\n",
       "    <tr>\n",
       "      <th>3</th>\n",
       "      <td>35636</td>\n",
       "      <td>Cosy flat close to Ipanema beach</td>\n",
       "      <td>153232</td>\n",
       "      <td>Patricia</td>\n",
       "      <td>NaN</td>\n",
       "      <td>Ipanema</td>\n",
       "      <td>-22.98816</td>\n",
       "      <td>-43.19359</td>\n",
       "      <td>Entire home/apt</td>\n",
       "      <td>273</td>\n",
       "      <td>2</td>\n",
       "      <td>181</td>\n",
       "      <td>2020-03-15</td>\n",
       "      <td>2.02</td>\n",
       "      <td>1</td>\n",
       "      <td>207</td>\n",
       "    </tr>\n",
       "    <tr>\n",
       "      <th>4</th>\n",
       "      <td>35764</td>\n",
       "      <td>COPACABANA SEA BREEZE  -  RIO - 20 X Superhost</td>\n",
       "      <td>153691</td>\n",
       "      <td>Patricia Miranda &amp; Paulo</td>\n",
       "      <td>NaN</td>\n",
       "      <td>Copacabana</td>\n",
       "      <td>-22.98127</td>\n",
       "      <td>-43.19046</td>\n",
       "      <td>Entire home/apt</td>\n",
       "      <td>135</td>\n",
       "      <td>3</td>\n",
       "      <td>353</td>\n",
       "      <td>2021-02-10</td>\n",
       "      <td>2.79</td>\n",
       "      <td>1</td>\n",
       "      <td>101</td>\n",
       "    </tr>\n",
       "  </tbody>\n",
       "</table>\n",
       "</div>"
      ],
      "text/plain": [
       "      id                                               name  host_id  \\\n",
       "0  17878  Very Nice 2Br in Copacabana w. balcony, fast WiFi    68997   \n",
       "1  24480                   Nice and cozy near Ipanema Beach    99249   \n",
       "2  25026          Beautiful Modern Decorated Studio in Copa  3746246   \n",
       "3  35636                   Cosy flat close to Ipanema beach   153232   \n",
       "4  35764     COPACABANA SEA BREEZE  -  RIO - 20 X Superhost   153691   \n",
       "\n",
       "                  host_name  neighbourhood_group neighbourhood  latitude  \\\n",
       "0                  Matthias                  NaN    Copacabana -22.96592   \n",
       "1                      Goya                  NaN       Ipanema -22.98570   \n",
       "2                  Ghizlane                  NaN    Copacabana -22.97712   \n",
       "3                  Patricia                  NaN       Ipanema -22.98816   \n",
       "4  Patricia Miranda & Paulo                  NaN    Copacabana -22.98127   \n",
       "\n",
       "   longitude        room_type  price  minimum_nights  number_of_reviews  \\\n",
       "0  -43.17896  Entire home/apt    221               5                260   \n",
       "1  -43.20193  Entire home/apt    307               3                 85   \n",
       "2  -43.19045  Entire home/apt    160               7                238   \n",
       "3  -43.19359  Entire home/apt    273               2                181   \n",
       "4  -43.19046  Entire home/apt    135               3                353   \n",
       "\n",
       "  last_review  reviews_per_month  calculated_host_listings_count  \\\n",
       "0  2021-02-08               2.01                               1   \n",
       "1  2018-02-14               0.67                               1   \n",
       "2  2020-02-15               1.82                              11   \n",
       "3  2020-03-15               2.02                               1   \n",
       "4  2021-02-10               2.79                               1   \n",
       "\n",
       "   availability_365  \n",
       "0               304  \n",
       "1                10  \n",
       "2               328  \n",
       "3               207  \n",
       "4               101  "
      ]
     },
     "execution_count": 3,
     "metadata": {},
     "output_type": "execute_result"
    }
   ],
   "source": [
    "df.head()"
   ]
  },
  {
   "cell_type": "markdown",
   "metadata": {},
   "source": [
    "## Analisando estrutura do Dataset"
   ]
  },
  {
   "cell_type": "code",
   "execution_count": 4,
   "metadata": {},
   "outputs": [
    {
     "name": "stdout",
     "output_type": "stream",
     "text": [
      "Quantidade de registros: 26615\n",
      "---------------------------------------\n",
      "Quantidade de variáveis: 16\n",
      "---------------------------------------\n",
      "<class 'pandas.core.frame.DataFrame'>\n",
      "RangeIndex: 26615 entries, 0 to 26614\n",
      "Data columns (total 16 columns):\n",
      " #   Column                          Non-Null Count  Dtype  \n",
      "---  ------                          --------------  -----  \n",
      " 0   id                              26615 non-null  int64  \n",
      " 1   name                            26586 non-null  object \n",
      " 2   host_id                         26615 non-null  int64  \n",
      " 3   host_name                       26591 non-null  object \n",
      " 4   neighbourhood_group             0 non-null      float64\n",
      " 5   neighbourhood                   26615 non-null  object \n",
      " 6   latitude                        26615 non-null  float64\n",
      " 7   longitude                       26615 non-null  float64\n",
      " 8   room_type                       26615 non-null  object \n",
      " 9   price                           26615 non-null  int64  \n",
      " 10  minimum_nights                  26615 non-null  int64  \n",
      " 11  number_of_reviews               26615 non-null  int64  \n",
      " 12  last_review                     16657 non-null  object \n",
      " 13  reviews_per_month               16657 non-null  float64\n",
      " 14  calculated_host_listings_count  26615 non-null  int64  \n",
      " 15  availability_365                26615 non-null  int64  \n",
      "dtypes: float64(4), int64(7), object(5)\n",
      "memory usage: 3.2+ MB\n",
      "None\n"
     ]
    }
   ],
   "source": [
    "print(f\"Quantidade de registros: {df.shape[0]}\")\n",
    "print(\"---------------------------------------\")\n",
    "print(f\"Quantidade de variáveis: {df.shape[1]}\")\n",
    "print(\"---------------------------------------\")\n",
    "print(df.info())"
   ]
  },
  {
   "cell_type": "markdown",
   "metadata": {},
   "source": [
    "## Verificando a porcenteagem de valores nulos por variável"
   ]
  },
  {
   "cell_type": "code",
   "execution_count": 5,
   "metadata": {},
   "outputs": [
    {
     "data": {
      "text/plain": [
       "neighbourhood_group               1.000000\n",
       "reviews_per_month                 0.374150\n",
       "last_review                       0.374150\n",
       "name                              0.001090\n",
       "host_name                         0.000902\n",
       "availability_365                  0.000000\n",
       "calculated_host_listings_count    0.000000\n",
       "number_of_reviews                 0.000000\n",
       "minimum_nights                    0.000000\n",
       "price                             0.000000\n",
       "room_type                         0.000000\n",
       "longitude                         0.000000\n",
       "latitude                          0.000000\n",
       "neighbourhood                     0.000000\n",
       "host_id                           0.000000\n",
       "id                                0.000000\n",
       "dtype: float64"
      ]
     },
     "execution_count": 5,
     "metadata": {},
     "output_type": "execute_result"
    }
   ],
   "source": [
    "(df.isnull().sum() / df.shape[0]).sort_values(ascending=False)"
   ]
  },
  {
   "cell_type": "markdown",
   "metadata": {},
   "source": [
    "Note que a variável \"neighbourhood_group\" não possui valor em nenhuma dos registros, com o objetivo de reduzir o número de variáveis vamos removê-la do nosso conjunto. Além disso, temos alguns imóveis que não tiveram avaliação."
   ]
  },
  {
   "cell_type": "code",
   "execution_count": 6,
   "metadata": {},
   "outputs": [
    {
     "data": {
      "text/plain": [
       "Index(['id', 'name', 'host_id', 'host_name', 'neighbourhood', 'latitude',\n",
       "       'longitude', 'room_type', 'price', 'minimum_nights',\n",
       "       'number_of_reviews', 'last_review', 'reviews_per_month',\n",
       "       'calculated_host_listings_count', 'availability_365'],\n",
       "      dtype='object')"
      ]
     },
     "execution_count": 6,
     "metadata": {},
     "output_type": "execute_result"
    }
   ],
   "source": [
    "df = df.drop([\"neighbourhood_group\"], axis=1)\n",
    "df.columns"
   ]
  },
  {
   "cell_type": "code",
   "execution_count": 7,
   "metadata": {},
   "outputs": [],
   "source": [
    "df = df[df[\"price\"] > 0]"
   ]
  },
  {
   "cell_type": "markdown",
   "metadata": {},
   "source": [
    "# Visualização de variáveis Qualitativas e Quantitativas Discretas com menos de 6 valores distintos"
   ]
  },
  {
   "cell_type": "code",
   "execution_count": 8,
   "metadata": {},
   "outputs": [
    {
     "data": {
      "text/plain": [
       "Copacabana         7708\n",
       "Barra da Tijuca    2723\n",
       "Ipanema            2572\n",
       "Jacarepaguá        1335\n",
       "Botafogo           1222\n",
       "                   ... \n",
       "Vila Kosmos           1\n",
       "Vista Alegre          1\n",
       "Acari                 1\n",
       "Zumbi                 1\n",
       "Maré                  1\n",
       "Name: neighbourhood, Length: 151, dtype: int64"
      ]
     },
     "execution_count": 8,
     "metadata": {},
     "output_type": "execute_result"
    }
   ],
   "source": [
    "quantidade_por_bairro = df[\"neighbourhood\"].value_counts()\n",
    "quantidade_por_bairro"
   ]
  },
  {
   "cell_type": "markdown",
   "metadata": {},
   "source": [
    "### Gráfico de Barras"
   ]
  },
  {
   "cell_type": "markdown",
   "metadata": {},
   "source": [
    "Temos muitos bairros no Rio de Janeiro que possuem pouco imóveis no AirBnB, com o objetivo de melhorar a visualização, vamos plotar apenas dos 10 bairros com mais imóveis"
   ]
  },
  {
   "cell_type": "code",
   "execution_count": 9,
   "metadata": {},
   "outputs": [
    {
     "data": {
      "text/plain": [
       "Copacabana                  7708\n",
       "Barra da Tijuca             2723\n",
       "Ipanema                     2572\n",
       "Jacarepaguá                 1335\n",
       "Botafogo                    1222\n",
       "Recreio dos Bandeirantes    1179\n",
       "Leblon                      1165\n",
       "Santa Teresa                 882\n",
       "Centro                       771\n",
       "Flamengo                     612\n",
       "Name: neighbourhood, dtype: int64"
      ]
     },
     "execution_count": 9,
     "metadata": {},
     "output_type": "execute_result"
    }
   ],
   "source": [
    "bairros_mais_imoveis = quantidade_por_bairro[:10]\n",
    "bairros_mais_imoveis"
   ]
  },
  {
   "cell_type": "code",
   "execution_count": 10,
   "metadata": {},
   "outputs": [
    {
     "data": {
      "image/png": "[encoded data removed]",
      "text/plain": [
       "<Figure size 842.4x595.44 with 1 Axes>"
      ]
     },
     "metadata": {},
     "output_type": "display_data"
    }
   ],
   "source": [
    "sns.set(rc={'figure.figsize':(11.7,8.27)})\n",
    "g = sns.barplot(x=bairros_mais_imoveis.index, y=bairros_mais_imoveis.values)\n",
    "g = g.set_xticklabels(g.get_xticklabels(), rotation=30)"
   ]
  },
  {
   "cell_type": "markdown",
   "metadata": {},
   "source": [
    "O bairro que mais possui imóveis no AirBnB no Rio de Janeiro é o de Copacabana, seguido por Barra da Tijuca e Ipanema com cerca 2500 imóveis"
   ]
  },
  {
   "cell_type": "markdown",
   "metadata": {},
   "source": [
    "### Gráfico de Setores"
   ]
  },
  {
   "cell_type": "code",
   "execution_count": 11,
   "metadata": {},
   "outputs": [
    {
     "data": {
      "text/plain": [
       "Entire home/apt    19285\n",
       "Private room        6619\n",
       "Shared room          612\n",
       "Hotel room            92\n",
       "Name: room_type, dtype: int64"
      ]
     },
     "execution_count": 11,
     "metadata": {},
     "output_type": "execute_result"
    }
   ],
   "source": [
    "qtd_tipos_quarto = df[\"room_type\"].value_counts()\n",
    "qtd_tipos_quarto"
   ]
  },
  {
   "cell_type": "code",
   "execution_count": 12,
   "metadata": {},
   "outputs": [
    {
     "data": {
      "image/png": "[encoded data removed]",
      "text/plain": [
       "<Figure size 842.4x595.44 with 1 Axes>"
      ]
     },
     "metadata": {},
     "output_type": "display_data"
    }
   ],
   "source": [
    "wedges, texts  = plt.pie(qtd_tipos_quarto, labels=qtd_tipos_quarto.index)\n",
    "circulo=plt.Circle( (0,0), 0.7, color='white')\n",
    "p=plt.gcf()\n",
    "p.gca().add_artist(circulo)\n",
    "\n",
    "plt.legend(wedges, qtd_tipos_quarto.index)\n",
    "plt.tight_layout()\n",
    "\n",
    "plt.show()"
   ]
  },
  {
   "cell_type": "markdown",
   "metadata": {},
   "source": [
    "# Visualização de variáveis Quantitativas Contínuas"
   ]
  },
  {
   "cell_type": "markdown",
   "metadata": {},
   "source": [
    "## Histogramas"
   ]
  },
  {
   "cell_type": "code",
   "execution_count": 13,
   "metadata": {},
   "outputs": [
    {
     "data": {
      "image/png": "[encoded data removed]",
      "text/plain": [
       "<Figure size 1080x720 with 12 Axes>"
      ]
     },
     "metadata": {},
     "output_type": "display_data"
    }
   ],
   "source": [
    "g = df.hist(bins=\"sturges\", figsize=(15,10))\n",
    "plt.tight_layout()\n",
    "plt.show()"
   ]
  },
  {
   "cell_type": "markdown",
   "metadata": {},
   "source": [
    "Pela distribuição do histograma, é possível verificar indícios da presença de outliers. Olhe por exemplo as variáveis price, minimum_nights e calculated_host_listings_count."
   ]
  },
  {
   "cell_type": "markdown",
   "metadata": {},
   "source": [
    "Os valores não seguem uma distruição, e distorcem toda a representação gráfica. Para confirmar, há duas maneiras rápidas que auxiliam a detecção de outliers. São elas:\n",
    "\n",
    "- Resumo estatístico por meio do método describe()\n",
    "- Plotar boxplots para a variável."
   ]
  },
  {
   "cell_type": "code",
   "execution_count": 14,
   "metadata": {},
   "outputs": [
    {
     "data": {
      "text/html": [
       "<div>\n",
       "<style scoped>\n",
       "    .dataframe tbody tr th:only-of-type {\n",
       "        vertical-align: middle;\n",
       "    }\n",
       "\n",
       "    .dataframe tbody tr th {\n",
       "        vertical-align: top;\n",
       "    }\n",
       "\n",
       "    .dataframe thead th {\n",
       "        text-align: right;\n",
       "    }\n",
       "</style>\n",
       "<table border=\"1\" class=\"dataframe\">\n",
       "  <thead>\n",
       "    <tr style=\"text-align: right;\">\n",
       "      <th></th>\n",
       "      <th>price</th>\n",
       "      <th>minimum_nights</th>\n",
       "      <th>number_of_reviews</th>\n",
       "      <th>reviews_per_month</th>\n",
       "      <th>calculated_host_listings_count</th>\n",
       "      <th>availability_365</th>\n",
       "    </tr>\n",
       "  </thead>\n",
       "  <tbody>\n",
       "    <tr>\n",
       "      <th>count</th>\n",
       "      <td>26608.000000</td>\n",
       "      <td>26608.000000</td>\n",
       "      <td>26608.000000</td>\n",
       "      <td>16657.000000</td>\n",
       "      <td>26608.000000</td>\n",
       "      <td>26608.000000</td>\n",
       "    </tr>\n",
       "    <tr>\n",
       "      <th>mean</th>\n",
       "      <td>742.784614</td>\n",
       "      <td>4.726248</td>\n",
       "      <td>12.149504</td>\n",
       "      <td>0.629190</td>\n",
       "      <td>9.667694</td>\n",
       "      <td>219.495903</td>\n",
       "    </tr>\n",
       "    <tr>\n",
       "      <th>std</th>\n",
       "      <td>5369.561520</td>\n",
       "      <td>19.104939</td>\n",
       "      <td>29.726070</td>\n",
       "      <td>0.876064</td>\n",
       "      <td>35.946577</td>\n",
       "      <td>141.499250</td>\n",
       "    </tr>\n",
       "    <tr>\n",
       "      <th>min</th>\n",
       "      <td>33.000000</td>\n",
       "      <td>1.000000</td>\n",
       "      <td>0.000000</td>\n",
       "      <td>0.010000</td>\n",
       "      <td>1.000000</td>\n",
       "      <td>0.000000</td>\n",
       "    </tr>\n",
       "    <tr>\n",
       "      <th>25%</th>\n",
       "      <td>157.000000</td>\n",
       "      <td>1.000000</td>\n",
       "      <td>0.000000</td>\n",
       "      <td>0.090000</td>\n",
       "      <td>1.000000</td>\n",
       "      <td>88.000000</td>\n",
       "    </tr>\n",
       "    <tr>\n",
       "      <th>50%</th>\n",
       "      <td>280.000000</td>\n",
       "      <td>2.000000</td>\n",
       "      <td>2.000000</td>\n",
       "      <td>0.270000</td>\n",
       "      <td>1.000000</td>\n",
       "      <td>255.000000</td>\n",
       "    </tr>\n",
       "    <tr>\n",
       "      <th>75%</th>\n",
       "      <td>550.000000</td>\n",
       "      <td>4.000000</td>\n",
       "      <td>9.000000</td>\n",
       "      <td>0.850000</td>\n",
       "      <td>3.000000</td>\n",
       "      <td>363.000000</td>\n",
       "    </tr>\n",
       "    <tr>\n",
       "      <th>max</th>\n",
       "      <td>625216.000000</td>\n",
       "      <td>1000.000000</td>\n",
       "      <td>446.000000</td>\n",
       "      <td>29.530000</td>\n",
       "      <td>295.000000</td>\n",
       "      <td>365.000000</td>\n",
       "    </tr>\n",
       "  </tbody>\n",
       "</table>\n",
       "</div>"
      ],
      "text/plain": [
       "               price  minimum_nights  number_of_reviews  reviews_per_month  \\\n",
       "count   26608.000000    26608.000000       26608.000000       16657.000000   \n",
       "mean      742.784614        4.726248          12.149504           0.629190   \n",
       "std      5369.561520       19.104939          29.726070           0.876064   \n",
       "min        33.000000        1.000000           0.000000           0.010000   \n",
       "25%       157.000000        1.000000           0.000000           0.090000   \n",
       "50%       280.000000        2.000000           2.000000           0.270000   \n",
       "75%       550.000000        4.000000           9.000000           0.850000   \n",
       "max    625216.000000     1000.000000         446.000000          29.530000   \n",
       "\n",
       "       calculated_host_listings_count  availability_365  \n",
       "count                    26608.000000      26608.000000  \n",
       "mean                         9.667694        219.495903  \n",
       "std                         35.946577        141.499250  \n",
       "min                          1.000000          0.000000  \n",
       "25%                          1.000000         88.000000  \n",
       "50%                          1.000000        255.000000  \n",
       "75%                          3.000000        363.000000  \n",
       "max                        295.000000        365.000000  "
      ]
     },
     "execution_count": 14,
     "metadata": {},
     "output_type": "execute_result"
    }
   ],
   "source": [
    "df[['price', 'minimum_nights', 'number_of_reviews', 'reviews_per_month',\n",
    "    'calculated_host_listings_count', 'availability_365']].describe()"
   ]
  },
  {
   "cell_type": "markdown",
   "metadata": {},
   "source": [
    "Olhando o resumo estatístico acima, podemos confirmar algumas hipóteses como:\n",
    "\n",
    "- A variável price possui 75% do valor abaixo de 550, porém seu valor máximo é 625216.\n",
    "- A quantidade mínima de noites (minimum_nights) está acima do limite real de 365 dias no ano"
   ]
  },
  {
   "cell_type": "code",
   "execution_count": 15,
   "metadata": {},
   "outputs": [
    {
     "data": {
      "image/png": "[encoded data removed]",
      "text/plain": [
       "<Figure size 1080x216 with 1 Axes>"
      ]
     },
     "metadata": {},
     "output_type": "display_data"
    },
    {
     "name": "stdout",
     "output_type": "stream",
     "text": [
      "minimum_nights: valores acima de 30:\n",
      "813 entradas\n",
      "3.0555%\n"
     ]
    }
   ],
   "source": [
    "\n",
    "# minimum_nights\n",
    "df.minimum_nights.plot(kind='box', vert=False, figsize=(15, 3))\n",
    "plt.tight_layout()\n",
    "plt.show()\n",
    "\n",
    "# ver quantidade de valores acima de 30 dias para minimum_nights\n",
    "print(\"minimum_nights: valores acima de 30:\")\n",
    "print(\"{} entradas\".format(len(df[df.minimum_nights > 15])))\n",
    "print(\"{:.4f}%\".format((len(df[df.minimum_nights > 15]) / df.shape[0])*100))"
   ]
  },
  {
   "cell_type": "code",
   "execution_count": 16,
   "metadata": {},
   "outputs": [
    {
     "data": {
      "image/png": "[encoded data removed]",
      "text/plain": [
       "<Figure size 1080x216 with 1 Axes>"
      ]
     },
     "metadata": {},
     "output_type": "display_data"
    },
    {
     "name": "stdout",
     "output_type": "stream",
     "text": [
      "\n",
      "price: valores acima de 1500\n",
      "2138 entradas\n",
      "8.0352%\n"
     ]
    }
   ],
   "source": [
    "\n",
    "# price\n",
    "df.price.plot(kind='box', vert=False, figsize=(15, 3),)\n",
    "plt.show()\n",
    "\n",
    "# ver quantidade de valores acima de 1500 para price\n",
    "print(\"\\nprice: valores acima de 1500\")\n",
    "print(\"{} entradas\".format(len(df[df.price > 1400])))\n",
    "print(\"{:.4f}%\".format((len(df[df.price > 1400]) / df.shape[0])*100))\n",
    "\n",
    "# df.price.plot(kind='box', vert=False, xlim=(0,1300), figsize=(15,3));"
   ]
  },
  {
   "cell_type": "code",
   "execution_count": 17,
   "metadata": {},
   "outputs": [
    {
     "data": {
      "image/png": "[encoded data removed]",
      "text/plain": [
       "<Figure size 1080x720 with 12 Axes>"
      ]
     },
     "metadata": {},
     "output_type": "display_data"
    }
   ],
   "source": [
    "# remover os *outliers* em um novo DataFrame\n",
    "df_clean = df.copy()\n",
    "df_clean.drop(df_clean[df_clean.price > 1400].index, axis=0, inplace=True)\n",
    "df_clean.drop(df_clean[df_clean.minimum_nights > 15].index, axis=0, inplace=True)\n",
    "\n",
    "# plotar o histograma para as variáveis numéricas\n",
    "df_clean.hist(bins=\"sturges\", figsize=(15,10))\n",
    "plt.tight_layout()\n",
    "plt.show()"
   ]
  },
  {
   "cell_type": "markdown",
   "metadata": {},
   "source": [
    "# Medidas de Posição"
   ]
  },
  {
   "cell_type": "markdown",
   "metadata": {},
   "source": [
    "### Média"
   ]
  },
  {
   "cell_type": "code",
   "execution_count": 18,
   "metadata": {},
   "outputs": [
    {
     "data": {
      "text/plain": [
       "12.149503908598918"
      ]
     },
     "execution_count": 18,
     "metadata": {},
     "output_type": "execute_result"
    }
   ],
   "source": [
    "df[\"number_of_reviews\"].mean()"
   ]
  },
  {
   "cell_type": "markdown",
   "metadata": {},
   "source": [
    "### Mediana"
   ]
  },
  {
   "cell_type": "code",
   "execution_count": 19,
   "metadata": {},
   "outputs": [
    {
     "data": {
      "text/plain": [
       "280.0"
      ]
     },
     "execution_count": 19,
     "metadata": {},
     "output_type": "execute_result"
    }
   ],
   "source": [
    "df[\"price\"].median()"
   ]
  },
  {
   "cell_type": "markdown",
   "metadata": {},
   "source": [
    "### Moda"
   ]
  },
  {
   "cell_type": "code",
   "execution_count": 20,
   "metadata": {},
   "outputs": [
    {
     "data": {
      "text/plain": [
       "0    Copacabana\n",
       "dtype: object"
      ]
     },
     "execution_count": 20,
     "metadata": {},
     "output_type": "execute_result"
    }
   ],
   "source": [
    "df[\"neighbourhood\"].mode()"
   ]
  },
  {
   "cell_type": "markdown",
   "metadata": {},
   "source": [
    "# Medidas de Dispersão"
   ]
  },
  {
   "cell_type": "markdown",
   "metadata": {},
   "source": [
    "### Amplitude Total"
   ]
  },
  {
   "cell_type": "code",
   "execution_count": 24,
   "metadata": {},
   "outputs": [
    {
     "data": {
      "text/plain": [
       "625183"
      ]
     },
     "execution_count": 24,
     "metadata": {},
     "output_type": "execute_result"
    }
   ],
   "source": [
    "Xmax = max(df[\"price\"])\n",
    "Xmin = min(df[\"price\"])\n",
    "A = Xmax - Xmin\n",
    "A"
   ]
  },
  {
   "cell_type": "markdown",
   "metadata": {},
   "source": [
    "### Variância"
   ]
  },
  {
   "cell_type": "markdown",
   "metadata": {},
   "source": [
    "Variância da População"
   ]
  },
  {
   "cell_type": "code",
   "execution_count": 29,
   "metadata": {},
   "outputs": [
    {
     "data": {
      "text/plain": [
       "28831107.32090655"
      ]
     },
     "execution_count": 29,
     "metadata": {},
     "output_type": "execute_result"
    }
   ],
   "source": [
    "df[\"price\"].var(ddof=0)"
   ]
  },
  {
   "cell_type": "markdown",
   "metadata": {},
   "source": [
    "Variância da Amostra"
   ]
  },
  {
   "cell_type": "code",
   "execution_count": 28,
   "metadata": {},
   "outputs": [
    {
     "data": {
      "text/plain": [
       "28832190.91196608"
      ]
     },
     "execution_count": 28,
     "metadata": {},
     "output_type": "execute_result"
    }
   ],
   "source": [
    "df[\"price\"].var(ddof=1)"
   ]
  },
  {
   "cell_type": "markdown",
   "metadata": {},
   "source": [
    "### Desvio Padrão"
   ]
  },
  {
   "cell_type": "markdown",
   "metadata": {},
   "source": [
    "Desvio Padrão da População"
   ]
  },
  {
   "cell_type": "code",
   "execution_count": 31,
   "metadata": {},
   "outputs": [
    {
     "data": {
      "text/plain": [
       "5369.46061731591"
      ]
     },
     "execution_count": 31,
     "metadata": {},
     "output_type": "execute_result"
    }
   ],
   "source": [
    "df[\"price\"].std(ddof=0)"
   ]
  },
  {
   "cell_type": "markdown",
   "metadata": {},
   "source": [
    "Desvio Padrão da Amostra"
   ]
  },
  {
   "cell_type": "code",
   "execution_count": 33,
   "metadata": {},
   "outputs": [
    {
     "data": {
      "text/plain": [
       "5369.5615195252285"
      ]
     },
     "execution_count": 33,
     "metadata": {},
     "output_type": "execute_result"
    }
   ],
   "source": [
    "df[\"price\"].std(ddof=1)"
   ]
  },
  {
   "cell_type": "markdown",
   "metadata": {},
   "source": [
    "### Coeficiente de Variação (CV)\n",
    "cv = s/media"
   ]
  },
  {
   "cell_type": "code",
   "execution_count": 36,
   "metadata": {},
   "outputs": [
    {
     "data": {
      "text/plain": [
       "2.4466440502105975"
      ]
     },
     "execution_count": 36,
     "metadata": {},
     "output_type": "execute_result"
    }
   ],
   "source": [
    "cv = (df[\"number_of_reviews\"].std(ddof=0))/(df[\"number_of_reviews\"].mean())\n",
    "cv"
   ]
  },
  {
   "cell_type": "markdown",
   "metadata": {},
   "source": [
    "### Assimetria - Coeficiente de Pearson"
   ]
  },
  {
   "cell_type": "markdown",
   "metadata": {},
   "source": [
    "AS = (media - moda)/variancia"
   ]
  },
  {
   "cell_type": "code",
   "execution_count": 53,
   "metadata": {},
   "outputs": [
    {
     "data": {
      "text/plain": [
       "0    0.408723\n",
       "dtype: float64"
      ]
     },
     "execution_count": 53,
     "metadata": {},
     "output_type": "execute_result"
    }
   ],
   "source": [
    "AS = (df[\"number_of_reviews\"].mean() - df[\"number_of_reviews\"].mode())/df[\"number_of_reviews\"].std(ddof=0)\n",
    "AS"
   ]
  },
  {
   "cell_type": "code",
   "execution_count": 51,
   "metadata": {},
   "outputs": [
    {
     "data": {
      "text/plain": [
       "4.877077545870066"
      ]
     },
     "execution_count": 51,
     "metadata": {},
     "output_type": "execute_result"
    }
   ],
   "source": [
    "df[\"number_of_reviews\"].skew()"
   ]
  },
  {
   "cell_type": "markdown",
   "metadata": {},
   "source": [
    "### Curtose"
   ]
  },
  {
   "cell_type": "markdown",
   "metadata": {},
   "source": [
    "C = (Q3 - Q1)/2*(P90 - P10)"
   ]
  },
  {
   "cell_type": "code",
   "execution_count": 42,
   "metadata": {},
   "outputs": [
    {
     "data": {
      "text/plain": [
       "33.305045845995046"
      ]
     },
     "execution_count": 42,
     "metadata": {},
     "output_type": "execute_result"
    }
   ],
   "source": [
    "df[\"number_of_reviews\"].kurtosis()"
   ]
  }
 ],
 "metadata": {
  "kernelspec": {
   "display_name": "Python 3",
   "language": "python",
   "name": "python3"
  },
  "language_info": {
   "codemirror_mode": {
    "name": "ipython",
    "version": 3
   },
   "file_extension": ".py",
   "mimetype": "text/x-python",
   "name": "python",
   "nbconvert_exporter": "python",
   "pygments_lexer": "ipython3",
   "version": "3.8.5"
  }
 },
 "nbformat": 4,
 "nbformat_minor": 4
}
