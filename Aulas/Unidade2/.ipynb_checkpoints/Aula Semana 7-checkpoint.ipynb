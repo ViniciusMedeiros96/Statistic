{
 "cells": [
  {
   "cell_type": "code",
   "execution_count": 1,
   "id": "referenced-destruction",
   "metadata": {},
   "outputs": [],
   "source": [
    "import pandas as pd\n",
    "import numpy as np\n",
    "import matplotlib.pyplot as plt"
   ]
  },
  {
   "cell_type": "code",
   "execution_count": 12,
   "id": "stone-recipient",
   "metadata": {},
   "outputs": [
    {
     "data": {
      "text/html": [
       "<div>\n",
       "<style scoped>\n",
       "    .dataframe tbody tr th:only-of-type {\n",
       "        vertical-align: middle;\n",
       "    }\n",
       "\n",
       "    .dataframe tbody tr th {\n",
       "        vertical-align: top;\n",
       "    }\n",
       "\n",
       "    .dataframe thead th {\n",
       "        text-align: right;\n",
       "    }\n",
       "</style>\n",
       "<table border=\"1\" class=\"dataframe\">\n",
       "  <thead>\n",
       "    <tr style=\"text-align: right;\">\n",
       "      <th></th>\n",
       "      <th>Estado Civil</th>\n",
       "      <th>Grau de Instrução</th>\n",
       "      <th>N de Filhos</th>\n",
       "      <th>Salario (x Sal Min)</th>\n",
       "      <th>Anos</th>\n",
       "      <th>Região de Procedência</th>\n",
       "    </tr>\n",
       "  </thead>\n",
       "  <tbody>\n",
       "    <tr>\n",
       "      <th>0</th>\n",
       "      <td>solteiro</td>\n",
       "      <td>ensino fundamental</td>\n",
       "      <td>NaN</td>\n",
       "      <td>4.00</td>\n",
       "      <td>26</td>\n",
       "      <td>interior</td>\n",
       "    </tr>\n",
       "    <tr>\n",
       "      <th>1</th>\n",
       "      <td>casado</td>\n",
       "      <td>ensino fundamental</td>\n",
       "      <td>1.0</td>\n",
       "      <td>4.56</td>\n",
       "      <td>32</td>\n",
       "      <td>capital</td>\n",
       "    </tr>\n",
       "    <tr>\n",
       "      <th>2</th>\n",
       "      <td>casado</td>\n",
       "      <td>ensino fundamental</td>\n",
       "      <td>2.0</td>\n",
       "      <td>5.25</td>\n",
       "      <td>36</td>\n",
       "      <td>capital</td>\n",
       "    </tr>\n",
       "    <tr>\n",
       "      <th>3</th>\n",
       "      <td>solteiro</td>\n",
       "      <td>ensino médio</td>\n",
       "      <td>NaN</td>\n",
       "      <td>5.73</td>\n",
       "      <td>20</td>\n",
       "      <td>outra</td>\n",
       "    </tr>\n",
       "    <tr>\n",
       "      <th>4</th>\n",
       "      <td>solteiro</td>\n",
       "      <td>ensino fundamental</td>\n",
       "      <td>NaN</td>\n",
       "      <td>6.26</td>\n",
       "      <td>40</td>\n",
       "      <td>outra</td>\n",
       "    </tr>\n",
       "    <tr>\n",
       "      <th>5</th>\n",
       "      <td>casado</td>\n",
       "      <td>ensino fundamental</td>\n",
       "      <td>0.0</td>\n",
       "      <td>6.66</td>\n",
       "      <td>28</td>\n",
       "      <td>interior</td>\n",
       "    </tr>\n",
       "    <tr>\n",
       "      <th>6</th>\n",
       "      <td>solteiro</td>\n",
       "      <td>ensino fundamental</td>\n",
       "      <td>NaN</td>\n",
       "      <td>6.86</td>\n",
       "      <td>41</td>\n",
       "      <td>interior</td>\n",
       "    </tr>\n",
       "    <tr>\n",
       "      <th>7</th>\n",
       "      <td>solteiro</td>\n",
       "      <td>ensino fundamental</td>\n",
       "      <td>NaN</td>\n",
       "      <td>7.39</td>\n",
       "      <td>43</td>\n",
       "      <td>capital</td>\n",
       "    </tr>\n",
       "    <tr>\n",
       "      <th>8</th>\n",
       "      <td>casado</td>\n",
       "      <td>ensino médio</td>\n",
       "      <td>1.0</td>\n",
       "      <td>7.59</td>\n",
       "      <td>34</td>\n",
       "      <td>capital</td>\n",
       "    </tr>\n",
       "    <tr>\n",
       "      <th>9</th>\n",
       "      <td>solteiro</td>\n",
       "      <td>ensino médio</td>\n",
       "      <td>NaN</td>\n",
       "      <td>7.44</td>\n",
       "      <td>23</td>\n",
       "      <td>outra</td>\n",
       "    </tr>\n",
       "    <tr>\n",
       "      <th>10</th>\n",
       "      <td>casado</td>\n",
       "      <td>ensino médio</td>\n",
       "      <td>2.0</td>\n",
       "      <td>8.12</td>\n",
       "      <td>33</td>\n",
       "      <td>interior</td>\n",
       "    </tr>\n",
       "    <tr>\n",
       "      <th>11</th>\n",
       "      <td>solteiro</td>\n",
       "      <td>ensino fundamental</td>\n",
       "      <td>NaN</td>\n",
       "      <td>8.46</td>\n",
       "      <td>27</td>\n",
       "      <td>capital</td>\n",
       "    </tr>\n",
       "    <tr>\n",
       "      <th>12</th>\n",
       "      <td>solteiro</td>\n",
       "      <td>ensino médio</td>\n",
       "      <td>NaN</td>\n",
       "      <td>8.74</td>\n",
       "      <td>37</td>\n",
       "      <td>outra</td>\n",
       "    </tr>\n",
       "    <tr>\n",
       "      <th>13</th>\n",
       "      <td>casado</td>\n",
       "      <td>ensino fundamental</td>\n",
       "      <td>3.0</td>\n",
       "      <td>8.95</td>\n",
       "      <td>44</td>\n",
       "      <td>outra</td>\n",
       "    </tr>\n",
       "    <tr>\n",
       "      <th>14</th>\n",
       "      <td>casado</td>\n",
       "      <td>ensino médio</td>\n",
       "      <td>0.0</td>\n",
       "      <td>9.13</td>\n",
       "      <td>30</td>\n",
       "      <td>interior</td>\n",
       "    </tr>\n",
       "    <tr>\n",
       "      <th>15</th>\n",
       "      <td>solteiro</td>\n",
       "      <td>ensino médio</td>\n",
       "      <td>NaN</td>\n",
       "      <td>9.35</td>\n",
       "      <td>38</td>\n",
       "      <td>outra</td>\n",
       "    </tr>\n",
       "    <tr>\n",
       "      <th>16</th>\n",
       "      <td>casado</td>\n",
       "      <td>ensino médio</td>\n",
       "      <td>1.0</td>\n",
       "      <td>9.77</td>\n",
       "      <td>31</td>\n",
       "      <td>capital</td>\n",
       "    </tr>\n",
       "    <tr>\n",
       "      <th>17</th>\n",
       "      <td>casado</td>\n",
       "      <td>ensino fundamental</td>\n",
       "      <td>2.0</td>\n",
       "      <td>9.80</td>\n",
       "      <td>39</td>\n",
       "      <td>outra</td>\n",
       "    </tr>\n",
       "    <tr>\n",
       "      <th>18</th>\n",
       "      <td>solteiro</td>\n",
       "      <td>superior</td>\n",
       "      <td>NaN</td>\n",
       "      <td>10.53</td>\n",
       "      <td>25</td>\n",
       "      <td>interior</td>\n",
       "    </tr>\n",
       "    <tr>\n",
       "      <th>19</th>\n",
       "      <td>solteiro</td>\n",
       "      <td>ensino médio</td>\n",
       "      <td>NaN</td>\n",
       "      <td>10.76</td>\n",
       "      <td>37</td>\n",
       "      <td>interior</td>\n",
       "    </tr>\n",
       "    <tr>\n",
       "      <th>20</th>\n",
       "      <td>casado</td>\n",
       "      <td>ensino médio</td>\n",
       "      <td>1.0</td>\n",
       "      <td>11.06</td>\n",
       "      <td>30</td>\n",
       "      <td>outra</td>\n",
       "    </tr>\n",
       "    <tr>\n",
       "      <th>21</th>\n",
       "      <td>solteiro</td>\n",
       "      <td>ensino médio</td>\n",
       "      <td>NaN</td>\n",
       "      <td>11.59</td>\n",
       "      <td>34</td>\n",
       "      <td>capital</td>\n",
       "    </tr>\n",
       "    <tr>\n",
       "      <th>22</th>\n",
       "      <td>solteiro</td>\n",
       "      <td>ensino fundamental</td>\n",
       "      <td>NaN</td>\n",
       "      <td>12.00</td>\n",
       "      <td>41</td>\n",
       "      <td>outra</td>\n",
       "    </tr>\n",
       "    <tr>\n",
       "      <th>23</th>\n",
       "      <td>casado</td>\n",
       "      <td>superior</td>\n",
       "      <td>0.0</td>\n",
       "      <td>12.79</td>\n",
       "      <td>26</td>\n",
       "      <td>outra</td>\n",
       "    </tr>\n",
       "    <tr>\n",
       "      <th>24</th>\n",
       "      <td>casado</td>\n",
       "      <td>ensino médio</td>\n",
       "      <td>2.0</td>\n",
       "      <td>13.23</td>\n",
       "      <td>32</td>\n",
       "      <td>interior</td>\n",
       "    </tr>\n",
       "    <tr>\n",
       "      <th>25</th>\n",
       "      <td>casado</td>\n",
       "      <td>ensino médio</td>\n",
       "      <td>2.0</td>\n",
       "      <td>13.60</td>\n",
       "      <td>35</td>\n",
       "      <td>outra</td>\n",
       "    </tr>\n",
       "    <tr>\n",
       "      <th>26</th>\n",
       "      <td>solteiro</td>\n",
       "      <td>ensino fundamental</td>\n",
       "      <td>NaN</td>\n",
       "      <td>13.85</td>\n",
       "      <td>46</td>\n",
       "      <td>outra</td>\n",
       "    </tr>\n",
       "    <tr>\n",
       "      <th>27</th>\n",
       "      <td>casado</td>\n",
       "      <td>ensino médio</td>\n",
       "      <td>0.0</td>\n",
       "      <td>14.69</td>\n",
       "      <td>29</td>\n",
       "      <td>interior</td>\n",
       "    </tr>\n",
       "    <tr>\n",
       "      <th>28</th>\n",
       "      <td>casado</td>\n",
       "      <td>ensino médio</td>\n",
       "      <td>5.0</td>\n",
       "      <td>14.71</td>\n",
       "      <td>40</td>\n",
       "      <td>interior</td>\n",
       "    </tr>\n",
       "    <tr>\n",
       "      <th>29</th>\n",
       "      <td>casado</td>\n",
       "      <td>ensino médio</td>\n",
       "      <td>2.0</td>\n",
       "      <td>15.99</td>\n",
       "      <td>35</td>\n",
       "      <td>capital</td>\n",
       "    </tr>\n",
       "    <tr>\n",
       "      <th>30</th>\n",
       "      <td>solteiro</td>\n",
       "      <td>superior</td>\n",
       "      <td>NaN</td>\n",
       "      <td>16.22</td>\n",
       "      <td>31</td>\n",
       "      <td>outra</td>\n",
       "    </tr>\n",
       "    <tr>\n",
       "      <th>31</th>\n",
       "      <td>casado</td>\n",
       "      <td>ensino médio</td>\n",
       "      <td>1.0</td>\n",
       "      <td>16.61</td>\n",
       "      <td>36</td>\n",
       "      <td>interior</td>\n",
       "    </tr>\n",
       "    <tr>\n",
       "      <th>32</th>\n",
       "      <td>casado</td>\n",
       "      <td>superior</td>\n",
       "      <td>3.0</td>\n",
       "      <td>17.26</td>\n",
       "      <td>43</td>\n",
       "      <td>capital</td>\n",
       "    </tr>\n",
       "    <tr>\n",
       "      <th>33</th>\n",
       "      <td>solteiro</td>\n",
       "      <td>superior</td>\n",
       "      <td>NaN</td>\n",
       "      <td>18.75</td>\n",
       "      <td>33</td>\n",
       "      <td>capital</td>\n",
       "    </tr>\n",
       "    <tr>\n",
       "      <th>34</th>\n",
       "      <td>casado</td>\n",
       "      <td>ensino médio</td>\n",
       "      <td>2.0</td>\n",
       "      <td>19.40</td>\n",
       "      <td>48</td>\n",
       "      <td>capital</td>\n",
       "    </tr>\n",
       "    <tr>\n",
       "      <th>35</th>\n",
       "      <td>casado</td>\n",
       "      <td>superior</td>\n",
       "      <td>3.0</td>\n",
       "      <td>23.30</td>\n",
       "      <td>42</td>\n",
       "      <td>interior</td>\n",
       "    </tr>\n",
       "  </tbody>\n",
       "</table>\n",
       "</div>"
      ],
      "text/plain": [
       "   Estado Civil   Grau de Instrução  N de Filhos  Salario (x Sal Min)  Anos  \\\n",
       "0      solteiro  ensino fundamental          NaN                 4.00    26   \n",
       "1        casado  ensino fundamental          1.0                 4.56    32   \n",
       "2        casado  ensino fundamental          2.0                 5.25    36   \n",
       "3      solteiro        ensino médio          NaN                 5.73    20   \n",
       "4      solteiro  ensino fundamental          NaN                 6.26    40   \n",
       "5        casado  ensino fundamental          0.0                 6.66    28   \n",
       "6      solteiro  ensino fundamental          NaN                 6.86    41   \n",
       "7      solteiro  ensino fundamental          NaN                 7.39    43   \n",
       "8        casado        ensino médio          1.0                 7.59    34   \n",
       "9      solteiro        ensino médio          NaN                 7.44    23   \n",
       "10       casado        ensino médio          2.0                 8.12    33   \n",
       "11     solteiro  ensino fundamental          NaN                 8.46    27   \n",
       "12     solteiro        ensino médio          NaN                 8.74    37   \n",
       "13       casado  ensino fundamental          3.0                 8.95    44   \n",
       "14       casado        ensino médio          0.0                 9.13    30   \n",
       "15     solteiro        ensino médio          NaN                 9.35    38   \n",
       "16       casado        ensino médio          1.0                 9.77    31   \n",
       "17       casado  ensino fundamental          2.0                 9.80    39   \n",
       "18     solteiro            superior          NaN                10.53    25   \n",
       "19     solteiro        ensino médio          NaN                10.76    37   \n",
       "20       casado        ensino médio          1.0                11.06    30   \n",
       "21     solteiro        ensino médio          NaN                11.59    34   \n",
       "22     solteiro  ensino fundamental          NaN                12.00    41   \n",
       "23       casado            superior          0.0                12.79    26   \n",
       "24       casado        ensino médio          2.0                13.23    32   \n",
       "25       casado        ensino médio          2.0                13.60    35   \n",
       "26     solteiro  ensino fundamental          NaN                13.85    46   \n",
       "27       casado        ensino médio          0.0                14.69    29   \n",
       "28       casado        ensino médio          5.0                14.71    40   \n",
       "29       casado        ensino médio          2.0                15.99    35   \n",
       "30     solteiro            superior          NaN                16.22    31   \n",
       "31       casado        ensino médio          1.0                16.61    36   \n",
       "32       casado            superior          3.0                17.26    43   \n",
       "33     solteiro            superior          NaN                18.75    33   \n",
       "34       casado        ensino médio          2.0                19.40    48   \n",
       "35       casado            superior          3.0                23.30    42   \n",
       "\n",
       "   Região de Procedência  \n",
       "0               interior  \n",
       "1                capital  \n",
       "2                capital  \n",
       "3                  outra  \n",
       "4                  outra  \n",
       "5               interior  \n",
       "6               interior  \n",
       "7                capital  \n",
       "8                capital  \n",
       "9                  outra  \n",
       "10              interior  \n",
       "11               capital  \n",
       "12                 outra  \n",
       "13                 outra  \n",
       "14              interior  \n",
       "15                 outra  \n",
       "16               capital  \n",
       "17                 outra  \n",
       "18              interior  \n",
       "19              interior  \n",
       "20                 outra  \n",
       "21               capital  \n",
       "22                 outra  \n",
       "23                 outra  \n",
       "24              interior  \n",
       "25                 outra  \n",
       "26                 outra  \n",
       "27              interior  \n",
       "28              interior  \n",
       "29               capital  \n",
       "30                 outra  \n",
       "31              interior  \n",
       "32               capital  \n",
       "33               capital  \n",
       "34               capital  \n",
       "35              interior  "
      ]
     },
     "execution_count": 12,
     "metadata": {},
     "output_type": "execute_result"
    }
   ],
   "source": [
    "df = pd.read_csv('Dados_moretin.csv', sep=';', decimal=',')\n",
    "df"
   ]
  },
  {
   "cell_type": "code",
   "execution_count": 3,
   "id": "altered-complaint",
   "metadata": {},
   "outputs": [
    {
     "name": "stdout",
     "output_type": "stream",
     "text": [
      "<class 'pandas.core.frame.DataFrame'>\n",
      "RangeIndex: 36 entries, 0 to 35\n",
      "Data columns (total 6 columns):\n",
      " #   Column                 Non-Null Count  Dtype  \n",
      "---  ------                 --------------  -----  \n",
      " 0   Estado Civil           36 non-null     object \n",
      " 1   Grau de Instrução      36 non-null     object \n",
      " 2   N de Filhos            20 non-null     float64\n",
      " 3   Salario (x Sal Min)    36 non-null     float64\n",
      " 4   Anos                   36 non-null     int64  \n",
      " 5   Região de Procedência  36 non-null     object \n",
      "dtypes: float64(2), int64(1), object(3)\n",
      "memory usage: 1.8+ KB\n"
     ]
    }
   ],
   "source": [
    "df.info()"
   ]
  },
  {
   "cell_type": "markdown",
   "id": "foreign-guard",
   "metadata": {},
   "source": [
    "## 1o. caso: Variáveis quantitativas com poucos valores distintos\n",
    "\n",
    "Dist. de frequencias igual ao caso qualitativo"
   ]
  },
  {
   "cell_type": "code",
   "execution_count": 4,
   "id": "determined-rating",
   "metadata": {},
   "outputs": [
    {
     "data": {
      "text/plain": [
       "array([nan,  1.,  2.,  0.,  3.,  5.])"
      ]
     },
     "execution_count": 4,
     "metadata": {},
     "output_type": "execute_result"
    }
   ],
   "source": [
    "df['N de Filhos'].unique()"
   ]
  },
  {
   "cell_type": "code",
   "execution_count": 8,
   "id": "hourly-chorus",
   "metadata": {},
   "outputs": [
    {
     "data": {
      "text/plain": [
       "0.0    4\n",
       "1.0    5\n",
       "2.0    7\n",
       "3.0    3\n",
       "5.0    1\n",
       "Name: N de Filhos, dtype: int64"
      ]
     },
     "execution_count": 8,
     "metadata": {},
     "output_type": "execute_result"
    }
   ],
   "source": [
    "fi = df['N de Filhos'].value_counts().sort_index()\n",
    "fi"
   ]
  },
  {
   "cell_type": "code",
   "execution_count": 9,
   "id": "naked-graph",
   "metadata": {},
   "outputs": [
    {
     "data": {
      "text/plain": [
       "0.0    0.20\n",
       "1.0    0.25\n",
       "2.0    0.35\n",
       "3.0    0.15\n",
       "5.0    0.05\n",
       "Name: N de Filhos, dtype: float64"
      ]
     },
     "execution_count": 9,
     "metadata": {},
     "output_type": "execute_result"
    }
   ],
   "source": [
    "fr = df['N de Filhos'].value_counts(normalize=True).sort_index()\n",
    "fr"
   ]
  },
  {
   "cell_type": "markdown",
   "id": "short-handling",
   "metadata": {},
   "source": [
    "Frequencia acumulada ou cumulativa\n",
    "\n",
    "$$\n",
    "F = \\sum_0^i fi\n",
    "$$"
   ]
  },
  {
   "cell_type": "markdown",
   "id": "developing-circle",
   "metadata": {},
   "source": [
    "Quantas pessoas possuem menos de 3 filhos?\n",
    "\n",
    "$F = f_0 + f_1 + f_2 = 4+ 7 + 5 = 16$\n",
    "\n",
    "em que $f_0$ é a freq. absoluta do valor 0.0, por exemplo"
   ]
  },
  {
   "cell_type": "markdown",
   "id": "mature-modeling",
   "metadata": {},
   "source": [
    "Quantas pessoas possuem ao menos 3 filhos?\n",
    "\n",
    "$F = f_3 + f_5 = 3 + 1 = 4$"
   ]
  },
  {
   "cell_type": "markdown",
   "id": "intended-exhaust",
   "metadata": {},
   "source": [
    "Quantas pessoas possuem 3 filhos ou menos?\n",
    "\n",
    "$F = f_0 + f_1 + f_2 + f_3 = 4+ 7 + 5 + 3 = 19$"
   ]
  },
  {
   "cell_type": "code",
   "execution_count": 10,
   "id": "sporting-conclusion",
   "metadata": {},
   "outputs": [
    {
     "data": {
      "text/plain": [
       "0.0     4\n",
       "1.0     9\n",
       "2.0    16\n",
       "3.0    19\n",
       "5.0    20\n",
       "Name: N de Filhos, dtype: int64"
      ]
     },
     "execution_count": 10,
     "metadata": {},
     "output_type": "execute_result"
    }
   ],
   "source": [
    "F = fi.cumsum()\n",
    "F"
   ]
  },
  {
   "cell_type": "code",
   "execution_count": 11,
   "id": "deadly-march",
   "metadata": {},
   "outputs": [
    {
     "data": {
      "text/html": [
       "<div>\n",
       "<style scoped>\n",
       "    .dataframe tbody tr th:only-of-type {\n",
       "        vertical-align: middle;\n",
       "    }\n",
       "\n",
       "    .dataframe tbody tr th {\n",
       "        vertical-align: top;\n",
       "    }\n",
       "\n",
       "    .dataframe thead th {\n",
       "        text-align: right;\n",
       "    }\n",
       "</style>\n",
       "<table border=\"1\" class=\"dataframe\">\n",
       "  <thead>\n",
       "    <tr style=\"text-align: right;\">\n",
       "      <th></th>\n",
       "      <th>fi</th>\n",
       "      <th>fr</th>\n",
       "      <th>F</th>\n",
       "    </tr>\n",
       "  </thead>\n",
       "  <tbody>\n",
       "    <tr>\n",
       "      <th>0.0</th>\n",
       "      <td>4</td>\n",
       "      <td>0.20</td>\n",
       "      <td>4</td>\n",
       "    </tr>\n",
       "    <tr>\n",
       "      <th>1.0</th>\n",
       "      <td>5</td>\n",
       "      <td>0.25</td>\n",
       "      <td>9</td>\n",
       "    </tr>\n",
       "    <tr>\n",
       "      <th>2.0</th>\n",
       "      <td>7</td>\n",
       "      <td>0.35</td>\n",
       "      <td>16</td>\n",
       "    </tr>\n",
       "    <tr>\n",
       "      <th>3.0</th>\n",
       "      <td>3</td>\n",
       "      <td>0.15</td>\n",
       "      <td>19</td>\n",
       "    </tr>\n",
       "    <tr>\n",
       "      <th>5.0</th>\n",
       "      <td>1</td>\n",
       "      <td>0.05</td>\n",
       "      <td>20</td>\n",
       "    </tr>\n",
       "  </tbody>\n",
       "</table>\n",
       "</div>"
      ],
      "text/plain": [
       "     fi    fr   F\n",
       "0.0   4  0.20   4\n",
       "1.0   5  0.25   9\n",
       "2.0   7  0.35  16\n",
       "3.0   3  0.15  19\n",
       "5.0   1  0.05  20"
      ]
     },
     "execution_count": 11,
     "metadata": {},
     "output_type": "execute_result"
    }
   ],
   "source": [
    "dist = pd.concat([fi,fr,F],axis=1)\n",
    "dist.columns = ['fi', 'fr', \"F\"]\n",
    "dist"
   ]
  },
  {
   "cell_type": "markdown",
   "id": "agricultural-location",
   "metadata": {},
   "source": [
    "## 2o. caso: Variáveis quantitativas com muitos valores distintos\n",
    "\n",
    "Dist. de frequencias em classes"
   ]
  },
  {
   "cell_type": "code",
   "execution_count": 13,
   "id": "burning-continuity",
   "metadata": {},
   "outputs": [
    {
     "data": {
      "text/plain": [
       "array([26, 32, 36, 20, 40, 28, 41, 43, 34, 23, 33, 27, 37, 44, 30, 38, 31,\n",
       "       39, 25, 35, 46, 29, 48, 42])"
      ]
     },
     "execution_count": 13,
     "metadata": {},
     "output_type": "execute_result"
    }
   ],
   "source": [
    "df[\"Anos\"].unique()"
   ]
  },
  {
   "cell_type": "code",
   "execution_count": 14,
   "id": "ordinary-plenty",
   "metadata": {},
   "outputs": [
    {
     "data": {
      "text/plain": [
       "35    2\n",
       "26    2\n",
       "43    2\n",
       "30    2\n",
       "31    2\n",
       "32    2\n",
       "33    2\n",
       "34    2\n",
       "41    2\n",
       "36    2\n",
       "37    2\n",
       "40    2\n",
       "39    1\n",
       "46    1\n",
       "44    1\n",
       "42    1\n",
       "20    1\n",
       "38    1\n",
       "23    1\n",
       "29    1\n",
       "28    1\n",
       "27    1\n",
       "25    1\n",
       "48    1\n",
       "Name: Anos, dtype: int64"
      ]
     },
     "execution_count": 14,
     "metadata": {},
     "output_type": "execute_result"
    }
   ],
   "source": [
    "df[\"Anos\"].value_counts()"
   ]
  },
  {
   "cell_type": "code",
   "execution_count": 15,
   "id": "cathedral-encoding",
   "metadata": {},
   "outputs": [
    {
     "data": {
      "text/plain": [
       "array([ 4.  ,  4.56,  5.25,  5.73,  6.26,  6.66,  6.86,  7.39,  7.59,\n",
       "        7.44,  8.12,  8.46,  8.74,  8.95,  9.13,  9.35,  9.77,  9.8 ,\n",
       "       10.53, 10.76, 11.06, 11.59, 12.  , 12.79, 13.23, 13.6 , 13.85,\n",
       "       14.69, 14.71, 15.99, 16.22, 16.61, 17.26, 18.75, 19.4 , 23.3 ])"
      ]
     },
     "execution_count": 15,
     "metadata": {},
     "output_type": "execute_result"
    }
   ],
   "source": [
    "df['Salario (x Sal Min)'].unique()"
   ]
  },
  {
   "cell_type": "code",
   "execution_count": 16,
   "id": "stable-terror",
   "metadata": {},
   "outputs": [
    {
     "data": {
      "text/plain": [
       "13.60    1\n",
       "17.26    1\n",
       "7.59     1\n",
       "8.95     1\n",
       "6.86     1\n",
       "10.53    1\n",
       "10.76    1\n",
       "11.06    1\n",
       "14.69    1\n",
       "7.39     1\n",
       "19.40    1\n",
       "12.79    1\n",
       "7.44     1\n",
       "4.00     1\n",
       "4.56     1\n",
       "15.99    1\n",
       "9.35     1\n",
       "23.30    1\n",
       "16.22    1\n",
       "9.13     1\n",
       "6.66     1\n",
       "12.00    1\n",
       "16.61    1\n",
       "5.73     1\n",
       "8.46     1\n",
       "13.23    1\n",
       "9.80     1\n",
       "14.71    1\n",
       "9.77     1\n",
       "13.85    1\n",
       "8.74     1\n",
       "18.75    1\n",
       "6.26     1\n",
       "8.12     1\n",
       "11.59    1\n",
       "5.25     1\n",
       "Name: Salario (x Sal Min), dtype: int64"
      ]
     },
     "execution_count": 16,
     "metadata": {},
     "output_type": "execute_result"
    }
   ],
   "source": [
    "df['Salario (x Sal Min)'].value_counts()"
   ]
  },
  {
   "cell_type": "markdown",
   "id": "secure-figure",
   "metadata": {},
   "source": [
    "![](https://acimadamediana.files.wordpress.com/2014/09/tab-dist3-e1411413625298.png?w=300&h=219)\n",
    "\n",
    "Para criar essas classes:\n",
    "\n",
    "1. Calcular a amplitude do conjunto de dados\n",
    "\n",
    "$A = x_{max} - x_{min}$\n",
    "\n",
    "2. Calcular o número de classes (intervalos)\n",
    "\n",
    "$N_c = \\sqrt n$\n",
    "\n",
    "$N_c = 1+ 3.3log(n)$\n",
    "\n",
    "3. Tamanho das classes\n",
    "\n",
    "$h = \\dfrac{A}{N_c}$\n",
    "\n",
    "\n",
    "#### Representação do intervalo\n",
    "\n",
    "$a \\vdash b \\Rightarrow [a,b)$"
   ]
  },
  {
   "cell_type": "markdown",
   "id": "great-stuff",
   "metadata": {},
   "source": [
    "#### Exemplo na mão"
   ]
  },
  {
   "cell_type": "code",
   "execution_count": 17,
   "id": "unlimited-composite",
   "metadata": {},
   "outputs": [
    {
     "data": {
      "text/plain": [
       "23.3"
      ]
     },
     "execution_count": 17,
     "metadata": {},
     "output_type": "execute_result"
    }
   ],
   "source": [
    "max = df['Salario (x Sal Min)'].max()\n",
    "max"
   ]
  },
  {
   "cell_type": "code",
   "execution_count": 18,
   "id": "scenic-adobe",
   "metadata": {},
   "outputs": [
    {
     "data": {
      "text/plain": [
       "4.0"
      ]
     },
     "execution_count": 18,
     "metadata": {},
     "output_type": "execute_result"
    }
   ],
   "source": [
    "min = df['Salario (x Sal Min)'].min()\n",
    "min"
   ]
  },
  {
   "cell_type": "code",
   "execution_count": 20,
   "id": "ruled-bankruptcy",
   "metadata": {},
   "outputs": [
    {
     "data": {
      "text/plain": [
       "19.3"
      ]
     },
     "execution_count": 20,
     "metadata": {},
     "output_type": "execute_result"
    }
   ],
   "source": [
    "A = max - min\n",
    "A"
   ]
  },
  {
   "cell_type": "code",
   "execution_count": 22,
   "id": "decimal-canadian",
   "metadata": {},
   "outputs": [
    {
     "data": {
      "text/plain": [
       "(36, 6)"
      ]
     },
     "execution_count": 22,
     "metadata": {},
     "output_type": "execute_result"
    }
   ],
   "source": [
    "df.shape"
   ]
  },
  {
   "cell_type": "code",
   "execution_count": 23,
   "id": "dominican-defense",
   "metadata": {},
   "outputs": [
    {
     "data": {
      "text/plain": [
       "36"
      ]
     },
     "execution_count": 23,
     "metadata": {},
     "output_type": "execute_result"
    }
   ],
   "source": [
    "len(df)"
   ]
  },
  {
   "cell_type": "code",
   "execution_count": 24,
   "id": "greenhouse-luxembourg",
   "metadata": {},
   "outputs": [
    {
     "data": {
      "text/plain": [
       "6.0"
      ]
     },
     "execution_count": 24,
     "metadata": {},
     "output_type": "execute_result"
    }
   ],
   "source": [
    "Nc = np.sqrt(df.shape[0])\n",
    "Nc"
   ]
  },
  {
   "cell_type": "code",
   "execution_count": 25,
   "id": "binary-ratio",
   "metadata": {},
   "outputs": [
    {
     "data": {
      "text/plain": [
       "3.216666666666667"
      ]
     },
     "execution_count": 25,
     "metadata": {},
     "output_type": "execute_result"
    }
   ],
   "source": [
    "h = A/Nc\n",
    "h"
   ]
  },
  {
   "cell_type": "markdown",
   "id": "curious-assumption",
   "metadata": {},
   "source": [
    "Classe 1: $4 \\vdash 7.22$: $ x_{min} \\vdash x_{min} + h$\n",
    "\n",
    "Classe 2: $7.22 \\vdash 10.44$ : $ x_{min} + h \\vdash x_{min} + 2h$\n",
    "\n",
    "Classe 3: $10.44 \\vdash 13.66$\n",
    "\n",
    "Classe 4: $13.66 \\vdash 16.88$\n",
    "\n",
    "Classe 5: $16.88 \\vdash 20.1$\n",
    "\n",
    "Classe 6: $20.1 \\vdash 23.32$\n",
    "\n",
    "\n",
    "13.60    3\n",
    "\n",
    "17.26    5\n",
    "\n",
    "7.59     2\n",
    "\n",
    "8.95     2\n",
    "\n",
    "6.86     1\n",
    "\n",
    "10.53    3\n",
    "\n",
    "10.76    3"
   ]
  },
  {
   "cell_type": "markdown",
   "id": "architectural-anthony",
   "metadata": {},
   "source": [
    "#### Modo pythonico de fazer isso"
   ]
  },
  {
   "cell_type": "markdown",
   "id": "incorporate-sculpture",
   "metadata": {},
   "source": [
    "###### Usando Numpy: [histogram](https://numpy.org/doc/stable/reference/generated/numpy.histogram.html)"
   ]
  },
  {
   "cell_type": "code",
   "execution_count": 26,
   "id": "respective-interest",
   "metadata": {},
   "outputs": [],
   "source": [
    "dados = df['Salario (x Sal Min)']"
   ]
  },
  {
   "cell_type": "code",
   "execution_count": 31,
   "id": "nominated-desktop",
   "metadata": {},
   "outputs": [],
   "source": [
    "hist, bin_edges = np.histogram(dados, bins=5)"
   ]
  },
  {
   "cell_type": "code",
   "execution_count": 32,
   "id": "hourly-agreement",
   "metadata": {},
   "outputs": [
    {
     "data": {
      "text/plain": [
       "array([10, 12,  7,  6,  1])"
      ]
     },
     "execution_count": 32,
     "metadata": {},
     "output_type": "execute_result"
    }
   ],
   "source": [
    "hist"
   ]
  },
  {
   "cell_type": "code",
   "execution_count": 33,
   "id": "running-robert",
   "metadata": {},
   "outputs": [
    {
     "data": {
      "text/plain": [
       "array([ 4.  ,  7.86, 11.72, 15.58, 19.44, 23.3 ])"
      ]
     },
     "execution_count": 33,
     "metadata": {},
     "output_type": "execute_result"
    }
   ],
   "source": [
    "bin_edges"
   ]
  },
  {
   "cell_type": "code",
   "execution_count": 35,
   "id": "elementary-lebanon",
   "metadata": {},
   "outputs": [
    {
     "data": {
      "text/plain": [
       "array([3.86, 3.86, 3.86, 3.86, 3.86])"
      ]
     },
     "execution_count": 35,
     "metadata": {},
     "output_type": "execute_result"
    }
   ],
   "source": [
    "h = np.diff(bin_edges)\n",
    "h"
   ]
  },
  {
   "cell_type": "markdown",
   "id": "apart-suspect",
   "metadata": {},
   "source": [
    "Para estabelecer o número de classes, o parâmetro `bins` pode receber valores especiais, que inficam a função a possibilidade de estimar esse valor, sem que se precise atribuir."
   ]
  },
  {
   "cell_type": "code",
   "execution_count": 49,
   "id": "future-excellence",
   "metadata": {},
   "outputs": [],
   "source": [
    "hist, bin_edges = np.histogram(dados,bins='auto')"
   ]
  },
  {
   "cell_type": "code",
   "execution_count": 50,
   "id": "concerned-highland",
   "metadata": {},
   "outputs": [
    {
     "data": {
      "text/plain": [
       "array([ 6, 10,  7,  6,  4,  2,  1])"
      ]
     },
     "execution_count": 50,
     "metadata": {},
     "output_type": "execute_result"
    }
   ],
   "source": [
    "hist"
   ]
  },
  {
   "cell_type": "code",
   "execution_count": 41,
   "id": "expensive-casino",
   "metadata": {},
   "outputs": [
    {
     "data": {
      "text/plain": [
       "array([ 4.        ,  6.75714286,  9.51428571, 12.27142857, 15.02857143,\n",
       "       17.78571429, 20.54285714, 23.3       ])"
      ]
     },
     "execution_count": 41,
     "metadata": {},
     "output_type": "execute_result"
    }
   ],
   "source": [
    "bin_edges"
   ]
  },
  {
   "cell_type": "markdown",
   "id": "elect-mount",
   "metadata": {},
   "source": [
    "###### Usando Matplotlib: [hist](https://matplotlib.org/stable/api/_as_gen/matplotlib.pyplot.hist.html)"
   ]
  },
  {
   "cell_type": "code",
   "execution_count": 56,
   "id": "based-hampshire",
   "metadata": {},
   "outputs": [
    {
     "data": {
      "image/png": "[encoded data removed]",
      "text/plain": [
       "<Figure size 432x288 with 1 Axes>"
      ]
     },
     "metadata": {
      "needs_background": "light"
     },
     "output_type": "display_data"
    }
   ],
   "source": [
    "fi, classes, x = plt.hist(dados, bins='auto')"
   ]
  },
  {
   "cell_type": "code",
   "execution_count": 52,
   "id": "indie-guyana",
   "metadata": {},
   "outputs": [
    {
     "data": {
      "text/plain": [
       "array([ 6., 10.,  7.,  6.,  4.,  2.,  1.])"
      ]
     },
     "execution_count": 52,
     "metadata": {},
     "output_type": "execute_result"
    }
   ],
   "source": [
    "fi"
   ]
  },
  {
   "cell_type": "code",
   "execution_count": 53,
   "id": "raised-clone",
   "metadata": {},
   "outputs": [
    {
     "data": {
      "text/plain": [
       "array([ 4.        ,  6.75714286,  9.51428571, 12.27142857, 15.02857143,\n",
       "       17.78571429, 20.54285714, 23.3       ])"
      ]
     },
     "execution_count": 53,
     "metadata": {},
     "output_type": "execute_result"
    }
   ],
   "source": [
    "classes"
   ]
  },
  {
   "cell_type": "code",
   "execution_count": 54,
   "id": "useful-server",
   "metadata": {},
   "outputs": [
    {
     "data": {
      "text/plain": [
       "<BarContainer object of 7 artists>"
      ]
     },
     "execution_count": 54,
     "metadata": {},
     "output_type": "execute_result"
    }
   ],
   "source": [
    "x"
   ]
  },
  {
   "cell_type": "markdown",
   "id": "excess-packet",
   "metadata": {},
   "source": [
    "##### Calculando frequencias relativa e cumulativa"
   ]
  },
  {
   "cell_type": "code",
   "execution_count": 57,
   "id": "centered-collaboration",
   "metadata": {},
   "outputs": [
    {
     "data": {
      "text/plain": [
       "array([10, 12,  7,  6,  1])"
      ]
     },
     "execution_count": 57,
     "metadata": {},
     "output_type": "execute_result"
    }
   ],
   "source": [
    "fi, classes = np.histogram(dados,bins=5)\n",
    "fi"
   ]
  },
  {
   "cell_type": "markdown",
   "id": "athletic-clause",
   "metadata": {},
   "source": [
    "$$\n",
    "f_{R} = \\dfrac{f_i}{N} = \\dfrac{f_i}{\\sum f_i}\n",
    "$$\n",
    "\n",
    "* $f_i$ é a frequência absoluta\n",
    "* $N = \\sum f_i$ é o número total de elementos"
   ]
  },
  {
   "cell_type": "code",
   "execution_count": 58,
   "id": "generic-petersburg",
   "metadata": {},
   "outputs": [
    {
     "data": {
      "text/plain": [
       "array([0.27777778, 0.33333333, 0.19444444, 0.16666667, 0.02777778])"
      ]
     },
     "execution_count": 58,
     "metadata": {},
     "output_type": "execute_result"
    }
   ],
   "source": [
    "fr = fi/fi.sum()\n",
    "fr"
   ]
  },
  {
   "cell_type": "markdown",
   "id": "stylish-optics",
   "metadata": {},
   "source": [
    "$$\n",
    "f_{R norm} = \\dfrac{f_i}{N \\cdot h} =\\dfrac{f_{R}}{h}\n",
    "$$"
   ]
  },
  {
   "cell_type": "markdown",
   "id": "chemical-reporter",
   "metadata": {},
   "source": [
    "\n",
    "* $h$ é a amplitude da classe"
   ]
  },
  {
   "cell_type": "code",
   "execution_count": 59,
   "id": "theoretical-leone",
   "metadata": {},
   "outputs": [
    {
     "data": {
      "text/plain": [
       "array([0.07196315, 0.08635579, 0.05037421, 0.04317789, 0.00719632])"
      ]
     },
     "execution_count": 59,
     "metadata": {},
     "output_type": "execute_result"
    }
   ],
   "source": [
    "frnorm = fi/(fi.sum() * np.diff(classes))\n",
    "frnorm"
   ]
  },
  {
   "cell_type": "code",
   "execution_count": 60,
   "id": "outstanding-spread",
   "metadata": {},
   "outputs": [
    {
     "data": {
      "text/plain": [
       "array([0.07196315, 0.08635579, 0.05037421, 0.04317789, 0.00719632])"
      ]
     },
     "execution_count": 60,
     "metadata": {},
     "output_type": "execute_result"
    }
   ],
   "source": [
    "frn, classes = np.histogram(dados,bins=5, density=True)\n",
    "frn"
   ]
  },
  {
   "cell_type": "code",
   "execution_count": 61,
   "id": "opening-appointment",
   "metadata": {},
   "outputs": [
    {
     "data": {
      "text/plain": [
       "array([0.27777778, 0.33333333, 0.19444444, 0.16666667, 0.02777778])"
      ]
     },
     "execution_count": 61,
     "metadata": {},
     "output_type": "execute_result"
    }
   ],
   "source": [
    "fr = frn*np.diff(classes)\n",
    "fr"
   ]
  },
  {
   "cell_type": "code",
   "execution_count": 62,
   "id": "referenced-nicholas",
   "metadata": {},
   "outputs": [
    {
     "data": {
      "text/plain": [
       "array([10, 22, 29, 35, 36])"
      ]
     },
     "execution_count": 62,
     "metadata": {},
     "output_type": "execute_result"
    }
   ],
   "source": [
    "F = fi.cumsum()\n",
    "F"
   ]
  },
  {
   "cell_type": "markdown",
   "id": "attempted-intent",
   "metadata": {},
   "source": [
    "Usando a função `hist` do matplotlib"
   ]
  },
  {
   "cell_type": "code",
   "execution_count": 64,
   "id": "cleared-kingston",
   "metadata": {},
   "outputs": [
    {
     "data": {
      "image/png": "[encoded data removed]",
      "text/plain": [
       "<Figure size 432x288 with 1 Axes>"
      ]
     },
     "metadata": {
      "needs_background": "light"
     },
     "output_type": "display_data"
    }
   ],
   "source": [
    "frnorm, classes,x = plt.hist(dados, bins=5, density=True)"
   ]
  },
  {
   "cell_type": "code",
   "execution_count": 65,
   "id": "living-mozambique",
   "metadata": {},
   "outputs": [
    {
     "data": {
      "text/plain": [
       "array([0.07196315, 0.08635579, 0.05037421, 0.04317789, 0.00719632])"
      ]
     },
     "execution_count": 65,
     "metadata": {},
     "output_type": "execute_result"
    }
   ],
   "source": [
    "frnorm"
   ]
  },
  {
   "cell_type": "code",
   "execution_count": 67,
   "id": "statistical-humidity",
   "metadata": {},
   "outputs": [
    {
     "data": {
      "image/png": "[encoded data removed]",
      "text/plain": [
       "<Figure size 432x288 with 1 Axes>"
      ]
     },
     "metadata": {
      "needs_background": "light"
     },
     "output_type": "display_data"
    }
   ],
   "source": [
    "F, classes,x = plt.hist(dados, bins=5, cumulative=True)"
   ]
  },
  {
   "cell_type": "code",
   "execution_count": 68,
   "id": "boolean-metabolism",
   "metadata": {},
   "outputs": [
    {
     "data": {
      "text/plain": [
       "array([10., 22., 29., 35., 36.])"
      ]
     },
     "execution_count": 68,
     "metadata": {},
     "output_type": "execute_result"
    }
   ],
   "source": [
    "F"
   ]
  },
  {
   "cell_type": "markdown",
   "id": "greatest-thomas",
   "metadata": {},
   "source": [
    "#### Brinde: função para mostrar numa tabela as frequencias"
   ]
  },
  {
   "cell_type": "code",
   "execution_count": 69,
   "id": "extraordinary-american",
   "metadata": {},
   "outputs": [],
   "source": [
    "def dist_frequencia_classes(x, nc='auto'):\n",
    "    #função histogram do numpy para calcular as freq. absolutas e intervalos das classes\n",
    "    fa,classes= np.histogram(x, bins=nc) \n",
    "    fa = fa.astype(int)#pra transformar em int \n",
    "    #freq. relativas = freq. absolutas/no. de dados do conjunto x 100 pra forma percentual\n",
    "    fr = np.around(fa/fa.sum()*100,decimals=2) #duas casas decimais\n",
    "    #freq. cumulativa usando a função cumsum do numpy\n",
    "    #frnorm = np.around(fi/(fi.sum() * np.diff(classes)),decimals=2)\n",
    "    fc = np.cumsum(fa).astype(int) #pra transformar em int \n",
    "    # o laço a seguir serve unicamente para escrever os intervalos das classes como strings\n",
    "    # dentro do vetor 'classe_str'\n",
    "    classe_str = []\n",
    "    for i in range(len(classes)):\n",
    "        if i<=len(classes)-2:\n",
    "            classe_str.append('{:2.2f} |-- {:2.2f}' .format(classes[i],classes[i+1]))\n",
    "        else:\n",
    "            break        \n",
    "    # a função retorna um dataframe, cujas linhas serão indexadas pelo vetor 'classe_str', e as \n",
    "    #colunas terão as frequências absoluta (inteira), relativa (float) e cumulativa (int) calculadas \n",
    "    return pd.DataFrame({'Classes':classe_str, \n",
    "                         'fi': fa,\n",
    "                         'fr': fr,\n",
    "                         #'frnorm':frnorm,\n",
    "                         'Fc': fc\n",
    "                        }).set_index('Classes') # transforma a coluna 'Classes' nos indices das linhas \n"
   ]
  },
  {
   "cell_type": "code",
   "execution_count": 71,
   "id": "alternative-diagnosis",
   "metadata": {},
   "outputs": [
    {
     "data": {
      "text/html": [
       "<div>\n",
       "<style scoped>\n",
       "    .dataframe tbody tr th:only-of-type {\n",
       "        vertical-align: middle;\n",
       "    }\n",
       "\n",
       "    .dataframe tbody tr th {\n",
       "        vertical-align: top;\n",
       "    }\n",
       "\n",
       "    .dataframe thead th {\n",
       "        text-align: right;\n",
       "    }\n",
       "</style>\n",
       "<table border=\"1\" class=\"dataframe\">\n",
       "  <thead>\n",
       "    <tr style=\"text-align: right;\">\n",
       "      <th></th>\n",
       "      <th>fi</th>\n",
       "      <th>fr</th>\n",
       "      <th>Fc</th>\n",
       "    </tr>\n",
       "    <tr>\n",
       "      <th>Classes</th>\n",
       "      <th></th>\n",
       "      <th></th>\n",
       "      <th></th>\n",
       "    </tr>\n",
       "  </thead>\n",
       "  <tbody>\n",
       "    <tr>\n",
       "      <th>4.00 |-- 7.86</th>\n",
       "      <td>10</td>\n",
       "      <td>27.78</td>\n",
       "      <td>10</td>\n",
       "    </tr>\n",
       "    <tr>\n",
       "      <th>7.86 |-- 11.72</th>\n",
       "      <td>12</td>\n",
       "      <td>33.33</td>\n",
       "      <td>22</td>\n",
       "    </tr>\n",
       "    <tr>\n",
       "      <th>11.72 |-- 15.58</th>\n",
       "      <td>7</td>\n",
       "      <td>19.44</td>\n",
       "      <td>29</td>\n",
       "    </tr>\n",
       "    <tr>\n",
       "      <th>15.58 |-- 19.44</th>\n",
       "      <td>6</td>\n",
       "      <td>16.67</td>\n",
       "      <td>35</td>\n",
       "    </tr>\n",
       "    <tr>\n",
       "      <th>19.44 |-- 23.30</th>\n",
       "      <td>1</td>\n",
       "      <td>2.78</td>\n",
       "      <td>36</td>\n",
       "    </tr>\n",
       "  </tbody>\n",
       "</table>\n",
       "</div>"
      ],
      "text/plain": [
       "                 fi     fr  Fc\n",
       "Classes                       \n",
       "4.00 |-- 7.86    10  27.78  10\n",
       "7.86 |-- 11.72   12  33.33  22\n",
       "11.72 |-- 15.58   7  19.44  29\n",
       "15.58 |-- 19.44   6  16.67  35\n",
       "19.44 |-- 23.30   1   2.78  36"
      ]
     },
     "execution_count": 71,
     "metadata": {},
     "output_type": "execute_result"
    }
   ],
   "source": [
    "dist_frequencia_classes(dados, nc=5)"
   ]
  }
 ],
 "metadata": {
  "kernelspec": {
   "display_name": "Python 3",
   "language": "python",
   "name": "python3"
  },
  "language_info": {
   "codemirror_mode": {
    "name": "ipython",
    "version": 3
   },
   "file_extension": ".py",
   "mimetype": "text/x-python",
   "name": "python",
   "nbconvert_exporter": "python",
   "pygments_lexer": "ipython3",
   "version": "3.8.5"
  }
 },
 "nbformat": 4,
 "nbformat_minor": 5
}
