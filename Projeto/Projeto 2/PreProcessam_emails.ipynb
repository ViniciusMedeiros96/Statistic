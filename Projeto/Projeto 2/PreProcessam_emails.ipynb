{
 "cells": [
  {
   "cell_type": "markdown",
   "metadata": {},
   "source": [
    "# Projeto 2: Análise Exploratória do Email Pessoal\n",
    "\n",
    "*Baseado no código do capítulo 3 do livro \"Hands on Exploratory Data Analysis with Python\", com os códigos disponíveis no [github](https://github.com/PacktPublishing/Hands-on-Exploratory-Data-Analysis-with-Python)*.\n",
    "\n",
    "#### Objetivo: extrair e pre-processar dados do email pessoal do gmail, para responder perguntas sobre os dados obtidos"
   ]
  },
  {
   "cell_type": "markdown",
   "metadata": {},
   "source": [
    "#### __Construção do dataset__\n",
    "\n",
    "__Etapa 1: Seleção dos itens a serem baixados__\n",
    "\n",
    "Inicialmente nós temos que construir o conjunto de dados com o qual iremos trabalhar. Os dados aqui são oriundos do email pessoal de cada um, então por motivos mais que óbvios, espera-se que a probabilidade de duas contas terem os mesmos emails seja nula...\n",
    "\n",
    "Para baixar os dados de seu email, considere os passos a seguir:\n",
    "\n",
    "1. entre na sua conta gmail;\n",
    "2. vá para o link: [https://takeout.google.com/](https://takeout.google.com/). Esse link o leva para uma página onde você pode escolher fazer download de qualquer serviço do google vinculado a sua conta. Desmarque todos, e, depois, encontre somente a opção E-mail e marque, como ilustra a figura abaixo:\n",
    "\n",
    "![](opcoes_google_1.png)\n",
    "\n",
    "3. Na opção \"Todos os dados de email inclusos\", você tem a opção de escolher que informações você quer que conste no dataset: caixa de entrada, lixeira, enviados, rascunho, etc. Sugiro escolher somente uma de forma a ter um conjunto de dados de bom tamanho, mas não gigantesco e que ajude você no exercícios de análise.\n",
    "\n",
    "4. Após, isso, clique em \"Próxima etapa\" (final da página)."
   ]
  },
  {
   "cell_type": "markdown",
   "metadata": {},
   "source": [
    "__Etapa 2: Escolha do tipo de arquivo, frequência e destino__\n",
    "\n",
    "Nessa etapa você vai selecionar onde quer salvar os dados selecionados para download na etapa anterior. Seguiremos os seguintes passos:\n",
    "\n",
    "1. Seleção do método de envio: a depender da quantidade de email que você espera baixar, minha sugestão é escolher o google drive, para evitar problemas de espaço;\n",
    "\n",
    "2. Na frequência, escolha \"exportar uma vez\", para evitar que constantemente seja feito esse download (a menos que você deseje...)\n",
    "\n",
    "3. Por fim, selecione o tipo de arquivo (.zip ou .tgz) e o tamanho mínimo do arquivo (se ficar maior, o arquivo será partido em parcelas do tamanho especificado por você).\n",
    "\n",
    "Pronto!\n",
    "\n",
    "Agora é só esperar a exportação terminar! \n",
    "\n",
    "___ATENÇÃO!!___ __esse processo pode demorar bastante, a depender da quantidade de dados que terá de ser exportado. Contabilize isso quando for começar o projeto para não haver atrasos!__"
   ]
  },
  {
   "cell_type": "markdown",
   "metadata": {},
   "source": [
    "#### __Pré-processando o conjunto de dados__\n",
    "\n",
    "Vamos começar carregando as bibliotecas que nós comumente usamos."
   ]
  },
  {
   "cell_type": "code",
   "execution_count": 1,
   "metadata": {},
   "outputs": [],
   "source": [
    "import pandas as pd\n",
    "import mailbox"
   ]
  },
  {
   "cell_type": "markdown",
   "metadata": {},
   "source": [
    "A biblioteca `mailbox` permite acessar e manipular diferentes tipos de formatação de emails e outros dados oriundos de mensagens na internet e nos será útil para processarmos os dados do arquivo `mbox` que foi baixado. Para mais informações, veja a [documentação](https://docs.python.org/pt-br/3/library/mailbox.html).\n",
    "\n",
    "Para carregar os dados, basta fazer"
   ]
  },
  {
   "cell_type": "code",
   "execution_count": 2,
   "metadata": {},
   "outputs": [
    {
     "data": {
      "text/plain": [
       "<mailbox.mbox at 0x7fe482d0edf0>"
      ]
     },
     "execution_count": 2,
     "metadata": {},
     "output_type": "execute_result"
    }
   ],
   "source": [
    "mbox = mailbox.mbox('Categoria_ promoções.mbox') # emails.mbox é o nome que eu dei ao meu arquivo...\n",
    "mbox"
   ]
  },
  {
   "cell_type": "markdown",
   "metadata": {},
   "source": [
    "O arquivo com formato .mbox lembra um dicionário. Dessa forma, podemos verificar as chaves existentes nesse dicionário fazendo"
   ]
  },
  {
   "cell_type": "code",
   "execution_count": 3,
   "metadata": {},
   "outputs": [
    {
     "name": "stdout",
     "output_type": "stream",
     "text": [
      "X-GM-THRID\n",
      "X-Gmail-Labels\n",
      "Delivered-To\n",
      "Received\n",
      "X-Google-Smtp-Source\n",
      "X-Received\n",
      "ARC-Seal\n",
      "ARC-Message-Signature\n",
      "ARC-Authentication-Results\n",
      "Return-Path\n",
      "Received\n",
      "Received-SPF\n",
      "Authentication-Results\n",
      "DKIM-Signature\n",
      "Mime-Version\n",
      "Date\n",
      "List-Unsubscribe\n",
      "Message-ID\n",
      "X-Campaign-ID\n",
      "X-Email-Type\n",
      "X-Email-ID\n",
      "To\n",
      "Reply-To\n",
      "Feedback-ID\n",
      "X-Mail-IP\n",
      "From\n",
      "Subject\n",
      "Sender\n",
      "Content-Type\n",
      "Content-Transfer-Encoding\n"
     ]
    }
   ],
   "source": [
    "for chaves in mbox[0]: print(chaves)"
   ]
  },
  {
   "cell_type": "markdown",
   "metadata": {},
   "source": [
    "Cada chave dessa está relacionada a uma variável armazenada no conjunto de dados. Embora haja muitos objetos retornados pelos dados extraídos, não precisamos de todos os itens. Vamos extrair apenas os campos obrigatórios. A limpeza de dados é uma das etapas essenciais na fase de análise de dados. Para nossa análise, tudo que precisamos são dados para o seguinte: _subject_, _from_, _date_, _to_, _label_, e _thread_. \n",
    "\n",
    "Para fazer essa limpeza, vamos criar um um arquivo csv com adaptações para que consigamos ler o arquivo em um dataframe e realizar nossos trabalhos."
   ]
  },
  {
   "cell_type": "code",
   "execution_count": 4,
   "metadata": {},
   "outputs": [],
   "source": [
    "import csv\n",
    "\n",
    "with open('emailss.csv', 'w') as outputfile:\n",
    "  writer = csv.writer(outputfile)\n",
    "  writer.writerow(['subject','from','date','to',\n",
    "                   'label','thread'])\n",
    "    \n",
    "  for message in mbox:\n",
    "    writer.writerow([message['subject'], message['from'],  \n",
    "                     message['date'], message['to'],  \n",
    "                     message['X-Gmail-Labels'], message['X-GM-THRID']])"
   ]
  },
  {
   "cell_type": "markdown",
   "metadata": {},
   "source": [
    "E agora podemos abrir o arquivo csv em um dataframe Pandas, contendo somente os campos que nos interessam."
   ]
  },
  {
   "cell_type": "code",
   "execution_count": 5,
   "metadata": {},
   "outputs": [],
   "source": [
    "df = pd.read_csv('emailss.csv')"
   ]
  },
  {
   "cell_type": "code",
   "execution_count": 6,
   "metadata": {},
   "outputs": [
    {
     "data": {
      "text/html": [
       "<div>\n",
       "<style scoped>\n",
       "    .dataframe tbody tr th:only-of-type {\n",
       "        vertical-align: middle;\n",
       "    }\n",
       "\n",
       "    .dataframe tbody tr th {\n",
       "        vertical-align: top;\n",
       "    }\n",
       "\n",
       "    .dataframe thead th {\n",
       "        text-align: right;\n",
       "    }\n",
       "</style>\n",
       "<table border=\"1\" class=\"dataframe\">\n",
       "  <thead>\n",
       "    <tr style=\"text-align: right;\">\n",
       "      <th></th>\n",
       "      <th>subject</th>\n",
       "      <th>from</th>\n",
       "      <th>date</th>\n",
       "      <th>to</th>\n",
       "      <th>label</th>\n",
       "      <th>thread</th>\n",
       "    </tr>\n",
       "  </thead>\n",
       "  <tbody>\n",
       "    <tr>\n",
       "      <th>0</th>\n",
       "      <td>=?UTF-8?q?Voc=C3=AA_tem_que_ter_estes_itens_em...</td>\n",
       "      <td>Wish &lt;offers@wish.com&gt;</td>\n",
       "      <td>Fri, 26 Feb 2021 06:57:48 -0800</td>\n",
       "      <td>\"=?utf-8?q?Vin=C3=ADcius_Medeiros?=\" &lt;viniapnm...</td>\n",
       "      <td>=?UTF-8?Q?Lixeira,Categoria:_promo=C3=A7=C3=B5...</td>\n",
       "      <td>1692770206194795587</td>\n",
       "    </tr>\n",
       "    <tr>\n",
       "      <th>1</th>\n",
       "      <td>=?UTF-8?Q?=E3=80=90E-Pal=E3=80=91?=</td>\n",
       "      <td>\"official@epal.gg\" &lt;official@epal.gg&gt;</td>\n",
       "      <td>Sat, 06 Mar 2021 14:56:44 -0800 (PST)</td>\n",
       "      <td>viniapnm@gmail.com</td>\n",
       "      <td>=?UTF-8?Q?Lixeira,Categoria:_promo=C3=A7=C3=B5...</td>\n",
       "      <td>1693525113471893522</td>\n",
       "    </tr>\n",
       "    <tr>\n",
       "      <th>2</th>\n",
       "      <td>DSCO is now available!</td>\n",
       "      <td>\"VSCO\" &lt;vsco@official.vsco.co&gt;</td>\n",
       "      <td>Mon, 01 Mar 2021 00:23:21 +0000 (UTC)</td>\n",
       "      <td>viniapnm@gmail.com</td>\n",
       "      <td>=?UTF-8?Q?Lixeira,Categoria:_promo=C3=A7=C3=B5...</td>\n",
       "      <td>1692992869753561945</td>\n",
       "    </tr>\n",
       "    <tr>\n",
       "      <th>3</th>\n",
       "      <td>=?UTF-8?q?=E2=9A=A1=F0=9F=94=8C_Todo_o_materia...</td>\n",
       "      <td>Wish &lt;offers@wish.com&gt;</td>\n",
       "      <td>Sat, 24 Apr 2021 07:28:52 -0700</td>\n",
       "      <td>\"=?utf-8?q?Vin=C3=ADcius_Medeiros?=\" &lt;viniapnm...</td>\n",
       "      <td>=?UTF-8?Q?Spam,Categoria:_promo=C3=A7=C3=B5es,...</td>\n",
       "      <td>1697932412812193275</td>\n",
       "    </tr>\n",
       "    <tr>\n",
       "      <th>4</th>\n",
       "      <td>=?UTF-8?q?=F0=9F=8E=89_Confira_o_que_acabou_de...</td>\n",
       "      <td>Wish &lt;offers@wish.com&gt;</td>\n",
       "      <td>Thu, 04 Feb 2021 05:19:29 -0800</td>\n",
       "      <td>\"=?utf-8?q?Vin=C3=ADcius_Medeiros?=\" &lt;viniapnm...</td>\n",
       "      <td>=?UTF-8?Q?Lixeira,Categoria:_promo=C3=A7=C3=B5...</td>\n",
       "      <td>1690770887097317107</td>\n",
       "    </tr>\n",
       "    <tr>\n",
       "      <th>...</th>\n",
       "      <td>...</td>\n",
       "      <td>...</td>\n",
       "      <td>...</td>\n",
       "      <td>...</td>\n",
       "      <td>...</td>\n",
       "      <td>...</td>\n",
       "    </tr>\n",
       "    <tr>\n",
       "      <th>1154</th>\n",
       "      <td>=?UTF-8?q?Fique_confort=C3=A1vel_em_um_dos_nos...</td>\n",
       "      <td>Wish &lt;offers@wish.com&gt;</td>\n",
       "      <td>Mon, 16 Dec 2019 05:19:47 -0800</td>\n",
       "      <td>\"=?utf-8?q?Vin=C3=ADcius_Medeiros?=\" &lt;viniapnm...</td>\n",
       "      <td>=?UTF-8?Q?Caixa_de_entrada,Categoria:_promo=C3...</td>\n",
       "      <td>1653082570994743628</td>\n",
       "    </tr>\n",
       "    <tr>\n",
       "      <th>1155</th>\n",
       "      <td>=?UTF-8?q?Voc=C3=AA_j=C3=A1_viu_a_nova_m=C3=A1...</td>\n",
       "      <td>Wish &lt;offers@wish.com&gt;</td>\n",
       "      <td>Fri, 06 Nov 2020 13:56:40 -0800</td>\n",
       "      <td>\"=?utf-8?q?Vin=C3=ADcius_Medeiros?=\" &lt;viniapnm...</td>\n",
       "      <td>=?UTF-8?Q?Caixa_de_entrada,Categoria:_promo=C3...</td>\n",
       "      <td>1682649698556022420</td>\n",
       "    </tr>\n",
       "    <tr>\n",
       "      <th>1156</th>\n",
       "      <td>=?UTF-8?q?=F0=9F=92=A1=F0=9F=95=AF;=EF=B8=8F_A...</td>\n",
       "      <td>Wish &lt;offers@wish.com&gt;</td>\n",
       "      <td>Tue, 27 Oct 2020 07:43:35 -0700</td>\n",
       "      <td>\"=?utf-8?q?Vin=C3=ADcius_Medeiros?=\" &lt;viniapnm...</td>\n",
       "      <td>=?UTF-8?Q?Caixa_de_entrada,Categoria:_promo=C3...</td>\n",
       "      <td>1681716481326820081</td>\n",
       "    </tr>\n",
       "    <tr>\n",
       "      <th>1157</th>\n",
       "      <td>=?UTF-8?q?60%,_70%_ou_80%_de_desconto_em_bolsa...</td>\n",
       "      <td>Wish &lt;offers@wish.com&gt;</td>\n",
       "      <td>Tue, 13 Aug 2019 07:42:16 -0700</td>\n",
       "      <td>\"=?utf-8?q?Vin=C3=ADcius_Medeiros?=\" &lt;viniapnm...</td>\n",
       "      <td>=?UTF-8?Q?Caixa_de_entrada,Categoria:_promo=C3...</td>\n",
       "      <td>1641763136745729943</td>\n",
       "    </tr>\n",
       "    <tr>\n",
       "      <th>1158</th>\n",
       "      <td>=?UTF-8?q?Liquida=C3=A7=C3=A3o_de_Laptop=3F_Co...</td>\n",
       "      <td>Wish &lt;offers@wish.com&gt;</td>\n",
       "      <td>Sat, 11 Jul 2020 08:06:03 -0700</td>\n",
       "      <td>\"=?utf-8?q?Vin=C3=ADcius_Medeiros?=\" &lt;viniapnm...</td>\n",
       "      <td>=?UTF-8?Q?Caixa_de_entrada,Categoria:_promo=C3...</td>\n",
       "      <td>1671933422700946385</td>\n",
       "    </tr>\n",
       "  </tbody>\n",
       "</table>\n",
       "<p>1159 rows × 6 columns</p>\n",
       "</div>"
      ],
      "text/plain": [
       "                                                subject  \\\n",
       "0     =?UTF-8?q?Voc=C3=AA_tem_que_ter_estes_itens_em...   \n",
       "1                   =?UTF-8?Q?=E3=80=90E-Pal=E3=80=91?=   \n",
       "2                               DSCO is now available!    \n",
       "3     =?UTF-8?q?=E2=9A=A1=F0=9F=94=8C_Todo_o_materia...   \n",
       "4     =?UTF-8?q?=F0=9F=8E=89_Confira_o_que_acabou_de...   \n",
       "...                                                 ...   \n",
       "1154  =?UTF-8?q?Fique_confort=C3=A1vel_em_um_dos_nos...   \n",
       "1155  =?UTF-8?q?Voc=C3=AA_j=C3=A1_viu_a_nova_m=C3=A1...   \n",
       "1156  =?UTF-8?q?=F0=9F=92=A1=F0=9F=95=AF;=EF=B8=8F_A...   \n",
       "1157  =?UTF-8?q?60%,_70%_ou_80%_de_desconto_em_bolsa...   \n",
       "1158  =?UTF-8?q?Liquida=C3=A7=C3=A3o_de_Laptop=3F_Co...   \n",
       "\n",
       "                                       from  \\\n",
       "0                    Wish <offers@wish.com>   \n",
       "1     \"official@epal.gg\" <official@epal.gg>   \n",
       "2            \"VSCO\" <vsco@official.vsco.co>   \n",
       "3                    Wish <offers@wish.com>   \n",
       "4                    Wish <offers@wish.com>   \n",
       "...                                     ...   \n",
       "1154                 Wish <offers@wish.com>   \n",
       "1155                 Wish <offers@wish.com>   \n",
       "1156                 Wish <offers@wish.com>   \n",
       "1157                 Wish <offers@wish.com>   \n",
       "1158                 Wish <offers@wish.com>   \n",
       "\n",
       "                                       date  \\\n",
       "0           Fri, 26 Feb 2021 06:57:48 -0800   \n",
       "1     Sat, 06 Mar 2021 14:56:44 -0800 (PST)   \n",
       "2     Mon, 01 Mar 2021 00:23:21 +0000 (UTC)   \n",
       "3           Sat, 24 Apr 2021 07:28:52 -0700   \n",
       "4           Thu, 04 Feb 2021 05:19:29 -0800   \n",
       "...                                     ...   \n",
       "1154        Mon, 16 Dec 2019 05:19:47 -0800   \n",
       "1155        Fri, 06 Nov 2020 13:56:40 -0800   \n",
       "1156        Tue, 27 Oct 2020 07:43:35 -0700   \n",
       "1157        Tue, 13 Aug 2019 07:42:16 -0700   \n",
       "1158        Sat, 11 Jul 2020 08:06:03 -0700   \n",
       "\n",
       "                                                     to  \\\n",
       "0     \"=?utf-8?q?Vin=C3=ADcius_Medeiros?=\" <viniapnm...   \n",
       "1                                    viniapnm@gmail.com   \n",
       "2                                    viniapnm@gmail.com   \n",
       "3     \"=?utf-8?q?Vin=C3=ADcius_Medeiros?=\" <viniapnm...   \n",
       "4     \"=?utf-8?q?Vin=C3=ADcius_Medeiros?=\" <viniapnm...   \n",
       "...                                                 ...   \n",
       "1154  \"=?utf-8?q?Vin=C3=ADcius_Medeiros?=\" <viniapnm...   \n",
       "1155  \"=?utf-8?q?Vin=C3=ADcius_Medeiros?=\" <viniapnm...   \n",
       "1156  \"=?utf-8?q?Vin=C3=ADcius_Medeiros?=\" <viniapnm...   \n",
       "1157  \"=?utf-8?q?Vin=C3=ADcius_Medeiros?=\" <viniapnm...   \n",
       "1158  \"=?utf-8?q?Vin=C3=ADcius_Medeiros?=\" <viniapnm...   \n",
       "\n",
       "                                                  label               thread  \n",
       "0     =?UTF-8?Q?Lixeira,Categoria:_promo=C3=A7=C3=B5...  1692770206194795587  \n",
       "1     =?UTF-8?Q?Lixeira,Categoria:_promo=C3=A7=C3=B5...  1693525113471893522  \n",
       "2     =?UTF-8?Q?Lixeira,Categoria:_promo=C3=A7=C3=B5...  1692992869753561945  \n",
       "3     =?UTF-8?Q?Spam,Categoria:_promo=C3=A7=C3=B5es,...  1697932412812193275  \n",
       "4     =?UTF-8?Q?Lixeira,Categoria:_promo=C3=A7=C3=B5...  1690770887097317107  \n",
       "...                                                 ...                  ...  \n",
       "1154  =?UTF-8?Q?Caixa_de_entrada,Categoria:_promo=C3...  1653082570994743628  \n",
       "1155  =?UTF-8?Q?Caixa_de_entrada,Categoria:_promo=C3...  1682649698556022420  \n",
       "1156  =?UTF-8?Q?Caixa_de_entrada,Categoria:_promo=C3...  1681716481326820081  \n",
       "1157  =?UTF-8?Q?Caixa_de_entrada,Categoria:_promo=C3...  1641763136745729943  \n",
       "1158  =?UTF-8?Q?Caixa_de_entrada,Categoria:_promo=C3...  1671933422700946385  \n",
       "\n",
       "[1159 rows x 6 columns]"
      ]
     },
     "execution_count": 6,
     "metadata": {},
     "output_type": "execute_result"
    }
   ],
   "source": [
    "df"
   ]
  },
  {
   "cell_type": "markdown",
   "metadata": {},
   "source": [
    "Vamos analisar nosso dataframe."
   ]
  },
  {
   "cell_type": "code",
   "execution_count": 7,
   "metadata": {},
   "outputs": [
    {
     "name": "stdout",
     "output_type": "stream",
     "text": [
      "<class 'pandas.core.frame.DataFrame'>\n",
      "RangeIndex: 1159 entries, 0 to 1158\n",
      "Data columns (total 6 columns):\n",
      " #   Column   Non-Null Count  Dtype \n",
      "---  ------   --------------  ----- \n",
      " 0   subject  1159 non-null   object\n",
      " 1   from     1159 non-null   object\n",
      " 2   date     1159 non-null   object\n",
      " 3   to       1159 non-null   object\n",
      " 4   label    1159 non-null   object\n",
      " 5   thread   1159 non-null   int64 \n",
      "dtypes: int64(1), object(5)\n",
      "memory usage: 54.5+ KB\n"
     ]
    }
   ],
   "source": [
    "df.info()"
   ]
  },
  {
   "cell_type": "markdown",
   "metadata": {},
   "source": [
    "Notemos que a variável `date` está assinalada como `object`, mas é uma data, e deveria ser do tipo `datetime`, que é como o Pandas aloca variáveis relacionadas a datas.\n",
    "\n",
    "Para fazer essa conversão, vamos usar a função `to_datetime` do Pandas, da seguinte forma:"
   ]
  },
  {
   "cell_type": "code",
   "execution_count": 8,
   "metadata": {},
   "outputs": [],
   "source": [
    "df['date'] = df['date'].apply(lambda x: pd.to_datetime(x, \n",
    "                                                       errors='coerce', \n",
    "                                                       utc=True))"
   ]
  },
  {
   "cell_type": "markdown",
   "metadata": {},
   "source": [
    "E fazendo uma nova inspeção, vemos"
   ]
  },
  {
   "cell_type": "code",
   "execution_count": 9,
   "metadata": {},
   "outputs": [
    {
     "name": "stdout",
     "output_type": "stream",
     "text": [
      "<class 'pandas.core.frame.DataFrame'>\n",
      "RangeIndex: 1159 entries, 0 to 1158\n",
      "Data columns (total 6 columns):\n",
      " #   Column   Non-Null Count  Dtype              \n",
      "---  ------   --------------  -----              \n",
      " 0   subject  1159 non-null   object             \n",
      " 1   from     1159 non-null   object             \n",
      " 2   date     1159 non-null   datetime64[ns, UTC]\n",
      " 3   to       1159 non-null   object             \n",
      " 4   label    1159 non-null   object             \n",
      " 5   thread   1159 non-null   int64              \n",
      "dtypes: datetime64[ns, UTC](1), int64(1), object(4)\n",
      "memory usage: 54.5+ KB\n"
     ]
    }
   ],
   "source": [
    "df.info()"
   ]
  },
  {
   "cell_type": "markdown",
   "metadata": {},
   "source": [
    "Por último, precisamos fazer alguns refatoramentos. Por exemplo, ao inspecionar a variável `from`, obtemos "
   ]
  },
  {
   "cell_type": "code",
   "execution_count": 10,
   "metadata": {},
   "outputs": [
    {
     "data": {
      "text/plain": [
       "0                      Wish <offers@wish.com>\n",
       "1       \"official@epal.gg\" <official@epal.gg>\n",
       "2              \"VSCO\" <vsco@official.vsco.co>\n",
       "3                      Wish <offers@wish.com>\n",
       "4                      Wish <offers@wish.com>\n",
       "                        ...                  \n",
       "1154                   Wish <offers@wish.com>\n",
       "1155                   Wish <offers@wish.com>\n",
       "1156                   Wish <offers@wish.com>\n",
       "1157                   Wish <offers@wish.com>\n",
       "1158                   Wish <offers@wish.com>\n",
       "Name: from, Length: 1159, dtype: object"
      ]
     },
     "execution_count": 10,
     "metadata": {},
     "output_type": "execute_result"
    }
   ],
   "source": [
    "df['from']"
   ]
  },
  {
   "cell_type": "markdown",
   "metadata": {},
   "source": [
    "e percebemos que não são alocados somente os emails de origem, mas algumas informações que não são necessariamente úteis para nós.\n",
    "\n",
    "O processo de \"limpar\" essa informação extra é chamada de refatoramento, e, para nosso caso, usaremos uma abordagem baseada em expressões regulares para essa tarefa, usando a biblioteca `re` do Python (se você não sabe o que é uma expressão regular, dá uma lida nesse [tutorial](https://realpython.com/regex-python/) e divirta-se!)."
   ]
  },
  {
   "cell_type": "code",
   "execution_count": 11,
   "metadata": {},
   "outputs": [],
   "source": [
    "import re"
   ]
  },
  {
   "cell_type": "markdown",
   "metadata": {},
   "source": [
    "Vamos criar uma função que pega um string em qualquer coluna e extrai somente a parte do email existente nela:"
   ]
  },
  {
   "cell_type": "code",
   "execution_count": 12,
   "metadata": {},
   "outputs": [],
   "source": [
    "def extracao_email(string):\n",
    "  email = re.findall(r'<(.+?)>', string) #aqui está a expressão regular\n",
    "  if not email:\n",
    "    email = list(filter(lambda y: '@' in y, string.split()))\n",
    "  return email[0] if email else np.nan #se tiver email, ok; senão, retorna nan."
   ]
  },
  {
   "cell_type": "markdown",
   "metadata": {},
   "source": [
    "Sugiro, caso não conheça todas as partes envolvidas nessa função, tentar buscar entender. Dá um belo exercício.\n",
    "\n",
    "Agora, basta aplicar a função a coluna `from`."
   ]
  },
  {
   "cell_type": "code",
   "execution_count": 13,
   "metadata": {},
   "outputs": [],
   "source": [
    "df['from'] = df['from'].apply(lambda x: extracao_email(x))"
   ]
  },
  {
   "cell_type": "markdown",
   "metadata": {},
   "source": [
    "Inspecionando novamente, obtemos somente emails!"
   ]
  },
  {
   "cell_type": "code",
   "execution_count": 14,
   "metadata": {},
   "outputs": [
    {
     "data": {
      "text/plain": [
       "0             offers@wish.com\n",
       "1            official@epal.gg\n",
       "2       vsco@official.vsco.co\n",
       "3             offers@wish.com\n",
       "4             offers@wish.com\n",
       "                ...          \n",
       "1154          offers@wish.com\n",
       "1155          offers@wish.com\n",
       "1156          offers@wish.com\n",
       "1157          offers@wish.com\n",
       "1158          offers@wish.com\n",
       "Name: from, Length: 1159, dtype: object"
      ]
     },
     "execution_count": 14,
     "metadata": {},
     "output_type": "execute_result"
    }
   ],
   "source": [
    "df['from']"
   ]
  },
  {
   "cell_type": "markdown",
   "metadata": {},
   "source": [
    "Vamos agora olhar para a variável `label`, que, como está mostrando, indica basicamente a \"posição\" do email na caixa de entrada: se foi um email recebido, se está na pasta de enviados, etc.\n",
    "\n",
    "Paara facilitar nossa vida vamos modificar os valores apresentados no `label` para que tenhamos dois tipos de emails: \"enviados\" e \"inbox\". A lógica é bem simples: se o valor na variável `from` for o seu email pessoal, então é um email enviado, caso contrário, é inbox."
   ]
  },
  {
   "cell_type": "code",
   "execution_count": 15,
   "metadata": {},
   "outputs": [],
   "source": [
    "df['label'] = df['from'].apply(lambda x: \n",
    "                               'enviado' if x=='viniapnm@gmail.com' else 'inbox')"
   ]
  },
  {
   "cell_type": "code",
   "execution_count": 16,
   "metadata": {},
   "outputs": [
    {
     "data": {
      "text/plain": [
       "array(['inbox'], dtype=object)"
      ]
     },
     "execution_count": 16,
     "metadata": {},
     "output_type": "execute_result"
    }
   ],
   "source": [
    "df['label'].unique()"
   ]
  },
  {
   "cell_type": "markdown",
   "metadata": {},
   "source": [
    "Nossa última tarefa é tentar resolver os eventuais problemas relacionados a fuso horário. Para isso, precisamos ajustar os horários para uma _timezone_ relacionada a nossa localização, usando duas bibliotecas Python: `datetime` e `pytz`. Essa parte do processamento é baseada, também, em parte, nesse [tutorial](https://www.alura.com.br/artigos/lidando-com-datas-e-horarios-no-python) e na [documentação do pytz](https://pypi.org/project/pytz/)."
   ]
  },
  {
   "cell_type": "code",
   "execution_count": 17,
   "metadata": {},
   "outputs": [],
   "source": [
    "import datetime\n",
    "import pytz"
   ]
  },
  {
   "cell_type": "markdown",
   "metadata": {},
   "source": [
    "Precisamos, primeiramente, saber qual é a nossa _timezone_. Para isso, vamos fazer"
   ]
  },
  {
   "cell_type": "code",
   "execution_count": 18,
   "metadata": {},
   "outputs": [
    {
     "name": "stdout",
     "output_type": "stream",
     "text": [
      "Africa/Abidjan\n",
      "Africa/Accra\n",
      "Africa/Addis_Ababa\n",
      "Africa/Algiers\n",
      "Africa/Asmara\n",
      "Africa/Asmera\n",
      "Africa/Bamako\n",
      "Africa/Bangui\n",
      "Africa/Banjul\n",
      "Africa/Bissau\n",
      "Africa/Blantyre\n",
      "Africa/Brazzaville\n",
      "Africa/Bujumbura\n",
      "Africa/Cairo\n",
      "Africa/Casablanca\n",
      "Africa/Ceuta\n",
      "Africa/Conakry\n",
      "Africa/Dakar\n",
      "Africa/Dar_es_Salaam\n",
      "Africa/Djibouti\n",
      "Africa/Douala\n",
      "Africa/El_Aaiun\n",
      "Africa/Freetown\n",
      "Africa/Gaborone\n",
      "Africa/Harare\n",
      "Africa/Johannesburg\n",
      "Africa/Juba\n",
      "Africa/Kampala\n",
      "Africa/Khartoum\n",
      "Africa/Kigali\n",
      "Africa/Kinshasa\n",
      "Africa/Lagos\n",
      "Africa/Libreville\n",
      "Africa/Lome\n",
      "Africa/Luanda\n",
      "Africa/Lubumbashi\n",
      "Africa/Lusaka\n",
      "Africa/Malabo\n",
      "Africa/Maputo\n",
      "Africa/Maseru\n",
      "Africa/Mbabane\n",
      "Africa/Mogadishu\n",
      "Africa/Monrovia\n",
      "Africa/Nairobi\n",
      "Africa/Ndjamena\n",
      "Africa/Niamey\n",
      "Africa/Nouakchott\n",
      "Africa/Ouagadougou\n",
      "Africa/Porto-Novo\n",
      "Africa/Sao_Tome\n",
      "Africa/Timbuktu\n",
      "Africa/Tripoli\n",
      "Africa/Tunis\n",
      "Africa/Windhoek\n",
      "America/Adak\n",
      "America/Anchorage\n",
      "America/Anguilla\n",
      "America/Antigua\n",
      "America/Araguaina\n",
      "America/Argentina/Buenos_Aires\n",
      "America/Argentina/Catamarca\n",
      "America/Argentina/ComodRivadavia\n",
      "America/Argentina/Cordoba\n",
      "America/Argentina/Jujuy\n",
      "America/Argentina/La_Rioja\n",
      "America/Argentina/Mendoza\n",
      "America/Argentina/Rio_Gallegos\n",
      "America/Argentina/Salta\n",
      "America/Argentina/San_Juan\n",
      "America/Argentina/San_Luis\n",
      "America/Argentina/Tucuman\n",
      "America/Argentina/Ushuaia\n",
      "America/Aruba\n",
      "America/Asuncion\n",
      "America/Atikokan\n",
      "America/Atka\n",
      "America/Bahia\n",
      "America/Bahia_Banderas\n",
      "America/Barbados\n",
      "America/Belem\n",
      "America/Belize\n",
      "America/Blanc-Sablon\n",
      "America/Boa_Vista\n",
      "America/Bogota\n",
      "America/Boise\n",
      "America/Buenos_Aires\n",
      "America/Cambridge_Bay\n",
      "America/Campo_Grande\n",
      "America/Cancun\n",
      "America/Caracas\n",
      "America/Catamarca\n",
      "America/Cayenne\n",
      "America/Cayman\n",
      "America/Chicago\n",
      "America/Chihuahua\n",
      "America/Coral_Harbour\n",
      "America/Cordoba\n",
      "America/Costa_Rica\n",
      "America/Creston\n",
      "America/Cuiaba\n",
      "America/Curacao\n",
      "America/Danmarkshavn\n",
      "America/Dawson\n",
      "America/Dawson_Creek\n",
      "America/Denver\n",
      "America/Detroit\n",
      "America/Dominica\n",
      "America/Edmonton\n",
      "America/Eirunepe\n",
      "America/El_Salvador\n",
      "America/Ensenada\n",
      "America/Fort_Nelson\n",
      "America/Fort_Wayne\n",
      "America/Fortaleza\n",
      "America/Glace_Bay\n",
      "America/Godthab\n",
      "America/Goose_Bay\n",
      "America/Grand_Turk\n",
      "America/Grenada\n",
      "America/Guadeloupe\n",
      "America/Guatemala\n",
      "America/Guayaquil\n",
      "America/Guyana\n",
      "America/Halifax\n",
      "America/Havana\n",
      "America/Hermosillo\n",
      "America/Indiana/Indianapolis\n",
      "America/Indiana/Knox\n",
      "America/Indiana/Marengo\n",
      "America/Indiana/Petersburg\n",
      "America/Indiana/Tell_City\n",
      "America/Indiana/Vevay\n",
      "America/Indiana/Vincennes\n",
      "America/Indiana/Winamac\n",
      "America/Indianapolis\n",
      "America/Inuvik\n",
      "America/Iqaluit\n",
      "America/Jamaica\n",
      "America/Jujuy\n",
      "America/Juneau\n",
      "America/Kentucky/Louisville\n",
      "America/Kentucky/Monticello\n",
      "America/Knox_IN\n",
      "America/Kralendijk\n",
      "America/La_Paz\n",
      "America/Lima\n",
      "America/Los_Angeles\n",
      "America/Louisville\n",
      "America/Lower_Princes\n",
      "America/Maceio\n",
      "America/Managua\n",
      "America/Manaus\n",
      "America/Marigot\n",
      "America/Martinique\n",
      "America/Matamoros\n",
      "America/Mazatlan\n",
      "America/Mendoza\n",
      "America/Menominee\n",
      "America/Merida\n",
      "America/Metlakatla\n",
      "America/Mexico_City\n",
      "America/Miquelon\n",
      "America/Moncton\n",
      "America/Monterrey\n",
      "America/Montevideo\n",
      "America/Montreal\n",
      "America/Montserrat\n",
      "America/Nassau\n",
      "America/New_York\n",
      "America/Nipigon\n",
      "America/Nome\n",
      "America/Noronha\n",
      "America/North_Dakota/Beulah\n",
      "America/North_Dakota/Center\n",
      "America/North_Dakota/New_Salem\n",
      "America/Nuuk\n",
      "America/Ojinaga\n",
      "America/Panama\n",
      "America/Pangnirtung\n",
      "America/Paramaribo\n",
      "America/Phoenix\n",
      "America/Port-au-Prince\n",
      "America/Port_of_Spain\n",
      "America/Porto_Acre\n",
      "America/Porto_Velho\n",
      "America/Puerto_Rico\n",
      "America/Punta_Arenas\n",
      "America/Rainy_River\n",
      "America/Rankin_Inlet\n",
      "America/Recife\n",
      "America/Regina\n",
      "America/Resolute\n",
      "America/Rio_Branco\n",
      "America/Rosario\n",
      "America/Santa_Isabel\n",
      "America/Santarem\n",
      "America/Santiago\n",
      "America/Santo_Domingo\n",
      "America/Sao_Paulo\n",
      "America/Scoresbysund\n",
      "America/Shiprock\n",
      "America/Sitka\n",
      "America/St_Barthelemy\n",
      "America/St_Johns\n",
      "America/St_Kitts\n",
      "America/St_Lucia\n",
      "America/St_Thomas\n",
      "America/St_Vincent\n",
      "America/Swift_Current\n",
      "America/Tegucigalpa\n",
      "America/Thule\n",
      "America/Thunder_Bay\n",
      "America/Tijuana\n",
      "America/Toronto\n",
      "America/Tortola\n",
      "America/Vancouver\n",
      "America/Virgin\n",
      "America/Whitehorse\n",
      "America/Winnipeg\n",
      "America/Yakutat\n",
      "America/Yellowknife\n",
      "Antarctica/Casey\n",
      "Antarctica/Davis\n",
      "Antarctica/DumontDUrville\n",
      "Antarctica/Macquarie\n",
      "Antarctica/Mawson\n",
      "Antarctica/McMurdo\n",
      "Antarctica/Palmer\n",
      "Antarctica/Rothera\n",
      "Antarctica/South_Pole\n",
      "Antarctica/Syowa\n",
      "Antarctica/Troll\n",
      "Antarctica/Vostok\n",
      "Arctic/Longyearbyen\n",
      "Asia/Aden\n",
      "Asia/Almaty\n",
      "Asia/Amman\n",
      "Asia/Anadyr\n",
      "Asia/Aqtau\n",
      "Asia/Aqtobe\n",
      "Asia/Ashgabat\n",
      "Asia/Ashkhabad\n",
      "Asia/Atyrau\n",
      "Asia/Baghdad\n",
      "Asia/Bahrain\n",
      "Asia/Baku\n",
      "Asia/Bangkok\n",
      "Asia/Barnaul\n",
      "Asia/Beirut\n",
      "Asia/Bishkek\n",
      "Asia/Brunei\n",
      "Asia/Calcutta\n",
      "Asia/Chita\n",
      "Asia/Choibalsan\n",
      "Asia/Chongqing\n",
      "Asia/Chungking\n",
      "Asia/Colombo\n",
      "Asia/Dacca\n",
      "Asia/Damascus\n",
      "Asia/Dhaka\n",
      "Asia/Dili\n",
      "Asia/Dubai\n",
      "Asia/Dushanbe\n",
      "Asia/Famagusta\n",
      "Asia/Gaza\n",
      "Asia/Harbin\n",
      "Asia/Hebron\n",
      "Asia/Ho_Chi_Minh\n",
      "Asia/Hong_Kong\n",
      "Asia/Hovd\n",
      "Asia/Irkutsk\n",
      "Asia/Istanbul\n",
      "Asia/Jakarta\n",
      "Asia/Jayapura\n",
      "Asia/Jerusalem\n",
      "Asia/Kabul\n",
      "Asia/Kamchatka\n",
      "Asia/Karachi\n",
      "Asia/Kashgar\n",
      "Asia/Kathmandu\n",
      "Asia/Katmandu\n",
      "Asia/Khandyga\n",
      "Asia/Kolkata\n",
      "Asia/Krasnoyarsk\n",
      "Asia/Kuala_Lumpur\n",
      "Asia/Kuching\n",
      "Asia/Kuwait\n",
      "Asia/Macao\n",
      "Asia/Macau\n",
      "Asia/Magadan\n",
      "Asia/Makassar\n",
      "Asia/Manila\n",
      "Asia/Muscat\n",
      "Asia/Nicosia\n",
      "Asia/Novokuznetsk\n",
      "Asia/Novosibirsk\n",
      "Asia/Omsk\n",
      "Asia/Oral\n",
      "Asia/Phnom_Penh\n",
      "Asia/Pontianak\n",
      "Asia/Pyongyang\n",
      "Asia/Qatar\n",
      "Asia/Qostanay\n",
      "Asia/Qyzylorda\n",
      "Asia/Rangoon\n",
      "Asia/Riyadh\n",
      "Asia/Saigon\n",
      "Asia/Sakhalin\n",
      "Asia/Samarkand\n",
      "Asia/Seoul\n",
      "Asia/Shanghai\n",
      "Asia/Singapore\n",
      "Asia/Srednekolymsk\n",
      "Asia/Taipei\n",
      "Asia/Tashkent\n",
      "Asia/Tbilisi\n",
      "Asia/Tehran\n",
      "Asia/Tel_Aviv\n",
      "Asia/Thimbu\n",
      "Asia/Thimphu\n",
      "Asia/Tokyo\n",
      "Asia/Tomsk\n",
      "Asia/Ujung_Pandang\n",
      "Asia/Ulaanbaatar\n",
      "Asia/Ulan_Bator\n",
      "Asia/Urumqi\n",
      "Asia/Ust-Nera\n",
      "Asia/Vientiane\n",
      "Asia/Vladivostok\n",
      "Asia/Yakutsk\n",
      "Asia/Yangon\n",
      "Asia/Yekaterinburg\n",
      "Asia/Yerevan\n",
      "Atlantic/Azores\n",
      "Atlantic/Bermuda\n",
      "Atlantic/Canary\n",
      "Atlantic/Cape_Verde\n",
      "Atlantic/Faeroe\n",
      "Atlantic/Faroe\n",
      "Atlantic/Jan_Mayen\n",
      "Atlantic/Madeira\n",
      "Atlantic/Reykjavik\n",
      "Atlantic/South_Georgia\n",
      "Atlantic/St_Helena\n",
      "Atlantic/Stanley\n",
      "Australia/ACT\n",
      "Australia/Adelaide\n",
      "Australia/Brisbane\n",
      "Australia/Broken_Hill\n",
      "Australia/Canberra\n",
      "Australia/Currie\n",
      "Australia/Darwin\n",
      "Australia/Eucla\n",
      "Australia/Hobart\n",
      "Australia/LHI\n",
      "Australia/Lindeman\n",
      "Australia/Lord_Howe\n",
      "Australia/Melbourne\n",
      "Australia/NSW\n",
      "Australia/North\n",
      "Australia/Perth\n",
      "Australia/Queensland\n",
      "Australia/South\n",
      "Australia/Sydney\n",
      "Australia/Tasmania\n",
      "Australia/Victoria\n",
      "Australia/West\n",
      "Australia/Yancowinna\n",
      "Brazil/Acre\n",
      "Brazil/DeNoronha\n",
      "Brazil/East\n",
      "Brazil/West\n",
      "CET\n",
      "CST6CDT\n",
      "Canada/Atlantic\n",
      "Canada/Central\n",
      "Canada/Eastern\n",
      "Canada/Mountain\n",
      "Canada/Newfoundland\n",
      "Canada/Pacific\n",
      "Canada/Saskatchewan\n",
      "Canada/Yukon\n",
      "Chile/Continental\n",
      "Chile/EasterIsland\n",
      "Cuba\n",
      "EET\n",
      "EST\n",
      "EST5EDT\n",
      "Egypt\n",
      "Eire\n",
      "Etc/GMT\n",
      "Etc/GMT+0\n",
      "Etc/GMT+1\n",
      "Etc/GMT+10\n",
      "Etc/GMT+11\n",
      "Etc/GMT+12\n",
      "Etc/GMT+2\n",
      "Etc/GMT+3\n",
      "Etc/GMT+4\n",
      "Etc/GMT+5\n",
      "Etc/GMT+6\n",
      "Etc/GMT+7\n",
      "Etc/GMT+8\n",
      "Etc/GMT+9\n",
      "Etc/GMT-0\n",
      "Etc/GMT-1\n",
      "Etc/GMT-10\n",
      "Etc/GMT-11\n",
      "Etc/GMT-12\n",
      "Etc/GMT-13\n",
      "Etc/GMT-14\n",
      "Etc/GMT-2\n",
      "Etc/GMT-3\n",
      "Etc/GMT-4\n",
      "Etc/GMT-5\n",
      "Etc/GMT-6\n",
      "Etc/GMT-7\n",
      "Etc/GMT-8\n",
      "Etc/GMT-9\n",
      "Etc/GMT0\n",
      "Etc/Greenwich\n",
      "Etc/UCT\n",
      "Etc/UTC\n",
      "Etc/Universal\n",
      "Etc/Zulu\n",
      "Europe/Amsterdam\n",
      "Europe/Andorra\n",
      "Europe/Astrakhan\n",
      "Europe/Athens\n",
      "Europe/Belfast\n",
      "Europe/Belgrade\n",
      "Europe/Berlin\n",
      "Europe/Bratislava\n",
      "Europe/Brussels\n",
      "Europe/Bucharest\n",
      "Europe/Budapest\n",
      "Europe/Busingen\n",
      "Europe/Chisinau\n",
      "Europe/Copenhagen\n",
      "Europe/Dublin\n",
      "Europe/Gibraltar\n",
      "Europe/Guernsey\n",
      "Europe/Helsinki\n",
      "Europe/Isle_of_Man\n",
      "Europe/Istanbul\n",
      "Europe/Jersey\n",
      "Europe/Kaliningrad\n",
      "Europe/Kiev\n",
      "Europe/Kirov\n",
      "Europe/Lisbon\n",
      "Europe/Ljubljana\n",
      "Europe/London\n",
      "Europe/Luxembourg\n",
      "Europe/Madrid\n",
      "Europe/Malta\n",
      "Europe/Mariehamn\n",
      "Europe/Minsk\n",
      "Europe/Monaco\n",
      "Europe/Moscow\n",
      "Europe/Nicosia\n",
      "Europe/Oslo\n",
      "Europe/Paris\n",
      "Europe/Podgorica\n",
      "Europe/Prague\n",
      "Europe/Riga\n",
      "Europe/Rome\n",
      "Europe/Samara\n",
      "Europe/San_Marino\n",
      "Europe/Sarajevo\n",
      "Europe/Saratov\n",
      "Europe/Simferopol\n",
      "Europe/Skopje\n",
      "Europe/Sofia\n",
      "Europe/Stockholm\n",
      "Europe/Tallinn\n",
      "Europe/Tirane\n",
      "Europe/Tiraspol\n",
      "Europe/Ulyanovsk\n",
      "Europe/Uzhgorod\n",
      "Europe/Vaduz\n",
      "Europe/Vatican\n",
      "Europe/Vienna\n",
      "Europe/Vilnius\n",
      "Europe/Volgograd\n",
      "Europe/Warsaw\n",
      "Europe/Zagreb\n",
      "Europe/Zaporozhye\n",
      "Europe/Zurich\n",
      "GB\n",
      "GB-Eire\n",
      "GMT\n",
      "GMT+0\n",
      "GMT-0\n",
      "GMT0\n",
      "Greenwich\n",
      "HST\n",
      "Hongkong\n",
      "Iceland\n",
      "Indian/Antananarivo\n",
      "Indian/Chagos\n",
      "Indian/Christmas\n",
      "Indian/Cocos\n",
      "Indian/Comoro\n",
      "Indian/Kerguelen\n",
      "Indian/Mahe\n",
      "Indian/Maldives\n",
      "Indian/Mauritius\n",
      "Indian/Mayotte\n",
      "Indian/Reunion\n",
      "Iran\n",
      "Israel\n",
      "Jamaica\n",
      "Japan\n",
      "Kwajalein\n",
      "Libya\n",
      "MET\n",
      "MST\n",
      "MST7MDT\n",
      "Mexico/BajaNorte\n",
      "Mexico/BajaSur\n",
      "Mexico/General\n",
      "NZ\n",
      "NZ-CHAT\n",
      "Navajo\n",
      "PRC\n",
      "PST8PDT\n",
      "Pacific/Apia\n",
      "Pacific/Auckland\n",
      "Pacific/Bougainville\n",
      "Pacific/Chatham\n",
      "Pacific/Chuuk\n",
      "Pacific/Easter\n",
      "Pacific/Efate\n",
      "Pacific/Enderbury\n",
      "Pacific/Fakaofo\n",
      "Pacific/Fiji\n",
      "Pacific/Funafuti\n",
      "Pacific/Galapagos\n",
      "Pacific/Gambier\n",
      "Pacific/Guadalcanal\n",
      "Pacific/Guam\n",
      "Pacific/Honolulu\n",
      "Pacific/Johnston\n",
      "Pacific/Kiritimati\n",
      "Pacific/Kosrae\n",
      "Pacific/Kwajalein\n",
      "Pacific/Majuro\n",
      "Pacific/Marquesas\n",
      "Pacific/Midway\n",
      "Pacific/Nauru\n",
      "Pacific/Niue\n",
      "Pacific/Norfolk\n",
      "Pacific/Noumea\n",
      "Pacific/Pago_Pago\n",
      "Pacific/Palau\n",
      "Pacific/Pitcairn\n",
      "Pacific/Pohnpei\n",
      "Pacific/Ponape\n",
      "Pacific/Port_Moresby\n",
      "Pacific/Rarotonga\n",
      "Pacific/Saipan\n",
      "Pacific/Samoa\n",
      "Pacific/Tahiti\n",
      "Pacific/Tarawa\n",
      "Pacific/Tongatapu\n",
      "Pacific/Truk\n",
      "Pacific/Wake\n",
      "Pacific/Wallis\n",
      "Pacific/Yap\n",
      "Poland\n",
      "Portugal\n",
      "ROC\n",
      "ROK\n",
      "Singapore\n",
      "Turkey\n",
      "UCT\n",
      "US/Alaska\n",
      "US/Aleutian\n",
      "US/Arizona\n",
      "US/Central\n",
      "US/East-Indiana\n",
      "US/Eastern\n",
      "US/Hawaii\n",
      "US/Indiana-Starke\n",
      "US/Michigan\n",
      "US/Mountain\n",
      "US/Pacific\n",
      "US/Samoa\n",
      "UTC\n",
      "Universal\n",
      "W-SU\n",
      "WET\n",
      "Zulu\n"
     ]
    }
   ],
   "source": [
    "for tz in pytz.all_timezones: print(tz)"
   ]
  },
  {
   "cell_type": "markdown",
   "metadata": {},
   "source": [
    "Observamos que o mais próximo da gente seria a opção `America/Recife`, por motivos óbvios.\n",
    "\n",
    "Precisamos agora converter os horários para essa _timezone_, e, para isso, usaremos uma função"
   ]
  },
  {
   "cell_type": "code",
   "execution_count": 19,
   "metadata": {},
   "outputs": [],
   "source": [
    "def ref_timezone(x): return x.astimezone(pytz.timezone('America/Recife'))"
   ]
  },
  {
   "cell_type": "markdown",
   "metadata": {},
   "source": [
    "E vamos usar essa função para ajustar as datas, na coluna `date`"
   ]
  },
  {
   "cell_type": "code",
   "execution_count": 20,
   "metadata": {},
   "outputs": [],
   "source": [
    "df['date'] = df['date'].apply(lambda x: ref_timezone(x))"
   ]
  },
  {
   "cell_type": "markdown",
   "metadata": {},
   "source": [
    "Aqui temos um probleminha. Quando fizemos a conversão do tipo `object` para `datetime`, lá atrás, o próprio Pandas substitui as datas que possuem algum tipo de erro pelo tipo `NaT`, algo como um `nan` só que para datas. Nesses pontos em que a data é tipo `NaT`, não se consegue fazer a alteração do _timezone_. \n",
    "\n",
    "Nossa saída então é filtrar essa ocorrências e apagá-las.\n",
    "\n",
    "Para nossa sorte, o Pandas nos dá uma colher de chá que já conhecemos: o `dropna`! "
   ]
  },
  {
   "cell_type": "code",
   "execution_count": 21,
   "metadata": {},
   "outputs": [],
   "source": [
    "df.dropna(inplace=True)"
   ]
  },
  {
   "cell_type": "markdown",
   "metadata": {},
   "source": [
    "Para confirmar se houve a limpeza, vamos fazer uma inspeção em `date`."
   ]
  },
  {
   "cell_type": "code",
   "execution_count": 22,
   "metadata": {},
   "outputs": [
    {
     "data": {
      "text/plain": [
       "<DatetimeArray>\n",
       "['2021-02-26 11:57:48-03:00', '2021-03-06 19:56:44-03:00',\n",
       " '2021-02-28 21:23:21-03:00', '2021-04-24 11:28:52-03:00',\n",
       " '2021-02-04 10:19:29-03:00', '2021-02-05 10:35:38-03:00',\n",
       " '2021-04-15 12:18:57-03:00', '2020-09-04 12:01:09-03:00',\n",
       " '2021-01-09 10:42:37-03:00', '2020-11-11 10:14:28-03:00',\n",
       " ...\n",
       " '2019-03-16 18:50:29-03:00', '2019-05-21 19:39:14-03:00',\n",
       " '2021-03-24 12:20:10-03:00', '2019-07-19 12:00:03-03:00',\n",
       " '2019-08-19 19:40:44-03:00', '2019-12-16 10:19:47-03:00',\n",
       " '2020-11-06 18:56:40-03:00', '2020-10-27 11:43:35-03:00',\n",
       " '2019-08-13 11:42:16-03:00', '2020-07-11 12:06:03-03:00']\n",
       "Length: 1157, dtype: datetime64[ns, America/Recife]"
      ]
     },
     "execution_count": 22,
     "metadata": {},
     "output_type": "execute_result"
    }
   ],
   "source": [
    "df['date'].unique()"
   ]
  },
  {
   "cell_type": "markdown",
   "metadata": {},
   "source": [
    "E nada de `NaT`. Assim,  "
   ]
  },
  {
   "cell_type": "code",
   "execution_count": 23,
   "metadata": {},
   "outputs": [],
   "source": [
    "df['date'] = df['date'].apply(lambda x: ref_timezone(x))"
   ]
  },
  {
   "cell_type": "code",
   "execution_count": 24,
   "metadata": {},
   "outputs": [
    {
     "data": {
      "text/plain": [
       "0      2021-02-26 11:57:48-03:00\n",
       "1      2021-03-06 19:56:44-03:00\n",
       "2      2021-02-28 21:23:21-03:00\n",
       "3      2021-04-24 11:28:52-03:00\n",
       "4      2021-02-04 10:19:29-03:00\n",
       "                  ...           \n",
       "1154   2019-12-16 10:19:47-03:00\n",
       "1155   2020-11-06 18:56:40-03:00\n",
       "1156   2020-10-27 11:43:35-03:00\n",
       "1157   2019-08-13 11:42:16-03:00\n",
       "1158   2020-07-11 12:06:03-03:00\n",
       "Name: date, Length: 1159, dtype: datetime64[ns, America/Recife]"
      ]
     },
     "execution_count": 24,
     "metadata": {},
     "output_type": "execute_result"
    }
   ],
   "source": [
    "df['date']"
   ]
  },
  {
   "cell_type": "markdown",
   "metadata": {},
   "source": [
    "e não temos mais nenhum erro!"
   ]
  },
  {
   "cell_type": "markdown",
   "metadata": {},
   "source": [
    "Para facilitar ainda mais nossa vida, nós podemos fracionar essa informação disponível em `date`. Vamos fazer isso criando algumas novas variáveis.\n",
    "\n",
    "A primeira variável será `daysofweek`, na qual colocaremos o dia da semana (segunda, terça, etc.). Para isso, usaremos o método `day_name` do próprio Pandas"
   ]
  },
  {
   "cell_type": "code",
   "execution_count": 25,
   "metadata": {},
   "outputs": [],
   "source": [
    "df['dayofweek'] = df['date'].apply(lambda x: x.day_name())"
   ]
  },
  {
   "cell_type": "code",
   "execution_count": 26,
   "metadata": {},
   "outputs": [
    {
     "data": {
      "text/plain": [
       "0         Friday\n",
       "1       Saturday\n",
       "2         Sunday\n",
       "3       Saturday\n",
       "4       Thursday\n",
       "          ...   \n",
       "1154      Monday\n",
       "1155      Friday\n",
       "1156     Tuesday\n",
       "1157     Tuesday\n",
       "1158    Saturday\n",
       "Name: dayofweek, Length: 1159, dtype: object"
      ]
     },
     "execution_count": 26,
     "metadata": {},
     "output_type": "execute_result"
    }
   ],
   "source": [
    "df['dayofweek']"
   ]
  },
  {
   "cell_type": "markdown",
   "metadata": {},
   "source": [
    "e depois vamos transformar a variável `dayofweek` em categórica, para facilitar futuras análises."
   ]
  },
  {
   "cell_type": "code",
   "execution_count": 27,
   "metadata": {},
   "outputs": [],
   "source": [
    "df['dayofweek'] = pd.Categorical(df['dayofweek'], categories=[\n",
    "    'Monday', 'Tuesday', 'Wednesday', 'Thursday', 'Friday',\n",
    "    'Saturday', 'Sunday'], ordered=True)"
   ]
  },
  {
   "cell_type": "code",
   "execution_count": 28,
   "metadata": {},
   "outputs": [
    {
     "name": "stdout",
     "output_type": "stream",
     "text": [
      "<class 'pandas.core.frame.DataFrame'>\n",
      "Int64Index: 1159 entries, 0 to 1158\n",
      "Data columns (total 7 columns):\n",
      " #   Column     Non-Null Count  Dtype                         \n",
      "---  ------     --------------  -----                         \n",
      " 0   subject    1159 non-null   object                        \n",
      " 1   from       1159 non-null   object                        \n",
      " 2   date       1159 non-null   datetime64[ns, America/Recife]\n",
      " 3   to         1159 non-null   object                        \n",
      " 4   label      1159 non-null   object                        \n",
      " 5   thread     1159 non-null   int64                         \n",
      " 6   dayofweek  1159 non-null   category                      \n",
      "dtypes: category(1), datetime64[ns, America/Recife](1), int64(1), object(4)\n",
      "memory usage: 64.9+ KB\n"
     ]
    }
   ],
   "source": [
    "df.info()"
   ]
  },
  {
   "cell_type": "markdown",
   "metadata": {},
   "source": [
    "Em seguida, criaremos `timeofday`, que apresentará a hora do dia, usando, para isso"
   ]
  },
  {
   "cell_type": "code",
   "execution_count": 29,
   "metadata": {},
   "outputs": [],
   "source": [
    "df['timeofday'] = df['date'].apply(lambda x: x.hour + x.minute/60 + x.second/3600)"
   ]
  },
  {
   "cell_type": "markdown",
   "metadata": {},
   "source": [
    "a variável `year`, que trará o ano do email"
   ]
  },
  {
   "cell_type": "code",
   "execution_count": 30,
   "metadata": {},
   "outputs": [],
   "source": [
    "df['year'] = df['date'].apply(lambda x: x.year)"
   ]
  },
  {
   "cell_type": "markdown",
   "metadata": {},
   "source": [
    "e a variável `month`, que trará o mês do email"
   ]
  },
  {
   "cell_type": "code",
   "execution_count": 31,
   "metadata": {},
   "outputs": [],
   "source": [
    "df['month'] = df['date'].apply(lambda x: x.month_name())"
   ]
  },
  {
   "cell_type": "markdown",
   "metadata": {},
   "source": [
    "e que também transformaremos em categórica"
   ]
  },
  {
   "cell_type": "code",
   "execution_count": 32,
   "metadata": {},
   "outputs": [],
   "source": [
    "df['month'] = pd.Categorical(df['month'], categories=[\n",
    "    'January', 'February', 'March', 'April', 'May', 'June', 'July', \"August\", \n",
    "    'September', 'October', 'November', 'December'], ordered=True)"
   ]
  },
  {
   "cell_type": "markdown",
   "metadata": {},
   "source": [
    "E como separamos todas as informações referentes a data em partes que possam facilitar a análise, não faz mais sentido manter a coluna `date`. Assim,"
   ]
  },
  {
   "cell_type": "markdown",
   "metadata": {},
   "source": [
    "Por fim, minha sugestão é gravar esse dataframe pré-processado em um arquivo .csv novo. Por que fazer isso? Porque se for necessário fechar o notebook por algum motivo, não será necessário fazer novamente todo o processo que fizemos até aqui.\n",
    "\n",
    "Para fazer isso, usaremos"
   ]
  },
  {
   "cell_type": "code",
   "execution_count": 33,
   "metadata": {},
   "outputs": [],
   "source": [
    "df.to_csv('emails_processadoss.csv')"
   ]
  },
  {
   "cell_type": "code",
   "execution_count": 34,
   "metadata": {},
   "outputs": [
    {
     "data": {
      "text/html": [
       "<div>\n",
       "<style scoped>\n",
       "    .dataframe tbody tr th:only-of-type {\n",
       "        vertical-align: middle;\n",
       "    }\n",
       "\n",
       "    .dataframe tbody tr th {\n",
       "        vertical-align: top;\n",
       "    }\n",
       "\n",
       "    .dataframe thead th {\n",
       "        text-align: right;\n",
       "    }\n",
       "</style>\n",
       "<table border=\"1\" class=\"dataframe\">\n",
       "  <thead>\n",
       "    <tr style=\"text-align: right;\">\n",
       "      <th></th>\n",
       "      <th>subject</th>\n",
       "      <th>from</th>\n",
       "      <th>date</th>\n",
       "      <th>to</th>\n",
       "      <th>label</th>\n",
       "      <th>thread</th>\n",
       "      <th>dayofweek</th>\n",
       "      <th>timeofday</th>\n",
       "      <th>year</th>\n",
       "      <th>month</th>\n",
       "    </tr>\n",
       "  </thead>\n",
       "  <tbody>\n",
       "    <tr>\n",
       "      <th>0</th>\n",
       "      <td>=?UTF-8?q?Voc=C3=AA_tem_que_ter_estes_itens_em...</td>\n",
       "      <td>offers@wish.com</td>\n",
       "      <td>2021-02-26 11:57:48-03:00</td>\n",
       "      <td>\"=?utf-8?q?Vin=C3=ADcius_Medeiros?=\" &lt;viniapnm...</td>\n",
       "      <td>inbox</td>\n",
       "      <td>1692770206194795587</td>\n",
       "      <td>Friday</td>\n",
       "      <td>11.963333</td>\n",
       "      <td>2021</td>\n",
       "      <td>February</td>\n",
       "    </tr>\n",
       "    <tr>\n",
       "      <th>1</th>\n",
       "      <td>=?UTF-8?Q?=E3=80=90E-Pal=E3=80=91?=</td>\n",
       "      <td>official@epal.gg</td>\n",
       "      <td>2021-03-06 19:56:44-03:00</td>\n",
       "      <td>viniapnm@gmail.com</td>\n",
       "      <td>inbox</td>\n",
       "      <td>1693525113471893522</td>\n",
       "      <td>Saturday</td>\n",
       "      <td>19.945556</td>\n",
       "      <td>2021</td>\n",
       "      <td>March</td>\n",
       "    </tr>\n",
       "    <tr>\n",
       "      <th>2</th>\n",
       "      <td>DSCO is now available!</td>\n",
       "      <td>vsco@official.vsco.co</td>\n",
       "      <td>2021-02-28 21:23:21-03:00</td>\n",
       "      <td>viniapnm@gmail.com</td>\n",
       "      <td>inbox</td>\n",
       "      <td>1692992869753561945</td>\n",
       "      <td>Sunday</td>\n",
       "      <td>21.389167</td>\n",
       "      <td>2021</td>\n",
       "      <td>February</td>\n",
       "    </tr>\n",
       "    <tr>\n",
       "      <th>3</th>\n",
       "      <td>=?UTF-8?q?=E2=9A=A1=F0=9F=94=8C_Todo_o_materia...</td>\n",
       "      <td>offers@wish.com</td>\n",
       "      <td>2021-04-24 11:28:52-03:00</td>\n",
       "      <td>\"=?utf-8?q?Vin=C3=ADcius_Medeiros?=\" &lt;viniapnm...</td>\n",
       "      <td>inbox</td>\n",
       "      <td>1697932412812193275</td>\n",
       "      <td>Saturday</td>\n",
       "      <td>11.481111</td>\n",
       "      <td>2021</td>\n",
       "      <td>April</td>\n",
       "    </tr>\n",
       "    <tr>\n",
       "      <th>4</th>\n",
       "      <td>=?UTF-8?q?=F0=9F=8E=89_Confira_o_que_acabou_de...</td>\n",
       "      <td>offers@wish.com</td>\n",
       "      <td>2021-02-04 10:19:29-03:00</td>\n",
       "      <td>\"=?utf-8?q?Vin=C3=ADcius_Medeiros?=\" &lt;viniapnm...</td>\n",
       "      <td>inbox</td>\n",
       "      <td>1690770887097317107</td>\n",
       "      <td>Thursday</td>\n",
       "      <td>10.324722</td>\n",
       "      <td>2021</td>\n",
       "      <td>February</td>\n",
       "    </tr>\n",
       "    <tr>\n",
       "      <th>...</th>\n",
       "      <td>...</td>\n",
       "      <td>...</td>\n",
       "      <td>...</td>\n",
       "      <td>...</td>\n",
       "      <td>...</td>\n",
       "      <td>...</td>\n",
       "      <td>...</td>\n",
       "      <td>...</td>\n",
       "      <td>...</td>\n",
       "      <td>...</td>\n",
       "    </tr>\n",
       "    <tr>\n",
       "      <th>1154</th>\n",
       "      <td>=?UTF-8?q?Fique_confort=C3=A1vel_em_um_dos_nos...</td>\n",
       "      <td>offers@wish.com</td>\n",
       "      <td>2019-12-16 10:19:47-03:00</td>\n",
       "      <td>\"=?utf-8?q?Vin=C3=ADcius_Medeiros?=\" &lt;viniapnm...</td>\n",
       "      <td>inbox</td>\n",
       "      <td>1653082570994743628</td>\n",
       "      <td>Monday</td>\n",
       "      <td>10.329722</td>\n",
       "      <td>2019</td>\n",
       "      <td>December</td>\n",
       "    </tr>\n",
       "    <tr>\n",
       "      <th>1155</th>\n",
       "      <td>=?UTF-8?q?Voc=C3=AA_j=C3=A1_viu_a_nova_m=C3=A1...</td>\n",
       "      <td>offers@wish.com</td>\n",
       "      <td>2020-11-06 18:56:40-03:00</td>\n",
       "      <td>\"=?utf-8?q?Vin=C3=ADcius_Medeiros?=\" &lt;viniapnm...</td>\n",
       "      <td>inbox</td>\n",
       "      <td>1682649698556022420</td>\n",
       "      <td>Friday</td>\n",
       "      <td>18.944444</td>\n",
       "      <td>2020</td>\n",
       "      <td>November</td>\n",
       "    </tr>\n",
       "    <tr>\n",
       "      <th>1156</th>\n",
       "      <td>=?UTF-8?q?=F0=9F=92=A1=F0=9F=95=AF;=EF=B8=8F_A...</td>\n",
       "      <td>offers@wish.com</td>\n",
       "      <td>2020-10-27 11:43:35-03:00</td>\n",
       "      <td>\"=?utf-8?q?Vin=C3=ADcius_Medeiros?=\" &lt;viniapnm...</td>\n",
       "      <td>inbox</td>\n",
       "      <td>1681716481326820081</td>\n",
       "      <td>Tuesday</td>\n",
       "      <td>11.726389</td>\n",
       "      <td>2020</td>\n",
       "      <td>October</td>\n",
       "    </tr>\n",
       "    <tr>\n",
       "      <th>1157</th>\n",
       "      <td>=?UTF-8?q?60%,_70%_ou_80%_de_desconto_em_bolsa...</td>\n",
       "      <td>offers@wish.com</td>\n",
       "      <td>2019-08-13 11:42:16-03:00</td>\n",
       "      <td>\"=?utf-8?q?Vin=C3=ADcius_Medeiros?=\" &lt;viniapnm...</td>\n",
       "      <td>inbox</td>\n",
       "      <td>1641763136745729943</td>\n",
       "      <td>Tuesday</td>\n",
       "      <td>11.704444</td>\n",
       "      <td>2019</td>\n",
       "      <td>August</td>\n",
       "    </tr>\n",
       "    <tr>\n",
       "      <th>1158</th>\n",
       "      <td>=?UTF-8?q?Liquida=C3=A7=C3=A3o_de_Laptop=3F_Co...</td>\n",
       "      <td>offers@wish.com</td>\n",
       "      <td>2020-07-11 12:06:03-03:00</td>\n",
       "      <td>\"=?utf-8?q?Vin=C3=ADcius_Medeiros?=\" &lt;viniapnm...</td>\n",
       "      <td>inbox</td>\n",
       "      <td>1671933422700946385</td>\n",
       "      <td>Saturday</td>\n",
       "      <td>12.100833</td>\n",
       "      <td>2020</td>\n",
       "      <td>July</td>\n",
       "    </tr>\n",
       "  </tbody>\n",
       "</table>\n",
       "<p>1159 rows × 10 columns</p>\n",
       "</div>"
      ],
      "text/plain": [
       "                                                subject  \\\n",
       "0     =?UTF-8?q?Voc=C3=AA_tem_que_ter_estes_itens_em...   \n",
       "1                   =?UTF-8?Q?=E3=80=90E-Pal=E3=80=91?=   \n",
       "2                               DSCO is now available!    \n",
       "3     =?UTF-8?q?=E2=9A=A1=F0=9F=94=8C_Todo_o_materia...   \n",
       "4     =?UTF-8?q?=F0=9F=8E=89_Confira_o_que_acabou_de...   \n",
       "...                                                 ...   \n",
       "1154  =?UTF-8?q?Fique_confort=C3=A1vel_em_um_dos_nos...   \n",
       "1155  =?UTF-8?q?Voc=C3=AA_j=C3=A1_viu_a_nova_m=C3=A1...   \n",
       "1156  =?UTF-8?q?=F0=9F=92=A1=F0=9F=95=AF;=EF=B8=8F_A...   \n",
       "1157  =?UTF-8?q?60%,_70%_ou_80%_de_desconto_em_bolsa...   \n",
       "1158  =?UTF-8?q?Liquida=C3=A7=C3=A3o_de_Laptop=3F_Co...   \n",
       "\n",
       "                       from                      date  \\\n",
       "0           offers@wish.com 2021-02-26 11:57:48-03:00   \n",
       "1          official@epal.gg 2021-03-06 19:56:44-03:00   \n",
       "2     vsco@official.vsco.co 2021-02-28 21:23:21-03:00   \n",
       "3           offers@wish.com 2021-04-24 11:28:52-03:00   \n",
       "4           offers@wish.com 2021-02-04 10:19:29-03:00   \n",
       "...                     ...                       ...   \n",
       "1154        offers@wish.com 2019-12-16 10:19:47-03:00   \n",
       "1155        offers@wish.com 2020-11-06 18:56:40-03:00   \n",
       "1156        offers@wish.com 2020-10-27 11:43:35-03:00   \n",
       "1157        offers@wish.com 2019-08-13 11:42:16-03:00   \n",
       "1158        offers@wish.com 2020-07-11 12:06:03-03:00   \n",
       "\n",
       "                                                     to  label  \\\n",
       "0     \"=?utf-8?q?Vin=C3=ADcius_Medeiros?=\" <viniapnm...  inbox   \n",
       "1                                    viniapnm@gmail.com  inbox   \n",
       "2                                    viniapnm@gmail.com  inbox   \n",
       "3     \"=?utf-8?q?Vin=C3=ADcius_Medeiros?=\" <viniapnm...  inbox   \n",
       "4     \"=?utf-8?q?Vin=C3=ADcius_Medeiros?=\" <viniapnm...  inbox   \n",
       "...                                                 ...    ...   \n",
       "1154  \"=?utf-8?q?Vin=C3=ADcius_Medeiros?=\" <viniapnm...  inbox   \n",
       "1155  \"=?utf-8?q?Vin=C3=ADcius_Medeiros?=\" <viniapnm...  inbox   \n",
       "1156  \"=?utf-8?q?Vin=C3=ADcius_Medeiros?=\" <viniapnm...  inbox   \n",
       "1157  \"=?utf-8?q?Vin=C3=ADcius_Medeiros?=\" <viniapnm...  inbox   \n",
       "1158  \"=?utf-8?q?Vin=C3=ADcius_Medeiros?=\" <viniapnm...  inbox   \n",
       "\n",
       "                   thread dayofweek  timeofday  year     month  \n",
       "0     1692770206194795587    Friday  11.963333  2021  February  \n",
       "1     1693525113471893522  Saturday  19.945556  2021     March  \n",
       "2     1692992869753561945    Sunday  21.389167  2021  February  \n",
       "3     1697932412812193275  Saturday  11.481111  2021     April  \n",
       "4     1690770887097317107  Thursday  10.324722  2021  February  \n",
       "...                   ...       ...        ...   ...       ...  \n",
       "1154  1653082570994743628    Monday  10.329722  2019  December  \n",
       "1155  1682649698556022420    Friday  18.944444  2020  November  \n",
       "1156  1681716481326820081   Tuesday  11.726389  2020   October  \n",
       "1157  1641763136745729943   Tuesday  11.704444  2019    August  \n",
       "1158  1671933422700946385  Saturday  12.100833  2020      July  \n",
       "\n",
       "[1159 rows x 10 columns]"
      ]
     },
     "execution_count": 34,
     "metadata": {},
     "output_type": "execute_result"
    }
   ],
   "source": [
    "df"
   ]
  },
  {
   "cell_type": "code",
   "execution_count": null,
   "metadata": {},
   "outputs": [],
   "source": []
  }
 ],
 "metadata": {
  "kernelspec": {
   "display_name": "Python 3",
   "language": "python",
   "name": "python3"
  },
  "language_info": {
   "codemirror_mode": {
    "name": "ipython",
    "version": 3
   },
   "file_extension": ".py",
   "mimetype": "text/x-python",
   "name": "python",
   "nbconvert_exporter": "python",
   "pygments_lexer": "ipython3",
   "version": "3.8.5"
  }
 },
 "nbformat": 4,
 "nbformat_minor": 4
}
