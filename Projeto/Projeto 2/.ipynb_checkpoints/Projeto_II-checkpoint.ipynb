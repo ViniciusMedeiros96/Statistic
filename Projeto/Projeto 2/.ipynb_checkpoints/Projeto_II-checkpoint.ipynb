{
 "cells": [
  {
   "cell_type": "code",
   "execution_count": 1,
   "metadata": {},
   "outputs": [],
   "source": [
    "import pandas as pd\n",
    "import numpy as np\n",
    "import matplotlib.pyplot as plt\n",
    "import seaborn as sns\n",
    "from scipy import stats\n",
    "from matplotlib import colors\n",
    "from matplotlib.ticker import PercentFormatter"
   ]
  },
  {
   "cell_type": "code",
   "execution_count": 2,
   "metadata": {},
   "outputs": [],
   "source": [
    "email = pd.read_csv(\"emails_processados.csv\")"
   ]
  },
  {
   "cell_type": "code",
   "execution_count": 3,
   "metadata": {},
   "outputs": [],
   "source": [
    "email.drop('Unnamed: 0', axis='columns', inplace=True)"
   ]
  },
  {
   "cell_type": "code",
   "execution_count": 4,
   "metadata": {},
   "outputs": [
    {
     "data": {
      "text/html": [
       "<div>\n",
       "<style scoped>\n",
       "    .dataframe tbody tr th:only-of-type {\n",
       "        vertical-align: middle;\n",
       "    }\n",
       "\n",
       "    .dataframe tbody tr th {\n",
       "        vertical-align: top;\n",
       "    }\n",
       "\n",
       "    .dataframe thead th {\n",
       "        text-align: right;\n",
       "    }\n",
       "</style>\n",
       "<table border=\"1\" class=\"dataframe\">\n",
       "  <thead>\n",
       "    <tr style=\"text-align: right;\">\n",
       "      <th></th>\n",
       "      <th>subject</th>\n",
       "      <th>from</th>\n",
       "      <th>date</th>\n",
       "      <th>to</th>\n",
       "      <th>label</th>\n",
       "      <th>thread</th>\n",
       "      <th>dayofweek</th>\n",
       "      <th>timeofday</th>\n",
       "      <th>year</th>\n",
       "      <th>month</th>\n",
       "    </tr>\n",
       "  </thead>\n",
       "  <tbody>\n",
       "    <tr>\n",
       "      <th>0</th>\n",
       "      <td>=?UTF-8?q?Voc=C3=AA_tem_que_ter_estes_itens_em...</td>\n",
       "      <td>offers@wish.com</td>\n",
       "      <td>2021-02-26 11:57:48-03:00</td>\n",
       "      <td>\"=?utf-8?q?Vin=C3=ADcius_Medeiros?=\" &lt;viniapnm...</td>\n",
       "      <td>inbox</td>\n",
       "      <td>1692770206194795587</td>\n",
       "      <td>Friday</td>\n",
       "      <td>11.963333</td>\n",
       "      <td>2021</td>\n",
       "      <td>February</td>\n",
       "    </tr>\n",
       "    <tr>\n",
       "      <th>1</th>\n",
       "      <td>=?UTF-8?Q?=E3=80=90E-Pal=E3=80=91?=</td>\n",
       "      <td>official@epal.gg</td>\n",
       "      <td>2021-03-06 19:56:44-03:00</td>\n",
       "      <td>viniapnm@gmail.com</td>\n",
       "      <td>inbox</td>\n",
       "      <td>1693525113471893522</td>\n",
       "      <td>Saturday</td>\n",
       "      <td>19.945556</td>\n",
       "      <td>2021</td>\n",
       "      <td>March</td>\n",
       "    </tr>\n",
       "    <tr>\n",
       "      <th>2</th>\n",
       "      <td>DSCO is now available!</td>\n",
       "      <td>vsco@official.vsco.co</td>\n",
       "      <td>2021-02-28 21:23:21-03:00</td>\n",
       "      <td>viniapnm@gmail.com</td>\n",
       "      <td>inbox</td>\n",
       "      <td>1692992869753561945</td>\n",
       "      <td>Sunday</td>\n",
       "      <td>21.389167</td>\n",
       "      <td>2021</td>\n",
       "      <td>February</td>\n",
       "    </tr>\n",
       "    <tr>\n",
       "      <th>3</th>\n",
       "      <td>=?UTF-8?q?=E2=9A=A1=F0=9F=94=8C_Todo_o_materia...</td>\n",
       "      <td>offers@wish.com</td>\n",
       "      <td>2021-04-24 11:28:52-03:00</td>\n",
       "      <td>\"=?utf-8?q?Vin=C3=ADcius_Medeiros?=\" &lt;viniapnm...</td>\n",
       "      <td>inbox</td>\n",
       "      <td>1697932412812193275</td>\n",
       "      <td>Saturday</td>\n",
       "      <td>11.481111</td>\n",
       "      <td>2021</td>\n",
       "      <td>April</td>\n",
       "    </tr>\n",
       "    <tr>\n",
       "      <th>4</th>\n",
       "      <td>=?UTF-8?q?=F0=9F=8E=89_Confira_o_que_acabou_de...</td>\n",
       "      <td>offers@wish.com</td>\n",
       "      <td>2021-02-04 10:19:29-03:00</td>\n",
       "      <td>\"=?utf-8?q?Vin=C3=ADcius_Medeiros?=\" &lt;viniapnm...</td>\n",
       "      <td>inbox</td>\n",
       "      <td>1690770887097317107</td>\n",
       "      <td>Thursday</td>\n",
       "      <td>10.324722</td>\n",
       "      <td>2021</td>\n",
       "      <td>February</td>\n",
       "    </tr>\n",
       "  </tbody>\n",
       "</table>\n",
       "</div>"
      ],
      "text/plain": [
       "                                             subject                   from  \\\n",
       "0  =?UTF-8?q?Voc=C3=AA_tem_que_ter_estes_itens_em...        offers@wish.com   \n",
       "1                =?UTF-8?Q?=E3=80=90E-Pal=E3=80=91?=       official@epal.gg   \n",
       "2                            DSCO is now available!   vsco@official.vsco.co   \n",
       "3  =?UTF-8?q?=E2=9A=A1=F0=9F=94=8C_Todo_o_materia...        offers@wish.com   \n",
       "4  =?UTF-8?q?=F0=9F=8E=89_Confira_o_que_acabou_de...        offers@wish.com   \n",
       "\n",
       "                        date  \\\n",
       "0  2021-02-26 11:57:48-03:00   \n",
       "1  2021-03-06 19:56:44-03:00   \n",
       "2  2021-02-28 21:23:21-03:00   \n",
       "3  2021-04-24 11:28:52-03:00   \n",
       "4  2021-02-04 10:19:29-03:00   \n",
       "\n",
       "                                                  to  label  \\\n",
       "0  \"=?utf-8?q?Vin=C3=ADcius_Medeiros?=\" <viniapnm...  inbox   \n",
       "1                                 viniapnm@gmail.com  inbox   \n",
       "2                                 viniapnm@gmail.com  inbox   \n",
       "3  \"=?utf-8?q?Vin=C3=ADcius_Medeiros?=\" <viniapnm...  inbox   \n",
       "4  \"=?utf-8?q?Vin=C3=ADcius_Medeiros?=\" <viniapnm...  inbox   \n",
       "\n",
       "                thread dayofweek  timeofday  year     month  \n",
       "0  1692770206194795587    Friday  11.963333  2021  February  \n",
       "1  1693525113471893522  Saturday  19.945556  2021     March  \n",
       "2  1692992869753561945    Sunday  21.389167  2021  February  \n",
       "3  1697932412812193275  Saturday  11.481111  2021     April  \n",
       "4  1690770887097317107  Thursday  10.324722  2021  February  "
      ]
     },
     "execution_count": 4,
     "metadata": {},
     "output_type": "execute_result"
    }
   ],
   "source": [
    "email.head()"
   ]
  },
  {
   "cell_type": "markdown",
   "metadata": {},
   "source": [
    "# 1-"
   ]
  },
  {
   "cell_type": "code",
   "execution_count": 5,
   "metadata": {},
   "outputs": [
    {
     "data": {
      "text/plain": [
       "1159"
      ]
     },
     "execution_count": 5,
     "metadata": {},
     "output_type": "execute_result"
    }
   ],
   "source": [
    "anos = email[\"year\"].value_counts()\n",
    "mes = email[\"month\"].value_counts()\n",
    "dia = email[\"dayofweek\"].value_counts()\n",
    "anos.sum()"
   ]
  },
  {
   "cell_type": "code",
   "execution_count": 6,
   "metadata": {},
   "outputs": [
    {
     "data": {
      "text/plain": [
       "March        165\n",
       "April        145\n",
       "July         124\n",
       "August       118\n",
       "May          108\n",
       "June         102\n",
       "February      83\n",
       "January       81\n",
       "November      77\n",
       "December      60\n",
       "September     49\n",
       "October       47\n",
       "Name: month, dtype: int64"
      ]
     },
     "execution_count": 6,
     "metadata": {},
     "output_type": "execute_result"
    }
   ],
   "source": [
    "media = email.value_counts().sum()\n",
    "mes"
   ]
  },
  {
   "cell_type": "code",
   "execution_count": 31,
   "metadata": {},
   "outputs": [],
   "source": [
    "meses = ['January', 'February', 'March', 'April', 'May', 'June', 'July', 'September', 'August', 'October', 'November', 'December']"
   ]
  },
  {
   "cell_type": "code",
   "execution_count": 32,
   "metadata": {},
   "outputs": [],
   "source": [
    "total_anos = (\"2015\", \"2016\", \"2017\", \"2018\", \"2019\", \"2020\", \"2021\")"
   ]
  },
  {
   "cell_type": "code",
   "execution_count": 33,
   "metadata": {},
   "outputs": [],
   "source": [
    "semanas = [\"Segunda\", \"Terça\", \"Quarta\", \"Quinta\", \"Sexta\", \"Sábado\", \"Domingo\"]"
   ]
  },
  {
   "cell_type": "markdown",
   "metadata": {},
   "source": [
    "### Média de emails por ano"
   ]
  },
  {
   "cell_type": "code",
   "execution_count": 8,
   "metadata": {},
   "outputs": [],
   "source": [
    "ano_2015 = anos[2015]/media\n",
    "ano_2016 =  anos[2016]/media\n",
    "ano_2017 =  anos[2017]/media\n",
    "ano_2018 =  anos[2018]/media\n",
    "ano_2019 =  anos[2019]/media\n",
    "ano_2020 =  anos[2020]/media\n",
    "ano_2021 =  anos[2021]/media"
   ]
  },
  {
   "cell_type": "code",
   "execution_count": 28,
   "metadata": {},
   "outputs": [
    {
     "data": {
      "text/html": [
       "<div>\n",
       "<style scoped>\n",
       "    .dataframe tbody tr th:only-of-type {\n",
       "        vertical-align: middle;\n",
       "    }\n",
       "\n",
       "    .dataframe tbody tr th {\n",
       "        vertical-align: top;\n",
       "    }\n",
       "\n",
       "    .dataframe thead th {\n",
       "        text-align: right;\n",
       "    }\n",
       "</style>\n",
       "<table border=\"1\" class=\"dataframe\">\n",
       "  <thead>\n",
       "    <tr style=\"text-align: right;\">\n",
       "      <th></th>\n",
       "      <th>0</th>\n",
       "    </tr>\n",
       "  </thead>\n",
       "  <tbody>\n",
       "    <tr>\n",
       "      <th>2015</th>\n",
       "      <td>0.006</td>\n",
       "    </tr>\n",
       "    <tr>\n",
       "      <th>2016</th>\n",
       "      <td>0.020</td>\n",
       "    </tr>\n",
       "    <tr>\n",
       "      <th>2017</th>\n",
       "      <td>0.018</td>\n",
       "    </tr>\n",
       "    <tr>\n",
       "      <th>2018</th>\n",
       "      <td>0.016</td>\n",
       "    </tr>\n",
       "    <tr>\n",
       "      <th>2019</th>\n",
       "      <td>0.483</td>\n",
       "    </tr>\n",
       "    <tr>\n",
       "      <th>2020</th>\n",
       "      <td>0.325</td>\n",
       "    </tr>\n",
       "    <tr>\n",
       "      <th>2021</th>\n",
       "      <td>0.131</td>\n",
       "    </tr>\n",
       "  </tbody>\n",
       "</table>\n",
       "</div>"
      ],
      "text/plain": [
       "          0\n",
       "2015  0.006\n",
       "2016  0.020\n",
       "2017  0.018\n",
       "2018  0.016\n",
       "2019  0.483\n",
       "2020  0.325\n",
       "2021  0.131"
      ]
     },
     "execution_count": 28,
     "metadata": {},
     "output_type": "execute_result"
    }
   ],
   "source": [
    "media_anos = (ano_2015, ano_2016, ano_2017, ano_2018, ano_2019, ano_2020, ano_2021)\n",
    "mediaanos = pd.DataFrame(media_anos, total_anos)\n",
    "mediaanos[0] = mediaanos[0].round(3)\n",
    "mediaanos"
   ]
  },
  {
   "cell_type": "markdown",
   "metadata": {},
   "source": [
    "### Média de emails por mês"
   ]
  },
  {
   "cell_type": "code",
   "execution_count": 24,
   "metadata": {},
   "outputs": [],
   "source": [
    "Janeiro = mes[\"January\"]/media\n",
    "Fevereiro = mes[\"February\"]/media\n",
    "Março = mes[\"March\"]/media\n",
    "Abril = mes[\"April\"]/media\n",
    "Maio = mes[\"May\"]/media\n",
    "Junho = mes[\"June\"]/media\n",
    "Julho = mes[\"July\"]/media\n",
    "Agosto = mes[\"August\"]/media\n",
    "Setembro = mes[\"September\"]/media\n",
    "Outubro = mes[\"October\"]/media\n",
    "Novembro = mes[\"November\"]/media\n",
    "Dezembro = mes[\"December\"]/media"
   ]
  },
  {
   "cell_type": "code",
   "execution_count": 27,
   "metadata": {},
   "outputs": [
    {
     "data": {
      "text/html": [
       "<div>\n",
       "<style scoped>\n",
       "    .dataframe tbody tr th:only-of-type {\n",
       "        vertical-align: middle;\n",
       "    }\n",
       "\n",
       "    .dataframe tbody tr th {\n",
       "        vertical-align: top;\n",
       "    }\n",
       "\n",
       "    .dataframe thead th {\n",
       "        text-align: right;\n",
       "    }\n",
       "</style>\n",
       "<table border=\"1\" class=\"dataframe\">\n",
       "  <thead>\n",
       "    <tr style=\"text-align: right;\">\n",
       "      <th></th>\n",
       "      <th>0</th>\n",
       "    </tr>\n",
       "  </thead>\n",
       "  <tbody>\n",
       "    <tr>\n",
       "      <th>January</th>\n",
       "      <td>0.070</td>\n",
       "    </tr>\n",
       "    <tr>\n",
       "      <th>February</th>\n",
       "      <td>0.072</td>\n",
       "    </tr>\n",
       "    <tr>\n",
       "      <th>March</th>\n",
       "      <td>0.142</td>\n",
       "    </tr>\n",
       "    <tr>\n",
       "      <th>April</th>\n",
       "      <td>0.125</td>\n",
       "    </tr>\n",
       "    <tr>\n",
       "      <th>May</th>\n",
       "      <td>0.093</td>\n",
       "    </tr>\n",
       "    <tr>\n",
       "      <th>June</th>\n",
       "      <td>0.088</td>\n",
       "    </tr>\n",
       "    <tr>\n",
       "      <th>July</th>\n",
       "      <td>0.107</td>\n",
       "    </tr>\n",
       "    <tr>\n",
       "      <th>September</th>\n",
       "      <td>0.102</td>\n",
       "    </tr>\n",
       "    <tr>\n",
       "      <th>August</th>\n",
       "      <td>0.042</td>\n",
       "    </tr>\n",
       "    <tr>\n",
       "      <th>October</th>\n",
       "      <td>0.041</td>\n",
       "    </tr>\n",
       "    <tr>\n",
       "      <th>November</th>\n",
       "      <td>0.066</td>\n",
       "    </tr>\n",
       "    <tr>\n",
       "      <th>December</th>\n",
       "      <td>0.052</td>\n",
       "    </tr>\n",
       "  </tbody>\n",
       "</table>\n",
       "</div>"
      ],
      "text/plain": [
       "               0\n",
       "January    0.070\n",
       "February   0.072\n",
       "March      0.142\n",
       "April      0.125\n",
       "May        0.093\n",
       "June       0.088\n",
       "July       0.107\n",
       "September  0.102\n",
       "August     0.042\n",
       "October    0.041\n",
       "November   0.066\n",
       "December   0.052"
      ]
     },
     "execution_count": 27,
     "metadata": {},
     "output_type": "execute_result"
    }
   ],
   "source": [
    "media_meses = (Janeiro, Fevereiro, Março, Abril, Maio, Junho, Julho, Agosto, Setembro, Outubro, Novembro, Dezembro)\n",
    "mediameses = pd.DataFrame(media_meses, meses)\n",
    "mediameses[0] = mediameses[0].round(3)\n",
    "mediameses"
   ]
  },
  {
   "cell_type": "markdown",
   "metadata": {},
   "source": [
    "### Média por dias da semana"
   ]
  },
  {
   "cell_type": "code",
   "execution_count": 29,
   "metadata": {},
   "outputs": [],
   "source": [
    "Segunda = dia[\"Monday\"]/media\n",
    "Terça = dia[\"Tuesday\"]/media\n",
    "Quarta = dia[\"Wednesday\"]/media\n",
    "Quinta = dia[\"Tuesday\"]/media\n",
    "Sexta = dia[\"Friday\"]/media\n",
    "Sábado = dia[\"Saturday\"]/media\n",
    "Domingo = dia[\"Sunday\"]/media"
   ]
  },
  {
   "cell_type": "code",
   "execution_count": 35,
   "metadata": {},
   "outputs": [
    {
     "data": {
      "text/html": [
       "<div>\n",
       "<style scoped>\n",
       "    .dataframe tbody tr th:only-of-type {\n",
       "        vertical-align: middle;\n",
       "    }\n",
       "\n",
       "    .dataframe tbody tr th {\n",
       "        vertical-align: top;\n",
       "    }\n",
       "\n",
       "    .dataframe thead th {\n",
       "        text-align: right;\n",
       "    }\n",
       "</style>\n",
       "<table border=\"1\" class=\"dataframe\">\n",
       "  <thead>\n",
       "    <tr style=\"text-align: right;\">\n",
       "      <th></th>\n",
       "      <th>0</th>\n",
       "    </tr>\n",
       "  </thead>\n",
       "  <tbody>\n",
       "    <tr>\n",
       "      <th>Segunda</th>\n",
       "      <td>0.144</td>\n",
       "    </tr>\n",
       "    <tr>\n",
       "      <th>Terça</th>\n",
       "      <td>0.150</td>\n",
       "    </tr>\n",
       "    <tr>\n",
       "      <th>Quarta</th>\n",
       "      <td>0.147</td>\n",
       "    </tr>\n",
       "    <tr>\n",
       "      <th>Quinta</th>\n",
       "      <td>0.150</td>\n",
       "    </tr>\n",
       "    <tr>\n",
       "      <th>Sexta</th>\n",
       "      <td>0.141</td>\n",
       "    </tr>\n",
       "    <tr>\n",
       "      <th>Sábado</th>\n",
       "      <td>0.144</td>\n",
       "    </tr>\n",
       "    <tr>\n",
       "      <th>Domingo</th>\n",
       "      <td>0.133</td>\n",
       "    </tr>\n",
       "  </tbody>\n",
       "</table>\n",
       "</div>"
      ],
      "text/plain": [
       "             0\n",
       "Segunda  0.144\n",
       "Terça    0.150\n",
       "Quarta   0.147\n",
       "Quinta   0.150\n",
       "Sexta    0.141\n",
       "Sábado   0.144\n",
       "Domingo  0.133"
      ]
     },
     "execution_count": 35,
     "metadata": {},
     "output_type": "execute_result"
    }
   ],
   "source": [
    "media_semanas = (Segunda, Terça, Quarta, Quinta, Sexta, Sábado, Domingo)\n",
    "mediasemanas = pd.DataFrame(media_semanas, semanas)\n",
    "mediasemanas[0] = mediameses[0].round(3)\n",
    "mediasemanas"
   ]
  },
  {
   "cell_type": "markdown",
   "metadata": {},
   "source": [
    " # 2-"
   ]
  },
  {
   "cell_type": "code",
   "execution_count": 17,
   "metadata": {},
   "outputs": [
    {
     "data": {
      "text/plain": [
       "1.0103500310061584"
      ]
     },
     "execution_count": 17,
     "metadata": {},
     "output_type": "execute_result"
    }
   ],
   "source": [
    "email[\"year\"].var(ddof=0)"
   ]
  },
  {
   "cell_type": "code",
   "execution_count": 18,
   "metadata": {},
   "outputs": [
    {
     "data": {
      "text/plain": [
       "1.0051616939608068"
      ]
     },
     "execution_count": 18,
     "metadata": {},
     "output_type": "execute_result"
    }
   ],
   "source": [
    "email[\"year\"].std(ddof=0)"
   ]
  },
  {
   "cell_type": "markdown",
   "metadata": {},
   "source": [
    "# 3-"
   ]
  },
  {
   "cell_type": "code",
   "execution_count": 19,
   "metadata": {},
   "outputs": [
    {
     "data": {
      "text/plain": [
       "0.25"
      ]
     },
     "execution_count": 19,
     "metadata": {},
     "output_type": "execute_result"
    }
   ],
   "source": [
    "outlier_year = (np.quantile(email[\"year\"], 0.75)-np.quantile(email[\"year\"], 0.25))/(2*(np.percentile(email[\"year\"], 90)-np.percentile(email[\"year\"], 10)))\n",
    "outlier_year"
   ]
  },
  {
   "cell_type": "code",
   "execution_count": 20,
   "metadata": {},
   "outputs": [
    {
     "data": {
      "text/plain": [
       "count    1159.000000\n",
       "mean     2019.451251\n",
       "std         1.005596\n",
       "min      2015.000000\n",
       "25%      2019.000000\n",
       "50%      2019.000000\n",
       "75%      2020.000000\n",
       "max      2021.000000\n",
       "Name: year, dtype: float64"
      ]
     },
     "execution_count": 20,
     "metadata": {},
     "output_type": "execute_result"
    }
   ],
   "source": [
    "email[\"year\"].describe()"
   ]
  },
  {
   "cell_type": "code",
   "execution_count": 21,
   "metadata": {},
   "outputs": [
    {
     "data": {
      "text/plain": [
       "count     12.000000\n",
       "mean      96.583333\n",
       "std       37.254550\n",
       "min       47.000000\n",
       "25%       72.750000\n",
       "50%       92.500000\n",
       "75%      119.500000\n",
       "max      165.000000\n",
       "Name: month, dtype: float64"
      ]
     },
     "execution_count": 21,
     "metadata": {},
     "output_type": "execute_result"
    }
   ],
   "source": [
    "x = email[\"month\"].value_counts()\n",
    "x.describe()"
   ]
  },
  {
   "cell_type": "code",
   "execution_count": null,
   "metadata": {},
   "outputs": [],
   "source": []
  }
 ],
 "metadata": {
  "kernelspec": {
   "display_name": "Python 3",
   "language": "python",
   "name": "python3"
  },
  "language_info": {
   "codemirror_mode": {
    "name": "ipython",
    "version": 3
   },
   "file_extension": ".py",
   "mimetype": "text/x-python",
   "name": "python",
   "nbconvert_exporter": "python",
   "pygments_lexer": "ipython3",
   "version": "3.8.5"
  }
 },
 "nbformat": 4,
 "nbformat_minor": 4
}
