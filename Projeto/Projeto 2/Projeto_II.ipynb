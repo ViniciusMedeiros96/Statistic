{
 "cells": [
  {
   "cell_type": "code",
   "execution_count": 1,
   "metadata": {},
   "outputs": [],
   "source": [
    "import pandas as pd\n",
    "import numpy as np\n",
    "import matplotlib.pyplot as plt\n",
    "import seaborn as sns\n",
    "from scipy import stats\n",
    "from matplotlib import colors\n",
    "from matplotlib.ticker import PercentFormatter\n",
    "import re"
   ]
  },
  {
   "cell_type": "code",
   "execution_count": 2,
   "metadata": {},
   "outputs": [],
   "source": [
    "email = pd.read_csv(\"emails_processados.csv\")"
   ]
  },
  {
   "cell_type": "code",
   "execution_count": 3,
   "metadata": {},
   "outputs": [],
   "source": [
    "email.drop('Unnamed: 0', axis='columns', inplace=True)"
   ]
  },
  {
   "cell_type": "code",
   "execution_count": 4,
   "metadata": {},
   "outputs": [
    {
     "data": {
      "text/html": [
       "<div>\n",
       "<style scoped>\n",
       "    .dataframe tbody tr th:only-of-type {\n",
       "        vertical-align: middle;\n",
       "    }\n",
       "\n",
       "    .dataframe tbody tr th {\n",
       "        vertical-align: top;\n",
       "    }\n",
       "\n",
       "    .dataframe thead th {\n",
       "        text-align: right;\n",
       "    }\n",
       "</style>\n",
       "<table border=\"1\" class=\"dataframe\">\n",
       "  <thead>\n",
       "    <tr style=\"text-align: right;\">\n",
       "      <th></th>\n",
       "      <th>subject</th>\n",
       "      <th>from</th>\n",
       "      <th>date</th>\n",
       "      <th>to</th>\n",
       "      <th>label</th>\n",
       "      <th>thread</th>\n",
       "      <th>dayofweek</th>\n",
       "      <th>timeofday</th>\n",
       "      <th>year</th>\n",
       "      <th>month</th>\n",
       "    </tr>\n",
       "  </thead>\n",
       "  <tbody>\n",
       "    <tr>\n",
       "      <th>0</th>\n",
       "      <td>=?UTF-8?q?Voc=C3=AA_tem_que_ter_estes_itens_em...</td>\n",
       "      <td>offers@wish.com</td>\n",
       "      <td>2021-02-26 11:57:48-03:00</td>\n",
       "      <td>\"=?utf-8?q?Vin=C3=ADcius_Medeiros?=\" &lt;viniapnm...</td>\n",
       "      <td>inbox</td>\n",
       "      <td>1692770206194795587</td>\n",
       "      <td>Friday</td>\n",
       "      <td>11.963333</td>\n",
       "      <td>2021</td>\n",
       "      <td>February</td>\n",
       "    </tr>\n",
       "    <tr>\n",
       "      <th>1</th>\n",
       "      <td>=?UTF-8?Q?=E3=80=90E-Pal=E3=80=91?=</td>\n",
       "      <td>official@epal.gg</td>\n",
       "      <td>2021-03-06 19:56:44-03:00</td>\n",
       "      <td>viniapnm@gmail.com</td>\n",
       "      <td>inbox</td>\n",
       "      <td>1693525113471893522</td>\n",
       "      <td>Saturday</td>\n",
       "      <td>19.945556</td>\n",
       "      <td>2021</td>\n",
       "      <td>March</td>\n",
       "    </tr>\n",
       "    <tr>\n",
       "      <th>2</th>\n",
       "      <td>DSCO is now available!</td>\n",
       "      <td>vsco@official.vsco.co</td>\n",
       "      <td>2021-02-28 21:23:21-03:00</td>\n",
       "      <td>viniapnm@gmail.com</td>\n",
       "      <td>inbox</td>\n",
       "      <td>1692992869753561945</td>\n",
       "      <td>Sunday</td>\n",
       "      <td>21.389167</td>\n",
       "      <td>2021</td>\n",
       "      <td>February</td>\n",
       "    </tr>\n",
       "    <tr>\n",
       "      <th>3</th>\n",
       "      <td>=?UTF-8?q?=E2=9A=A1=F0=9F=94=8C_Todo_o_materia...</td>\n",
       "      <td>offers@wish.com</td>\n",
       "      <td>2021-04-24 11:28:52-03:00</td>\n",
       "      <td>\"=?utf-8?q?Vin=C3=ADcius_Medeiros?=\" &lt;viniapnm...</td>\n",
       "      <td>inbox</td>\n",
       "      <td>1697932412812193275</td>\n",
       "      <td>Saturday</td>\n",
       "      <td>11.481111</td>\n",
       "      <td>2021</td>\n",
       "      <td>April</td>\n",
       "    </tr>\n",
       "    <tr>\n",
       "      <th>4</th>\n",
       "      <td>=?UTF-8?q?=F0=9F=8E=89_Confira_o_que_acabou_de...</td>\n",
       "      <td>offers@wish.com</td>\n",
       "      <td>2021-02-04 10:19:29-03:00</td>\n",
       "      <td>\"=?utf-8?q?Vin=C3=ADcius_Medeiros?=\" &lt;viniapnm...</td>\n",
       "      <td>inbox</td>\n",
       "      <td>1690770887097317107</td>\n",
       "      <td>Thursday</td>\n",
       "      <td>10.324722</td>\n",
       "      <td>2021</td>\n",
       "      <td>February</td>\n",
       "    </tr>\n",
       "  </tbody>\n",
       "</table>\n",
       "</div>"
      ],
      "text/plain": [
       "                                             subject                   from  \\\n",
       "0  =?UTF-8?q?Voc=C3=AA_tem_que_ter_estes_itens_em...        offers@wish.com   \n",
       "1                =?UTF-8?Q?=E3=80=90E-Pal=E3=80=91?=       official@epal.gg   \n",
       "2                            DSCO is now available!   vsco@official.vsco.co   \n",
       "3  =?UTF-8?q?=E2=9A=A1=F0=9F=94=8C_Todo_o_materia...        offers@wish.com   \n",
       "4  =?UTF-8?q?=F0=9F=8E=89_Confira_o_que_acabou_de...        offers@wish.com   \n",
       "\n",
       "                        date  \\\n",
       "0  2021-02-26 11:57:48-03:00   \n",
       "1  2021-03-06 19:56:44-03:00   \n",
       "2  2021-02-28 21:23:21-03:00   \n",
       "3  2021-04-24 11:28:52-03:00   \n",
       "4  2021-02-04 10:19:29-03:00   \n",
       "\n",
       "                                                  to  label  \\\n",
       "0  \"=?utf-8?q?Vin=C3=ADcius_Medeiros?=\" <viniapnm...  inbox   \n",
       "1                                 viniapnm@gmail.com  inbox   \n",
       "2                                 viniapnm@gmail.com  inbox   \n",
       "3  \"=?utf-8?q?Vin=C3=ADcius_Medeiros?=\" <viniapnm...  inbox   \n",
       "4  \"=?utf-8?q?Vin=C3=ADcius_Medeiros?=\" <viniapnm...  inbox   \n",
       "\n",
       "                thread dayofweek  timeofday  year     month  \n",
       "0  1692770206194795587    Friday  11.963333  2021  February  \n",
       "1  1693525113471893522  Saturday  19.945556  2021     March  \n",
       "2  1692992869753561945    Sunday  21.389167  2021  February  \n",
       "3  1697932412812193275  Saturday  11.481111  2021     April  \n",
       "4  1690770887097317107  Thursday  10.324722  2021  February  "
      ]
     },
     "execution_count": 4,
     "metadata": {},
     "output_type": "execute_result"
    }
   ],
   "source": [
    "email.head()"
   ]
  },
  {
   "cell_type": "markdown",
   "metadata": {},
   "source": [
    "# 1-"
   ]
  },
  {
   "cell_type": "code",
   "execution_count": 5,
   "metadata": {},
   "outputs": [
    {
     "data": {
      "text/plain": [
       "1159"
      ]
     },
     "execution_count": 5,
     "metadata": {},
     "output_type": "execute_result"
    }
   ],
   "source": [
    "anos = email[\"year\"].value_counts()\n",
    "mes = email[\"month\"].value_counts()\n",
    "dia = email[\"dayofweek\"].value_counts()\n",
    "anos.sum()"
   ]
  },
  {
   "cell_type": "code",
   "execution_count": 6,
   "metadata": {},
   "outputs": [
    {
     "data": {
      "text/plain": [
       "1159"
      ]
     },
     "execution_count": 6,
     "metadata": {},
     "output_type": "execute_result"
    }
   ],
   "source": [
    "media = email.value_counts().sum()\n",
    "media"
   ]
  },
  {
   "cell_type": "code",
   "execution_count": 7,
   "metadata": {},
   "outputs": [],
   "source": [
    "meses = ['Jan', 'Fev', 'Mar', 'Abr', 'Mai', 'Jun', 'Jul', 'Set', 'Ago', 'Out', 'Nov', 'Dez']"
   ]
  },
  {
   "cell_type": "code",
   "execution_count": 8,
   "metadata": {},
   "outputs": [],
   "source": [
    "total_anos = (\"2015\", \"2016\", \"2017\", \"2018\", \"2019\", \"2020\", \"2021\")"
   ]
  },
  {
   "cell_type": "code",
   "execution_count": 9,
   "metadata": {},
   "outputs": [],
   "source": [
    "semanas = [\"Segunda\", \"Terça\", \"Quarta\", \"Quinta\", \"Sexta\", \"Sábado\", \"Domingo\"]"
   ]
  },
  {
   "cell_type": "markdown",
   "metadata": {},
   "source": [
    "### Média de emails por ano"
   ]
  },
  {
   "cell_type": "code",
   "execution_count": 10,
   "metadata": {},
   "outputs": [],
   "source": [
    "ano_2015 = anos[2015]\n",
    "ano_2016 =  anos[2016]\n",
    "ano_2017 =  anos[2017]\n",
    "ano_2018 =  anos[2018]\n",
    "ano_2019 =  anos[2019]\n",
    "ano_2020 =  anos[2020]\n",
    "ano_2021 =  anos[2021]"
   ]
  },
  {
   "cell_type": "code",
   "execution_count": 11,
   "metadata": {},
   "outputs": [
    {
     "data": {
      "text/html": [
       "<div>\n",
       "<style scoped>\n",
       "    .dataframe tbody tr th:only-of-type {\n",
       "        vertical-align: middle;\n",
       "    }\n",
       "\n",
       "    .dataframe tbody tr th {\n",
       "        vertical-align: top;\n",
       "    }\n",
       "\n",
       "    .dataframe thead th {\n",
       "        text-align: right;\n",
       "    }\n",
       "</style>\n",
       "<table border=\"1\" class=\"dataframe\">\n",
       "  <thead>\n",
       "    <tr style=\"text-align: right;\">\n",
       "      <th></th>\n",
       "      <th>0</th>\n",
       "    </tr>\n",
       "  </thead>\n",
       "  <tbody>\n",
       "    <tr>\n",
       "      <th>2015</th>\n",
       "      <td>7</td>\n",
       "    </tr>\n",
       "    <tr>\n",
       "      <th>2016</th>\n",
       "      <td>23</td>\n",
       "    </tr>\n",
       "    <tr>\n",
       "      <th>2017</th>\n",
       "      <td>21</td>\n",
       "    </tr>\n",
       "    <tr>\n",
       "      <th>2018</th>\n",
       "      <td>19</td>\n",
       "    </tr>\n",
       "    <tr>\n",
       "      <th>2019</th>\n",
       "      <td>560</td>\n",
       "    </tr>\n",
       "    <tr>\n",
       "      <th>2020</th>\n",
       "      <td>377</td>\n",
       "    </tr>\n",
       "    <tr>\n",
       "      <th>2021</th>\n",
       "      <td>152</td>\n",
       "    </tr>\n",
       "  </tbody>\n",
       "</table>\n",
       "</div>"
      ],
      "text/plain": [
       "        0\n",
       "2015    7\n",
       "2016   23\n",
       "2017   21\n",
       "2018   19\n",
       "2019  560\n",
       "2020  377\n",
       "2021  152"
      ]
     },
     "execution_count": 11,
     "metadata": {},
     "output_type": "execute_result"
    }
   ],
   "source": [
    "media_anos = (ano_2015, ano_2016, ano_2017, ano_2018, ano_2019, ano_2020, ano_2021)\n",
    "mediaanos = pd.DataFrame(media_anos, total_anos)\n",
    "mediaanos[0] = mediaanos[0].round(3)\n",
    "Mediaanos = mediaanos[0]\n",
    "mediaanos"
   ]
  },
  {
   "cell_type": "code",
   "execution_count": 12,
   "metadata": {},
   "outputs": [
    {
     "data": {
      "image/png": "[encoded data removed]",
      "text/plain": [
       "<Figure size 432x288 with 1 Axes>"
      ]
     },
     "metadata": {
      "needs_background": "light"
     },
     "output_type": "display_data"
    }
   ],
   "source": [
    "plt.bar(total_anos, Mediaanos, color=\"green\")\n",
    "plt.ylabel(\"Emails\")\n",
    "plt.xlabel(\"Anos\")\n",
    "plt.title(\"Quantidade de emails por anos\")\n",
    "plt.show()"
   ]
  },
  {
   "cell_type": "markdown",
   "metadata": {},
   "source": [
    "### Média de emails por mês"
   ]
  },
  {
   "cell_type": "code",
   "execution_count": 13,
   "metadata": {},
   "outputs": [],
   "source": [
    "Janeiro = mes[\"January\"]\n",
    "Fevereiro = mes[\"February\"]\n",
    "Março = mes[\"March\"]\n",
    "Abril = mes[\"April\"]\n",
    "Maio = mes[\"May\"]\n",
    "Junho = mes[\"June\"]\n",
    "Julho = mes[\"July\"]\n",
    "Agosto = mes[\"August\"]\n",
    "Setembro = mes[\"September\"]\n",
    "Outubro = mes[\"October\"]\n",
    "Novembro = mes[\"November\"]\n",
    "Dezembro = mes[\"December\"]"
   ]
  },
  {
   "cell_type": "code",
   "execution_count": 14,
   "metadata": {},
   "outputs": [
    {
     "data": {
      "text/html": [
       "<div>\n",
       "<style scoped>\n",
       "    .dataframe tbody tr th:only-of-type {\n",
       "        vertical-align: middle;\n",
       "    }\n",
       "\n",
       "    .dataframe tbody tr th {\n",
       "        vertical-align: top;\n",
       "    }\n",
       "\n",
       "    .dataframe thead th {\n",
       "        text-align: right;\n",
       "    }\n",
       "</style>\n",
       "<table border=\"1\" class=\"dataframe\">\n",
       "  <thead>\n",
       "    <tr style=\"text-align: right;\">\n",
       "      <th></th>\n",
       "      <th>0</th>\n",
       "    </tr>\n",
       "  </thead>\n",
       "  <tbody>\n",
       "    <tr>\n",
       "      <th>Jan</th>\n",
       "      <td>81</td>\n",
       "    </tr>\n",
       "    <tr>\n",
       "      <th>Fev</th>\n",
       "      <td>83</td>\n",
       "    </tr>\n",
       "    <tr>\n",
       "      <th>Mar</th>\n",
       "      <td>165</td>\n",
       "    </tr>\n",
       "    <tr>\n",
       "      <th>Abr</th>\n",
       "      <td>145</td>\n",
       "    </tr>\n",
       "    <tr>\n",
       "      <th>Mai</th>\n",
       "      <td>108</td>\n",
       "    </tr>\n",
       "    <tr>\n",
       "      <th>Jun</th>\n",
       "      <td>102</td>\n",
       "    </tr>\n",
       "    <tr>\n",
       "      <th>Jul</th>\n",
       "      <td>124</td>\n",
       "    </tr>\n",
       "    <tr>\n",
       "      <th>Set</th>\n",
       "      <td>118</td>\n",
       "    </tr>\n",
       "    <tr>\n",
       "      <th>Ago</th>\n",
       "      <td>49</td>\n",
       "    </tr>\n",
       "    <tr>\n",
       "      <th>Out</th>\n",
       "      <td>47</td>\n",
       "    </tr>\n",
       "    <tr>\n",
       "      <th>Nov</th>\n",
       "      <td>77</td>\n",
       "    </tr>\n",
       "    <tr>\n",
       "      <th>Dez</th>\n",
       "      <td>60</td>\n",
       "    </tr>\n",
       "  </tbody>\n",
       "</table>\n",
       "</div>"
      ],
      "text/plain": [
       "       0\n",
       "Jan   81\n",
       "Fev   83\n",
       "Mar  165\n",
       "Abr  145\n",
       "Mai  108\n",
       "Jun  102\n",
       "Jul  124\n",
       "Set  118\n",
       "Ago   49\n",
       "Out   47\n",
       "Nov   77\n",
       "Dez   60"
      ]
     },
     "execution_count": 14,
     "metadata": {},
     "output_type": "execute_result"
    }
   ],
   "source": [
    "media_meses = (Janeiro, Fevereiro, Março, Abril, Maio, Junho, Julho, Agosto, Setembro, Outubro, Novembro, Dezembro)\n",
    "mediameses = pd.DataFrame(media_meses, meses)\n",
    "mediameses[0] = mediameses[0].round(3)\n",
    "Mediameses = mediameses[0]\n",
    "mediameses"
   ]
  },
  {
   "cell_type": "code",
   "execution_count": 15,
   "metadata": {},
   "outputs": [
    {
     "data": {
      "image/png": "[encoded data removed]",
      "text/plain": [
       "<Figure size 432x288 with 1 Axes>"
      ]
     },
     "metadata": {
      "needs_background": "light"
     },
     "output_type": "display_data"
    }
   ],
   "source": [
    "plt.bar(meses, Mediameses, color=\"red\")\n",
    "plt.ylabel(\"Emails\")\n",
    "plt.xlabel(\"Meses\")\n",
    "plt.title(\"Quantidade de emails recebidos por mês\")\n",
    "plt.show()"
   ]
  },
  {
   "cell_type": "markdown",
   "metadata": {},
   "source": [
    "### Média por dias da semana"
   ]
  },
  {
   "cell_type": "code",
   "execution_count": 16,
   "metadata": {},
   "outputs": [],
   "source": [
    "Segunda = dia[\"Monday\"]\n",
    "Terça = dia[\"Tuesday\"]\n",
    "Quarta = dia[\"Wednesday\"]\n",
    "Quinta = dia[\"Tuesday\"]\n",
    "Sexta = dia[\"Friday\"]\n",
    "Sábado = dia[\"Saturday\"]\n",
    "Domingo = dia[\"Sunday\"]"
   ]
  },
  {
   "cell_type": "code",
   "execution_count": 17,
   "metadata": {},
   "outputs": [
    {
     "data": {
      "text/html": [
       "<div>\n",
       "<style scoped>\n",
       "    .dataframe tbody tr th:only-of-type {\n",
       "        vertical-align: middle;\n",
       "    }\n",
       "\n",
       "    .dataframe tbody tr th {\n",
       "        vertical-align: top;\n",
       "    }\n",
       "\n",
       "    .dataframe thead th {\n",
       "        text-align: right;\n",
       "    }\n",
       "</style>\n",
       "<table border=\"1\" class=\"dataframe\">\n",
       "  <thead>\n",
       "    <tr style=\"text-align: right;\">\n",
       "      <th></th>\n",
       "      <th>0</th>\n",
       "    </tr>\n",
       "  </thead>\n",
       "  <tbody>\n",
       "    <tr>\n",
       "      <th>Segunda</th>\n",
       "      <td>167</td>\n",
       "    </tr>\n",
       "    <tr>\n",
       "      <th>Terça</th>\n",
       "      <td>174</td>\n",
       "    </tr>\n",
       "    <tr>\n",
       "      <th>Quarta</th>\n",
       "      <td>170</td>\n",
       "    </tr>\n",
       "    <tr>\n",
       "      <th>Quinta</th>\n",
       "      <td>174</td>\n",
       "    </tr>\n",
       "    <tr>\n",
       "      <th>Sexta</th>\n",
       "      <td>163</td>\n",
       "    </tr>\n",
       "    <tr>\n",
       "      <th>Sábado</th>\n",
       "      <td>167</td>\n",
       "    </tr>\n",
       "    <tr>\n",
       "      <th>Domingo</th>\n",
       "      <td>154</td>\n",
       "    </tr>\n",
       "  </tbody>\n",
       "</table>\n",
       "</div>"
      ],
      "text/plain": [
       "           0\n",
       "Segunda  167\n",
       "Terça    174\n",
       "Quarta   170\n",
       "Quinta   174\n",
       "Sexta    163\n",
       "Sábado   167\n",
       "Domingo  154"
      ]
     },
     "execution_count": 17,
     "metadata": {},
     "output_type": "execute_result"
    }
   ],
   "source": [
    "media_semanas = (Segunda, Terça, Quarta, Quinta, Sexta, Sábado, Domingo)\n",
    "mediasemanas = pd.DataFrame(media_semanas, semanas)\n",
    "Mediasemanas = mediasemanas[0]\n",
    "mediasemanas"
   ]
  },
  {
   "cell_type": "code",
   "execution_count": 18,
   "metadata": {},
   "outputs": [
    {
     "data": {
      "image/png": "[encoded data removed]",
      "text/plain": [
       "<Figure size 432x288 with 1 Axes>"
      ]
     },
     "metadata": {
      "needs_background": "light"
     },
     "output_type": "display_data"
    }
   ],
   "source": [
    "plt.bar(semanas, Mediasemanas, color=\"blue\")\n",
    "plt.ylabel(\"Emails\")\n",
    "plt.xlabel(\"Dias da semana\")\n",
    "plt.title(\"Quantidade de emails por semana\")\n",
    "plt.show()"
   ]
  },
  {
   "cell_type": "markdown",
   "metadata": {},
   "source": [
    " # 2-"
   ]
  },
  {
   "cell_type": "code",
   "execution_count": 19,
   "metadata": {},
   "outputs": [
    {
     "data": {
      "text/plain": [
       "202.94816871229332"
      ]
     },
     "execution_count": 19,
     "metadata": {},
     "output_type": "execute_result"
    }
   ],
   "source": [
    "anos.std(ddof=0)"
   ]
  },
  {
   "cell_type": "code",
   "execution_count": 20,
   "metadata": {},
   "outputs": [
    {
     "data": {
      "text/plain": [
       "35.66851630717986"
      ]
     },
     "execution_count": 20,
     "metadata": {},
     "output_type": "execute_result"
    }
   ],
   "source": [
    "mes.std(ddof=0)"
   ]
  },
  {
   "cell_type": "code",
   "execution_count": 21,
   "metadata": {},
   "outputs": [
    {
     "data": {
      "text/plain": [
       "5.827450872677468"
      ]
     },
     "execution_count": 21,
     "metadata": {},
     "output_type": "execute_result"
    }
   ],
   "source": [
    "dia.std(ddof=0)"
   ]
  },
  {
   "cell_type": "markdown",
   "metadata": {},
   "source": [
    "# 3-"
   ]
  },
  {
   "cell_type": "code",
   "execution_count": 22,
   "metadata": {},
   "outputs": [],
   "source": [
    "Mes = pd.DataFrame(mes)"
   ]
  },
  {
   "cell_type": "code",
   "execution_count": 23,
   "metadata": {},
   "outputs": [],
   "source": [
    "Dia = pd.DataFrame(dia)"
   ]
  },
  {
   "cell_type": "code",
   "execution_count": 24,
   "metadata": {},
   "outputs": [
    {
     "data": {
      "image/png": "[encoded data removed]",
      "text/plain": [
       "<Figure size 432x288 with 1 Axes>"
      ]
     },
     "metadata": {
      "needs_background": "light"
     },
     "output_type": "display_data"
    }
   ],
   "source": [
    "boxplot = email.boxplot(column=['year'])"
   ]
  },
  {
   "cell_type": "code",
   "execution_count": 25,
   "metadata": {},
   "outputs": [
    {
     "data": {
      "image/png": "[encoded data removed]",
      "text/plain": [
       "<Figure size 432x288 with 1 Axes>"
      ]
     },
     "metadata": {
      "needs_background": "light"
     },
     "output_type": "display_data"
    }
   ],
   "source": [
    "boxplot = Mes.boxplot(column=['month'])"
   ]
  },
  {
   "cell_type": "code",
   "execution_count": 26,
   "metadata": {},
   "outputs": [
    {
     "data": {
      "image/png": "[encoded data removed]",
      "text/plain": [
       "<Figure size 432x288 with 1 Axes>"
      ]
     },
     "metadata": {
      "needs_background": "light"
     },
     "output_type": "display_data"
    }
   ],
   "source": [
    "boxplot = Dia.boxplot(column=['dayofweek'])"
   ]
  },
  {
   "cell_type": "markdown",
   "metadata": {},
   "source": [
    "### 4)"
   ]
  },
  {
   "cell_type": "markdown",
   "metadata": {},
   "source": [
    "## Média de emails por semana no mes de abril de 2020"
   ]
  },
  {
   "cell_type": "code",
   "execution_count": 27,
   "metadata": {},
   "outputs": [],
   "source": [
    "abril= email[email.month==\"April\"]\n",
    "abril2020 = abril[abril.year==2020]"
   ]
  },
  {
   "cell_type": "code",
   "execution_count": 28,
   "metadata": {},
   "outputs": [
    {
     "data": {
      "text/plain": [
       "0.034722222222222224"
      ]
     },
     "execution_count": 28,
     "metadata": {},
     "output_type": "execute_result"
    }
   ],
   "source": [
    "25/720"
   ]
  },
  {
   "cell_type": "markdown",
   "metadata": {},
   "source": [
    "## Média de emails por semana no mes de novembro de 2020"
   ]
  },
  {
   "cell_type": "code",
   "execution_count": 29,
   "metadata": {},
   "outputs": [],
   "source": [
    "November = email[email.month==\"November\"]\n",
    "November2020 = November[November.year==2020]\n",
    "november2020 = pd.DataFrame(November2020[[\"year\",\"date\",\"dayofweek\"]])"
   ]
  },
  {
   "cell_type": "code",
   "execution_count": 30,
   "metadata": {},
   "outputs": [
    {
     "data": {
      "text/plain": [
       "0.05416666666666667"
      ]
     },
     "execution_count": 30,
     "metadata": {},
     "output_type": "execute_result"
    }
   ],
   "source": [
    "39/720"
   ]
  },
  {
   "cell_type": "markdown",
   "metadata": {},
   "source": [
    "# 5)"
   ]
  },
  {
   "cell_type": "code",
   "execution_count": 31,
   "metadata": {},
   "outputs": [],
   "source": [
    "rec = [\"Wish\", \"Depositphotos\", \"Motorola\", \"Googleplay\", \"iFood\", \"Canva\"]"
   ]
  },
  {
   "cell_type": "code",
   "execution_count": 32,
   "metadata": {},
   "outputs": [
    {
     "data": {
      "text/plain": [
       "from                      \n",
       "offers@wish.com               907\n",
       "mail@depositphotos.com         75\n",
       "info@motorola-mail.com         39\n",
       "news-googleplay@google.com     25\n",
       "news@news.ifood.com.br         16\n",
       "start@engage.canva.com         15\n",
       "dtype: int64"
      ]
     },
     "execution_count": 32,
     "metadata": {},
     "output_type": "execute_result"
    }
   ],
   "source": [
    "From = pd.DataFrame(email['from'])\n",
    "From = From.value_counts().head(6)\n",
    "From"
   ]
  },
  {
   "cell_type": "code",
   "execution_count": 33,
   "metadata": {},
   "outputs": [
    {
     "data": {
      "image/png": "[encoded data removed]",
      "text/plain": [
       "<Figure size 432x288 with 1 Axes>"
      ]
     },
     "metadata": {
      "needs_background": "light"
     },
     "output_type": "display_data"
    }
   ],
   "source": [
    "plt.bar(rec, From, color=\"red\")\n",
    "plt.ylabel(\"Quantidade de emails\")\n",
    "plt.xlabel(\"Remetente\")\n",
    "plt.title(\"Remetentes\")\n",
    "plt.show()"
   ]
  },
  {
   "cell_type": "markdown",
   "metadata": {},
   "source": [
    "# 6)"
   ]
  },
  {
   "cell_type": "code",
   "execution_count": 45,
   "metadata": {},
   "outputs": [],
   "source": [
    "def corrigir_nomes(nome):\n",
    "    nome = nome.replace('=?UTF-8?q?', '').replace('_', ' ').replace('=',''). replace('')\n",
    "    return nome"
   ]
  },
  {
   "cell_type": "code",
   "execution_count": 46,
   "metadata": {},
   "outputs": [],
   "source": [
    "email[\"subject\"] = email[\"subject\"].apply(corrigir_nomes)"
   ]
  },
  {
   "cell_type": "code",
   "execution_count": 47,
   "metadata": {},
   "outputs": [
    {
     "data": {
      "text/html": [
       "<div>\n",
       "<style scoped>\n",
       "    .dataframe tbody tr th:only-of-type {\n",
       "        vertical-align: middle;\n",
       "    }\n",
       "\n",
       "    .dataframe tbody tr th {\n",
       "        vertical-align: top;\n",
       "    }\n",
       "\n",
       "    .dataframe thead th {\n",
       "        text-align: right;\n",
       "    }\n",
       "</style>\n",
       "<table border=\"1\" class=\"dataframe\">\n",
       "  <thead>\n",
       "    <tr style=\"text-align: right;\">\n",
       "      <th></th>\n",
       "      <th>subject</th>\n",
       "      <th>from</th>\n",
       "      <th>date</th>\n",
       "      <th>to</th>\n",
       "      <th>label</th>\n",
       "      <th>thread</th>\n",
       "      <th>dayofweek</th>\n",
       "      <th>timeofday</th>\n",
       "      <th>year</th>\n",
       "      <th>month</th>\n",
       "      <th>Subject</th>\n",
       "    </tr>\n",
       "  </thead>\n",
       "  <tbody>\n",
       "    <tr>\n",
       "      <th>0</th>\n",
       "      <td>VocC3AA tem que ter estes itens em sua cozinha...</td>\n",
       "      <td>offers@wish.com</td>\n",
       "      <td>2021-02-26 11:57:48-03:00</td>\n",
       "      <td>\"=?utf-8?q?Vin=C3=ADcius_Medeiros?=\" &lt;viniapnm...</td>\n",
       "      <td>inbox</td>\n",
       "      <td>1692770206194795587</td>\n",
       "      <td>Friday</td>\n",
       "      <td>11.963333</td>\n",
       "      <td>2021</td>\n",
       "      <td>February</td>\n",
       "      <td>Voc=C3=AA_tem_que_ter_estes_itens_em_sua_cozin...</td>\n",
       "    </tr>\n",
       "    <tr>\n",
       "      <th>1</th>\n",
       "      <td>?UTF-8?Q?E38090E-PalE38091?</td>\n",
       "      <td>official@epal.gg</td>\n",
       "      <td>2021-03-06 19:56:44-03:00</td>\n",
       "      <td>viniapnm@gmail.com</td>\n",
       "      <td>inbox</td>\n",
       "      <td>1693525113471893522</td>\n",
       "      <td>Saturday</td>\n",
       "      <td>19.945556</td>\n",
       "      <td>2021</td>\n",
       "      <td>March</td>\n",
       "      <td>=?UTF-8?Q?=E3=80=90E-Pal=E3=80=91?=</td>\n",
       "    </tr>\n",
       "    <tr>\n",
       "      <th>2</th>\n",
       "      <td>DSCO is now available!</td>\n",
       "      <td>vsco@official.vsco.co</td>\n",
       "      <td>2021-02-28 21:23:21-03:00</td>\n",
       "      <td>viniapnm@gmail.com</td>\n",
       "      <td>inbox</td>\n",
       "      <td>1692992869753561945</td>\n",
       "      <td>Sunday</td>\n",
       "      <td>21.389167</td>\n",
       "      <td>2021</td>\n",
       "      <td>February</td>\n",
       "      <td>DSCO is now available!</td>\n",
       "    </tr>\n",
       "    <tr>\n",
       "      <th>3</th>\n",
       "      <td>E29AA1F09F948C Todo o material elC3A9trico que...</td>\n",
       "      <td>offers@wish.com</td>\n",
       "      <td>2021-04-24 11:28:52-03:00</td>\n",
       "      <td>\"=?utf-8?q?Vin=C3=ADcius_Medeiros?=\" &lt;viniapnm...</td>\n",
       "      <td>inbox</td>\n",
       "      <td>1697932412812193275</td>\n",
       "      <td>Saturday</td>\n",
       "      <td>11.481111</td>\n",
       "      <td>2021</td>\n",
       "      <td>April</td>\n",
       "      <td>=E2=9A=A1=F0=9F=94=8C_Todo_o_material_el=C3=A9...</td>\n",
       "    </tr>\n",
       "    <tr>\n",
       "      <th>4</th>\n",
       "      <td>F09F8E89 Confira o que acabou de chegar: Utens...</td>\n",
       "      <td>offers@wish.com</td>\n",
       "      <td>2021-02-04 10:19:29-03:00</td>\n",
       "      <td>\"=?utf-8?q?Vin=C3=ADcius_Medeiros?=\" &lt;viniapnm...</td>\n",
       "      <td>inbox</td>\n",
       "      <td>1690770887097317107</td>\n",
       "      <td>Thursday</td>\n",
       "      <td>10.324722</td>\n",
       "      <td>2021</td>\n",
       "      <td>February</td>\n",
       "      <td>=F0=9F=8E=89_Confira_o_que_acabou_de_chegar:_U...</td>\n",
       "    </tr>\n",
       "    <tr>\n",
       "      <th>...</th>\n",
       "      <td>...</td>\n",
       "      <td>...</td>\n",
       "      <td>...</td>\n",
       "      <td>...</td>\n",
       "      <td>...</td>\n",
       "      <td>...</td>\n",
       "      <td>...</td>\n",
       "      <td>...</td>\n",
       "      <td>...</td>\n",
       "      <td>...</td>\n",
       "      <td>...</td>\n",
       "    </tr>\n",
       "    <tr>\n",
       "      <th>1154</th>\n",
       "      <td>Fique confortC3A1vel em um dos nossos novos mo...</td>\n",
       "      <td>offers@wish.com</td>\n",
       "      <td>2019-12-16 10:19:47-03:00</td>\n",
       "      <td>\"=?utf-8?q?Vin=C3=ADcius_Medeiros?=\" &lt;viniapnm...</td>\n",
       "      <td>inbox</td>\n",
       "      <td>1653082570994743628</td>\n",
       "      <td>Monday</td>\n",
       "      <td>10.329722</td>\n",
       "      <td>2019</td>\n",
       "      <td>December</td>\n",
       "      <td>Fique_confort=C3=A1vel_em_um_dos_nossos_novos_...</td>\n",
       "    </tr>\n",
       "    <tr>\n",
       "      <th>1155</th>\n",
       "      <td>VocC3AA jC3A1 viu a nova mC3A1scara facial de ...</td>\n",
       "      <td>offers@wish.com</td>\n",
       "      <td>2020-11-06 18:56:40-03:00</td>\n",
       "      <td>\"=?utf-8?q?Vin=C3=ADcius_Medeiros?=\" &lt;viniapnm...</td>\n",
       "      <td>inbox</td>\n",
       "      <td>1682649698556022420</td>\n",
       "      <td>Friday</td>\n",
       "      <td>18.944444</td>\n",
       "      <td>2020</td>\n",
       "      <td>November</td>\n",
       "      <td>Voc=C3=AA_j=C3=A1_viu_a_nova_m=C3=A1scara_faci...</td>\n",
       "    </tr>\n",
       "    <tr>\n",
       "      <th>1156</th>\n",
       "      <td>F09F92A1F09F95AF;EFB88F As luminC3A1rias e LED...</td>\n",
       "      <td>offers@wish.com</td>\n",
       "      <td>2020-10-27 11:43:35-03:00</td>\n",
       "      <td>\"=?utf-8?q?Vin=C3=ADcius_Medeiros?=\" &lt;viniapnm...</td>\n",
       "      <td>inbox</td>\n",
       "      <td>1681716481326820081</td>\n",
       "      <td>Tuesday</td>\n",
       "      <td>11.726389</td>\n",
       "      <td>2020</td>\n",
       "      <td>October</td>\n",
       "      <td>=F0=9F=92=A1=F0=9F=95=AF;=EF=B8=8F_As_lumin=C3...</td>\n",
       "    </tr>\n",
       "    <tr>\n",
       "      <th>1157</th>\n",
       "      <td>60%, 70% ou 80% de desconto em bolsas &amp; cartei...</td>\n",
       "      <td>offers@wish.com</td>\n",
       "      <td>2019-08-13 11:42:16-03:00</td>\n",
       "      <td>\"=?utf-8?q?Vin=C3=ADcius_Medeiros?=\" &lt;viniapnm...</td>\n",
       "      <td>inbox</td>\n",
       "      <td>1641763136745729943</td>\n",
       "      <td>Tuesday</td>\n",
       "      <td>11.704444</td>\n",
       "      <td>2019</td>\n",
       "      <td>August</td>\n",
       "      <td>60%,_70%_ou_80%_de_desconto_em_bolsas_&amp;_cartei...</td>\n",
       "    </tr>\n",
       "    <tr>\n",
       "      <th>1158</th>\n",
       "      <td>LiquidaC3A7C3A3o de Laptop3F Compre um laptop ...</td>\n",
       "      <td>offers@wish.com</td>\n",
       "      <td>2020-07-11 12:06:03-03:00</td>\n",
       "      <td>\"=?utf-8?q?Vin=C3=ADcius_Medeiros?=\" &lt;viniapnm...</td>\n",
       "      <td>inbox</td>\n",
       "      <td>1671933422700946385</td>\n",
       "      <td>Saturday</td>\n",
       "      <td>12.100833</td>\n",
       "      <td>2020</td>\n",
       "      <td>July</td>\n",
       "      <td>Liquida=C3=A7=C3=A3o_de_Laptop=3F_Compre_um_la...</td>\n",
       "    </tr>\n",
       "  </tbody>\n",
       "</table>\n",
       "<p>1159 rows × 11 columns</p>\n",
       "</div>"
      ],
      "text/plain": [
       "                                                subject  \\\n",
       "0     VocC3AA tem que ter estes itens em sua cozinha...   \n",
       "1                           ?UTF-8?Q?E38090E-PalE38091?   \n",
       "2                               DSCO is now available!    \n",
       "3     E29AA1F09F948C Todo o material elC3A9trico que...   \n",
       "4     F09F8E89 Confira o que acabou de chegar: Utens...   \n",
       "...                                                 ...   \n",
       "1154  Fique confortC3A1vel em um dos nossos novos mo...   \n",
       "1155  VocC3AA jC3A1 viu a nova mC3A1scara facial de ...   \n",
       "1156  F09F92A1F09F95AF;EFB88F As luminC3A1rias e LED...   \n",
       "1157  60%, 70% ou 80% de desconto em bolsas & cartei...   \n",
       "1158  LiquidaC3A7C3A3o de Laptop3F Compre um laptop ...   \n",
       "\n",
       "                       from                       date  \\\n",
       "0           offers@wish.com  2021-02-26 11:57:48-03:00   \n",
       "1          official@epal.gg  2021-03-06 19:56:44-03:00   \n",
       "2     vsco@official.vsco.co  2021-02-28 21:23:21-03:00   \n",
       "3           offers@wish.com  2021-04-24 11:28:52-03:00   \n",
       "4           offers@wish.com  2021-02-04 10:19:29-03:00   \n",
       "...                     ...                        ...   \n",
       "1154        offers@wish.com  2019-12-16 10:19:47-03:00   \n",
       "1155        offers@wish.com  2020-11-06 18:56:40-03:00   \n",
       "1156        offers@wish.com  2020-10-27 11:43:35-03:00   \n",
       "1157        offers@wish.com  2019-08-13 11:42:16-03:00   \n",
       "1158        offers@wish.com  2020-07-11 12:06:03-03:00   \n",
       "\n",
       "                                                     to  label  \\\n",
       "0     \"=?utf-8?q?Vin=C3=ADcius_Medeiros?=\" <viniapnm...  inbox   \n",
       "1                                    viniapnm@gmail.com  inbox   \n",
       "2                                    viniapnm@gmail.com  inbox   \n",
       "3     \"=?utf-8?q?Vin=C3=ADcius_Medeiros?=\" <viniapnm...  inbox   \n",
       "4     \"=?utf-8?q?Vin=C3=ADcius_Medeiros?=\" <viniapnm...  inbox   \n",
       "...                                                 ...    ...   \n",
       "1154  \"=?utf-8?q?Vin=C3=ADcius_Medeiros?=\" <viniapnm...  inbox   \n",
       "1155  \"=?utf-8?q?Vin=C3=ADcius_Medeiros?=\" <viniapnm...  inbox   \n",
       "1156  \"=?utf-8?q?Vin=C3=ADcius_Medeiros?=\" <viniapnm...  inbox   \n",
       "1157  \"=?utf-8?q?Vin=C3=ADcius_Medeiros?=\" <viniapnm...  inbox   \n",
       "1158  \"=?utf-8?q?Vin=C3=ADcius_Medeiros?=\" <viniapnm...  inbox   \n",
       "\n",
       "                   thread dayofweek  timeofday  year     month  \\\n",
       "0     1692770206194795587    Friday  11.963333  2021  February   \n",
       "1     1693525113471893522  Saturday  19.945556  2021     March   \n",
       "2     1692992869753561945    Sunday  21.389167  2021  February   \n",
       "3     1697932412812193275  Saturday  11.481111  2021     April   \n",
       "4     1690770887097317107  Thursday  10.324722  2021  February   \n",
       "...                   ...       ...        ...   ...       ...   \n",
       "1154  1653082570994743628    Monday  10.329722  2019  December   \n",
       "1155  1682649698556022420    Friday  18.944444  2020  November   \n",
       "1156  1681716481326820081   Tuesday  11.726389  2020   October   \n",
       "1157  1641763136745729943   Tuesday  11.704444  2019    August   \n",
       "1158  1671933422700946385  Saturday  12.100833  2020      July   \n",
       "\n",
       "                                                Subject  \n",
       "0     Voc=C3=AA_tem_que_ter_estes_itens_em_sua_cozin...  \n",
       "1                   =?UTF-8?Q?=E3=80=90E-Pal=E3=80=91?=  \n",
       "2                               DSCO is now available!   \n",
       "3     =E2=9A=A1=F0=9F=94=8C_Todo_o_material_el=C3=A9...  \n",
       "4     =F0=9F=8E=89_Confira_o_que_acabou_de_chegar:_U...  \n",
       "...                                                 ...  \n",
       "1154  Fique_confort=C3=A1vel_em_um_dos_nossos_novos_...  \n",
       "1155  Voc=C3=AA_j=C3=A1_viu_a_nova_m=C3=A1scara_faci...  \n",
       "1156  =F0=9F=92=A1=F0=9F=95=AF;=EF=B8=8F_As_lumin=C3...  \n",
       "1157  60%,_70%_ou_80%_de_desconto_em_bolsas_&_cartei...  \n",
       "1158  Liquida=C3=A7=C3=A3o_de_Laptop=3F_Compre_um_la...  \n",
       "\n",
       "[1159 rows x 11 columns]"
      ]
     },
     "execution_count": 47,
     "metadata": {},
     "output_type": "execute_result"
    }
   ],
   "source": [
    "email"
   ]
  },
  {
   "cell_type": "markdown",
   "metadata": {},
   "source": [
    "# 7) Perguntas\n",
    "### Por que o mês de março e abril receberam mais emails em ralação aos demais meses do ano?"
   ]
  },
  {
   "cell_type": "markdown",
   "metadata": {},
   "source": []
  }
 ],
 "metadata": {
  "kernelspec": {
   "display_name": "Python 3",
   "language": "python",
   "name": "python3"
  },
  "language_info": {
   "codemirror_mode": {
    "name": "ipython",
    "version": 3
   },
   "file_extension": ".py",
   "mimetype": "text/x-python",
   "name": "python",
   "nbconvert_exporter": "python",
   "pygments_lexer": "ipython3",
   "version": "3.8.5"
  }
 },
 "nbformat": 4,
 "nbformat_minor": 4
}
