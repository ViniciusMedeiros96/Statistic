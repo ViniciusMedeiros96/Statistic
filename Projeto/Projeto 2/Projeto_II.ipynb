{
 "cells": [
  {
   "cell_type": "markdown",
   "metadata": {},
   "source": [
    "# 📬 Olá, neste projeto iremos desbravar a **Estatística descritiva** e analisar um DataFrame retirado de um gmail e responder algumas perguntas, venha comigo nesta jornada."
   ]
  },
  {
   "cell_type": "markdown",
   "metadata": {},
   "source": [
    "### Importando as bibliotecas necessárias para o projeto"
   ]
  },
  {
   "cell_type": "code",
   "execution_count": 1,
   "metadata": {},
   "outputs": [],
   "source": [
    "import pandas as pd\n",
    "import numpy as np\n",
    "import matplotlib.pyplot as plt\n",
    "import seaborn as sns\n",
    "from wordcloud import WordCloud, STOPWORDS, ImageColorGenerator"
   ]
  },
  {
   "cell_type": "markdown",
   "metadata": {},
   "source": [
    "### 🗄 Primeiro lendo os arquivos de email:"
   ]
  },
  {
   "cell_type": "code",
   "execution_count": 2,
   "metadata": {},
   "outputs": [],
   "source": [
    "email = pd.read_csv(\"https://raw.githubusercontent.com/vinimedeiros13/Statistic/main/Projeto/Projeto%202/emails_processados.csv\")"
   ]
  },
  {
   "cell_type": "markdown",
   "metadata": {},
   "source": [
    "#### Removendo o índice 0 que está atrapalhando as colunas:"
   ]
  },
  {
   "cell_type": "code",
   "execution_count": 3,
   "metadata": {},
   "outputs": [],
   "source": [
    "email.drop('Unnamed: 0', axis='columns', inplace=True)"
   ]
  },
  {
   "cell_type": "markdown",
   "metadata": {},
   "source": [
    "#### Exibindo uma pequena parte do DataFrame:"
   ]
  },
  {
   "cell_type": "code",
   "execution_count": 4,
   "metadata": {},
   "outputs": [
    {
     "data": {
      "text/html": [
       "<div>\n",
       "<style scoped>\n",
       "    .dataframe tbody tr th:only-of-type {\n",
       "        vertical-align: middle;\n",
       "    }\n",
       "\n",
       "    .dataframe tbody tr th {\n",
       "        vertical-align: top;\n",
       "    }\n",
       "\n",
       "    .dataframe thead th {\n",
       "        text-align: right;\n",
       "    }\n",
       "</style>\n",
       "<table border=\"1\" class=\"dataframe\">\n",
       "  <thead>\n",
       "    <tr style=\"text-align: right;\">\n",
       "      <th></th>\n",
       "      <th>subject</th>\n",
       "      <th>from</th>\n",
       "      <th>date</th>\n",
       "      <th>to</th>\n",
       "      <th>label</th>\n",
       "      <th>thread</th>\n",
       "      <th>dayofweek</th>\n",
       "      <th>timeofday</th>\n",
       "      <th>year</th>\n",
       "      <th>month</th>\n",
       "    </tr>\n",
       "  </thead>\n",
       "  <tbody>\n",
       "    <tr>\n",
       "      <th>0</th>\n",
       "      <td>=?UTF-8?q?Voc=C3=AA_tem_que_ter_estes_itens_em...</td>\n",
       "      <td>offers@wish.com</td>\n",
       "      <td>2021-02-26</td>\n",
       "      <td>\"=?utf-8?q?Vin=C3=ADcius_Medeiros?=\" &lt;viniapnm...</td>\n",
       "      <td>inbox</td>\n",
       "      <td>1692770206194795587</td>\n",
       "      <td>Friday</td>\n",
       "      <td>11.963333</td>\n",
       "      <td>2021</td>\n",
       "      <td>February</td>\n",
       "    </tr>\n",
       "    <tr>\n",
       "      <th>1</th>\n",
       "      <td>=?UTF-8?Q?=E3=80=90E-Pal=E3=80=91?=</td>\n",
       "      <td>official@epal.gg</td>\n",
       "      <td>2021-03-06</td>\n",
       "      <td>viniapnm@gmail.com</td>\n",
       "      <td>inbox</td>\n",
       "      <td>1693525113471893522</td>\n",
       "      <td>Saturday</td>\n",
       "      <td>19.945556</td>\n",
       "      <td>2021</td>\n",
       "      <td>March</td>\n",
       "    </tr>\n",
       "    <tr>\n",
       "      <th>2</th>\n",
       "      <td>DSCO is now available!</td>\n",
       "      <td>vsco@official.vsco.co</td>\n",
       "      <td>2021-02-28</td>\n",
       "      <td>viniapnm@gmail.com</td>\n",
       "      <td>inbox</td>\n",
       "      <td>1692992869753561945</td>\n",
       "      <td>Sunday</td>\n",
       "      <td>21.389167</td>\n",
       "      <td>2021</td>\n",
       "      <td>February</td>\n",
       "    </tr>\n",
       "    <tr>\n",
       "      <th>3</th>\n",
       "      <td>=?UTF-8?q?=E2=9A=A1=F0=9F=94=8C_Todo_o_materia...</td>\n",
       "      <td>offers@wish.com</td>\n",
       "      <td>2021-04-24</td>\n",
       "      <td>\"=?utf-8?q?Vin=C3=ADcius_Medeiros?=\" &lt;viniapnm...</td>\n",
       "      <td>inbox</td>\n",
       "      <td>1697932412812193275</td>\n",
       "      <td>Saturday</td>\n",
       "      <td>11.481111</td>\n",
       "      <td>2021</td>\n",
       "      <td>April</td>\n",
       "    </tr>\n",
       "    <tr>\n",
       "      <th>4</th>\n",
       "      <td>=?UTF-8?q?=F0=9F=8E=89_Confira_o_que_acabou_de...</td>\n",
       "      <td>offers@wish.com</td>\n",
       "      <td>2021-02-04</td>\n",
       "      <td>\"=?utf-8?q?Vin=C3=ADcius_Medeiros?=\" &lt;viniapnm...</td>\n",
       "      <td>inbox</td>\n",
       "      <td>1690770887097317107</td>\n",
       "      <td>Thursday</td>\n",
       "      <td>10.324722</td>\n",
       "      <td>2021</td>\n",
       "      <td>February</td>\n",
       "    </tr>\n",
       "  </tbody>\n",
       "</table>\n",
       "</div>"
      ],
      "text/plain": [
       "                                             subject                   from  \\\n",
       "0  =?UTF-8?q?Voc=C3=AA_tem_que_ter_estes_itens_em...        offers@wish.com   \n",
       "1                =?UTF-8?Q?=E3=80=90E-Pal=E3=80=91?=       official@epal.gg   \n",
       "2                            DSCO is now available!   vsco@official.vsco.co   \n",
       "3  =?UTF-8?q?=E2=9A=A1=F0=9F=94=8C_Todo_o_materia...        offers@wish.com   \n",
       "4  =?UTF-8?q?=F0=9F=8E=89_Confira_o_que_acabou_de...        offers@wish.com   \n",
       "\n",
       "         date                                                 to  label  \\\n",
       "0  2021-02-26  \"=?utf-8?q?Vin=C3=ADcius_Medeiros?=\" <viniapnm...  inbox   \n",
       "1  2021-03-06                                 viniapnm@gmail.com  inbox   \n",
       "2  2021-02-28                                 viniapnm@gmail.com  inbox   \n",
       "3  2021-04-24  \"=?utf-8?q?Vin=C3=ADcius_Medeiros?=\" <viniapnm...  inbox   \n",
       "4  2021-02-04  \"=?utf-8?q?Vin=C3=ADcius_Medeiros?=\" <viniapnm...  inbox   \n",
       "\n",
       "                thread dayofweek  timeofday  year     month  \n",
       "0  1692770206194795587    Friday  11.963333  2021  February  \n",
       "1  1693525113471893522  Saturday  19.945556  2021     March  \n",
       "2  1692992869753561945    Sunday  21.389167  2021  February  \n",
       "3  1697932412812193275  Saturday  11.481111  2021     April  \n",
       "4  1690770887097317107  Thursday  10.324722  2021  February  "
      ]
     },
     "execution_count": 4,
     "metadata": {},
     "output_type": "execute_result"
    }
   ],
   "source": [
    "email.head()"
   ]
  },
  {
   "cell_type": "markdown",
   "metadata": {},
   "source": [
    "## 📬 Temos emails de **2015** até **2021**, emails promocionais especificamente."
   ]
  },
  {
   "cell_type": "markdown",
   "metadata": {},
   "source": [
    "## **1) Quantos emails foram mandados por semana, por mês e por ano, considerando a janela de tempo dos dados baixados?**"
   ]
  },
  {
   "cell_type": "markdown",
   "metadata": {},
   "source": [
    "#### Criando 3 variáveis:\n",
    "* anos -> Irá armazenar os dados(emails) filtrando por anos\n",
    "* mes -> Irá armazenar os dados(emails) filtrando por mês\n",
    "* dia -> Irá armazenar os dados(emails) filtrando a cada 7 dias da primeira a última semana registrado"
   ]
  },
  {
   "cell_type": "code",
   "execution_count": 5,
   "metadata": {},
   "outputs": [],
   "source": [
    "anos = email[\"year\"].value_counts()"
   ]
  },
  {
   "cell_type": "code",
   "execution_count": 6,
   "metadata": {},
   "outputs": [],
   "source": [
    "mes = email[\"month\"].value_counts()"
   ]
  },
  {
   "cell_type": "code",
   "execution_count": 7,
   "metadata": {},
   "outputs": [],
   "source": [
    "email['date'] = pd.to_datetime(email['date'])\n",
    "dia = email.resample('W', on='date')['dayofweek'].count()"
   ]
  },
  {
   "cell_type": "markdown",
   "metadata": {},
   "source": [
    "### Exibindo os emails por ano:"
   ]
  },
  {
   "cell_type": "code",
   "execution_count": 8,
   "metadata": {},
   "outputs": [
    {
     "data": {
      "text/plain": [
       "2019    560\n",
       "2020    377\n",
       "2021    152\n",
       "2016     23\n",
       "2017     21\n",
       "2018     19\n",
       "2015      7\n",
       "Name: year, dtype: int64"
      ]
     },
     "execution_count": 8,
     "metadata": {},
     "output_type": "execute_result"
    }
   ],
   "source": [
    "anos"
   ]
  },
  {
   "cell_type": "markdown",
   "metadata": {},
   "source": [
    "### 📨 Logo de cara percebemos que 2019 foi o ano com mais emails"
   ]
  },
  {
   "cell_type": "markdown",
   "metadata": {},
   "source": [
    "### Exibindo os emails recebidos por mês:"
   ]
  },
  {
   "cell_type": "code",
   "execution_count": 9,
   "metadata": {},
   "outputs": [
    {
     "data": {
      "text/plain": [
       "March        165\n",
       "April        145\n",
       "July         124\n",
       "August       118\n",
       "May          108\n",
       "June         102\n",
       "February      83\n",
       "January       81\n",
       "November      77\n",
       "December      60\n",
       "September     49\n",
       "October       47\n",
       "Name: month, dtype: int64"
      ]
     },
     "execution_count": 9,
     "metadata": {},
     "output_type": "execute_result"
    }
   ],
   "source": [
    "mes"
   ]
  },
  {
   "cell_type": "markdown",
   "metadata": {},
   "source": [
    "### 📨 Março e abril foram os meses onde mais houveram emails"
   ]
  },
  {
   "cell_type": "code",
   "execution_count": 10,
   "metadata": {},
   "outputs": [
    {
     "data": {
      "text/plain": [
       "date\n",
       "2015-05-03     1\n",
       "2015-05-10     1\n",
       "2015-05-17     1\n",
       "2015-05-24     0\n",
       "2015-05-31     0\n",
       "              ..\n",
       "2021-03-28     7\n",
       "2021-04-04     8\n",
       "2021-04-11    10\n",
       "2021-04-18    10\n",
       "2021-04-25     7\n",
       "Freq: W-SUN, Name: dayofweek, Length: 313, dtype: int64"
      ]
     },
     "execution_count": 10,
     "metadata": {},
     "output_type": "execute_result"
    }
   ],
   "source": [
    "dia"
   ]
  },
  {
   "cell_type": "code",
   "execution_count": 12,
   "metadata": {},
   "outputs": [
    {
     "data": {
      "text/plain": [
       "Tuesday      174\n",
       "Wednesday    170\n",
       "Saturday     167\n",
       "Monday       167\n",
       "Thursday     164\n",
       "Friday       163\n",
       "Sunday       154\n",
       "Name: dayofweek, dtype: int64"
      ]
     },
     "execution_count": 12,
     "metadata": {},
     "output_type": "execute_result"
    }
   ],
   "source": [
    "email[\"dayofweek\"].value_counts()"
   ]
  },
  {
   "cell_type": "markdown",
   "metadata": {},
   "source": [
    "### 📨 Terça e quarta foram os dias da semana onde mais houveram emails"
   ]
  },
  {
   "cell_type": "markdown",
   "metadata": {},
   "source": [
    "#### Criando listas com strings que usaremos nos gráficos e nos DataFrames"
   ]
  },
  {
   "cell_type": "code",
   "execution_count": null,
   "metadata": {},
   "outputs": [],
   "source": [
    "meses = ['Jan', 'Fev', 'Mar', 'Abr', 'Mai', 'Jun', 'Jul', 'Set', 'Ago', 'Out', 'Nov', 'Dez']"
   ]
  },
  {
   "cell_type": "code",
   "execution_count": null,
   "metadata": {},
   "outputs": [],
   "source": [
    "total_anos = (\"2015\", \"2016\", \"2017\", \"2018\", \"2019\", \"2020\", \"2021\")"
   ]
  },
  {
   "cell_type": "code",
   "execution_count": null,
   "metadata": {},
   "outputs": [],
   "source": [
    "semanas = [\"Segunda\", \"Terça\", \"Quarta\", \"Quinta\", \"Sexta\", \"Sábado\", \"Domingo\"]"
   ]
  },
  {
   "cell_type": "markdown",
   "metadata": {},
   "source": [
    "## 🗃 **Emails por ano**"
   ]
  },
  {
   "cell_type": "markdown",
   "metadata": {},
   "source": [
    "#### Criando variáveis de cada ano para utilizar na criação de gráficos"
   ]
  },
  {
   "cell_type": "code",
   "execution_count": null,
   "metadata": {},
   "outputs": [],
   "source": [
    "ano_2015 = anos[2015]\n",
    "ano_2016 =  anos[2016]\n",
    "ano_2017 =  anos[2017]\n",
    "ano_2018 =  anos[2018]\n",
    "ano_2019 =  anos[2019]\n",
    "ano_2020 =  anos[2020]\n",
    "ano_2021 =  anos[2021]"
   ]
  },
  {
   "cell_type": "markdown",
   "metadata": {},
   "source": [
    "#### Criando um DataFrame para armazenar a quantidade de emails por anos"
   ]
  },
  {
   "cell_type": "code",
   "execution_count": null,
   "metadata": {},
   "outputs": [],
   "source": [
    "_anos = (ano_2015, ano_2016, ano_2017, ano_2018, ano_2019, ano_2020, ano_2021)\n",
    "aanos = pd.DataFrame(_anos, total_anos)\n",
    "aanos[0] = aanos[0].round(3)\n",
    "aanos"
   ]
  },
  {
   "cell_type": "markdown",
   "metadata": {},
   "source": [
    "### 📊 Plotando o gráfico para facilitar a visibilidade dos dados:"
   ]
  },
  {
   "cell_type": "code",
   "execution_count": null,
   "metadata": {},
   "outputs": [],
   "source": [
    "plt.bar(total_anos, _anos, color=[\"#801cdd\", \"#9237e6\"])\n",
    "plt.ylabel(\"Emails\")\n",
    "plt.xlabel(\"Anos\")\n",
    "plt.title(\"Quantidade de emails por anos\")\n",
    "plt.show()"
   ]
  },
  {
   "cell_type": "markdown",
   "metadata": {},
   "source": [
    "### 📉 Então temos 2019 líder de emails, em seguida 2020 e 2021."
   ]
  },
  {
   "cell_type": "markdown",
   "metadata": {},
   "source": [
    "## 🗃 **Emails por mês**"
   ]
  },
  {
   "cell_type": "markdown",
   "metadata": {},
   "source": [
    "#### Criando variáveis para armazenar os dados dos meses e usar posteriormente para plotar gráficos"
   ]
  },
  {
   "cell_type": "code",
   "execution_count": null,
   "metadata": {},
   "outputs": [],
   "source": [
    "Janeiro = mes[\"January\"]\n",
    "Fevereiro = mes[\"February\"]\n",
    "Março = mes[\"March\"]\n",
    "Abril = mes[\"April\"]\n",
    "Maio = mes[\"May\"]\n",
    "Junho = mes[\"June\"]\n",
    "Julho = mes[\"July\"]\n",
    "Agosto = mes[\"August\"]\n",
    "Setembro = mes[\"September\"]\n",
    "Outubro = mes[\"October\"]\n",
    "Novembro = mes[\"November\"]\n",
    "Dezembro = mes[\"December\"]"
   ]
  },
  {
   "cell_type": "markdown",
   "metadata": {},
   "source": [
    "#### Criando um DataFrame para armazenar a quantidade de emails por meses"
   ]
  },
  {
   "cell_type": "code",
   "execution_count": null,
   "metadata": {},
   "outputs": [],
   "source": [
    "_meses = (Janeiro, Fevereiro, Março, Abril, Maio, Junho, Julho, Agosto, Setembro, Outubro, Novembro, Dezembro)\n",
    "_Meses = pd.DataFrame(_meses, meses)\n",
    "_Meses[0] = _Meses[0].round(3)\n",
    "_Meses"
   ]
  },
  {
   "cell_type": "markdown",
   "metadata": {},
   "source": [
    "### 📊 Plotando o gráfico para facilitar a visibilidade dos dados:"
   ]
  },
  {
   "cell_type": "code",
   "execution_count": null,
   "metadata": {},
   "outputs": [],
   "source": [
    "plt.bar(meses, _meses, color=[\"#801cdd\", \"#9237e6\", \"#9c49e9\", \"#a65ceb\", \"#b06eed\"])\n",
    "plt.ylabel(\"Emails\")\n",
    "plt.xticks(rotation=40)\n",
    "plt.xlabel(\"Meses\")\n",
    "plt.title(\"Quantidade de emails recebidos por mês\")\n",
    "plt.show()"
   ]
  },
  {
   "cell_type": "markdown",
   "metadata": {},
   "source": [
    "### Março foi o mês onde mais houve mensagens, outubro teve a menor quantidade.\n",
    "\n",
    "### Podemos justificar março com mais emails levando em consideração que março tem alguns feriados como dia da mulher, podendo vir ofertas de produtos femininos. E março é o mês pós virada de ano e carnaval, ou seja, há uma movimentação comercial maior após essas datas."
   ]
  },
  {
   "cell_type": "markdown",
   "metadata": {},
   "source": [
    "## 🗃 **Emails por dias da semana**"
   ]
  },
  {
   "cell_type": "markdown",
   "metadata": {},
   "source": [
    "### Para agrupar emails por semana (a cada 7 dias):"
   ]
  },
  {
   "cell_type": "code",
   "execution_count": null,
   "metadata": {},
   "outputs": [],
   "source": [
    "email['date'] = pd.to_datetime(email['date'])\n",
    "dia = email.resample('W', on='date')['dayofweek'].count()\n",
    "dia.to_frame()"
   ]
  },
  {
   "cell_type": "markdown",
   "metadata": {},
   "source": [
    "### 📊 Plotando o gráfico para facilitar a visibilidade dos dados:"
   ]
  },
  {
   "cell_type": "code",
   "execution_count": null,
   "metadata": {},
   "outputs": [],
   "source": [
    "plt.figure(figsize=(15,10))\n",
    "dia.plot(color=[\"#801cdd\"])\n",
    "plt.xlabel(\"Emails a cada 7 dias ao longo dos anos\", size=20)\n",
    "plt.ylabel(\"Quantidade de emails\", size=20)\n",
    "plt.show()"
   ]
  },
  {
   "cell_type": "markdown",
   "metadata": {},
   "source": [
    "### Há um pico de emails por semana a parti de 2019, o que faz sentido olhando o gráfico de anos. 2019 chega a ter +25 emails por semanam Esses valores começam a cair em 2020, passando a ter no máximo 15 emails por semana."
   ]
  },
  {
   "cell_type": "markdown",
   "metadata": {},
   "source": [
    "## **2) Há uma variação significativa na quantidade de emails enviados por cada período considerado na questão anterior?**"
   ]
  },
  {
   "cell_type": "markdown",
   "metadata": {},
   "source": [
    "### 📝 Tirando o desvio padrão dos emails recebidos por anos:"
   ]
  },
  {
   "cell_type": "code",
   "execution_count": null,
   "metadata": {},
   "outputs": [],
   "source": [
    "anosdesvio = anos.std(ddof=0)\n",
    "anosdesvio"
   ]
  },
  {
   "cell_type": "code",
   "execution_count": null,
   "metadata": {},
   "outputs": [],
   "source": [
    "anosmedia = anos.mean()"
   ]
  },
  {
   "cell_type": "markdown",
   "metadata": {},
   "source": [
    "### 📝 Agora calculando a variância:"
   ]
  },
  {
   "cell_type": "code",
   "execution_count": null,
   "metadata": {},
   "outputs": [],
   "source": [
    "anos_var = anosdesvio*anosmedia/100\n",
    "anos_var"
   ]
  },
  {
   "cell_type": "markdown",
   "metadata": {},
   "source": [
    "### 📝 Tirando o desvio padrão dos emails recebidos por mês:"
   ]
  },
  {
   "cell_type": "code",
   "execution_count": null,
   "metadata": {},
   "outputs": [],
   "source": [
    "mesdesvio = mes.std(ddof=0)\n",
    "mesdesvio"
   ]
  },
  {
   "cell_type": "code",
   "execution_count": null,
   "metadata": {},
   "outputs": [],
   "source": [
    "mesmedia = mes.mean()"
   ]
  },
  {
   "cell_type": "markdown",
   "metadata": {},
   "source": [
    "### 📝 Agora calculando a variância:"
   ]
  },
  {
   "cell_type": "code",
   "execution_count": null,
   "metadata": {},
   "outputs": [],
   "source": [
    "mes_var = mesdesvio*mesmedia/100\n",
    "mes_var"
   ]
  },
  {
   "cell_type": "markdown",
   "metadata": {},
   "source": [
    "### 📝 Tirando o desvio padrão dos emails recebidos por dia:"
   ]
  },
  {
   "cell_type": "code",
   "execution_count": null,
   "metadata": {},
   "outputs": [],
   "source": [
    "diadesvio = dia.std(ddof=0)\n",
    "diadesvio"
   ]
  },
  {
   "cell_type": "code",
   "execution_count": null,
   "metadata": {},
   "outputs": [],
   "source": [
    "diamedia = dia.mean()"
   ]
  },
  {
   "cell_type": "markdown",
   "metadata": {},
   "source": [
    "### 📝 Agora calculando a variância:"
   ]
  },
  {
   "cell_type": "code",
   "execution_count": null,
   "metadata": {},
   "outputs": [],
   "source": [
    "dia_var = diadesvio*diamedia/100\n",
    "dia_var"
   ]
  },
  {
   "cell_type": "markdown",
   "metadata": {},
   "source": [
    "## **3) Existe algum período, dos considerados nas duas questões anteriores, em que o número de emails enviados possa ser considerado um outlier? Você enxerga alguma justificativa para esse período ter esse outlier, caso haja?**"
   ]
  },
  {
   "cell_type": "markdown",
   "metadata": {},
   "source": [
    "## 📆 Começando pelos **Meses**"
   ]
  },
  {
   "cell_type": "markdown",
   "metadata": {},
   "source": [
    "#### DataFrame dos meses criado anteriormente, agora utilizado para plotar um gráfico boxplot."
   ]
  },
  {
   "cell_type": "code",
   "execution_count": null,
   "metadata": {},
   "outputs": [],
   "source": [
    "_Meses"
   ]
  },
  {
   "cell_type": "markdown",
   "metadata": {},
   "source": [
    "#### Usando a função describe para ver média, mediana, valor máximo, etc."
   ]
  },
  {
   "cell_type": "code",
   "execution_count": null,
   "metadata": {},
   "outputs": [],
   "source": [
    "_Meses.describe()"
   ]
  },
  {
   "cell_type": "markdown",
   "metadata": {},
   "source": [
    "### Média = 96\n",
    "### Mediana = 92\n",
    "### Desvio padrão = 37\n",
    "### Valor mínimo = 47\n",
    "### Valor máximo = 165"
   ]
  },
  {
   "cell_type": "markdown",
   "metadata": {},
   "source": [
    "### Há um cálculo para verificar a presenção de Outliers:\n",
    "`Q + 1.5*IQR` <br>\n",
    "Q = Valor máximo ou mínimo <br>\n",
    "IQR = Valores do percentil 75% - 25%"
   ]
  },
  {
   "cell_type": "markdown",
   "metadata": {},
   "source": [
    "### 📈 Plotando o boxplot e verificar a existência de um outlier:"
   ]
  },
  {
   "cell_type": "code",
   "execution_count": null,
   "metadata": {},
   "outputs": [],
   "source": [
    "sns.set(rc={'figure.figsize':(12,8)})\n",
    "Box_mes = sns.boxplot(x=_Meses[0], color=\"#801cdd\")"
   ]
  },
  {
   "cell_type": "markdown",
   "metadata": {},
   "source": [
    "### Não há presença de Outliers, isso significa que não temos valores altos ou baixos demais, podemos ver isso pelo cálculo visto anteriormente."
   ]
  },
  {
   "cell_type": "markdown",
   "metadata": {},
   "source": [
    "`119 + (1.5*(119-72)) = 189.5`"
   ]
  },
  {
   "cell_type": "markdown",
   "metadata": {},
   "source": [
    "### Ou seja, o valor resultante está dentro do intervalo de valores máximos ou mínimos do boxplot"
   ]
  },
  {
   "cell_type": "markdown",
   "metadata": {},
   "source": [
    "## 📆 Agora em **Anos**"
   ]
  },
  {
   "cell_type": "markdown",
   "metadata": {},
   "source": [
    "#### DataFrame dos anos criado anteriormente, agora utilizado para plotar um gráfico boxplot."
   ]
  },
  {
   "cell_type": "code",
   "execution_count": null,
   "metadata": {},
   "outputs": [],
   "source": [
    "aanos"
   ]
  },
  {
   "cell_type": "markdown",
   "metadata": {},
   "source": [
    "#### Usando a função describe para ver média, mediana, valor máximo, etc."
   ]
  },
  {
   "cell_type": "code",
   "execution_count": null,
   "metadata": {},
   "outputs": [],
   "source": [
    "aanos.describe()"
   ]
  },
  {
   "cell_type": "markdown",
   "metadata": {},
   "source": [
    "### Média = 165\n",
    "### Mediana = 23\n",
    "### Desvio padrão = 219\n",
    "### Valor mínimo = 7\n",
    "### Valor máximo = 560"
   ]
  },
  {
   "cell_type": "markdown",
   "metadata": {},
   "source": [
    "### 📈 Plotando o boxplot e verificar a existência de um outlier"
   ]
  },
  {
   "cell_type": "code",
   "execution_count": null,
   "metadata": {},
   "outputs": [],
   "source": [
    "sns.set(rc={'figure.figsize':(12,8)})\n",
    "Box_ano = sns.boxplot(x=aanos[0], color=\"#9237e6\")"
   ]
  },
  {
   "cell_type": "markdown",
   "metadata": {},
   "source": [
    "### Também não há presença de Outliers, verificando pelo cálculo:"
   ]
  },
  {
   "cell_type": "markdown",
   "metadata": {},
   "source": [
    "`264 + (1.5*(264-20) = 630` <br>\n",
    "### Não há valores que ultrapassem o valor máximo de 630, logo não há presença de Outliers"
   ]
  },
  {
   "cell_type": "markdown",
   "metadata": {},
   "source": [
    "## 📆 Finalizando com os **dias da semana**"
   ]
  },
  {
   "cell_type": "code",
   "execution_count": null,
   "metadata": {},
   "outputs": [],
   "source": [
    "dia"
   ]
  },
  {
   "cell_type": "markdown",
   "metadata": {},
   "source": [
    "#### Usando um sort_values para ver as ocorrências dos valores, ascending = False para organizar do maior para o menor"
   ]
  },
  {
   "cell_type": "code",
   "execution_count": null,
   "metadata": {},
   "outputs": [],
   "source": [
    "dia.sort_values(ascending=False).head(5)"
   ]
  },
  {
   "cell_type": "markdown",
   "metadata": {},
   "source": [
    "#### Usando a função describe para ver média, mediana, valor máximo, etc."
   ]
  },
  {
   "cell_type": "code",
   "execution_count": null,
   "metadata": {},
   "outputs": [],
   "source": [
    "dia.describe()"
   ]
  },
  {
   "cell_type": "markdown",
   "metadata": {},
   "source": [
    "### Média = 3\n",
    "### Mediana = 1\n",
    "### Desvio padrão = 5\n",
    "### Valor mínimo = 0\n",
    "### Valor máximo = 27"
   ]
  },
  {
   "cell_type": "markdown",
   "metadata": {},
   "source": [
    "### 📈 Plotando o boxplot e verificar a existência de um outlier"
   ]
  },
  {
   "cell_type": "code",
   "execution_count": null,
   "metadata": {},
   "outputs": [],
   "source": [
    "sns.set(rc={'figure.figsize':(12,8)})\n",
    "Box_semanas = sns.boxplot(x=dia, color=\"#9237e6\")"
   ]
  },
  {
   "cell_type": "markdown",
   "metadata": {},
   "source": [
    "### Agora há presença de Outliers, vamos entender o por que\n",
    "#### Fazendo os cálculos:"
   ]
  },
  {
   "cell_type": "markdown",
   "metadata": {},
   "source": [
    "`6 + (1.5*(6)) = 15`"
   ]
  },
  {
   "cell_type": "markdown",
   "metadata": {},
   "source": [
    "### Há muitos valores que ultrapassam 15, vejamos alguns:"
   ]
  },
  {
   "cell_type": "code",
   "execution_count": null,
   "metadata": {},
   "outputs": [],
   "source": [
    "dia.sort_values(ascending=False).head(10)"
   ]
  },
  {
   "cell_type": "markdown",
   "metadata": {},
   "source": [
    "### Ou seja, várias semanas receberam mais de 15 emails, que é um valor acima do valor máximo."
   ]
  },
  {
   "cell_type": "markdown",
   "metadata": {},
   "source": [
    "## **4) Qual é o número médio de e-mails por hora? Essa média varia ao longo da semana?**"
   ]
  },
  {
   "cell_type": "markdown",
   "metadata": {},
   "source": [
    "## Retirando uma amostra dos dados completos e escolhendo os meses de abril e novembro de 2020 para fazer as comparações:"
   ]
  },
  {
   "cell_type": "markdown",
   "metadata": {},
   "source": [
    "### Média de emails por semana no mes de **abril de 2020**"
   ]
  },
  {
   "cell_type": "code",
   "execution_count": null,
   "metadata": {},
   "outputs": [],
   "source": [
    "abril= email[email.month==\"April\"]\n",
    "Abril2020 = abril[abril.year==2020]\n",
    "abril2020 = pd.DataFrame(Abril2020[[\"year\",\"date\",\"dayofweek\"]])"
   ]
  },
  {
   "cell_type": "code",
   "execution_count": null,
   "metadata": {},
   "outputs": [],
   "source": [
    "médiaabril = 25/720\n",
    "médiaabril"
   ]
  },
  {
   "cell_type": "markdown",
   "metadata": {},
   "source": [
    "### 🗃 No mês de abril de 2020 houve uma média de 0.03 de emails recebidos por hora."
   ]
  },
  {
   "cell_type": "markdown",
   "metadata": {},
   "source": [
    "### Média de emails por semana no mes de **novembro de 2020**"
   ]
  },
  {
   "cell_type": "code",
   "execution_count": null,
   "metadata": {},
   "outputs": [],
   "source": [
    "November = email[email.month==\"November\"]\n",
    "November2020 = November[November.year==2020]\n",
    "november2020 = pd.DataFrame(November2020[[\"year\",\"date\",\"dayofweek\"]])"
   ]
  },
  {
   "cell_type": "code",
   "execution_count": null,
   "metadata": {},
   "outputs": [],
   "source": [
    "médianovembro = 39/720\n",
    "médianovembro"
   ]
  },
  {
   "cell_type": "code",
   "execution_count": null,
   "metadata": {},
   "outputs": [],
   "source": [
    "x = ['Abril', \"Novembro\"]\n",
    "y = [médiaabril, médianovembro]"
   ]
  },
  {
   "cell_type": "markdown",
   "metadata": {},
   "source": [
    "### 🗃 Em novembro a média subiu para 0.05 emails por hora."
   ]
  },
  {
   "cell_type": "code",
   "execution_count": null,
   "metadata": {},
   "outputs": [],
   "source": [
    "plt.bar(x, y, color=[\"#801cdd\", \"#9237e6\"])\n",
    "plt.ylabel(\"Emails por hora\", size=20)\n",
    "plt.xlabel(\"Comparação\")\n",
    "plt.title(\"Média de emails\", size=20)\n",
    "plt.show()"
   ]
  },
  {
   "cell_type": "markdown",
   "metadata": {},
   "source": [
    "### Se justifica Novembro ter recebido mais emails promocionais por ser final de ano, época de mais vendas de produtos. Então a média de emails em novembro foi superior a de abril."
   ]
  },
  {
   "cell_type": "markdown",
   "metadata": {},
   "source": [
    "## **5) Com quem me comunico com mais frequência, por meio de emails? Considere tanto por envio, quanto por recepção de emails**"
   ]
  },
  {
   "cell_type": "markdown",
   "metadata": {},
   "source": [
    "#### Criando uma lista com os principais remetentes dos e-mails"
   ]
  },
  {
   "cell_type": "code",
   "execution_count": null,
   "metadata": {},
   "outputs": [],
   "source": [
    "rec = [\"Wish\", \"Depositphotos\", \"Motorola\", \"Googleplay\", \"iFood\", \"Canva\"]"
   ]
  },
  {
   "cell_type": "markdown",
   "metadata": {},
   "source": [
    "#### Exibindo os remetentes que mais enviaram e-mails"
   ]
  },
  {
   "cell_type": "code",
   "execution_count": null,
   "metadata": {},
   "outputs": [],
   "source": [
    "From = pd.DataFrame(email['from'])\n",
    "From = From.value_counts().head(6)\n",
    "From"
   ]
  },
  {
   "cell_type": "markdown",
   "metadata": {},
   "source": [
    "### 📊 Mostrando os dados da tabela graficamente:"
   ]
  },
  {
   "cell_type": "code",
   "execution_count": null,
   "metadata": {},
   "outputs": [],
   "source": [
    "plt.bar(rec, From, color=[\"#801cdd\", \"#9237e6\", \"#9c49e9\"])\n",
    "plt.ylabel(\"Quantidade de emails\")\n",
    "plt.xticks(rotation=40)\n",
    "plt.xlabel(\"Remetente\")\n",
    "plt.title(\"Remetentes\")\n",
    "plt.show()"
   ]
  },
  {
   "cell_type": "markdown",
   "metadata": {},
   "source": [
    "### 📉 Wish aparece gritantemente em primeiro, possivelmente por enviar diariamente emails com promoções de produtos"
   ]
  },
  {
   "cell_type": "markdown",
   "metadata": {},
   "source": [
    "## **6) Quais os temas mais comumente tratados nos emails considerados?**"
   ]
  },
  {
   "cell_type": "markdown",
   "metadata": {},
   "source": [
    "#### Removendo alguns caracteres indesejados que estão atrapalhando a visualizações dos assuntos dos emails"
   ]
  },
  {
   "cell_type": "code",
   "execution_count": null,
   "metadata": {},
   "outputs": [],
   "source": [
    "stopwords = set(STOPWORDS)\n",
    "stopwords.update([\"UTF\", '=?UTF-8?q?', \"F7\", \"q\", \"A7\", \"A3\", \"AA\", \"U\", \"A5\", \"A3\", \"F0\", \"3F\", \"C3\", \"9F\", \"8C\", \"E2\", \"8F\", \"_\"])"
   ]
  },
  {
   "cell_type": "markdown",
   "metadata": {},
   "source": [
    "#### Gerando uma núvem de palavras para exibir os assuntos mais presentes nos emails"
   ]
  },
  {
   "cell_type": "code",
   "execution_count": null,
   "metadata": {},
   "outputs": [],
   "source": [
    "text=  \" \".join(s for s in email.subject)\n",
    "wordcloud = WordCloud(width=1200, height=900, background_color=\"black\", stopwords = stopwords).generate(text)\n",
    "fig, ax = plt.subplots(figsize=(25,12))\n",
    "ax.imshow(wordcloud, interpolation='bilinear')\n",
    "ax.set_axis_off()\n",
    "plt.imshow(wordcloud);"
   ]
  },
  {
   "cell_type": "markdown",
   "metadata": {},
   "source": [
    "### Nuvem de palavras com os assuntos principais dos Emails"
   ]
  },
  {
   "cell_type": "markdown",
   "metadata": {},
   "source": [
    "## **Por que os mês de abril recebeu menos emails que novembro no ano de 2020?**"
   ]
  },
  {
   "cell_type": "markdown",
   "metadata": {},
   "source": [
    "#### Verificando a quantidade de emails recebidos em abril de 2020"
   ]
  },
  {
   "cell_type": "code",
   "execution_count": null,
   "metadata": {},
   "outputs": [],
   "source": [
    "abril2020[\"year\"].value_counts()"
   ]
  },
  {
   "cell_type": "markdown",
   "metadata": {},
   "source": [
    "#### Verificando a quantidade de emails recebidos em novembro de 2020"
   ]
  },
  {
   "cell_type": "code",
   "execution_count": null,
   "metadata": {},
   "outputs": [],
   "source": [
    "november2020[\"year\"].value_counts()"
   ]
  },
  {
   "cell_type": "code",
   "execution_count": null,
   "metadata": {},
   "outputs": [],
   "source": [
    "valores = [25, 39]"
   ]
  },
  {
   "cell_type": "code",
   "execution_count": null,
   "metadata": {},
   "outputs": [],
   "source": [
    "MESES = [\"Abril\", \"Novembro\"]"
   ]
  },
  {
   "cell_type": "markdown",
   "metadata": {},
   "source": [
    "### 📊 Plotando o gráfico para fazer as comparações"
   ]
  },
  {
   "cell_type": "code",
   "execution_count": null,
   "metadata": {},
   "outputs": [],
   "source": [
    "plt.bar(MESES, valores, color=[\"#801cdd\", \"#9237e6\"])\n",
    "plt.ylabel(\"Emails\")\n",
    "plt.xlabel(\"Anos\")\n",
    "plt.title(\"Quantidade de emails por anos\")\n",
    "plt.show()"
   ]
  },
  {
   "cell_type": "markdown",
   "metadata": {},
   "source": [
    "### Igual visto anteriormente, Novembro se caracteriza por ser o início de vendas de produtos do final de ano. Liquidações, promoções em todas as lojas, há também a black friday, onde vários brasileiros compram produtos diversos. Isso justifica o pico de Emails promocionais em novembro."
   ]
  },
  {
   "cell_type": "markdown",
   "metadata": {},
   "source": [
    "## **Qual o horário de pico de recebimentos de email?**"
   ]
  },
  {
   "cell_type": "markdown",
   "metadata": {},
   "source": [
    "#### Pegando a coluna \"timeofday\" para filtrar as horas de email"
   ]
  },
  {
   "cell_type": "code",
   "execution_count": null,
   "metadata": {},
   "outputs": [],
   "source": [
    "email[\"timeofday\"]\n",
    "horas = email['timeofday'].astype(int)\n",
    "Horas = horas.value_counts()\n",
    "listvalues = Horas.values"
   ]
  },
  {
   "cell_type": "code",
   "execution_count": null,
   "metadata": {},
   "outputs": [],
   "source": [
    "listhoras = Horas.index"
   ]
  },
  {
   "cell_type": "markdown",
   "metadata": {},
   "source": [
    "### 📊 Plotando o gráfico"
   ]
  },
  {
   "cell_type": "code",
   "execution_count": null,
   "metadata": {},
   "outputs": [],
   "source": [
    "plt.bar(listhoras, listvalues, color=[\"#801cdd\", \"#9237e6\"])\n",
    "plt.ylabel(\"Emails\")\n",
    "plt.xlabel(\"Horas\")\n",
    "plt.title(\"Quantidade de emails por hora do dia\")\n",
    "plt.show()"
   ]
  },
  {
   "cell_type": "markdown",
   "metadata": {},
   "source": [
    "### Dessa forma, 11 horas foi o horário pico de emails, chegando a receber quase 350 emails. 10 horas recebeu 160 emails, ficando em segundo lugar, depois das 11 horas os emails ficaram entre 20 e 100."
   ]
  },
  {
   "cell_type": "markdown",
   "metadata": {},
   "source": [
    "## Enfim, finalizamos nossa análise dos Emails promocionais. Achei muito interessante analisar meu inbox promocional e perceber o tanto de promoção que perdi haha. Estatística descritiva é uma área muito interessante e pretendo fazer mais projetos como esse."
   ]
  }
 ],
 "metadata": {
  "kernelspec": {
   "display_name": "Python 3",
   "language": "python",
   "name": "python3"
  },
  "language_info": {
   "codemirror_mode": {
    "name": "ipython",
    "version": 3
   },
   "file_extension": ".py",
   "mimetype": "text/x-python",
   "name": "python",
   "nbconvert_exporter": "python",
   "pygments_lexer": "ipython3",
   "version": "3.8.5"
  }
 },
 "nbformat": 4,
 "nbformat_minor": 4
}
