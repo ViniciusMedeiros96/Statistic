{
 "cells": [
  {
   "cell_type": "code",
   "execution_count": 1,
   "metadata": {},
   "outputs": [],
   "source": [
    "import pandas as pd\n",
    "import numpy as np\n",
    "import matplotlib.pyplot as plt\n",
    "import seaborn as sns\n",
    "from scipy import stats"
   ]
  },
  {
   "cell_type": "code",
   "execution_count": 2,
   "metadata": {},
   "outputs": [],
   "source": [
    "email = pd.read_csv(\"emails_processados.csv\")"
   ]
  },
  {
   "cell_type": "code",
   "execution_count": 3,
   "metadata": {},
   "outputs": [],
   "source": [
    "email.drop('Unnamed: 0', axis='columns', inplace=True)"
   ]
  },
  {
   "cell_type": "code",
   "execution_count": 4,
   "metadata": {},
   "outputs": [
    {
     "data": {
      "text/html": [
       "<div>\n",
       "<style scoped>\n",
       "    .dataframe tbody tr th:only-of-type {\n",
       "        vertical-align: middle;\n",
       "    }\n",
       "\n",
       "    .dataframe tbody tr th {\n",
       "        vertical-align: top;\n",
       "    }\n",
       "\n",
       "    .dataframe thead th {\n",
       "        text-align: right;\n",
       "    }\n",
       "</style>\n",
       "<table border=\"1\" class=\"dataframe\">\n",
       "  <thead>\n",
       "    <tr style=\"text-align: right;\">\n",
       "      <th></th>\n",
       "      <th>subject</th>\n",
       "      <th>from</th>\n",
       "      <th>date</th>\n",
       "      <th>to</th>\n",
       "      <th>label</th>\n",
       "      <th>thread</th>\n",
       "      <th>dayofweek</th>\n",
       "      <th>timeofday</th>\n",
       "      <th>year</th>\n",
       "      <th>month</th>\n",
       "    </tr>\n",
       "  </thead>\n",
       "  <tbody>\n",
       "    <tr>\n",
       "      <th>0</th>\n",
       "      <td>=?UTF-8?q?Voc=C3=AA_tem_que_ter_estes_itens_em...</td>\n",
       "      <td>offers@wish.com</td>\n",
       "      <td>2021-02-26 11:57:48-03:00</td>\n",
       "      <td>\"=?utf-8?q?Vin=C3=ADcius_Medeiros?=\" &lt;viniapnm...</td>\n",
       "      <td>inbox</td>\n",
       "      <td>1692770206194795587</td>\n",
       "      <td>Friday</td>\n",
       "      <td>11.963333</td>\n",
       "      <td>2021</td>\n",
       "      <td>February</td>\n",
       "    </tr>\n",
       "    <tr>\n",
       "      <th>1</th>\n",
       "      <td>=?UTF-8?Q?=E3=80=90E-Pal=E3=80=91?=</td>\n",
       "      <td>official@epal.gg</td>\n",
       "      <td>2021-03-06 19:56:44-03:00</td>\n",
       "      <td>viniapnm@gmail.com</td>\n",
       "      <td>inbox</td>\n",
       "      <td>1693525113471893522</td>\n",
       "      <td>Saturday</td>\n",
       "      <td>19.945556</td>\n",
       "      <td>2021</td>\n",
       "      <td>March</td>\n",
       "    </tr>\n",
       "    <tr>\n",
       "      <th>2</th>\n",
       "      <td>DSCO is now available!</td>\n",
       "      <td>vsco@official.vsco.co</td>\n",
       "      <td>2021-02-28 21:23:21-03:00</td>\n",
       "      <td>viniapnm@gmail.com</td>\n",
       "      <td>inbox</td>\n",
       "      <td>1692992869753561945</td>\n",
       "      <td>Sunday</td>\n",
       "      <td>21.389167</td>\n",
       "      <td>2021</td>\n",
       "      <td>February</td>\n",
       "    </tr>\n",
       "    <tr>\n",
       "      <th>3</th>\n",
       "      <td>=?UTF-8?q?=E2=9A=A1=F0=9F=94=8C_Todo_o_materia...</td>\n",
       "      <td>offers@wish.com</td>\n",
       "      <td>2021-04-24 11:28:52-03:00</td>\n",
       "      <td>\"=?utf-8?q?Vin=C3=ADcius_Medeiros?=\" &lt;viniapnm...</td>\n",
       "      <td>inbox</td>\n",
       "      <td>1697932412812193275</td>\n",
       "      <td>Saturday</td>\n",
       "      <td>11.481111</td>\n",
       "      <td>2021</td>\n",
       "      <td>April</td>\n",
       "    </tr>\n",
       "    <tr>\n",
       "      <th>4</th>\n",
       "      <td>=?UTF-8?q?=F0=9F=8E=89_Confira_o_que_acabou_de...</td>\n",
       "      <td>offers@wish.com</td>\n",
       "      <td>2021-02-04 10:19:29-03:00</td>\n",
       "      <td>\"=?utf-8?q?Vin=C3=ADcius_Medeiros?=\" &lt;viniapnm...</td>\n",
       "      <td>inbox</td>\n",
       "      <td>1690770887097317107</td>\n",
       "      <td>Thursday</td>\n",
       "      <td>10.324722</td>\n",
       "      <td>2021</td>\n",
       "      <td>February</td>\n",
       "    </tr>\n",
       "    <tr>\n",
       "      <th>...</th>\n",
       "      <td>...</td>\n",
       "      <td>...</td>\n",
       "      <td>...</td>\n",
       "      <td>...</td>\n",
       "      <td>...</td>\n",
       "      <td>...</td>\n",
       "      <td>...</td>\n",
       "      <td>...</td>\n",
       "      <td>...</td>\n",
       "      <td>...</td>\n",
       "    </tr>\n",
       "    <tr>\n",
       "      <th>1154</th>\n",
       "      <td>=?UTF-8?q?Fique_confort=C3=A1vel_em_um_dos_nos...</td>\n",
       "      <td>offers@wish.com</td>\n",
       "      <td>2019-12-16 10:19:47-03:00</td>\n",
       "      <td>\"=?utf-8?q?Vin=C3=ADcius_Medeiros?=\" &lt;viniapnm...</td>\n",
       "      <td>inbox</td>\n",
       "      <td>1653082570994743628</td>\n",
       "      <td>Monday</td>\n",
       "      <td>10.329722</td>\n",
       "      <td>2019</td>\n",
       "      <td>December</td>\n",
       "    </tr>\n",
       "    <tr>\n",
       "      <th>1155</th>\n",
       "      <td>=?UTF-8?q?Voc=C3=AA_j=C3=A1_viu_a_nova_m=C3=A1...</td>\n",
       "      <td>offers@wish.com</td>\n",
       "      <td>2020-11-06 18:56:40-03:00</td>\n",
       "      <td>\"=?utf-8?q?Vin=C3=ADcius_Medeiros?=\" &lt;viniapnm...</td>\n",
       "      <td>inbox</td>\n",
       "      <td>1682649698556022420</td>\n",
       "      <td>Friday</td>\n",
       "      <td>18.944444</td>\n",
       "      <td>2020</td>\n",
       "      <td>November</td>\n",
       "    </tr>\n",
       "    <tr>\n",
       "      <th>1156</th>\n",
       "      <td>=?UTF-8?q?=F0=9F=92=A1=F0=9F=95=AF;=EF=B8=8F_A...</td>\n",
       "      <td>offers@wish.com</td>\n",
       "      <td>2020-10-27 11:43:35-03:00</td>\n",
       "      <td>\"=?utf-8?q?Vin=C3=ADcius_Medeiros?=\" &lt;viniapnm...</td>\n",
       "      <td>inbox</td>\n",
       "      <td>1681716481326820081</td>\n",
       "      <td>Tuesday</td>\n",
       "      <td>11.726389</td>\n",
       "      <td>2020</td>\n",
       "      <td>October</td>\n",
       "    </tr>\n",
       "    <tr>\n",
       "      <th>1157</th>\n",
       "      <td>=?UTF-8?q?60%,_70%_ou_80%_de_desconto_em_bolsa...</td>\n",
       "      <td>offers@wish.com</td>\n",
       "      <td>2019-08-13 11:42:16-03:00</td>\n",
       "      <td>\"=?utf-8?q?Vin=C3=ADcius_Medeiros?=\" &lt;viniapnm...</td>\n",
       "      <td>inbox</td>\n",
       "      <td>1641763136745729943</td>\n",
       "      <td>Tuesday</td>\n",
       "      <td>11.704444</td>\n",
       "      <td>2019</td>\n",
       "      <td>August</td>\n",
       "    </tr>\n",
       "    <tr>\n",
       "      <th>1158</th>\n",
       "      <td>=?UTF-8?q?Liquida=C3=A7=C3=A3o_de_Laptop=3F_Co...</td>\n",
       "      <td>offers@wish.com</td>\n",
       "      <td>2020-07-11 12:06:03-03:00</td>\n",
       "      <td>\"=?utf-8?q?Vin=C3=ADcius_Medeiros?=\" &lt;viniapnm...</td>\n",
       "      <td>inbox</td>\n",
       "      <td>1671933422700946385</td>\n",
       "      <td>Saturday</td>\n",
       "      <td>12.100833</td>\n",
       "      <td>2020</td>\n",
       "      <td>July</td>\n",
       "    </tr>\n",
       "  </tbody>\n",
       "</table>\n",
       "<p>1159 rows × 10 columns</p>\n",
       "</div>"
      ],
      "text/plain": [
       "                                                subject  \\\n",
       "0     =?UTF-8?q?Voc=C3=AA_tem_que_ter_estes_itens_em...   \n",
       "1                   =?UTF-8?Q?=E3=80=90E-Pal=E3=80=91?=   \n",
       "2                               DSCO is now available!    \n",
       "3     =?UTF-8?q?=E2=9A=A1=F0=9F=94=8C_Todo_o_materia...   \n",
       "4     =?UTF-8?q?=F0=9F=8E=89_Confira_o_que_acabou_de...   \n",
       "...                                                 ...   \n",
       "1154  =?UTF-8?q?Fique_confort=C3=A1vel_em_um_dos_nos...   \n",
       "1155  =?UTF-8?q?Voc=C3=AA_j=C3=A1_viu_a_nova_m=C3=A1...   \n",
       "1156  =?UTF-8?q?=F0=9F=92=A1=F0=9F=95=AF;=EF=B8=8F_A...   \n",
       "1157  =?UTF-8?q?60%,_70%_ou_80%_de_desconto_em_bolsa...   \n",
       "1158  =?UTF-8?q?Liquida=C3=A7=C3=A3o_de_Laptop=3F_Co...   \n",
       "\n",
       "                       from                       date  \\\n",
       "0           offers@wish.com  2021-02-26 11:57:48-03:00   \n",
       "1          official@epal.gg  2021-03-06 19:56:44-03:00   \n",
       "2     vsco@official.vsco.co  2021-02-28 21:23:21-03:00   \n",
       "3           offers@wish.com  2021-04-24 11:28:52-03:00   \n",
       "4           offers@wish.com  2021-02-04 10:19:29-03:00   \n",
       "...                     ...                        ...   \n",
       "1154        offers@wish.com  2019-12-16 10:19:47-03:00   \n",
       "1155        offers@wish.com  2020-11-06 18:56:40-03:00   \n",
       "1156        offers@wish.com  2020-10-27 11:43:35-03:00   \n",
       "1157        offers@wish.com  2019-08-13 11:42:16-03:00   \n",
       "1158        offers@wish.com  2020-07-11 12:06:03-03:00   \n",
       "\n",
       "                                                     to  label  \\\n",
       "0     \"=?utf-8?q?Vin=C3=ADcius_Medeiros?=\" <viniapnm...  inbox   \n",
       "1                                    viniapnm@gmail.com  inbox   \n",
       "2                                    viniapnm@gmail.com  inbox   \n",
       "3     \"=?utf-8?q?Vin=C3=ADcius_Medeiros?=\" <viniapnm...  inbox   \n",
       "4     \"=?utf-8?q?Vin=C3=ADcius_Medeiros?=\" <viniapnm...  inbox   \n",
       "...                                                 ...    ...   \n",
       "1154  \"=?utf-8?q?Vin=C3=ADcius_Medeiros?=\" <viniapnm...  inbox   \n",
       "1155  \"=?utf-8?q?Vin=C3=ADcius_Medeiros?=\" <viniapnm...  inbox   \n",
       "1156  \"=?utf-8?q?Vin=C3=ADcius_Medeiros?=\" <viniapnm...  inbox   \n",
       "1157  \"=?utf-8?q?Vin=C3=ADcius_Medeiros?=\" <viniapnm...  inbox   \n",
       "1158  \"=?utf-8?q?Vin=C3=ADcius_Medeiros?=\" <viniapnm...  inbox   \n",
       "\n",
       "                   thread dayofweek  timeofday  year     month  \n",
       "0     1692770206194795587    Friday  11.963333  2021  February  \n",
       "1     1693525113471893522  Saturday  19.945556  2021     March  \n",
       "2     1692992869753561945    Sunday  21.389167  2021  February  \n",
       "3     1697932412812193275  Saturday  11.481111  2021     April  \n",
       "4     1690770887097317107  Thursday  10.324722  2021  February  \n",
       "...                   ...       ...        ...   ...       ...  \n",
       "1154  1653082570994743628    Monday  10.329722  2019  December  \n",
       "1155  1682649698556022420    Friday  18.944444  2020  November  \n",
       "1156  1681716481326820081   Tuesday  11.726389  2020   October  \n",
       "1157  1641763136745729943   Tuesday  11.704444  2019    August  \n",
       "1158  1671933422700946385  Saturday  12.100833  2020      July  \n",
       "\n",
       "[1159 rows x 10 columns]"
      ]
     },
     "execution_count": 4,
     "metadata": {},
     "output_type": "execute_result"
    }
   ],
   "source": [
    "email"
   ]
  },
  {
   "cell_type": "markdown",
   "metadata": {},
   "source": [
    "# 1-"
   ]
  },
  {
   "cell_type": "code",
   "execution_count": 53,
   "metadata": {},
   "outputs": [],
   "source": [
    "anos = email[\"year\"].value_counts()\n",
    "mes = email[\"month\"].value_counts()\n",
    "dia = email[\"dayofweek\"].value_counts()"
   ]
  },
  {
   "cell_type": "code",
   "execution_count": 54,
   "metadata": {},
   "outputs": [
    {
     "data": {
      "image/png": "[encoded data removed]",
      "text/plain": [
       "<Figure size 432x288 with 1 Axes>"
      ]
     },
     "metadata": {
      "needs_background": "light"
     },
     "output_type": "display_data"
    }
   ],
   "source": [
    "barra_anos = sns.barplot(x=anos.index, y=anos.values)"
   ]
  },
  {
   "cell_type": "code",
   "execution_count": 52,
   "metadata": {},
   "outputs": [
    {
     "data": {
      "image/png": "[encoded data removed]",
      "text/plain": [
       "<Figure size 432x288 with 1 Axes>"
      ]
     },
     "metadata": {
      "needs_background": "light"
     },
     "output_type": "display_data"
    }
   ],
   "source": [
    "barra_mes = sns.barplot(x=mes.index, y=mes.values)\n",
    "barra_mes = barra_mes.set_xticklabels(barra_mes.get_xticklabels(), rotation=30)"
   ]
  },
  {
   "cell_type": "code",
   "execution_count": 57,
   "metadata": {},
   "outputs": [
    {
     "data": {
      "image/png": "[encoded data removed]",
      "text/plain": [
       "<Figure size 432x288 with 1 Axes>"
      ]
     },
     "metadata": {
      "needs_background": "light"
     },
     "output_type": "display_data"
    }
   ],
   "source": [
    "barra_dia = sns.barplot(x=dia.index, y=dia.values)\n",
    "barra_dia = barra_dia.set_xticklabels(barra_dia.get_xticklabels(), rotation=30)"
   ]
  },
  {
   "cell_type": "code",
   "execution_count": 37,
   "metadata": {},
   "outputs": [
    {
     "data": {
      "image/png": "[encoded data removed]",
      "text/plain": [
       "<Figure size 432x288 with 1 Axes>"
      ]
     },
     "metadata": {},
     "output_type": "display_data"
    }
   ],
   "source": [
    "wedges, texts  = plt.pie(anos, labels=anos.index)\n",
    "circulo=plt.Circle( (0,0), 0.7, color='white')\n",
    "p=plt.gcf()\n",
    "p.gca().add_artist(circulo)\n",
    "\n",
    "plt.legend(wedges, anos.index)\n",
    "plt.tight_layout()\n",
    "\n",
    "plt.show()"
   ]
  },
  {
   "cell_type": "code",
   "execution_count": 47,
   "metadata": {},
   "outputs": [
    {
     "data": {
      "image/png": "[encoded data removed]",
      "text/plain": [
       "<Figure size 432x288 with 1 Axes>"
      ]
     },
     "metadata": {},
     "output_type": "display_data"
    }
   ],
   "source": [
    "wedges, texts  = plt.pie(mes, labels=mes.index)\n",
    "circulo=plt.Circle( (0,0), 0.7, color='white')\n",
    "p=plt.gcf()\n",
    "p.gca().add_artist(circulo)\n",
    "\n",
    "plt.legend(wedges, mes.index)\n",
    "plt.tight_layout()\n",
    "\n",
    "plt.show()"
   ]
  },
  {
   "cell_type": "code",
   "execution_count": 6,
   "metadata": {},
   "outputs": [
    {
     "data": {
      "text/html": [
       "<div>\n",
       "<style scoped>\n",
       "    .dataframe tbody tr th:only-of-type {\n",
       "        vertical-align: middle;\n",
       "    }\n",
       "\n",
       "    .dataframe tbody tr th {\n",
       "        vertical-align: top;\n",
       "    }\n",
       "\n",
       "    .dataframe thead th {\n",
       "        text-align: right;\n",
       "    }\n",
       "</style>\n",
       "<table border=\"1\" class=\"dataframe\">\n",
       "  <thead>\n",
       "    <tr style=\"text-align: right;\">\n",
       "      <th></th>\n",
       "      <th></th>\n",
       "      <th>month</th>\n",
       "    </tr>\n",
       "    <tr>\n",
       "      <th>year</th>\n",
       "      <th>month</th>\n",
       "      <th></th>\n",
       "    </tr>\n",
       "  </thead>\n",
       "  <tbody>\n",
       "    <tr>\n",
       "      <th rowspan=\"6\" valign=\"top\">2015</th>\n",
       "      <th>May</th>\n",
       "      <td>2</td>\n",
       "    </tr>\n",
       "    <tr>\n",
       "      <th>April</th>\n",
       "      <td>1</td>\n",
       "    </tr>\n",
       "    <tr>\n",
       "      <th>August</th>\n",
       "      <td>1</td>\n",
       "    </tr>\n",
       "    <tr>\n",
       "      <th>December</th>\n",
       "      <td>1</td>\n",
       "    </tr>\n",
       "    <tr>\n",
       "      <th>July</th>\n",
       "      <td>1</td>\n",
       "    </tr>\n",
       "    <tr>\n",
       "      <th>November</th>\n",
       "      <td>1</td>\n",
       "    </tr>\n",
       "    <tr>\n",
       "      <th rowspan=\"9\" valign=\"top\">2016</th>\n",
       "      <th>June</th>\n",
       "      <td>4</td>\n",
       "    </tr>\n",
       "    <tr>\n",
       "      <th>May</th>\n",
       "      <td>4</td>\n",
       "    </tr>\n",
       "    <tr>\n",
       "      <th>August</th>\n",
       "      <td>3</td>\n",
       "    </tr>\n",
       "    <tr>\n",
       "      <th>March</th>\n",
       "      <td>3</td>\n",
       "    </tr>\n",
       "    <tr>\n",
       "      <th>September</th>\n",
       "      <td>3</td>\n",
       "    </tr>\n",
       "    <tr>\n",
       "      <th>July</th>\n",
       "      <td>2</td>\n",
       "    </tr>\n",
       "    <tr>\n",
       "      <th>October</th>\n",
       "      <td>2</td>\n",
       "    </tr>\n",
       "    <tr>\n",
       "      <th>February</th>\n",
       "      <td>1</td>\n",
       "    </tr>\n",
       "    <tr>\n",
       "      <th>January</th>\n",
       "      <td>1</td>\n",
       "    </tr>\n",
       "    <tr>\n",
       "      <th rowspan=\"7\" valign=\"top\">2017</th>\n",
       "      <th>November</th>\n",
       "      <td>8</td>\n",
       "    </tr>\n",
       "    <tr>\n",
       "      <th>July</th>\n",
       "      <td>4</td>\n",
       "    </tr>\n",
       "    <tr>\n",
       "      <th>August</th>\n",
       "      <td>3</td>\n",
       "    </tr>\n",
       "    <tr>\n",
       "      <th>October</th>\n",
       "      <td>3</td>\n",
       "    </tr>\n",
       "    <tr>\n",
       "      <th>January</th>\n",
       "      <td>1</td>\n",
       "    </tr>\n",
       "    <tr>\n",
       "      <th>March</th>\n",
       "      <td>1</td>\n",
       "    </tr>\n",
       "    <tr>\n",
       "      <th>September</th>\n",
       "      <td>1</td>\n",
       "    </tr>\n",
       "    <tr>\n",
       "      <th rowspan=\"9\" valign=\"top\">2018</th>\n",
       "      <th>January</th>\n",
       "      <td>4</td>\n",
       "    </tr>\n",
       "    <tr>\n",
       "      <th>September</th>\n",
       "      <td>4</td>\n",
       "    </tr>\n",
       "    <tr>\n",
       "      <th>April</th>\n",
       "      <td>3</td>\n",
       "    </tr>\n",
       "    <tr>\n",
       "      <th>February</th>\n",
       "      <td>2</td>\n",
       "    </tr>\n",
       "    <tr>\n",
       "      <th>October</th>\n",
       "      <td>2</td>\n",
       "    </tr>\n",
       "    <tr>\n",
       "      <th>August</th>\n",
       "      <td>1</td>\n",
       "    </tr>\n",
       "    <tr>\n",
       "      <th>March</th>\n",
       "      <td>1</td>\n",
       "    </tr>\n",
       "    <tr>\n",
       "      <th>May</th>\n",
       "      <td>1</td>\n",
       "    </tr>\n",
       "    <tr>\n",
       "      <th>November</th>\n",
       "      <td>1</td>\n",
       "    </tr>\n",
       "    <tr>\n",
       "      <th rowspan=\"12\" valign=\"top\">2019</th>\n",
       "      <th>March</th>\n",
       "      <td>98</td>\n",
       "    </tr>\n",
       "    <tr>\n",
       "      <th>July</th>\n",
       "      <td>89</td>\n",
       "    </tr>\n",
       "    <tr>\n",
       "      <th>April</th>\n",
       "      <td>83</td>\n",
       "    </tr>\n",
       "    <tr>\n",
       "      <th>May</th>\n",
       "      <td>75</td>\n",
       "    </tr>\n",
       "    <tr>\n",
       "      <th>August</th>\n",
       "      <td>72</td>\n",
       "    </tr>\n",
       "    <tr>\n",
       "      <th>June</th>\n",
       "      <td>69</td>\n",
       "    </tr>\n",
       "    <tr>\n",
       "      <th>November</th>\n",
       "      <td>28</td>\n",
       "    </tr>\n",
       "    <tr>\n",
       "      <th>December</th>\n",
       "      <td>26</td>\n",
       "    </tr>\n",
       "    <tr>\n",
       "      <th>October</th>\n",
       "      <td>10</td>\n",
       "    </tr>\n",
       "    <tr>\n",
       "      <th>September</th>\n",
       "      <td>5</td>\n",
       "    </tr>\n",
       "    <tr>\n",
       "      <th>February</th>\n",
       "      <td>4</td>\n",
       "    </tr>\n",
       "    <tr>\n",
       "      <th>January</th>\n",
       "      <td>1</td>\n",
       "    </tr>\n",
       "    <tr>\n",
       "      <th rowspan=\"12\" valign=\"top\">2020</th>\n",
       "      <th>November</th>\n",
       "      <td>39</td>\n",
       "    </tr>\n",
       "    <tr>\n",
       "      <th>August</th>\n",
       "      <td>38</td>\n",
       "    </tr>\n",
       "    <tr>\n",
       "      <th>September</th>\n",
       "      <td>36</td>\n",
       "    </tr>\n",
       "    <tr>\n",
       "      <th>December</th>\n",
       "      <td>33</td>\n",
       "    </tr>\n",
       "    <tr>\n",
       "      <th>February</th>\n",
       "      <td>32</td>\n",
       "    </tr>\n",
       "    <tr>\n",
       "      <th>March</th>\n",
       "      <td>32</td>\n",
       "    </tr>\n",
       "    <tr>\n",
       "      <th>October</th>\n",
       "      <td>30</td>\n",
       "    </tr>\n",
       "    <tr>\n",
       "      <th>January</th>\n",
       "      <td>29</td>\n",
       "    </tr>\n",
       "    <tr>\n",
       "      <th>June</th>\n",
       "      <td>29</td>\n",
       "    </tr>\n",
       "    <tr>\n",
       "      <th>July</th>\n",
       "      <td>28</td>\n",
       "    </tr>\n",
       "    <tr>\n",
       "      <th>May</th>\n",
       "      <td>26</td>\n",
       "    </tr>\n",
       "    <tr>\n",
       "      <th>April</th>\n",
       "      <td>25</td>\n",
       "    </tr>\n",
       "    <tr>\n",
       "      <th rowspan=\"4\" valign=\"top\">2021</th>\n",
       "      <th>January</th>\n",
       "      <td>45</td>\n",
       "    </tr>\n",
       "    <tr>\n",
       "      <th>February</th>\n",
       "      <td>44</td>\n",
       "    </tr>\n",
       "    <tr>\n",
       "      <th>April</th>\n",
       "      <td>33</td>\n",
       "    </tr>\n",
       "    <tr>\n",
       "      <th>March</th>\n",
       "      <td>30</td>\n",
       "    </tr>\n",
       "  </tbody>\n",
       "</table>\n",
       "</div>"
      ],
      "text/plain": [
       "                month\n",
       "year month           \n",
       "2015 May            2\n",
       "     April          1\n",
       "     August         1\n",
       "     December       1\n",
       "     July           1\n",
       "     November       1\n",
       "2016 June           4\n",
       "     May            4\n",
       "     August         3\n",
       "     March          3\n",
       "     September      3\n",
       "     July           2\n",
       "     October        2\n",
       "     February       1\n",
       "     January        1\n",
       "2017 November       8\n",
       "     July           4\n",
       "     August         3\n",
       "     October        3\n",
       "     January        1\n",
       "     March          1\n",
       "     September      1\n",
       "2018 January        4\n",
       "     September      4\n",
       "     April          3\n",
       "     February       2\n",
       "     October        2\n",
       "     August         1\n",
       "     March          1\n",
       "     May            1\n",
       "     November       1\n",
       "2019 March         98\n",
       "     July          89\n",
       "     April         83\n",
       "     May           75\n",
       "     August        72\n",
       "     June          69\n",
       "     November      28\n",
       "     December      26\n",
       "     October       10\n",
       "     September      5\n",
       "     February       4\n",
       "     January        1\n",
       "2020 November      39\n",
       "     August        38\n",
       "     September     36\n",
       "     December      33\n",
       "     February      32\n",
       "     March         32\n",
       "     October       30\n",
       "     January       29\n",
       "     June          29\n",
       "     July          28\n",
       "     May           26\n",
       "     April         25\n",
       "2021 January       45\n",
       "     February      44\n",
       "     April         33\n",
       "     March         30"
      ]
     },
     "execution_count": 6,
     "metadata": {},
     "output_type": "execute_result"
    }
   ],
   "source": [
    "email.groupby(\"year\")[\"month\"].value_counts().to_frame()"
   ]
  },
  {
   "cell_type": "markdown",
   "metadata": {},
   "source": [
    " # 2-"
   ]
  },
  {
   "cell_type": "code",
   "execution_count": 7,
   "metadata": {},
   "outputs": [
    {
     "data": {
      "text/plain": [
       "1.0103500310061584"
      ]
     },
     "execution_count": 7,
     "metadata": {},
     "output_type": "execute_result"
    }
   ],
   "source": [
    "email[\"year\"].var(ddof=0)"
   ]
  },
  {
   "cell_type": "code",
   "execution_count": 8,
   "metadata": {},
   "outputs": [
    {
     "data": {
      "text/plain": [
       "1.0051616939608068"
      ]
     },
     "execution_count": 8,
     "metadata": {},
     "output_type": "execute_result"
    }
   ],
   "source": [
    "email[\"year\"].std(ddof=0)"
   ]
  },
  {
   "cell_type": "markdown",
   "metadata": {},
   "source": [
    "# 3*"
   ]
  },
  {
   "cell_type": "code",
   "execution_count": 9,
   "metadata": {},
   "outputs": [
    {
     "data": {
      "text/plain": [
       "0.25"
      ]
     },
     "execution_count": 9,
     "metadata": {},
     "output_type": "execute_result"
    }
   ],
   "source": [
    "outlier_year = (np.quantile(email[\"year\"], 0.75)-np.quantile(email[\"year\"], 0.25))/(2*(np.percentile(email[\"year\"], 90)-np.percentile(email[\"year\"], 10)))\n",
    "outlier_year"
   ]
  },
  {
   "cell_type": "code",
   "execution_count": 10,
   "metadata": {},
   "outputs": [
    {
     "data": {
      "text/plain": [
       "count    1159.000000\n",
       "mean     2019.451251\n",
       "std         1.005596\n",
       "min      2015.000000\n",
       "25%      2019.000000\n",
       "50%      2019.000000\n",
       "75%      2020.000000\n",
       "max      2021.000000\n",
       "Name: year, dtype: float64"
      ]
     },
     "execution_count": 10,
     "metadata": {},
     "output_type": "execute_result"
    }
   ],
   "source": [
    "email[\"year\"].describe()"
   ]
  },
  {
   "cell_type": "code",
   "execution_count": 20,
   "metadata": {},
   "outputs": [
    {
     "data": {
      "text/plain": [
       "count     12.000000\n",
       "mean      96.583333\n",
       "std       37.254550\n",
       "min       47.000000\n",
       "25%       72.750000\n",
       "50%       92.500000\n",
       "75%      119.500000\n",
       "max      165.000000\n",
       "Name: month, dtype: float64"
      ]
     },
     "execution_count": 20,
     "metadata": {},
     "output_type": "execute_result"
    }
   ],
   "source": [
    "x = email[\"month\"].value_counts()\n",
    "x.describe()"
   ]
  },
  {
   "cell_type": "code",
   "execution_count": null,
   "metadata": {},
   "outputs": [],
   "source": []
  }
 ],
 "metadata": {
  "kernelspec": {
   "display_name": "Python 3",
   "language": "python",
   "name": "python3"
  },
  "language_info": {
   "codemirror_mode": {
    "name": "ipython",
    "version": 3
   },
   "file_extension": ".py",
   "mimetype": "text/x-python",
   "name": "python",
   "nbconvert_exporter": "python",
   "pygments_lexer": "ipython3",
   "version": "3.8.5"
  }
 },
 "nbformat": 4,
 "nbformat_minor": 4
}
