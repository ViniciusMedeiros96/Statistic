{
 "cells": [
  {
   "cell_type": "code",
   "execution_count": 2,
   "metadata": {},
   "outputs": [],
   "source": [
    "import pandas as pd\n",
    "import numpy as np\n",
    "import matplotlib.pyplot as plt"
   ]
  },
  {
   "cell_type": "code",
   "execution_count": 9,
   "metadata": {},
   "outputs": [],
   "source": [
    "dados1 = pd.read_csv(\"https://raw.githubusercontent.com/joaovictornsv/statistics-applied-to-computing/master/college-studies/data/dados1.csv\", encoding=\"utf-8\", sep =\";\", header=None)\n",
    "dados2 = pd.read_csv(\"/home/vinimedeiros/Desktop/Estatistica/Statistic/Exercícios/Unidade 2/dados2.csv\", encoding=\"utf-8\", sep =\";\")\n",
    "dados3 = pd.read_excel(\"/home/vinimedeiros/Desktop/Estatistica/Statistic/Exercícios/Unidade 2/dados3.xls\")"
   ]
  },
  {
   "cell_type": "code",
   "execution_count": 10,
   "metadata": {},
   "outputs": [],
   "source": [
    "def dist_frequencia_classes(entrada, nc='auto'):\n",
    "    #função histogram do numpy para calcular as freq. absolutas e intervalos das classes\n",
    "    freq_absoluta,classes= np.histogram(entrada, bins=nc) \n",
    "    freq_absoluta = freq_absoluta.astype(int)#pra transformar em int \n",
    "    #freq. relativas = freq. absolutas/no. de dados do conjunto x 100 pra forma percentual\n",
    "    freq_relativa = np.around(freq_absoluta/freq_absoluta.sum()*100,decimals=2) #duas casas decimais\n",
    "    #freq. cumulativa usando a função cumsum do numpy\n",
    "    #frnorm = np.around(fi/(fi.sum() * np.diff(classes)),decimals=2)\n",
    "    feeq_classe = np.cumsum(freq_absoluta).astype(int) #pra transformar em int \n",
    "    # o laço a seguir serve unicamente para escrever os intervalos das classes como strings\n",
    "    # dentro do vetor 'classe_str'\n",
    "    classe_str = []\n",
    "    for i in range(len(classes)):\n",
    "        if i <= len(classes)-2:\n",
    "            classe_str.append('{:2.2f} |-- {:2.2f}' .format(classes[i],classes[i+1]))\n",
    "        else:\n",
    "            break        \n",
    "    # a função retorna um dataframe, cujas linhas serão indexadas pelo vetor 'classe_str', e as \n",
    "    #colunas terão as frequências absoluta (inteira), relativa (float) e cumulativa (int) calculadas \n",
    "    return pd.DataFrame({'Classes':classe_str, \n",
    "                         'freq Absoluta': freq_absoluta,\n",
    "                         'freq Relativa': freq_relativa,\n",
    "                         #'frnorm':frnorm,\n",
    "                         'Cumulativa': feeq_classe\n",
    "                        }).set_index('Classes') # transforma a coluna 'Classes' nos indices das linhas "
   ]
  },
  {
   "cell_type": "markdown",
   "metadata": {},
   "source": [
    "<hr>"
   ]
  },
  {
   "cell_type": "markdown",
   "metadata": {},
   "source": [
    "## 1-"
   ]
  },
  {
   "cell_type": "code",
   "execution_count": 11,
   "metadata": {},
   "outputs": [
    {
     "data": {
      "text/html": [
       "<div>\n",
       "<style scoped>\n",
       "    .dataframe tbody tr th:only-of-type {\n",
       "        vertical-align: middle;\n",
       "    }\n",
       "\n",
       "    .dataframe tbody tr th {\n",
       "        vertical-align: top;\n",
       "    }\n",
       "\n",
       "    .dataframe thead th {\n",
       "        text-align: right;\n",
       "    }\n",
       "</style>\n",
       "<table border=\"1\" class=\"dataframe\">\n",
       "  <thead>\n",
       "    <tr style=\"text-align: right;\">\n",
       "      <th></th>\n",
       "      <th>0</th>\n",
       "      <th>1</th>\n",
       "      <th>2</th>\n",
       "      <th>3</th>\n",
       "      <th>4</th>\n",
       "      <th>5</th>\n",
       "      <th>6</th>\n",
       "      <th>7</th>\n",
       "      <th>8</th>\n",
       "      <th>9</th>\n",
       "    </tr>\n",
       "  </thead>\n",
       "  <tbody>\n",
       "    <tr>\n",
       "      <th>0</th>\n",
       "      <td>3,5</td>\n",
       "      <td>4,0</td>\n",
       "      <td>5,5</td>\n",
       "      <td>6,0</td>\n",
       "      <td>5,0</td>\n",
       "      <td>5,5</td>\n",
       "      <td>5,0</td>\n",
       "      <td>5,5</td>\n",
       "      <td>4,0</td>\n",
       "      <td>10,0</td>\n",
       "    </tr>\n",
       "    <tr>\n",
       "      <th>1</th>\n",
       "      <td>6,5</td>\n",
       "      <td>9,5</td>\n",
       "      <td>4,0</td>\n",
       "      <td>7,0</td>\n",
       "      <td>7,5</td>\n",
       "      <td>3,0</td>\n",
       "      <td>4,5</td>\n",
       "      <td>5,0</td>\n",
       "      <td>2,5</td>\n",
       "      <td>6,0</td>\n",
       "    </tr>\n",
       "    <tr>\n",
       "      <th>2</th>\n",
       "      <td>5,0</td>\n",
       "      <td>6,5</td>\n",
       "      <td>3,5</td>\n",
       "      <td>4,5</td>\n",
       "      <td>8,5</td>\n",
       "      <td>4,0</td>\n",
       "      <td>8,0</td>\n",
       "      <td>7,0</td>\n",
       "      <td>6,0</td>\n",
       "      <td>7,5</td>\n",
       "    </tr>\n",
       "    <tr>\n",
       "      <th>3</th>\n",
       "      <td>8,5</td>\n",
       "      <td>6,0</td>\n",
       "      <td>9,0</td>\n",
       "      <td>6,0</td>\n",
       "      <td>6,5</td>\n",
       "      <td>7,5</td>\n",
       "      <td>5,5</td>\n",
       "      <td>6,5</td>\n",
       "      <td>8,0</td>\n",
       "      <td>8,5</td>\n",
       "    </tr>\n",
       "    <tr>\n",
       "      <th>4</th>\n",
       "      <td>4,5</td>\n",
       "      <td>7,5</td>\n",
       "      <td>8,0</td>\n",
       "      <td>3,0</td>\n",
       "      <td>4,0</td>\n",
       "      <td>8,0</td>\n",
       "      <td>4,5</td>\n",
       "      <td>5,5</td>\n",
       "      <td>6,0</td>\n",
       "      <td>6,0</td>\n",
       "    </tr>\n",
       "    <tr>\n",
       "      <th>5</th>\n",
       "      <td>7,5</td>\n",
       "      <td>3,5</td>\n",
       "      <td>3,0</td>\n",
       "      <td>7,0</td>\n",
       "      <td>1,5</td>\n",
       "      <td>4,5</td>\n",
       "      <td>10,0</td>\n",
       "      <td>5,5</td>\n",
       "      <td>2,5</td>\n",
       "      <td>10,0</td>\n",
       "    </tr>\n",
       "    <tr>\n",
       "      <th>6</th>\n",
       "      <td>4,0</td>\n",
       "      <td>6,5</td>\n",
       "      <td>7,5</td>\n",
       "      <td>5,5</td>\n",
       "      <td>7,0</td>\n",
       "      <td>7,5</td>\n",
       "      <td>6,0</td>\n",
       "      <td>6,5</td>\n",
       "      <td>6,5</td>\n",
       "      <td>5,5</td>\n",
       "    </tr>\n",
       "    <tr>\n",
       "      <th>7</th>\n",
       "      <td>6,5</td>\n",
       "      <td>5,0</td>\n",
       "      <td>5,5</td>\n",
       "      <td>7,5</td>\n",
       "      <td>8,0</td>\n",
       "      <td>6,5</td>\n",
       "      <td>5,0</td>\n",
       "      <td>7,0</td>\n",
       "      <td>6,0</td>\n",
       "      <td>5,5</td>\n",
       "    </tr>\n",
       "    <tr>\n",
       "      <th>8</th>\n",
       "      <td>3,0</td>\n",
       "      <td>5,0</td>\n",
       "      <td>3,5</td>\n",
       "      <td>6,0</td>\n",
       "      <td>6,5</td>\n",
       "      <td>6,0</td>\n",
       "      <td>8,0</td>\n",
       "      <td>5,5</td>\n",
       "      <td>7,5</td>\n",
       "      <td>6,0</td>\n",
       "    </tr>\n",
       "    <tr>\n",
       "      <th>9</th>\n",
       "      <td>2,5</td>\n",
       "      <td>7,5</td>\n",
       "      <td>9,0</td>\n",
       "      <td>6,0</td>\n",
       "      <td>6,5</td>\n",
       "      <td>3,5</td>\n",
       "      <td>4,5</td>\n",
       "      <td>7,0</td>\n",
       "      <td>5,0</td>\n",
       "      <td>5,0</td>\n",
       "    </tr>\n",
       "  </tbody>\n",
       "</table>\n",
       "</div>"
      ],
      "text/plain": [
       "     0    1    2    3    4    5     6    7    8     9\n",
       "0  3,5  4,0  5,5  6,0  5,0  5,5   5,0  5,5  4,0  10,0\n",
       "1  6,5  9,5  4,0  7,0  7,5  3,0   4,5  5,0  2,5   6,0\n",
       "2  5,0  6,5  3,5  4,5  8,5  4,0   8,0  7,0  6,0   7,5\n",
       "3  8,5  6,0  9,0  6,0  6,5  7,5   5,5  6,5  8,0   8,5\n",
       "4  4,5  7,5  8,0  3,0  4,0  8,0   4,5  5,5  6,0   6,0\n",
       "5  7,5  3,5  3,0  7,0  1,5  4,5  10,0  5,5  2,5  10,0\n",
       "6  4,0  6,5  7,5  5,5  7,0  7,5   6,0  6,5  6,5   5,5\n",
       "7  6,5  5,0  5,5  7,5  8,0  6,5   5,0  7,0  6,0   5,5\n",
       "8  3,0  5,0  3,5  6,0  6,5  6,0   8,0  5,5  7,5   6,0\n",
       "9  2,5  7,5  9,0  6,0  6,5  3,5   4,5  7,0  5,0   5,0"
      ]
     },
     "execution_count": 11,
     "metadata": {},
     "output_type": "execute_result"
    }
   ],
   "source": [
    "dados1"
   ]
  },
  {
   "cell_type": "code",
   "execution_count": 12,
   "metadata": {},
   "outputs": [
    {
     "data": {
      "text/plain": [
       "array(['3,5', '4,0', '5,5', '6,0', '5,0', '5,5', '5,0', '5,5', '4,0',\n",
       "       '10,0', '6,5', '9,5', '4,0', '7,0', '7,5', '3,0', '4,5', '5,0',\n",
       "       '2,5', '6,0', '5,0', '6,5', '3,5', '4,5', '8,5', '4,0', '8,0',\n",
       "       '7,0', '6,0', '7,5', '8,5', '6,0', '9,0', '6,0', '6,5', '7,5',\n",
       "       '5,5', '6,5', '8,0', '8,5', '4,5', '7,5', '8,0', '3,0', '4,0',\n",
       "       '8,0', '4,5', '5,5', '6,0', '6,0', '7,5', '3,5', '3,0', '7,0',\n",
       "       '1,5', '4,5', '10,0', '5,5', '2,5', '10,0', '4,0', '6,5', '7,5',\n",
       "       '5,5', '7,0', '7,5', '6,0', '6,5', '6,5', '5,5', '6,5', '5,0',\n",
       "       '5,5', '7,5', '8,0', '6,5', '5,0', '7,0', '6,0', '5,5', '3,0',\n",
       "       '5,0', '3,5', '6,0', '6,5', '6,0', '8,0', '5,5', '7,5', '6,0',\n",
       "       '2,5', '7,5', '9,0', '6,0', '6,5', '3,5', '4,5', '7,0', '5,0',\n",
       "       '5,0'], dtype=object)"
      ]
     },
     "execution_count": 12,
     "metadata": {},
     "output_type": "execute_result"
    }
   ],
   "source": [
    "dados = dados1.values.reshape(-1)\n",
    "dados"
   ]
  },
  {
   "cell_type": "code",
   "execution_count": 13,
   "metadata": {},
   "outputs": [],
   "source": [
    "lista_alunos = []\n",
    "for i in range(1,101):\n",
    "    lista_alunos.append(f\"ALuno {i}\")"
   ]
  },
  {
   "cell_type": "code",
   "execution_count": 14,
   "metadata": {},
   "outputs": [
    {
     "data": {
      "text/html": [
       "<div>\n",
       "<style scoped>\n",
       "    .dataframe tbody tr th:only-of-type {\n",
       "        vertical-align: middle;\n",
       "    }\n",
       "\n",
       "    .dataframe tbody tr th {\n",
       "        vertical-align: top;\n",
       "    }\n",
       "\n",
       "    .dataframe thead th {\n",
       "        text-align: right;\n",
       "    }\n",
       "</style>\n",
       "<table border=\"1\" class=\"dataframe\">\n",
       "  <thead>\n",
       "    <tr style=\"text-align: right;\">\n",
       "      <th></th>\n",
       "      <th>Aluno</th>\n",
       "      <th>Notas</th>\n",
       "    </tr>\n",
       "  </thead>\n",
       "  <tbody>\n",
       "    <tr>\n",
       "      <th>0</th>\n",
       "      <td>ALuno 1</td>\n",
       "      <td>3,5</td>\n",
       "    </tr>\n",
       "    <tr>\n",
       "      <th>1</th>\n",
       "      <td>ALuno 2</td>\n",
       "      <td>4,0</td>\n",
       "    </tr>\n",
       "    <tr>\n",
       "      <th>2</th>\n",
       "      <td>ALuno 3</td>\n",
       "      <td>5,5</td>\n",
       "    </tr>\n",
       "    <tr>\n",
       "      <th>3</th>\n",
       "      <td>ALuno 4</td>\n",
       "      <td>6,0</td>\n",
       "    </tr>\n",
       "    <tr>\n",
       "      <th>4</th>\n",
       "      <td>ALuno 5</td>\n",
       "      <td>5,0</td>\n",
       "    </tr>\n",
       "    <tr>\n",
       "      <th>...</th>\n",
       "      <td>...</td>\n",
       "      <td>...</td>\n",
       "    </tr>\n",
       "    <tr>\n",
       "      <th>95</th>\n",
       "      <td>ALuno 96</td>\n",
       "      <td>3,5</td>\n",
       "    </tr>\n",
       "    <tr>\n",
       "      <th>96</th>\n",
       "      <td>ALuno 97</td>\n",
       "      <td>4,5</td>\n",
       "    </tr>\n",
       "    <tr>\n",
       "      <th>97</th>\n",
       "      <td>ALuno 98</td>\n",
       "      <td>7,0</td>\n",
       "    </tr>\n",
       "    <tr>\n",
       "      <th>98</th>\n",
       "      <td>ALuno 99</td>\n",
       "      <td>5,0</td>\n",
       "    </tr>\n",
       "    <tr>\n",
       "      <th>99</th>\n",
       "      <td>ALuno 100</td>\n",
       "      <td>5,0</td>\n",
       "    </tr>\n",
       "  </tbody>\n",
       "</table>\n",
       "<p>100 rows × 2 columns</p>\n",
       "</div>"
      ],
      "text/plain": [
       "        Aluno Notas\n",
       "0     ALuno 1   3,5\n",
       "1     ALuno 2   4,0\n",
       "2     ALuno 3   5,5\n",
       "3     ALuno 4   6,0\n",
       "4     ALuno 5   5,0\n",
       "..        ...   ...\n",
       "95   ALuno 96   3,5\n",
       "96   ALuno 97   4,5\n",
       "97   ALuno 98   7,0\n",
       "98   ALuno 99   5,0\n",
       "99  ALuno 100   5,0\n",
       "\n",
       "[100 rows x 2 columns]"
      ]
     },
     "execution_count": 14,
     "metadata": {},
     "output_type": "execute_result"
    }
   ],
   "source": [
    "dic_1 = {\"Aluno\": lista_alunos, \"Notas\": dados}\n",
    "xxx = pd.DataFrame(dic_1)\n",
    "xxx"
   ]
  },
  {
   "cell_type": "code",
   "execution_count": 15,
   "metadata": {},
   "outputs": [
    {
     "ename": "TypeError",
     "evalue": "ufunc 'isfinite' not supported for the input types, and the inputs could not be safely coerced to any supported types according to the casting rule ''safe''",
     "output_type": "error",
     "traceback": [
      "\u001b[0;31m---------------------------------------------------------------------------\u001b[0m",
      "\u001b[0;31mTypeError\u001b[0m                                 Traceback (most recent call last)",
      "\u001b[0;32m<ipython-input-15-6c4dc904bc02>\u001b[0m in \u001b[0;36m<module>\u001b[0;34m\u001b[0m\n\u001b[0;32m----> 1\u001b[0;31m \u001b[0mdist_frequencia_classes\u001b[0m\u001b[0;34m(\u001b[0m\u001b[0mxxx\u001b[0m\u001b[0;34m[\u001b[0m\u001b[0;34m\"Notas\"\u001b[0m\u001b[0;34m]\u001b[0m\u001b[0;34m,\u001b[0m \u001b[0mnc\u001b[0m\u001b[0;34m=\u001b[0m\u001b[0;36m5\u001b[0m\u001b[0;34m)\u001b[0m\u001b[0;34m\u001b[0m\u001b[0;34m\u001b[0m\u001b[0m\n\u001b[0m",
      "\u001b[0;32m<ipython-input-10-bc604cf350a5>\u001b[0m in \u001b[0;36mdist_frequencia_classes\u001b[0;34m(entrada, nc)\u001b[0m\n\u001b[1;32m      1\u001b[0m \u001b[0;32mdef\u001b[0m \u001b[0mdist_frequencia_classes\u001b[0m\u001b[0;34m(\u001b[0m\u001b[0mentrada\u001b[0m\u001b[0;34m,\u001b[0m \u001b[0mnc\u001b[0m\u001b[0;34m=\u001b[0m\u001b[0;34m'auto'\u001b[0m\u001b[0;34m)\u001b[0m\u001b[0;34m:\u001b[0m\u001b[0;34m\u001b[0m\u001b[0;34m\u001b[0m\u001b[0m\n\u001b[1;32m      2\u001b[0m     \u001b[0;31m#função histogram do numpy para calcular as freq. absolutas e intervalos das classes\u001b[0m\u001b[0;34m\u001b[0m\u001b[0;34m\u001b[0m\u001b[0;34m\u001b[0m\u001b[0m\n\u001b[0;32m----> 3\u001b[0;31m     \u001b[0mfreq_absoluta\u001b[0m\u001b[0;34m,\u001b[0m\u001b[0mclasses\u001b[0m\u001b[0;34m=\u001b[0m \u001b[0mnp\u001b[0m\u001b[0;34m.\u001b[0m\u001b[0mhistogram\u001b[0m\u001b[0;34m(\u001b[0m\u001b[0mentrada\u001b[0m\u001b[0;34m,\u001b[0m \u001b[0mbins\u001b[0m\u001b[0;34m=\u001b[0m\u001b[0mnc\u001b[0m\u001b[0;34m)\u001b[0m\u001b[0;34m\u001b[0m\u001b[0;34m\u001b[0m\u001b[0m\n\u001b[0m\u001b[1;32m      4\u001b[0m     \u001b[0mfreq_absoluta\u001b[0m \u001b[0;34m=\u001b[0m \u001b[0mfreq_absoluta\u001b[0m\u001b[0;34m.\u001b[0m\u001b[0mastype\u001b[0m\u001b[0;34m(\u001b[0m\u001b[0mint\u001b[0m\u001b[0;34m)\u001b[0m\u001b[0;31m#pra transformar em int\u001b[0m\u001b[0;34m\u001b[0m\u001b[0;34m\u001b[0m\u001b[0m\n\u001b[1;32m      5\u001b[0m     \u001b[0;31m#freq. relativas = freq. absolutas/no. de dados do conjunto x 100 pra forma percentual\u001b[0m\u001b[0;34m\u001b[0m\u001b[0;34m\u001b[0m\u001b[0;34m\u001b[0m\u001b[0m\n",
      "\u001b[0;32m<__array_function__ internals>\u001b[0m in \u001b[0;36mhistogram\u001b[0;34m(*args, **kwargs)\u001b[0m\n",
      "\u001b[0;32m~/anaconda3/lib/python3.8/site-packages/numpy/lib/histograms.py\u001b[0m in \u001b[0;36mhistogram\u001b[0;34m(a, bins, range, normed, weights, density)\u001b[0m\n\u001b[1;32m    790\u001b[0m     \u001b[0ma\u001b[0m\u001b[0;34m,\u001b[0m \u001b[0mweights\u001b[0m \u001b[0;34m=\u001b[0m \u001b[0m_ravel_and_check_weights\u001b[0m\u001b[0;34m(\u001b[0m\u001b[0ma\u001b[0m\u001b[0;34m,\u001b[0m \u001b[0mweights\u001b[0m\u001b[0;34m)\u001b[0m\u001b[0;34m\u001b[0m\u001b[0;34m\u001b[0m\u001b[0m\n\u001b[1;32m    791\u001b[0m \u001b[0;34m\u001b[0m\u001b[0m\n\u001b[0;32m--> 792\u001b[0;31m     \u001b[0mbin_edges\u001b[0m\u001b[0;34m,\u001b[0m \u001b[0muniform_bins\u001b[0m \u001b[0;34m=\u001b[0m \u001b[0m_get_bin_edges\u001b[0m\u001b[0;34m(\u001b[0m\u001b[0ma\u001b[0m\u001b[0;34m,\u001b[0m \u001b[0mbins\u001b[0m\u001b[0;34m,\u001b[0m \u001b[0mrange\u001b[0m\u001b[0;34m,\u001b[0m \u001b[0mweights\u001b[0m\u001b[0;34m)\u001b[0m\u001b[0;34m\u001b[0m\u001b[0;34m\u001b[0m\u001b[0m\n\u001b[0m\u001b[1;32m    793\u001b[0m \u001b[0;34m\u001b[0m\u001b[0m\n\u001b[1;32m    794\u001b[0m     \u001b[0;31m# Histogram is an integer or a float array depending on the weights.\u001b[0m\u001b[0;34m\u001b[0m\u001b[0;34m\u001b[0m\u001b[0;34m\u001b[0m\u001b[0m\n",
      "\u001b[0;32m~/anaconda3/lib/python3.8/site-packages/numpy/lib/histograms.py\u001b[0m in \u001b[0;36m_get_bin_edges\u001b[0;34m(a, bins, range, weights)\u001b[0m\n\u001b[1;32m    424\u001b[0m             \u001b[0;32mraise\u001b[0m \u001b[0mValueError\u001b[0m\u001b[0;34m(\u001b[0m\u001b[0;34m'`bins` must be positive, when an integer'\u001b[0m\u001b[0;34m)\u001b[0m\u001b[0;34m\u001b[0m\u001b[0;34m\u001b[0m\u001b[0m\n\u001b[1;32m    425\u001b[0m \u001b[0;34m\u001b[0m\u001b[0m\n\u001b[0;32m--> 426\u001b[0;31m         \u001b[0mfirst_edge\u001b[0m\u001b[0;34m,\u001b[0m \u001b[0mlast_edge\u001b[0m \u001b[0;34m=\u001b[0m \u001b[0m_get_outer_edges\u001b[0m\u001b[0;34m(\u001b[0m\u001b[0ma\u001b[0m\u001b[0;34m,\u001b[0m \u001b[0mrange\u001b[0m\u001b[0;34m)\u001b[0m\u001b[0;34m\u001b[0m\u001b[0;34m\u001b[0m\u001b[0m\n\u001b[0m\u001b[1;32m    427\u001b[0m \u001b[0;34m\u001b[0m\u001b[0m\n\u001b[1;32m    428\u001b[0m     \u001b[0;32melif\u001b[0m \u001b[0mnp\u001b[0m\u001b[0;34m.\u001b[0m\u001b[0mndim\u001b[0m\u001b[0;34m(\u001b[0m\u001b[0mbins\u001b[0m\u001b[0;34m)\u001b[0m \u001b[0;34m==\u001b[0m \u001b[0;36m1\u001b[0m\u001b[0;34m:\u001b[0m\u001b[0;34m\u001b[0m\u001b[0;34m\u001b[0m\u001b[0m\n",
      "\u001b[0;32m~/anaconda3/lib/python3.8/site-packages/numpy/lib/histograms.py\u001b[0m in \u001b[0;36m_get_outer_edges\u001b[0;34m(a, range)\u001b[0m\n\u001b[1;32m    320\u001b[0m     \u001b[0;32melse\u001b[0m\u001b[0;34m:\u001b[0m\u001b[0;34m\u001b[0m\u001b[0;34m\u001b[0m\u001b[0m\n\u001b[1;32m    321\u001b[0m         \u001b[0mfirst_edge\u001b[0m\u001b[0;34m,\u001b[0m \u001b[0mlast_edge\u001b[0m \u001b[0;34m=\u001b[0m \u001b[0ma\u001b[0m\u001b[0;34m.\u001b[0m\u001b[0mmin\u001b[0m\u001b[0;34m(\u001b[0m\u001b[0;34m)\u001b[0m\u001b[0;34m,\u001b[0m \u001b[0ma\u001b[0m\u001b[0;34m.\u001b[0m\u001b[0mmax\u001b[0m\u001b[0;34m(\u001b[0m\u001b[0;34m)\u001b[0m\u001b[0;34m\u001b[0m\u001b[0;34m\u001b[0m\u001b[0m\n\u001b[0;32m--> 322\u001b[0;31m         \u001b[0;32mif\u001b[0m \u001b[0;32mnot\u001b[0m \u001b[0;34m(\u001b[0m\u001b[0mnp\u001b[0m\u001b[0;34m.\u001b[0m\u001b[0misfinite\u001b[0m\u001b[0;34m(\u001b[0m\u001b[0mfirst_edge\u001b[0m\u001b[0;34m)\u001b[0m \u001b[0;32mand\u001b[0m \u001b[0mnp\u001b[0m\u001b[0;34m.\u001b[0m\u001b[0misfinite\u001b[0m\u001b[0;34m(\u001b[0m\u001b[0mlast_edge\u001b[0m\u001b[0;34m)\u001b[0m\u001b[0;34m)\u001b[0m\u001b[0;34m:\u001b[0m\u001b[0;34m\u001b[0m\u001b[0;34m\u001b[0m\u001b[0m\n\u001b[0m\u001b[1;32m    323\u001b[0m             raise ValueError(\n\u001b[1;32m    324\u001b[0m                 \"autodetected range of [{}, {}] is not finite\".format(first_edge, last_edge))\n",
      "\u001b[0;31mTypeError\u001b[0m: ufunc 'isfinite' not supported for the input types, and the inputs could not be safely coerced to any supported types according to the casting rule ''safe''"
     ]
    }
   ],
   "source": [
    "dist_frequencia_classes(xxx[\"Notas\"], nc=5)"
   ]
  },
  {
   "cell_type": "markdown",
   "metadata": {},
   "source": [
    "<hr>"
   ]
  },
  {
   "cell_type": "markdown",
   "metadata": {},
   "source": [
    "## 2 a)"
   ]
  },
  {
   "cell_type": "code",
   "execution_count": 16,
   "metadata": {},
   "outputs": [
    {
     "data": {
      "text/html": [
       "<div>\n",
       "<style scoped>\n",
       "    .dataframe tbody tr th:only-of-type {\n",
       "        vertical-align: middle;\n",
       "    }\n",
       "\n",
       "    .dataframe tbody tr th {\n",
       "        vertical-align: top;\n",
       "    }\n",
       "\n",
       "    .dataframe thead th {\n",
       "        text-align: right;\n",
       "    }\n",
       "</style>\n",
       "<table border=\"1\" class=\"dataframe\">\n",
       "  <thead>\n",
       "    <tr style=\"text-align: right;\">\n",
       "      <th></th>\n",
       "      <th>Bairro</th>\n",
       "      <th>Tipo</th>\n",
       "      <th>N de quartos</th>\n",
       "      <th>Preço (mil)</th>\n",
       "    </tr>\n",
       "  </thead>\n",
       "  <tbody>\n",
       "    <tr>\n",
       "      <th>0</th>\n",
       "      <td>Barrra</td>\n",
       "      <td>Apto.</td>\n",
       "      <td>2</td>\n",
       "      <td>165</td>\n",
       "    </tr>\n",
       "    <tr>\n",
       "      <th>1</th>\n",
       "      <td>Barrra</td>\n",
       "      <td>Apto.</td>\n",
       "      <td>3</td>\n",
       "      <td>240</td>\n",
       "    </tr>\n",
       "    <tr>\n",
       "      <th>2</th>\n",
       "      <td>Barrra</td>\n",
       "      <td>Cobt.</td>\n",
       "      <td>3</td>\n",
       "      <td>158</td>\n",
       "    </tr>\n",
       "    <tr>\n",
       "      <th>3</th>\n",
       "      <td>Barrra</td>\n",
       "      <td>Sala</td>\n",
       "      <td>0</td>\n",
       "      <td>90</td>\n",
       "    </tr>\n",
       "    <tr>\n",
       "      <th>4</th>\n",
       "      <td>Botafogo</td>\n",
       "      <td>Apto.</td>\n",
       "      <td>2</td>\n",
       "      <td>270</td>\n",
       "    </tr>\n",
       "    <tr>\n",
       "      <th>5</th>\n",
       "      <td>Catete</td>\n",
       "      <td>Apto.</td>\n",
       "      <td>1</td>\n",
       "      <td>250</td>\n",
       "    </tr>\n",
       "    <tr>\n",
       "      <th>6</th>\n",
       "      <td>Centro</td>\n",
       "      <td>Sala</td>\n",
       "      <td>1</td>\n",
       "      <td>110</td>\n",
       "    </tr>\n",
       "    <tr>\n",
       "      <th>7</th>\n",
       "      <td>Copacabana</td>\n",
       "      <td>Apto.</td>\n",
       "      <td>2</td>\n",
       "      <td>210</td>\n",
       "    </tr>\n",
       "    <tr>\n",
       "      <th>8</th>\n",
       "      <td>Copacabana</td>\n",
       "      <td>Apto.</td>\n",
       "      <td>2</td>\n",
       "      <td>200</td>\n",
       "    </tr>\n",
       "    <tr>\n",
       "      <th>9</th>\n",
       "      <td>Copacabana</td>\n",
       "      <td>Apto.</td>\n",
       "      <td>3</td>\n",
       "      <td>280</td>\n",
       "    </tr>\n",
       "    <tr>\n",
       "      <th>10</th>\n",
       "      <td>Flamengo</td>\n",
       "      <td>Apto.</td>\n",
       "      <td>&gt;=4</td>\n",
       "      <td>330</td>\n",
       "    </tr>\n",
       "    <tr>\n",
       "      <th>11</th>\n",
       "      <td>Flamengo</td>\n",
       "      <td>Cobt.</td>\n",
       "      <td>1</td>\n",
       "      <td>180</td>\n",
       "    </tr>\n",
       "    <tr>\n",
       "      <th>12</th>\n",
       "      <td>Gávea</td>\n",
       "      <td>Apto.</td>\n",
       "      <td>3</td>\n",
       "      <td>290</td>\n",
       "    </tr>\n",
       "    <tr>\n",
       "      <th>13</th>\n",
       "      <td>Jacarepaguá</td>\n",
       "      <td>Apto.</td>\n",
       "      <td>&gt;=4</td>\n",
       "      <td>320</td>\n",
       "    </tr>\n",
       "    <tr>\n",
       "      <th>14</th>\n",
       "      <td>Ipanema</td>\n",
       "      <td>Apto.</td>\n",
       "      <td>3</td>\n",
       "      <td>276</td>\n",
       "    </tr>\n",
       "    <tr>\n",
       "      <th>15</th>\n",
       "      <td>Lagoa</td>\n",
       "      <td>Apto.</td>\n",
       "      <td>3</td>\n",
       "      <td>254</td>\n",
       "    </tr>\n",
       "    <tr>\n",
       "      <th>16</th>\n",
       "      <td>Laranjeiras</td>\n",
       "      <td>Apto.</td>\n",
       "      <td>2</td>\n",
       "      <td>220</td>\n",
       "    </tr>\n",
       "    <tr>\n",
       "      <th>17</th>\n",
       "      <td>Laranjeiras</td>\n",
       "      <td>Apto.</td>\n",
       "      <td>2</td>\n",
       "      <td>219</td>\n",
       "    </tr>\n",
       "    <tr>\n",
       "      <th>18</th>\n",
       "      <td>Leblon</td>\n",
       "      <td>Apto.</td>\n",
       "      <td>&gt;=4</td>\n",
       "      <td>340</td>\n",
       "    </tr>\n",
       "    <tr>\n",
       "      <th>19</th>\n",
       "      <td>Leblon</td>\n",
       "      <td>Apto.</td>\n",
       "      <td>3</td>\n",
       "      <td>260</td>\n",
       "    </tr>\n",
       "    <tr>\n",
       "      <th>20</th>\n",
       "      <td>Maracanã</td>\n",
       "      <td>Apto.</td>\n",
       "      <td>&gt;=4</td>\n",
       "      <td>338</td>\n",
       "    </tr>\n",
       "    <tr>\n",
       "      <th>21</th>\n",
       "      <td>Recreio</td>\n",
       "      <td>Cobt.</td>\n",
       "      <td>3</td>\n",
       "      <td>290</td>\n",
       "    </tr>\n",
       "    <tr>\n",
       "      <th>22</th>\n",
       "      <td>São Conrado</td>\n",
       "      <td>Casa</td>\n",
       "      <td>&gt;=4</td>\n",
       "      <td>430</td>\n",
       "    </tr>\n",
       "    <tr>\n",
       "      <th>23</th>\n",
       "      <td>Tijuca</td>\n",
       "      <td>Apto.</td>\n",
       "      <td>2</td>\n",
       "      <td>200</td>\n",
       "    </tr>\n",
       "    <tr>\n",
       "      <th>24</th>\n",
       "      <td>Tijuca</td>\n",
       "      <td>Apto.</td>\n",
       "      <td>2</td>\n",
       "      <td>210</td>\n",
       "    </tr>\n",
       "    <tr>\n",
       "      <th>25</th>\n",
       "      <td>Tijuca</td>\n",
       "      <td>Casa</td>\n",
       "      <td>&gt;=4</td>\n",
       "      <td>370</td>\n",
       "    </tr>\n",
       "    <tr>\n",
       "      <th>26</th>\n",
       "      <td>Vila Isabel</td>\n",
       "      <td>Apto.</td>\n",
       "      <td>2</td>\n",
       "      <td>230</td>\n",
       "    </tr>\n",
       "  </tbody>\n",
       "</table>\n",
       "</div>"
      ],
      "text/plain": [
       "         Bairro   Tipo N de quartos  Preço (mil)\n",
       "0        Barrra  Apto.            2          165\n",
       "1        Barrra  Apto.            3          240\n",
       "2        Barrra  Cobt.            3          158\n",
       "3        Barrra   Sala            0           90\n",
       "4      Botafogo  Apto.            2          270\n",
       "5        Catete  Apto.            1          250\n",
       "6        Centro   Sala            1          110\n",
       "7    Copacabana  Apto.            2          210\n",
       "8    Copacabana  Apto.            2          200\n",
       "9    Copacabana  Apto.            3          280\n",
       "10     Flamengo  Apto.          >=4          330\n",
       "11     Flamengo  Cobt.            1          180\n",
       "12        Gávea  Apto.            3          290\n",
       "13  Jacarepaguá  Apto.          >=4          320\n",
       "14      Ipanema  Apto.            3          276\n",
       "15        Lagoa  Apto.            3          254\n",
       "16  Laranjeiras  Apto.            2          220\n",
       "17  Laranjeiras  Apto.            2          219\n",
       "18       Leblon  Apto.          >=4          340\n",
       "19       Leblon  Apto.            3          260\n",
       "20     Maracanã  Apto.          >=4          338\n",
       "21      Recreio  Cobt.            3          290\n",
       "22  São Conrado   Casa          >=4          430\n",
       "23       Tijuca  Apto.            2          200\n",
       "24       Tijuca  Apto.            2          210\n",
       "25       Tijuca   Casa          >=4          370\n",
       "26  Vila Isabel  Apto.            2          230"
      ]
     },
     "execution_count": 16,
     "metadata": {},
     "output_type": "execute_result"
    }
   ],
   "source": [
    "dados2"
   ]
  },
  {
   "cell_type": "markdown",
   "metadata": {},
   "source": [
    "#### Bairro = Qualitativa nominal\n",
    "#### Tipo = Qualitativa nominal\n",
    "#### N de quartos = Quantitativa Discreta\n",
    "#### Preço = Quantitativa contínua"
   ]
  },
  {
   "cell_type": "markdown",
   "metadata": {},
   "source": [
    "<hr>"
   ]
  },
  {
   "cell_type": "markdown",
   "metadata": {},
   "source": [
    "## B)"
   ]
  },
  {
   "cell_type": "markdown",
   "metadata": {},
   "source": [
    "## **Frequências:**"
   ]
  },
  {
   "cell_type": "markdown",
   "metadata": {},
   "source": [
    "#### Frequência da variável `Bairro`:"
   ]
  },
  {
   "cell_type": "code",
   "execution_count": null,
   "metadata": {},
   "outputs": [],
   "source": [
    "freq_re = dados2[\"Bairro\"].value_counts(normalize=True)*100\n",
    "\n",
    "freq_bairro = {\"Freq Absoluta\": dados2[\"Bairro\"].value_counts(), \n",
    "       \"Freq Relativa %\": dados2[\"Bairro\"].value_counts(normalize=True)*100,\n",
    "            \"Freq Cumulativa\": np.cumsum(dados2[\"Bairro\"].value_counts())}\n",
    "freqbairro = pd.DataFrame(freq_bairro)\n",
    "freqbairro"
   ]
  },
  {
   "cell_type": "markdown",
   "metadata": {},
   "source": [
    "#### Frequência da variável `Tipo`:"
   ]
  },
  {
   "cell_type": "code",
   "execution_count": null,
   "metadata": {},
   "outputs": [],
   "source": [
    "freq_tipo = {\"Freq Absoluta\": dados2[\"Tipo\"].value_counts(), \n",
    "       \"Freq Relativa %\": dados2[\"Tipo\"].value_counts(normalize=True)*100,\n",
    "            \"Freq Cumulativa\": np.cumsum(dados2[\"Tipo\"].value_counts())}\n",
    "freqtipo = pd.DataFrame(freq_tipo)\n",
    "freqtipo"
   ]
  },
  {
   "cell_type": "markdown",
   "metadata": {},
   "source": [
    "#### Frequência da variável `N de quartos`:"
   ]
  },
  {
   "cell_type": "code",
   "execution_count": null,
   "metadata": {},
   "outputs": [],
   "source": [
    "freq_quartos = {\"Freq Absoluta\": dados2[\"N de quartos\"].value_counts(), \n",
    "       \"Freq Relativa %\": dados2[\"N de quartos\"].value_counts(normalize=True)*100,\n",
    "            \"Freq Cumulativa\": np.cumsum(dados2[\"N de quartos\"].value_counts())}\n",
    "freqquartos = pd.DataFrame(freq_quartos)\n",
    "freqquartos"
   ]
  },
  {
   "cell_type": "markdown",
   "metadata": {},
   "source": [
    "#### Frequência da variável `Preço (mil)`:"
   ]
  },
  {
   "cell_type": "code",
   "execution_count": null,
   "metadata": {},
   "outputs": [],
   "source": [
    "dist_frequencia_classes(dados2[\"Preço (mil)\"], nc=5)"
   ]
  },
  {
   "cell_type": "markdown",
   "metadata": {},
   "source": [
    "<hr>"
   ]
  },
  {
   "cell_type": "markdown",
   "metadata": {},
   "source": [
    "## C)"
   ]
  },
  {
   "cell_type": "markdown",
   "metadata": {},
   "source": [
    "## **Tabela de contingência**"
   ]
  },
  {
   "cell_type": "code",
   "execution_count": null,
   "metadata": {},
   "outputs": [],
   "source": [
    "pd.crosstab(dados2['Bairro'], dados2['Tipo'], margins=True)"
   ]
  },
  {
   "cell_type": "markdown",
   "metadata": {},
   "source": []
  },
  {
   "cell_type": "code",
   "execution_count": null,
   "metadata": {},
   "outputs": [],
   "source": [
    "pd.crosstab(dados2['Bairro'], dados2['N de quartos'], margins=True)"
   ]
  },
  {
   "cell_type": "markdown",
   "metadata": {},
   "source": []
  },
  {
   "cell_type": "markdown",
   "metadata": {},
   "source": [
    "<hr>"
   ]
  },
  {
   "cell_type": "markdown",
   "metadata": {},
   "source": [
    "## 3- a)"
   ]
  },
  {
   "cell_type": "markdown",
   "metadata": {},
   "source": [
    "#### Turma: Qualitativa nominal\n",
    "#### Gênero: Qualitativa nominal\n",
    "#### Idade: Quantitativa discreta\n",
    "#### Alt: Quantitativa contínua\n",
    "#### Peso: Quantitativa contínua\n",
    "#### Filhos: Quantitativa discreta\n",
    "#### Fuma: Qualitativa nominal\n",
    "#### Tolr: Qualitativa ordinal\n",
    "#### Exerc: Quantitativa discreta\n",
    "#### Cine: Quantitativa discreta\n",
    "#### OpGine: Qualitativa ordinal\n",
    "#### TV: Quantitativa discreta\n",
    "#### OpTV: Qualitativa ordinal"
   ]
  },
  {
   "cell_type": "markdown",
   "metadata": {},
   "source": [
    "<hr>\n",
    "altura e peso"
   ]
  },
  {
   "cell_type": "markdown",
   "metadata": {},
   "source": [
    "## b)"
   ]
  },
  {
   "cell_type": "markdown",
   "metadata": {},
   "source": [
    "### Turma"
   ]
  },
  {
   "cell_type": "code",
   "execution_count": null,
   "metadata": {},
   "outputs": [],
   "source": [
    "freq_Turma = {\"Freq Absoluta\": dados3[\"Turma\"].value_counts(), \n",
    "       \"Freq Relativa %\": dados3[\"Turma\"].value_counts(normalize=True)*100,\n",
    "            \"Freq Cumulativa\": np.cumsum(dados3[\"Turma\"].value_counts())}\n",
    "freqTurma = pd.DataFrame(freq_Turma)\n",
    "freqTurma"
   ]
  },
  {
   "cell_type": "markdown",
   "metadata": {},
   "source": [
    "### Sexo"
   ]
  },
  {
   "cell_type": "code",
   "execution_count": null,
   "metadata": {},
   "outputs": [],
   "source": [
    "freq_sexo = {\"Freq Absoluta\": dados3[\"Sexo\"].value_counts(), \n",
    "       \"Freq Relativa %\": dados3[\"Sexo\"].value_counts(normalize=True)*100,\n",
    "            \"Freq Cumulativa\": np.cumsum(dados3[\"Sexo\"].value_counts())}\n",
    "freqsexo = pd.DataFrame(freq_sexo)\n",
    "freqsexo"
   ]
  },
  {
   "cell_type": "markdown",
   "metadata": {},
   "source": [
    "### Idade"
   ]
  },
  {
   "cell_type": "code",
   "execution_count": null,
   "metadata": {},
   "outputs": [],
   "source": [
    "dist_frequencia_classes(dados3[\"Idade\"], nc=5)"
   ]
  },
  {
   "cell_type": "markdown",
   "metadata": {},
   "source": [
    "### Alt"
   ]
  },
  {
   "cell_type": "code",
   "execution_count": null,
   "metadata": {},
   "outputs": [],
   "source": [
    "dist_frequencia_classes(dados3[\"Alt\"], nc=5)"
   ]
  },
  {
   "cell_type": "markdown",
   "metadata": {},
   "source": [
    "### Peso"
   ]
  },
  {
   "cell_type": "code",
   "execution_count": null,
   "metadata": {},
   "outputs": [],
   "source": [
    "dist_frequencia_classes(dados3[\"Peso\"], nc=5)"
   ]
  },
  {
   "cell_type": "markdown",
   "metadata": {},
   "source": [
    "### Filhos"
   ]
  },
  {
   "cell_type": "code",
   "execution_count": null,
   "metadata": {},
   "outputs": [],
   "source": [
    "freq_filhos = {\"Freq Absoluta\": dados3[\"Filhos\"].value_counts(), \n",
    "       \"Freq Relativa %\": dados3[\"Filhos\"].value_counts(normalize=True)*100,\n",
    "            \"Freq Cumulativa\": np.cumsum(dados3[\"Filhos\"].value_counts())}\n",
    "freqFilhos = pd.DataFrame(freq_filhos)\n",
    "freqFilhos"
   ]
  },
  {
   "cell_type": "markdown",
   "metadata": {},
   "source": [
    "### Fuma"
   ]
  },
  {
   "cell_type": "code",
   "execution_count": null,
   "metadata": {},
   "outputs": [],
   "source": [
    "freq_fuma = {\"Freq Absoluta\": dados3[\"Fuma\"].value_counts(), \n",
    "       \"Freq Relativa %\": dados3[\"Fuma\"].value_counts(normalize=True)*100,\n",
    "            \"Freq Cumulativa\": np.cumsum(dados3[\"Fuma\"].value_counts())}\n",
    "freqFuma = pd.DataFrame(freq_fuma)\n",
    "freqFuma"
   ]
  },
  {
   "cell_type": "markdown",
   "metadata": {},
   "source": [
    "### Toler"
   ]
  },
  {
   "cell_type": "code",
   "execution_count": null,
   "metadata": {},
   "outputs": [],
   "source": [
    "freq_toler = {\"Freq Absoluta\": dados3[\"Toler\"].value_counts(), \n",
    "       \"Freq Relativa %\": dados3[\"Toler\"].value_counts(normalize=True)*100,\n",
    "            \"Freq Cumulativa\": np.cumsum(dados3[\"Toler\"].value_counts())}\n",
    "freqToler = pd.DataFrame(freq_toler)\n",
    "freqToler"
   ]
  },
  {
   "cell_type": "markdown",
   "metadata": {},
   "source": [
    "### Exerc"
   ]
  },
  {
   "cell_type": "code",
   "execution_count": null,
   "metadata": {},
   "outputs": [],
   "source": [
    "freq_exerc = {\"Freq Absoluta\": dados3[\"Exerc\"].value_counts(), \n",
    "       \"Freq Relativa %\": dados3[\"Exerc\"].value_counts(normalize=True)*100,\n",
    "            \"Freq Cumulativa\": np.cumsum(dados3[\"Exerc\"].value_counts())}\n",
    "freqExerc = pd.DataFrame(freq_exerc)\n",
    "freqExerc"
   ]
  },
  {
   "cell_type": "markdown",
   "metadata": {},
   "source": [
    "## Cine"
   ]
  },
  {
   "cell_type": "code",
   "execution_count": null,
   "metadata": {},
   "outputs": [],
   "source": [
    "freq_cine = {\"Freq Absoluta\": dados3[\"Cine\"].value_counts(), \n",
    "       \"Freq Relativa %\": dados3[\"Cine\"].value_counts(normalize=True)*100,\n",
    "            \"Freq Cumulativa\": np.cumsum(dados3[\"Cine\"].value_counts())}\n",
    "freqCine = pd.DataFrame(freq_cine)\n",
    "freqCine"
   ]
  },
  {
   "cell_type": "markdown",
   "metadata": {},
   "source": [
    "## OpCine"
   ]
  },
  {
   "cell_type": "code",
   "execution_count": null,
   "metadata": {},
   "outputs": [],
   "source": [
    "freq_cine = {\"Freq Absoluta\": dados3[\"Cine\"].value_counts(), \n",
    "       \"Freq Relativa %\": dados3[\"Cine\"].value_counts(normalize=True)*100,\n",
    "            \"Freq Cumulativa\": np.cumsum(dados3[\"Cine\"].value_counts())}\n",
    "freqCine = pd.DataFrame(freq_cine)\n",
    "freqCine"
   ]
  },
  {
   "cell_type": "markdown",
   "metadata": {},
   "source": [
    "#### TV"
   ]
  },
  {
   "cell_type": "code",
   "execution_count": null,
   "metadata": {},
   "outputs": [],
   "source": [
    "freq_tv = {\"Freq Absoluta\": dados3[\"TV\"].value_counts(), \n",
    "       \"Freq Relativa %\": dados3[\"TV\"].value_counts(normalize=True)*100,\n",
    "            \"Freq Cumulativa\": np.cumsum(dados3[\"TV\"].value_counts())}\n",
    "freqaTV = pd.DataFrame(freq_tv)\n",
    "freqaTV"
   ]
  },
  {
   "cell_type": "markdown",
   "metadata": {},
   "source": [
    "### OpTV"
   ]
  },
  {
   "cell_type": "code",
   "execution_count": null,
   "metadata": {},
   "outputs": [],
   "source": [
    "freq_optv = {\"Freq Absoluta\": dados3[\"OpTV\"].value_counts(), \n",
    "       \"Freq Relativa %\": dados3[\"OpTV\"].value_counts(normalize=True)*100,\n",
    "            \"Freq Cumulativa\": np.cumsum(dados3[\"OpTV\"].value_counts())}\n",
    "freqOpTV= pd.DataFrame(freq_optv)\n",
    "freqOpTV"
   ]
  },
  {
   "cell_type": "markdown",
   "metadata": {},
   "source": [
    "<hr>"
   ]
  },
  {
   "cell_type": "markdown",
   "metadata": {},
   "source": [
    "## C)"
   ]
  },
  {
   "cell_type": "code",
   "execution_count": null,
   "metadata": {},
   "outputs": [],
   "source": [
    "peso = (dados3[\"Peso\"])\n",
    "Idade = (dados3[\"Idade\"])\n",
    "dic = {\"PESO\": peso, \"IDADE\": Idade}"
   ]
  },
  {
   "cell_type": "code",
   "execution_count": null,
   "metadata": {},
   "outputs": [],
   "source": [
    "comparar = pd.DataFrame(dic)\n",
    "comparar"
   ]
  },
  {
   "cell_type": "code",
   "execution_count": null,
   "metadata": {},
   "outputs": [],
   "source": [
    "comparar.sort_values(by=[\"PESO\"],ascending=False).head(10)"
   ]
  },
  {
   "cell_type": "code",
   "execution_count": null,
   "metadata": {},
   "outputs": [],
   "source": [
    "dados3.sort_values(by=[\"Peso\"],ascending=False)"
   ]
  },
  {
   "cell_type": "code",
   "execution_count": null,
   "metadata": {},
   "outputs": [],
   "source": []
  }
 ],
 "metadata": {
  "kernelspec": {
   "display_name": "Python 3",
   "language": "python",
   "name": "python3"
  },
  "language_info": {
   "codemirror_mode": {
    "name": "ipython",
    "version": 3
   },
   "file_extension": ".py",
   "mimetype": "text/x-python",
   "name": "python",
   "nbconvert_exporter": "python",
   "pygments_lexer": "ipython3",
   "version": "3.8.5"
  }
 },
 "nbformat": 4,
 "nbformat_minor": 4
}
