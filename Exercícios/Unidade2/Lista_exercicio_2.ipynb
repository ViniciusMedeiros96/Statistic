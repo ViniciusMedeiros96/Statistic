{
 "cells": [
  {
   "cell_type": "code",
   "execution_count": 10,
   "metadata": {},
   "outputs": [],
   "source": [
    "import pandas as pd\n",
    "import numpy as np\n",
    "import matplotlib.pyplot as plt"
   ]
  },
  {
   "cell_type": "code",
   "execution_count": 21,
   "metadata": {},
   "outputs": [],
   "source": [
    "dados1 = pd.read_csv(\"https://raw.githubusercontent.com/joaovictornsv/statistics-applied-to-computing/master/college-studies/data/dados1.csv\", encoding=\"utf-8\", sep =\";\", header=None, decimal=\",\")\n",
    "dados2 = pd.read_csv(\"https://raw.githubusercontent.com/joaovictornsv/statistics-applied-to-computing/master/college-studies/data/dados2.csv\", encoding=\"utf-8\", sep =\";\")\n",
    "dados3 = pd.read_excel(\"https://github.com/vinimedeiros13/Statistic/blob/main/Exerc%C3%ADcios/Unidade2/dados3.xls?raw=true\")"
   ]
  },
  {
   "cell_type": "code",
   "execution_count": 22,
   "metadata": {},
   "outputs": [],
   "source": [
    "def dist_frequencia_classes(entrada, nc='auto'):\n",
    "    \n",
    "    freq_absoluta,classes= np.histogram(entrada, bins=nc) \n",
    "    freq_absoluta = freq_absoluta.astype(int)\n",
    "    freq_relativa = np.around(freq_absoluta/freq_absoluta.sum()*100,decimals=2)\n",
    "    feeq_classe = np.cumsum(freq_absoluta).astype(int) \n",
    "    \n",
    "    classe_str = []\n",
    "    for i in range(len(classes)):\n",
    "        if i <= len(classes)-2:\n",
    "            classe_str.append('{:2.2f} |-- {:2.2f}' .format(classes[i],classes[i+1]))\n",
    "        else:\n",
    "            break        \n",
    "     \n",
    "    return pd.DataFrame({'Classes':classe_str, \n",
    "                         'freq Absoluta': freq_absoluta,\n",
    "                         'freq Relativa': freq_relativa,\n",
    "                         'Cumulativa': feeq_classe\n",
    "                        }).set_index('Classes')"
   ]
  },
  {
   "cell_type": "markdown",
   "metadata": {},
   "source": [
    "<hr>"
   ]
  },
  {
   "cell_type": "markdown",
   "metadata": {},
   "source": [
    "## 1-"
   ]
  },
  {
   "cell_type": "code",
   "execution_count": 23,
   "metadata": {},
   "outputs": [],
   "source": [
    "dados = dados1.values.reshape(-1)"
   ]
  },
  {
   "cell_type": "code",
   "execution_count": 24,
   "metadata": {},
   "outputs": [],
   "source": [
    "lista_alunos = []\n",
    "for i in range(1,101):\n",
    "    lista_alunos.append(f\"ALuno {i}\")"
   ]
  },
  {
   "cell_type": "code",
   "execution_count": 26,
   "metadata": {},
   "outputs": [],
   "source": [
    "dic_1 = {\"Aluno\": lista_alunos, \"Notas\": dados}\n",
    "xxx = pd.DataFrame(dic_1)"
   ]
  },
  {
   "cell_type": "code",
   "execution_count": 27,
   "metadata": {},
   "outputs": [
    {
     "data": {
      "text/html": [
       "<div>\n",
       "<style scoped>\n",
       "    .dataframe tbody tr th:only-of-type {\n",
       "        vertical-align: middle;\n",
       "    }\n",
       "\n",
       "    .dataframe tbody tr th {\n",
       "        vertical-align: top;\n",
       "    }\n",
       "\n",
       "    .dataframe thead th {\n",
       "        text-align: right;\n",
       "    }\n",
       "</style>\n",
       "<table border=\"1\" class=\"dataframe\">\n",
       "  <thead>\n",
       "    <tr style=\"text-align: right;\">\n",
       "      <th></th>\n",
       "      <th>freq Absoluta</th>\n",
       "      <th>freq Relativa</th>\n",
       "      <th>Cumulativa</th>\n",
       "    </tr>\n",
       "    <tr>\n",
       "      <th>Classes</th>\n",
       "      <th></th>\n",
       "      <th></th>\n",
       "      <th></th>\n",
       "    </tr>\n",
       "  </thead>\n",
       "  <tbody>\n",
       "    <tr>\n",
       "      <th>1.50 |-- 2.44</th>\n",
       "      <td>1</td>\n",
       "      <td>1.0</td>\n",
       "      <td>1</td>\n",
       "    </tr>\n",
       "    <tr>\n",
       "      <th>2.44 |-- 3.39</th>\n",
       "      <td>7</td>\n",
       "      <td>7.0</td>\n",
       "      <td>8</td>\n",
       "    </tr>\n",
       "    <tr>\n",
       "      <th>3.39 |-- 4.33</th>\n",
       "      <td>11</td>\n",
       "      <td>11.0</td>\n",
       "      <td>19</td>\n",
       "    </tr>\n",
       "    <tr>\n",
       "      <th>4.33 |-- 5.28</th>\n",
       "      <td>15</td>\n",
       "      <td>15.0</td>\n",
       "      <td>34</td>\n",
       "    </tr>\n",
       "    <tr>\n",
       "      <th>5.28 |-- 6.22</th>\n",
       "      <td>24</td>\n",
       "      <td>24.0</td>\n",
       "      <td>58</td>\n",
       "    </tr>\n",
       "    <tr>\n",
       "      <th>6.22 |-- 7.17</th>\n",
       "      <td>17</td>\n",
       "      <td>17.0</td>\n",
       "      <td>75</td>\n",
       "    </tr>\n",
       "    <tr>\n",
       "      <th>7.17 |-- 8.11</th>\n",
       "      <td>16</td>\n",
       "      <td>16.0</td>\n",
       "      <td>91</td>\n",
       "    </tr>\n",
       "    <tr>\n",
       "      <th>8.11 |-- 9.06</th>\n",
       "      <td>5</td>\n",
       "      <td>5.0</td>\n",
       "      <td>96</td>\n",
       "    </tr>\n",
       "    <tr>\n",
       "      <th>9.06 |-- 10.00</th>\n",
       "      <td>4</td>\n",
       "      <td>4.0</td>\n",
       "      <td>100</td>\n",
       "    </tr>\n",
       "  </tbody>\n",
       "</table>\n",
       "</div>"
      ],
      "text/plain": [
       "                freq Absoluta  freq Relativa  Cumulativa\n",
       "Classes                                                 \n",
       "1.50 |-- 2.44               1            1.0           1\n",
       "2.44 |-- 3.39               7            7.0           8\n",
       "3.39 |-- 4.33              11           11.0          19\n",
       "4.33 |-- 5.28              15           15.0          34\n",
       "5.28 |-- 6.22              24           24.0          58\n",
       "6.22 |-- 7.17              17           17.0          75\n",
       "7.17 |-- 8.11              16           16.0          91\n",
       "8.11 |-- 9.06               5            5.0          96\n",
       "9.06 |-- 10.00              4            4.0         100"
      ]
     },
     "execution_count": 27,
     "metadata": {},
     "output_type": "execute_result"
    }
   ],
   "source": [
    "dist_frequencia_classes(xxx[\"Notas\"])"
   ]
  },
  {
   "cell_type": "markdown",
   "metadata": {},
   "source": [
    "<hr>"
   ]
  },
  {
   "cell_type": "markdown",
   "metadata": {},
   "source": [
    "## 2- a)"
   ]
  },
  {
   "cell_type": "markdown",
   "metadata": {},
   "source": [
    "#### Bairro = Qualitativa nominal\n",
    "#### Tipo = Qualitativa nominal\n",
    "#### N de quartos = Quantitativa discreta\n",
    "#### Preço = Quantitativa contínua"
   ]
  },
  {
   "cell_type": "markdown",
   "metadata": {},
   "source": [
    "<hr>"
   ]
  },
  {
   "cell_type": "markdown",
   "metadata": {},
   "source": [
    "## B)"
   ]
  },
  {
   "cell_type": "markdown",
   "metadata": {},
   "source": [
    "## **Frequências:**"
   ]
  },
  {
   "cell_type": "markdown",
   "metadata": {},
   "source": [
    "#### Frequência da variável `Bairro`:"
   ]
  },
  {
   "cell_type": "code",
   "execution_count": null,
   "metadata": {},
   "outputs": [],
   "source": [
    "freq_re = dados2[\"Bairro\"].value_counts(normalize=True)*100\n",
    "\n",
    "freq_bairro = {\"Freq Absoluta\": dados2[\"Bairro\"].value_counts(), \n",
    "       \"Freq Relativa %\": dados2[\"Bairro\"].value_counts(normalize=True)*100,\n",
    "            \"Freq Cumulativa\": np.cumsum(dados2[\"Bairro\"].value_counts())}\n",
    "freqbairro = pd.DataFrame(freq_bairro)\n",
    "freqbairro"
   ]
  },
  {
   "cell_type": "markdown",
   "metadata": {},
   "source": [
    "#### Frequência da variável `Tipo`:"
   ]
  },
  {
   "cell_type": "code",
   "execution_count": null,
   "metadata": {},
   "outputs": [],
   "source": [
    "freq_tipo = {\"Freq Absoluta\": dados2[\"Tipo\"].value_counts(), \n",
    "       \"Freq Relativa %\": dados2[\"Tipo\"].value_counts(normalize=True)*100,\n",
    "            \"Freq Cumulativa\": np.cumsum(dados2[\"Tipo\"].value_counts())}\n",
    "freqtipo = pd.DataFrame(freq_tipo)\n",
    "freqtipo"
   ]
  },
  {
   "cell_type": "markdown",
   "metadata": {},
   "source": [
    "#### Frequência da variável `N de quartos`:"
   ]
  },
  {
   "cell_type": "code",
   "execution_count": null,
   "metadata": {},
   "outputs": [],
   "source": [
    "freq_quartos = {\"Freq Absoluta\": dados2[\"N de quartos\"].value_counts(), \n",
    "       \"Freq Relativa %\": dados2[\"N de quartos\"].value_counts(normalize=True)*100,\n",
    "            \"Freq Cumulativa\": np.cumsum(dados2[\"N de quartos\"].value_counts())}\n",
    "freqquartos = pd.DataFrame(freq_quartos)\n",
    "freqquartos"
   ]
  },
  {
   "cell_type": "markdown",
   "metadata": {},
   "source": [
    "#### Frequência da variável `Preço (mil)`:"
   ]
  },
  {
   "cell_type": "code",
   "execution_count": null,
   "metadata": {},
   "outputs": [],
   "source": [
    "dist_frequencia_classes(dados2[\"Preço (mil)\"], nc=5)"
   ]
  },
  {
   "cell_type": "markdown",
   "metadata": {},
   "source": [
    "<hr>"
   ]
  },
  {
   "cell_type": "markdown",
   "metadata": {},
   "source": [
    "## C)"
   ]
  },
  {
   "cell_type": "markdown",
   "metadata": {},
   "source": [
    "## **Tabela de contingência**"
   ]
  },
  {
   "cell_type": "code",
   "execution_count": 37,
   "metadata": {},
   "outputs": [
    {
     "data": {
      "text/html": [
       "<div>\n",
       "<style scoped>\n",
       "    .dataframe tbody tr th:only-of-type {\n",
       "        vertical-align: middle;\n",
       "    }\n",
       "\n",
       "    .dataframe tbody tr th {\n",
       "        vertical-align: top;\n",
       "    }\n",
       "\n",
       "    .dataframe thead th {\n",
       "        text-align: right;\n",
       "    }\n",
       "</style>\n",
       "<table border=\"1\" class=\"dataframe\">\n",
       "  <thead>\n",
       "    <tr style=\"text-align: right;\">\n",
       "      <th>Tipo</th>\n",
       "      <th>Apto.</th>\n",
       "      <th>Casa</th>\n",
       "      <th>Cobt.</th>\n",
       "      <th>Sala</th>\n",
       "      <th>All</th>\n",
       "    </tr>\n",
       "    <tr>\n",
       "      <th>Bairro</th>\n",
       "      <th></th>\n",
       "      <th></th>\n",
       "      <th></th>\n",
       "      <th></th>\n",
       "      <th></th>\n",
       "    </tr>\n",
       "  </thead>\n",
       "  <tbody>\n",
       "    <tr>\n",
       "      <th>Barrra</th>\n",
       "      <td>2</td>\n",
       "      <td>0</td>\n",
       "      <td>1</td>\n",
       "      <td>1</td>\n",
       "      <td>4</td>\n",
       "    </tr>\n",
       "    <tr>\n",
       "      <th>Botafogo</th>\n",
       "      <td>1</td>\n",
       "      <td>0</td>\n",
       "      <td>0</td>\n",
       "      <td>0</td>\n",
       "      <td>1</td>\n",
       "    </tr>\n",
       "    <tr>\n",
       "      <th>Catete</th>\n",
       "      <td>1</td>\n",
       "      <td>0</td>\n",
       "      <td>0</td>\n",
       "      <td>0</td>\n",
       "      <td>1</td>\n",
       "    </tr>\n",
       "    <tr>\n",
       "      <th>Centro</th>\n",
       "      <td>0</td>\n",
       "      <td>0</td>\n",
       "      <td>0</td>\n",
       "      <td>1</td>\n",
       "      <td>1</td>\n",
       "    </tr>\n",
       "    <tr>\n",
       "      <th>Copacabana</th>\n",
       "      <td>3</td>\n",
       "      <td>0</td>\n",
       "      <td>0</td>\n",
       "      <td>0</td>\n",
       "      <td>3</td>\n",
       "    </tr>\n",
       "    <tr>\n",
       "      <th>Flamengo</th>\n",
       "      <td>1</td>\n",
       "      <td>0</td>\n",
       "      <td>1</td>\n",
       "      <td>0</td>\n",
       "      <td>2</td>\n",
       "    </tr>\n",
       "    <tr>\n",
       "      <th>Gávea</th>\n",
       "      <td>1</td>\n",
       "      <td>0</td>\n",
       "      <td>0</td>\n",
       "      <td>0</td>\n",
       "      <td>1</td>\n",
       "    </tr>\n",
       "    <tr>\n",
       "      <th>Ipanema</th>\n",
       "      <td>1</td>\n",
       "      <td>0</td>\n",
       "      <td>0</td>\n",
       "      <td>0</td>\n",
       "      <td>1</td>\n",
       "    </tr>\n",
       "    <tr>\n",
       "      <th>Jacarepaguá</th>\n",
       "      <td>1</td>\n",
       "      <td>0</td>\n",
       "      <td>0</td>\n",
       "      <td>0</td>\n",
       "      <td>1</td>\n",
       "    </tr>\n",
       "    <tr>\n",
       "      <th>Lagoa</th>\n",
       "      <td>1</td>\n",
       "      <td>0</td>\n",
       "      <td>0</td>\n",
       "      <td>0</td>\n",
       "      <td>1</td>\n",
       "    </tr>\n",
       "    <tr>\n",
       "      <th>Laranjeiras</th>\n",
       "      <td>2</td>\n",
       "      <td>0</td>\n",
       "      <td>0</td>\n",
       "      <td>0</td>\n",
       "      <td>2</td>\n",
       "    </tr>\n",
       "    <tr>\n",
       "      <th>Leblon</th>\n",
       "      <td>2</td>\n",
       "      <td>0</td>\n",
       "      <td>0</td>\n",
       "      <td>0</td>\n",
       "      <td>2</td>\n",
       "    </tr>\n",
       "    <tr>\n",
       "      <th>Maracanã</th>\n",
       "      <td>1</td>\n",
       "      <td>0</td>\n",
       "      <td>0</td>\n",
       "      <td>0</td>\n",
       "      <td>1</td>\n",
       "    </tr>\n",
       "    <tr>\n",
       "      <th>Recreio</th>\n",
       "      <td>0</td>\n",
       "      <td>0</td>\n",
       "      <td>1</td>\n",
       "      <td>0</td>\n",
       "      <td>1</td>\n",
       "    </tr>\n",
       "    <tr>\n",
       "      <th>São Conrado</th>\n",
       "      <td>0</td>\n",
       "      <td>1</td>\n",
       "      <td>0</td>\n",
       "      <td>0</td>\n",
       "      <td>1</td>\n",
       "    </tr>\n",
       "    <tr>\n",
       "      <th>Tijuca</th>\n",
       "      <td>2</td>\n",
       "      <td>1</td>\n",
       "      <td>0</td>\n",
       "      <td>0</td>\n",
       "      <td>3</td>\n",
       "    </tr>\n",
       "    <tr>\n",
       "      <th>Vila Isabel</th>\n",
       "      <td>1</td>\n",
       "      <td>0</td>\n",
       "      <td>0</td>\n",
       "      <td>0</td>\n",
       "      <td>1</td>\n",
       "    </tr>\n",
       "    <tr>\n",
       "      <th>All</th>\n",
       "      <td>20</td>\n",
       "      <td>2</td>\n",
       "      <td>3</td>\n",
       "      <td>2</td>\n",
       "      <td>27</td>\n",
       "    </tr>\n",
       "  </tbody>\n",
       "</table>\n",
       "</div>"
      ],
      "text/plain": [
       "Tipo         Apto.  Casa  Cobt.  Sala  All\n",
       "Bairro                                    \n",
       "Barrra           2     0      1     1    4\n",
       "Botafogo         1     0      0     0    1\n",
       "Catete           1     0      0     0    1\n",
       "Centro           0     0      0     1    1\n",
       "Copacabana       3     0      0     0    3\n",
       "Flamengo         1     0      1     0    2\n",
       "Gávea            1     0      0     0    1\n",
       "Ipanema          1     0      0     0    1\n",
       "Jacarepaguá      1     0      0     0    1\n",
       "Lagoa            1     0      0     0    1\n",
       "Laranjeiras      2     0      0     0    2\n",
       "Leblon           2     0      0     0    2\n",
       "Maracanã         1     0      0     0    1\n",
       "Recreio          0     0      1     0    1\n",
       "São Conrado      0     1      0     0    1\n",
       "Tijuca           2     1      0     0    3\n",
       "Vila Isabel      1     0      0     0    1\n",
       "All             20     2      3     2   27"
      ]
     },
     "execution_count": 37,
     "metadata": {},
     "output_type": "execute_result"
    }
   ],
   "source": [
    "pd.crosstab(dados2['Bairro'], dados2['Tipo'], margins=True)"
   ]
  },
  {
   "cell_type": "code",
   "execution_count": 35,
   "metadata": {},
   "outputs": [
    {
     "data": {
      "text/html": [
       "<div>\n",
       "<style scoped>\n",
       "    .dataframe tbody tr th:only-of-type {\n",
       "        vertical-align: middle;\n",
       "    }\n",
       "\n",
       "    .dataframe tbody tr th {\n",
       "        vertical-align: top;\n",
       "    }\n",
       "\n",
       "    .dataframe thead th {\n",
       "        text-align: right;\n",
       "    }\n",
       "</style>\n",
       "<table border=\"1\" class=\"dataframe\">\n",
       "  <thead>\n",
       "    <tr style=\"text-align: right;\">\n",
       "      <th>N de quartos</th>\n",
       "      <th>0</th>\n",
       "      <th>1</th>\n",
       "      <th>2</th>\n",
       "      <th>3</th>\n",
       "      <th>&gt;=4</th>\n",
       "      <th>All</th>\n",
       "    </tr>\n",
       "    <tr>\n",
       "      <th>Bairro</th>\n",
       "      <th></th>\n",
       "      <th></th>\n",
       "      <th></th>\n",
       "      <th></th>\n",
       "      <th></th>\n",
       "      <th></th>\n",
       "    </tr>\n",
       "  </thead>\n",
       "  <tbody>\n",
       "    <tr>\n",
       "      <th>Barrra</th>\n",
       "      <td>1</td>\n",
       "      <td>0</td>\n",
       "      <td>1</td>\n",
       "      <td>2</td>\n",
       "      <td>0</td>\n",
       "      <td>4</td>\n",
       "    </tr>\n",
       "    <tr>\n",
       "      <th>Botafogo</th>\n",
       "      <td>0</td>\n",
       "      <td>0</td>\n",
       "      <td>1</td>\n",
       "      <td>0</td>\n",
       "      <td>0</td>\n",
       "      <td>1</td>\n",
       "    </tr>\n",
       "    <tr>\n",
       "      <th>Catete</th>\n",
       "      <td>0</td>\n",
       "      <td>1</td>\n",
       "      <td>0</td>\n",
       "      <td>0</td>\n",
       "      <td>0</td>\n",
       "      <td>1</td>\n",
       "    </tr>\n",
       "    <tr>\n",
       "      <th>Centro</th>\n",
       "      <td>0</td>\n",
       "      <td>1</td>\n",
       "      <td>0</td>\n",
       "      <td>0</td>\n",
       "      <td>0</td>\n",
       "      <td>1</td>\n",
       "    </tr>\n",
       "    <tr>\n",
       "      <th>Copacabana</th>\n",
       "      <td>0</td>\n",
       "      <td>0</td>\n",
       "      <td>2</td>\n",
       "      <td>1</td>\n",
       "      <td>0</td>\n",
       "      <td>3</td>\n",
       "    </tr>\n",
       "    <tr>\n",
       "      <th>Flamengo</th>\n",
       "      <td>0</td>\n",
       "      <td>1</td>\n",
       "      <td>0</td>\n",
       "      <td>0</td>\n",
       "      <td>1</td>\n",
       "      <td>2</td>\n",
       "    </tr>\n",
       "    <tr>\n",
       "      <th>Gávea</th>\n",
       "      <td>0</td>\n",
       "      <td>0</td>\n",
       "      <td>0</td>\n",
       "      <td>1</td>\n",
       "      <td>0</td>\n",
       "      <td>1</td>\n",
       "    </tr>\n",
       "    <tr>\n",
       "      <th>Ipanema</th>\n",
       "      <td>0</td>\n",
       "      <td>0</td>\n",
       "      <td>0</td>\n",
       "      <td>1</td>\n",
       "      <td>0</td>\n",
       "      <td>1</td>\n",
       "    </tr>\n",
       "    <tr>\n",
       "      <th>Jacarepaguá</th>\n",
       "      <td>0</td>\n",
       "      <td>0</td>\n",
       "      <td>0</td>\n",
       "      <td>0</td>\n",
       "      <td>1</td>\n",
       "      <td>1</td>\n",
       "    </tr>\n",
       "    <tr>\n",
       "      <th>Lagoa</th>\n",
       "      <td>0</td>\n",
       "      <td>0</td>\n",
       "      <td>0</td>\n",
       "      <td>1</td>\n",
       "      <td>0</td>\n",
       "      <td>1</td>\n",
       "    </tr>\n",
       "    <tr>\n",
       "      <th>Laranjeiras</th>\n",
       "      <td>0</td>\n",
       "      <td>0</td>\n",
       "      <td>2</td>\n",
       "      <td>0</td>\n",
       "      <td>0</td>\n",
       "      <td>2</td>\n",
       "    </tr>\n",
       "    <tr>\n",
       "      <th>Leblon</th>\n",
       "      <td>0</td>\n",
       "      <td>0</td>\n",
       "      <td>0</td>\n",
       "      <td>1</td>\n",
       "      <td>1</td>\n",
       "      <td>2</td>\n",
       "    </tr>\n",
       "    <tr>\n",
       "      <th>Maracanã</th>\n",
       "      <td>0</td>\n",
       "      <td>0</td>\n",
       "      <td>0</td>\n",
       "      <td>0</td>\n",
       "      <td>1</td>\n",
       "      <td>1</td>\n",
       "    </tr>\n",
       "    <tr>\n",
       "      <th>Recreio</th>\n",
       "      <td>0</td>\n",
       "      <td>0</td>\n",
       "      <td>0</td>\n",
       "      <td>1</td>\n",
       "      <td>0</td>\n",
       "      <td>1</td>\n",
       "    </tr>\n",
       "    <tr>\n",
       "      <th>São Conrado</th>\n",
       "      <td>0</td>\n",
       "      <td>0</td>\n",
       "      <td>0</td>\n",
       "      <td>0</td>\n",
       "      <td>1</td>\n",
       "      <td>1</td>\n",
       "    </tr>\n",
       "    <tr>\n",
       "      <th>Tijuca</th>\n",
       "      <td>0</td>\n",
       "      <td>0</td>\n",
       "      <td>2</td>\n",
       "      <td>0</td>\n",
       "      <td>1</td>\n",
       "      <td>3</td>\n",
       "    </tr>\n",
       "    <tr>\n",
       "      <th>Vila Isabel</th>\n",
       "      <td>0</td>\n",
       "      <td>0</td>\n",
       "      <td>1</td>\n",
       "      <td>0</td>\n",
       "      <td>0</td>\n",
       "      <td>1</td>\n",
       "    </tr>\n",
       "    <tr>\n",
       "      <th>All</th>\n",
       "      <td>1</td>\n",
       "      <td>3</td>\n",
       "      <td>9</td>\n",
       "      <td>8</td>\n",
       "      <td>6</td>\n",
       "      <td>27</td>\n",
       "    </tr>\n",
       "  </tbody>\n",
       "</table>\n",
       "</div>"
      ],
      "text/plain": [
       "N de quartos  0  1  2  3  >=4  All\n",
       "Bairro                            \n",
       "Barrra        1  0  1  2    0    4\n",
       "Botafogo      0  0  1  0    0    1\n",
       "Catete        0  1  0  0    0    1\n",
       "Centro        0  1  0  0    0    1\n",
       "Copacabana    0  0  2  1    0    3\n",
       "Flamengo      0  1  0  0    1    2\n",
       "Gávea         0  0  0  1    0    1\n",
       "Ipanema       0  0  0  1    0    1\n",
       "Jacarepaguá   0  0  0  0    1    1\n",
       "Lagoa         0  0  0  1    0    1\n",
       "Laranjeiras   0  0  2  0    0    2\n",
       "Leblon        0  0  0  1    1    2\n",
       "Maracanã      0  0  0  0    1    1\n",
       "Recreio       0  0  0  1    0    1\n",
       "São Conrado   0  0  0  0    1    1\n",
       "Tijuca        0  0  2  0    1    3\n",
       "Vila Isabel   0  0  1  0    0    1\n",
       "All           1  3  9  8    6   27"
      ]
     },
     "execution_count": 35,
     "metadata": {},
     "output_type": "execute_result"
    }
   ],
   "source": [
    "pd.crosstab(dados2['Bairro'], dados2['N de quartos'], margins=True)"
   ]
  },
  {
   "cell_type": "markdown",
   "metadata": {},
   "source": [
    "### O número de apartamentos vendidos foi maior com valor 20, o segundo maior teve apenas 3 (Cobertura). Apartamentos são mais práticos de organizar, de limpar e você pode optar por móveis mais compactos e funcionais, espaços mais práticos acabam trazendo menos stress e maior ganho e otimização de tempo. Apartamento se torna uma ótima opção ao escolher um tipo de moradia. "
   ]
  },
  {
   "cell_type": "markdown",
   "metadata": {},
   "source": [
    "<hr>"
   ]
  },
  {
   "cell_type": "markdown",
   "metadata": {},
   "source": [
    "## 3- a)"
   ]
  },
  {
   "cell_type": "markdown",
   "metadata": {},
   "source": [
    "#### Turma: Qualitativa nominal\n",
    "#### Gênero: Qualitativa nominal\n",
    "#### Idade: Quantitativa discreta\n",
    "#### Alt: Quantitativa contínua\n",
    "#### Peso: Quantitativa contínua\n",
    "#### Filhos: Quantitativa discreta\n",
    "#### Fuma: Qualitativa nominal\n",
    "#### Tolr: Qualitativa ordinal\n",
    "#### Exerc: Quantitativa discreta\n",
    "#### Cine: Quantitativa discreta\n",
    "#### OpGine: Qualitativa ordinal\n",
    "#### TV: Quantitativa discreta\n",
    "#### OpTV: Qualitativa ordinal"
   ]
  },
  {
   "cell_type": "markdown",
   "metadata": {},
   "source": [
    "<hr>"
   ]
  },
  {
   "cell_type": "markdown",
   "metadata": {},
   "source": [
    "## b)"
   ]
  },
  {
   "cell_type": "markdown",
   "metadata": {},
   "source": [
    "### Turma"
   ]
  },
  {
   "cell_type": "code",
   "execution_count": null,
   "metadata": {},
   "outputs": [],
   "source": [
    "freq_Turma = {\"Freq Absoluta\": dados3[\"Turma\"].value_counts(), \n",
    "       \"Freq Relativa %\": dados3[\"Turma\"].value_counts(normalize=True)*100,\n",
    "            \"Freq Cumulativa\": np.cumsum(dados3[\"Turma\"].value_counts())}\n",
    "freqTurma = pd.DataFrame(freq_Turma)\n",
    "freqTurma"
   ]
  },
  {
   "cell_type": "markdown",
   "metadata": {},
   "source": [
    "### Sexo"
   ]
  },
  {
   "cell_type": "code",
   "execution_count": null,
   "metadata": {},
   "outputs": [],
   "source": [
    "freq_sexo = {\"Freq Absoluta\": dados3[\"Sexo\"].value_counts(), \n",
    "       \"Freq Relativa %\": dados3[\"Sexo\"].value_counts(normalize=True)*100,\n",
    "            \"Freq Cumulativa\": np.cumsum(dados3[\"Sexo\"].value_counts())}\n",
    "freqsexo = pd.DataFrame(freq_sexo)\n",
    "freqsexo"
   ]
  },
  {
   "cell_type": "markdown",
   "metadata": {},
   "source": [
    "### Idade"
   ]
  },
  {
   "cell_type": "code",
   "execution_count": null,
   "metadata": {},
   "outputs": [],
   "source": [
    "dist_frequencia_classes(dados3[\"Idade\"], nc=5)"
   ]
  },
  {
   "cell_type": "markdown",
   "metadata": {},
   "source": [
    "### Alt"
   ]
  },
  {
   "cell_type": "code",
   "execution_count": null,
   "metadata": {},
   "outputs": [],
   "source": [
    "dist_frequencia_classes(dados3[\"Alt\"], nc=5)"
   ]
  },
  {
   "cell_type": "markdown",
   "metadata": {},
   "source": [
    "### Peso"
   ]
  },
  {
   "cell_type": "code",
   "execution_count": null,
   "metadata": {},
   "outputs": [],
   "source": [
    "dist_frequencia_classes(dados3[\"Peso\"], nc=5)"
   ]
  },
  {
   "cell_type": "markdown",
   "metadata": {},
   "source": [
    "### Filhos"
   ]
  },
  {
   "cell_type": "code",
   "execution_count": null,
   "metadata": {},
   "outputs": [],
   "source": [
    "freq_filhos = {\"Freq Absoluta\": dados3[\"Filhos\"].value_counts(), \n",
    "       \"Freq Relativa %\": dados3[\"Filhos\"].value_counts(normalize=True)*100,\n",
    "            \"Freq Cumulativa\": np.cumsum(dados3[\"Filhos\"].value_counts())}\n",
    "freqFilhos = pd.DataFrame(freq_filhos)\n",
    "freqFilhos"
   ]
  },
  {
   "cell_type": "markdown",
   "metadata": {},
   "source": [
    "### Fuma"
   ]
  },
  {
   "cell_type": "code",
   "execution_count": null,
   "metadata": {},
   "outputs": [],
   "source": [
    "freq_fuma = {\"Freq Absoluta\": dados3[\"Fuma\"].value_counts(), \n",
    "       \"Freq Relativa %\": dados3[\"Fuma\"].value_counts(normalize=True)*100,\n",
    "            \"Freq Cumulativa\": np.cumsum(dados3[\"Fuma\"].value_counts())}\n",
    "freqFuma = pd.DataFrame(freq_fuma)\n",
    "freqFuma"
   ]
  },
  {
   "cell_type": "markdown",
   "metadata": {},
   "source": [
    "### Toler"
   ]
  },
  {
   "cell_type": "code",
   "execution_count": null,
   "metadata": {},
   "outputs": [],
   "source": [
    "freq_toler = {\"Freq Absoluta\": dados3[\"Toler\"].value_counts(), \n",
    "       \"Freq Relativa %\": dados3[\"Toler\"].value_counts(normalize=True)*100,\n",
    "            \"Freq Cumulativa\": np.cumsum(dados3[\"Toler\"].value_counts())}\n",
    "freqToler = pd.DataFrame(freq_toler)\n",
    "freqToler"
   ]
  },
  {
   "cell_type": "markdown",
   "metadata": {},
   "source": [
    "### Exerc"
   ]
  },
  {
   "cell_type": "code",
   "execution_count": null,
   "metadata": {},
   "outputs": [],
   "source": [
    "freq_exerc = {\"Freq Absoluta\": dados3[\"Exerc\"].value_counts(), \n",
    "       \"Freq Relativa %\": dados3[\"Exerc\"].value_counts(normalize=True)*100,\n",
    "            \"Freq Cumulativa\": np.cumsum(dados3[\"Exerc\"].value_counts())}\n",
    "freqExerc = pd.DataFrame(freq_exerc)\n",
    "freqExerc"
   ]
  },
  {
   "cell_type": "markdown",
   "metadata": {},
   "source": [
    "### Cine"
   ]
  },
  {
   "cell_type": "code",
   "execution_count": null,
   "metadata": {},
   "outputs": [],
   "source": [
    "freq_cine = {\"Freq Absoluta\": dados3[\"Cine\"].value_counts(), \n",
    "       \"Freq Relativa %\": dados3[\"Cine\"].value_counts(normalize=True)*100,\n",
    "            \"Freq Cumulativa\": np.cumsum(dados3[\"Cine\"].value_counts())}\n",
    "freqCine = pd.DataFrame(freq_cine)\n",
    "freqCine"
   ]
  },
  {
   "cell_type": "markdown",
   "metadata": {},
   "source": [
    "### OpCine"
   ]
  },
  {
   "cell_type": "code",
   "execution_count": null,
   "metadata": {},
   "outputs": [],
   "source": [
    "freq_cine = {\"Freq Absoluta\": dados3[\"Cine\"].value_counts(), \n",
    "       \"Freq Relativa %\": dados3[\"Cine\"].value_counts(normalize=True)*100,\n",
    "            \"Freq Cumulativa\": np.cumsum(dados3[\"Cine\"].value_counts())}\n",
    "freqCine = pd.DataFrame(freq_cine)\n",
    "freqCine"
   ]
  },
  {
   "cell_type": "markdown",
   "metadata": {},
   "source": [
    "### TV"
   ]
  },
  {
   "cell_type": "code",
   "execution_count": null,
   "metadata": {},
   "outputs": [],
   "source": [
    "freq_tv = {\"Freq Absoluta\": dados3[\"TV\"].value_counts(), \n",
    "       \"Freq Relativa %\": dados3[\"TV\"].value_counts(normalize=True)*100,\n",
    "            \"Freq Cumulativa\": np.cumsum(dados3[\"TV\"].value_counts())}\n",
    "freqaTV = pd.DataFrame(freq_tv)\n",
    "freqaTV"
   ]
  },
  {
   "cell_type": "markdown",
   "metadata": {},
   "source": [
    "### OpTV"
   ]
  },
  {
   "cell_type": "code",
   "execution_count": 39,
   "metadata": {},
   "outputs": [
    {
     "data": {
      "text/html": [
       "<div>\n",
       "<style scoped>\n",
       "    .dataframe tbody tr th:only-of-type {\n",
       "        vertical-align: middle;\n",
       "    }\n",
       "\n",
       "    .dataframe tbody tr th {\n",
       "        vertical-align: top;\n",
       "    }\n",
       "\n",
       "    .dataframe thead th {\n",
       "        text-align: right;\n",
       "    }\n",
       "</style>\n",
       "<table border=\"1\" class=\"dataframe\">\n",
       "  <thead>\n",
       "    <tr style=\"text-align: right;\">\n",
       "      <th></th>\n",
       "      <th>Freq Absoluta</th>\n",
       "      <th>Freq Relativa %</th>\n",
       "      <th>Freq Cumulativa</th>\n",
       "    </tr>\n",
       "  </thead>\n",
       "  <tbody>\n",
       "    <tr>\n",
       "      <th>R</th>\n",
       "      <td>39</td>\n",
       "      <td>78.0</td>\n",
       "      <td>39</td>\n",
       "    </tr>\n",
       "    <tr>\n",
       "      <th>N</th>\n",
       "      <td>7</td>\n",
       "      <td>14.0</td>\n",
       "      <td>46</td>\n",
       "    </tr>\n",
       "    <tr>\n",
       "      <th>B</th>\n",
       "      <td>3</td>\n",
       "      <td>6.0</td>\n",
       "      <td>49</td>\n",
       "    </tr>\n",
       "    <tr>\n",
       "      <th>M</th>\n",
       "      <td>1</td>\n",
       "      <td>2.0</td>\n",
       "      <td>50</td>\n",
       "    </tr>\n",
       "  </tbody>\n",
       "</table>\n",
       "</div>"
      ],
      "text/plain": [
       "   Freq Absoluta  Freq Relativa %  Freq Cumulativa\n",
       "R             39             78.0               39\n",
       "N              7             14.0               46\n",
       "B              3              6.0               49\n",
       "M              1              2.0               50"
      ]
     },
     "execution_count": 39,
     "metadata": {},
     "output_type": "execute_result"
    }
   ],
   "source": [
    "freq_optv = {\"Freq Absoluta\": dados3[\"OpTV\"].value_counts(), \n",
    "       \"Freq Relativa %\": dados3[\"OpTV\"].value_counts(normalize=True)*100,\n",
    "            \"Freq Cumulativa\": np.cumsum(dados3[\"OpTV\"].value_counts())}\n",
    "freqOpTV= pd.DataFrame(freq_optv)\n",
    "freqOpTV"
   ]
  },
  {
   "cell_type": "markdown",
   "metadata": {},
   "source": [
    "<hr>"
   ]
  },
  {
   "cell_type": "markdown",
   "metadata": {},
   "source": [
    "## C)"
   ]
  },
  {
   "cell_type": "code",
   "execution_count": 43,
   "metadata": {},
   "outputs": [],
   "source": [
    "peso = (dados3[\"Peso\"])\n",
    "altura = (dados3[\"Alt\"])\n",
    "dic = {\"PESO\": peso, \"Altura\": altura}"
   ]
  },
  {
   "cell_type": "code",
   "execution_count": 44,
   "metadata": {},
   "outputs": [],
   "source": [
    "comparar = pd.DataFrame(dic)"
   ]
  },
  {
   "cell_type": "code",
   "execution_count": 45,
   "metadata": {},
   "outputs": [
    {
     "data": {
      "text/html": [
       "<div>\n",
       "<style scoped>\n",
       "    .dataframe tbody tr th:only-of-type {\n",
       "        vertical-align: middle;\n",
       "    }\n",
       "\n",
       "    .dataframe tbody tr th {\n",
       "        vertical-align: top;\n",
       "    }\n",
       "\n",
       "    .dataframe thead th {\n",
       "        text-align: right;\n",
       "    }\n",
       "</style>\n",
       "<table border=\"1\" class=\"dataframe\">\n",
       "  <thead>\n",
       "    <tr style=\"text-align: right;\">\n",
       "      <th></th>\n",
       "      <th>PESO</th>\n",
       "      <th>Altura</th>\n",
       "    </tr>\n",
       "  </thead>\n",
       "  <tbody>\n",
       "    <tr>\n",
       "      <th>36</th>\n",
       "      <td>95.0</td>\n",
       "      <td>1.70</td>\n",
       "    </tr>\n",
       "    <tr>\n",
       "      <th>34</th>\n",
       "      <td>87.0</td>\n",
       "      <td>1.73</td>\n",
       "    </tr>\n",
       "    <tr>\n",
       "      <th>49</th>\n",
       "      <td>86.0</td>\n",
       "      <td>1.83</td>\n",
       "    </tr>\n",
       "    <tr>\n",
       "      <th>17</th>\n",
       "      <td>85.2</td>\n",
       "      <td>1.80</td>\n",
       "    </tr>\n",
       "    <tr>\n",
       "      <th>37</th>\n",
       "      <td>84.0</td>\n",
       "      <td>1.85</td>\n",
       "    </tr>\n",
       "    <tr>\n",
       "      <th>3</th>\n",
       "      <td>80.9</td>\n",
       "      <td>1.85</td>\n",
       "    </tr>\n",
       "    <tr>\n",
       "      <th>42</th>\n",
       "      <td>75.0</td>\n",
       "      <td>1.76</td>\n",
       "    </tr>\n",
       "    <tr>\n",
       "      <th>39</th>\n",
       "      <td>73.0</td>\n",
       "      <td>1.73</td>\n",
       "    </tr>\n",
       "    <tr>\n",
       "      <th>31</th>\n",
       "      <td>73.0</td>\n",
       "      <td>1.71</td>\n",
       "    </tr>\n",
       "    <tr>\n",
       "      <th>2</th>\n",
       "      <td>72.8</td>\n",
       "      <td>1.85</td>\n",
       "    </tr>\n",
       "  </tbody>\n",
       "</table>\n",
       "</div>"
      ],
      "text/plain": [
       "    PESO  Altura\n",
       "36  95.0    1.70\n",
       "34  87.0    1.73\n",
       "49  86.0    1.83\n",
       "17  85.2    1.80\n",
       "37  84.0    1.85\n",
       "3   80.9    1.85\n",
       "42  75.0    1.76\n",
       "39  73.0    1.73\n",
       "31  73.0    1.71\n",
       "2   72.8    1.85"
      ]
     },
     "execution_count": 45,
     "metadata": {},
     "output_type": "execute_result"
    }
   ],
   "source": [
    "comparar.sort_values(by=[\"PESO\"],ascending=False).head(10)"
   ]
  },
  {
   "cell_type": "code",
   "execution_count": null,
   "metadata": {},
   "outputs": [],
   "source": [
    "dados3.sort_values(by=[\"Peso\"],ascending=False)"
   ]
  },
  {
   "cell_type": "markdown",
   "metadata": {},
   "source": [
    "#### Diante da tabela onde contém \"Peso\" e \"Altura\", podemos perceber que os 5 maiores pesos estão acima de 84 Kg, um peso preocupante em relação a idade, pois dependendo da sua altura poderá ser considerado obesidade ou sobrepeso. Com todo acesso a \"fast foods\" ou alimentos industrializados, os jovens vêm consumindo cada vez mais esses alimentos, que por sua vez podem acarretar a problemas de saúde com o tempo. A falta de atividade física também pode prejudicar esses jovens caso eles n pratiquem."
   ]
  }
 ],
 "metadata": {
  "kernelspec": {
   "display_name": "Python 3",
   "language": "python",
   "name": "python3"
  },
  "language_info": {
   "codemirror_mode": {
    "name": "ipython",
    "version": 3
   },
   "file_extension": ".py",
   "mimetype": "text/x-python",
   "name": "python",
   "nbconvert_exporter": "python",
   "pygments_lexer": "ipython3",
   "version": "3.8.5"
  }
 },
 "nbformat": 4,
 "nbformat_minor": 4
}
