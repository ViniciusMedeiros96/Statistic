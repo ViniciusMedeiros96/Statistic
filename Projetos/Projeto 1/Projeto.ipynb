{
 "cells": [
  {
   "cell_type": "markdown",
   "metadata": {},
   "source": [
    "# **Projeto de Estatística Aplicada a computação**\n",
    "## **Aluno:** Vinícius Celestino de medeiros\n",
    "## **Matrícula:** 202011250014\n",
    "## **Professor:** Paulo Ribeiro Lins Junior\n",
    "## **Data:** 21/02/2021"
   ]
  },
  {
   "cell_type": "markdown",
   "metadata": {},
   "source": [
    "## **1ª Tarefa**"
   ]
  },
  {
   "cell_type": "code",
   "execution_count": 1,
   "metadata": {},
   "outputs": [],
   "source": [
    "# Importando a biblioteca pandas e fazendo a leitura dos arquivos xlsx com a função read_excel.\n",
    "import pandas as pd\n",
    "dados_2019 = pd.read_excel(\"/home/vinimedeiros/Desktop/Estatistica/Projeto/datatran2019.xlsx\")\n",
    "dados_2020 = pd.read_excel(\"/home/vinimedeiros/Desktop/Estatistica/Projeto/datatran2020.xlsx\")"
   ]
  },
  {
   "cell_type": "markdown",
   "metadata": {},
   "source": [
    "## **2ª Tarefa**"
   ]
  },
  {
   "cell_type": "markdown",
   "metadata": {},
   "source": [
    "### A"
   ]
  },
  {
   "cell_type": "markdown",
   "metadata": {},
   "source": [
    "### O código abaixo apresenta a quantidade de acidentes que ocorreram no ano de 2019 e 2020:"
   ]
  },
  {
   "cell_type": "code",
   "execution_count": 2,
   "metadata": {},
   "outputs": [
    {
     "name": "stdout",
     "output_type": "stream",
     "text": [
      "Acidentes em 2019: 67446\n"
     ]
    },
    {
     "data": {
      "text/plain": [
       "(67446, 30)"
      ]
     },
     "execution_count": 2,
     "metadata": {},
     "output_type": "execute_result"
    }
   ],
   "source": [
    "# Printando a quantidades de acidentes no ano de 2019, que corresponde a quantidade de linhas da planilha;\n",
    "# função shape utilizada para mostrar a quantidade de linhas que corresponde a quantia de acidentes.\n",
    "print(\"Acidentes em 2019: 67446\")\n",
    "dados_2019.shape"
   ]
  },
  {
   "cell_type": "code",
   "execution_count": 3,
   "metadata": {},
   "outputs": [
    {
     "name": "stdout",
     "output_type": "stream",
     "text": [
      "Acidentes em 2020: 63447\n"
     ]
    },
    {
     "data": {
      "text/plain": [
       "(63447, 30)"
      ]
     },
     "execution_count": 3,
     "metadata": {},
     "output_type": "execute_result"
    }
   ],
   "source": [
    "# Printando a quantidades de acidentes no ano de 2020 (da mesma forma que no código anterior), que corresponde a quantidade de linhas da planilha;\n",
    "# função shape utilizada para mostrar a quantidade de linhas que corresponde a quantia de acidentes.\n",
    "print(\"Acidentes em 2020: 63447\")\n",
    "dados_2020.shape"
   ]
  },
  {
   "cell_type": "markdown",
   "metadata": {},
   "source": [
    "### B"
   ]
  },
  {
   "cell_type": "markdown",
   "metadata": {},
   "source": [
    "### Agora é mostrado a quantidade de variáveis que é registrado em cada conjunto de dados:"
   ]
  },
  {
   "cell_type": "code",
   "execution_count": 4,
   "metadata": {},
   "outputs": [
    {
     "name": "stdout",
     "output_type": "stream",
     "text": [
      "<class 'pandas.core.frame.DataFrame'>\n",
      "RangeIndex: 67446 entries, 0 to 67445\n",
      "Data columns (total 30 columns):\n",
      " #   Column                  Non-Null Count  Dtype         \n",
      "---  ------                  --------------  -----         \n",
      " 0   id                      67446 non-null  int64         \n",
      " 1   data_inversa            67446 non-null  datetime64[ns]\n",
      " 2   dia_semana              67446 non-null  object        \n",
      " 3   horario                 67446 non-null  object        \n",
      " 4   uf                      67446 non-null  object        \n",
      " 5   br                      67351 non-null  float64       \n",
      " 6   km                      67351 non-null  float64       \n",
      " 7   municipio               67446 non-null  object        \n",
      " 8   causa_acidente          67446 non-null  object        \n",
      " 9   tipo_acidente           67446 non-null  object        \n",
      " 10  classificacao_acidente  67446 non-null  object        \n",
      " 11  fase_dia                67446 non-null  object        \n",
      " 12  sentido_via             67446 non-null  object        \n",
      " 13  condicao_metereologica  67446 non-null  object        \n",
      " 14  tipo_pista              67446 non-null  object        \n",
      " 15  tracado_via             67446 non-null  object        \n",
      " 16  uso_solo                67446 non-null  object        \n",
      " 17  pessoas                 67446 non-null  int64         \n",
      " 18  mortos                  67446 non-null  int64         \n",
      " 19  feridos_leves           67446 non-null  int64         \n",
      " 20  feridos_graves          67446 non-null  int64         \n",
      " 21  ilesos                  67446 non-null  int64         \n",
      " 22  ignorados               67446 non-null  int64         \n",
      " 23  feridos                 67446 non-null  int64         \n",
      " 24  veiculos                67446 non-null  int64         \n",
      " 25  latitude                67446 non-null  float64       \n",
      " 26  longitude               67446 non-null  float64       \n",
      " 27  regional                67446 non-null  object        \n",
      " 28  delegacia               67446 non-null  object        \n",
      " 29  uop                     64006 non-null  object        \n",
      "dtypes: datetime64[ns](1), float64(4), int64(9), object(16)\n",
      "memory usage: 15.4+ MB\n"
     ]
    }
   ],
   "source": [
    "# Utilizando uma função info para ver as variáveis no ano de 2019.\n",
    "dados_2019.info()"
   ]
  },
  {
   "cell_type": "code",
   "execution_count": 5,
   "metadata": {},
   "outputs": [
    {
     "name": "stdout",
     "output_type": "stream",
     "text": [
      "<class 'pandas.core.frame.DataFrame'>\n",
      "RangeIndex: 63447 entries, 0 to 63446\n",
      "Data columns (total 30 columns):\n",
      " #   Column                  Non-Null Count  Dtype         \n",
      "---  ------                  --------------  -----         \n",
      " 0   id                      63447 non-null  int64         \n",
      " 1   data_inversa            63447 non-null  datetime64[ns]\n",
      " 2   dia_semana              63447 non-null  object        \n",
      " 3   horario                 63447 non-null  object        \n",
      " 4   uf                      63447 non-null  object        \n",
      " 5   br                      63292 non-null  float64       \n",
      " 6   km                      63292 non-null  float64       \n",
      " 7   municipio               63447 non-null  object        \n",
      " 8   causa_acidente          63447 non-null  object        \n",
      " 9   tipo_acidente           63447 non-null  object        \n",
      " 10  classificacao_acidente  63447 non-null  object        \n",
      " 11  fase_dia                63447 non-null  object        \n",
      " 12  sentido_via             63447 non-null  object        \n",
      " 13  condicao_metereologica  63447 non-null  object        \n",
      " 14  tipo_pista              63447 non-null  object        \n",
      " 15  tracado_via             63447 non-null  object        \n",
      " 16  uso_solo                63447 non-null  object        \n",
      " 17  pessoas                 63447 non-null  int64         \n",
      " 18  mortos                  63447 non-null  int64         \n",
      " 19  feridos_leves           63447 non-null  int64         \n",
      " 20  feridos_graves          63447 non-null  int64         \n",
      " 21  ilesos                  63447 non-null  int64         \n",
      " 22  ignorados               63447 non-null  int64         \n",
      " 23  feridos                 63447 non-null  int64         \n",
      " 24  veiculos                63447 non-null  int64         \n",
      " 25  latitude                63447 non-null  float64       \n",
      " 26  longitude               63447 non-null  float64       \n",
      " 27  regional                63447 non-null  object        \n",
      " 28  delegacia               63447 non-null  object        \n",
      " 29  uop                     63048 non-null  object        \n",
      "dtypes: datetime64[ns](1), float64(4), int64(9), object(16)\n",
      "memory usage: 14.5+ MB\n"
     ]
    }
   ],
   "source": [
    "# Utilizando uma função info para ver as variáveis no ano de 2019.\n",
    "dados_2020.info()"
   ]
  },
  {
   "cell_type": "markdown",
   "metadata": {},
   "source": [
    "### C"
   ]
  },
  {
   "cell_type": "markdown",
   "metadata": {},
   "source": [
    "### Agora, o código a seguir apresenta as cinco cidades brasileiras onde mais ocorreram acidentes em rodovias federais:"
   ]
  },
  {
   "cell_type": "code",
   "execution_count": 6,
   "metadata": {},
   "outputs": [
    {
     "data": {
      "text/plain": [
       "BRASILIA     2130.0\n",
       "CURITIBA     2039.0\n",
       "SAO JOSE     1448.0\n",
       "GUARULHOS    1356.0\n",
       "PALHOCA         NaN\n",
       "Name: municipio, dtype: float64"
      ]
     },
     "execution_count": 6,
     "metadata": {},
     "output_type": "execute_result"
    }
   ],
   "source": [
    "# Primeiro filtrando os dados pelo róturo 'municipio' utilizando a função values_counts;\n",
    "# Função head utilizada para printar as 5 primeiras linhas, que corresponde as 5 cidades onde mais ocorreram acidentes;\n",
    "# Variável muni2019 e muni2020 criada para armazenar as 5 primeiras linhas de dados do rótulo 'municipio';\n",
    "muni2019 = dados_2019['municipio'].value_counts().head()\n",
    "muni2020 = dados_2020['municipio'].value_counts().head()\n",
    "# Somando as variáveis muni2019 e muni2020 para obter uma nova variável com os dados dos dois anos.\n",
    "total = muni2019 + muni2020\n",
    "total.sort_values(ascending=False).head()"
   ]
  },
  {
   "cell_type": "markdown",
   "metadata": {},
   "source": [
    "### D"
   ]
  },
  {
   "cell_type": "markdown",
   "metadata": {},
   "source": [
    "### Código criado para gerar a quantidade de feridos graves na Paraíba"
   ]
  },
  {
   "cell_type": "code",
   "execution_count": 7,
   "metadata": {},
   "outputs": [
    {
     "name": "stdout",
     "output_type": "stream",
     "text": [
      "Feridos graves na Paraíba: 414\n"
     ]
    }
   ],
   "source": [
    "# Criando a variável \"feridos\" para puxar os dados do rótulo \"feridos_graves\" que são maiores ou iguais a 1;\n",
    "feridos = dados_2019[\"feridos_graves\"] >= 1\n",
    "# Agora uma nova variável para pegar os valores obtidos em \"feridos\";\n",
    "feridos_ = dados_2019[feridos]\n",
    "# Variável \"feridospb\" responsável por armazenar os dados da Paraíba;\n",
    "feridospb = feridos_['uf'] == 'PB'\n",
    "# Finalizando criando uma nova variável para armazenar os valores anteriores;\n",
    "final = feridos_[feridospb]\n",
    "# Printando o valor final utilizando a função shape[0] para agrupar a quantidade de linhas e colunas.\n",
    "print(\"Feridos graves na Paraíba:\", final.shape[0])"
   ]
  },
  {
   "cell_type": "markdown",
   "metadata": {},
   "source": [
    "## **3ª Tarefa**"
   ]
  },
  {
   "cell_type": "markdown",
   "metadata": {},
   "source": [
    "### A"
   ]
  },
  {
   "cell_type": "markdown",
   "metadata": {},
   "source": [
    "### Agora é criado um novo Dataframe, salvo com a terminação .csv.\n",
    "### Em seguida, é gerado um ranking de acidentes por estados em ambos os anos."
   ]
  },
  {
   "cell_type": "code",
   "execution_count": 8,
   "metadata": {},
   "outputs": [
    {
     "data": {
      "text/html": [
       "<div>\n",
       "<style scoped>\n",
       "    .dataframe tbody tr th:only-of-type {\n",
       "        vertical-align: middle;\n",
       "    }\n",
       "\n",
       "    .dataframe tbody tr th {\n",
       "        vertical-align: top;\n",
       "    }\n",
       "\n",
       "    .dataframe thead th {\n",
       "        text-align: right;\n",
       "    }\n",
       "</style>\n",
       "<table border=\"1\" class=\"dataframe\">\n",
       "  <thead>\n",
       "    <tr style=\"text-align: right;\">\n",
       "      <th></th>\n",
       "      <th>uf</th>\n",
       "      <th>total_acidentes</th>\n",
       "    </tr>\n",
       "  </thead>\n",
       "  <tbody>\n",
       "    <tr>\n",
       "      <th>0</th>\n",
       "      <td>AM</td>\n",
       "      <td>238</td>\n",
       "    </tr>\n",
       "    <tr>\n",
       "      <th>1</th>\n",
       "      <td>AP</td>\n",
       "      <td>283</td>\n",
       "    </tr>\n",
       "    <tr>\n",
       "      <th>2</th>\n",
       "      <td>RR</td>\n",
       "      <td>487</td>\n",
       "    </tr>\n",
       "    <tr>\n",
       "      <th>3</th>\n",
       "      <td>AC</td>\n",
       "      <td>554</td>\n",
       "    </tr>\n",
       "    <tr>\n",
       "      <th>4</th>\n",
       "      <td>TO</td>\n",
       "      <td>1115</td>\n",
       "    </tr>\n",
       "    <tr>\n",
       "      <th>5</th>\n",
       "      <td>SE</td>\n",
       "      <td>1186</td>\n",
       "    </tr>\n",
       "    <tr>\n",
       "      <th>6</th>\n",
       "      <td>AL</td>\n",
       "      <td>1257</td>\n",
       "    </tr>\n",
       "    <tr>\n",
       "      <th>7</th>\n",
       "      <td>PA</td>\n",
       "      <td>1776</td>\n",
       "    </tr>\n",
       "    <tr>\n",
       "      <th>8</th>\n",
       "      <td>DF</td>\n",
       "      <td>2130</td>\n",
       "    </tr>\n",
       "    <tr>\n",
       "      <th>9</th>\n",
       "      <td>MA</td>\n",
       "      <td>2226</td>\n",
       "    </tr>\n",
       "    <tr>\n",
       "      <th>10</th>\n",
       "      <td>PI</td>\n",
       "      <td>2546</td>\n",
       "    </tr>\n",
       "    <tr>\n",
       "      <th>11</th>\n",
       "      <td>RN</td>\n",
       "      <td>2770</td>\n",
       "    </tr>\n",
       "    <tr>\n",
       "      <th>12</th>\n",
       "      <td>PB</td>\n",
       "      <td>2965</td>\n",
       "    </tr>\n",
       "    <tr>\n",
       "      <th>13</th>\n",
       "      <td>MS</td>\n",
       "      <td>2974</td>\n",
       "    </tr>\n",
       "    <tr>\n",
       "      <th>14</th>\n",
       "      <td>RO</td>\n",
       "      <td>3018</td>\n",
       "    </tr>\n",
       "    <tr>\n",
       "      <th>15</th>\n",
       "      <td>CE</td>\n",
       "      <td>3263</td>\n",
       "    </tr>\n",
       "    <tr>\n",
       "      <th>16</th>\n",
       "      <td>MT</td>\n",
       "      <td>4326</td>\n",
       "    </tr>\n",
       "    <tr>\n",
       "      <th>17</th>\n",
       "      <td>PE</td>\n",
       "      <td>5293</td>\n",
       "    </tr>\n",
       "    <tr>\n",
       "      <th>18</th>\n",
       "      <td>ES</td>\n",
       "      <td>5372</td>\n",
       "    </tr>\n",
       "    <tr>\n",
       "      <th>19</th>\n",
       "      <td>GO</td>\n",
       "      <td>6580</td>\n",
       "    </tr>\n",
       "    <tr>\n",
       "      <th>20</th>\n",
       "      <td>BA</td>\n",
       "      <td>6914</td>\n",
       "    </tr>\n",
       "    <tr>\n",
       "      <th>21</th>\n",
       "      <td>SP</td>\n",
       "      <td>8417</td>\n",
       "    </tr>\n",
       "    <tr>\n",
       "      <th>22</th>\n",
       "      <td>RS</td>\n",
       "      <td>8771</td>\n",
       "    </tr>\n",
       "    <tr>\n",
       "      <th>23</th>\n",
       "      <td>RJ</td>\n",
       "      <td>8828</td>\n",
       "    </tr>\n",
       "    <tr>\n",
       "      <th>24</th>\n",
       "      <td>PR</td>\n",
       "      <td>14876</td>\n",
       "    </tr>\n",
       "    <tr>\n",
       "      <th>25</th>\n",
       "      <td>SC</td>\n",
       "      <td>15645</td>\n",
       "    </tr>\n",
       "    <tr>\n",
       "      <th>26</th>\n",
       "      <td>MG</td>\n",
       "      <td>17083</td>\n",
       "    </tr>\n",
       "  </tbody>\n",
       "</table>\n",
       "</div>"
      ],
      "text/plain": [
       "    uf  total_acidentes\n",
       "0   AM              238\n",
       "1   AP              283\n",
       "2   RR              487\n",
       "3   AC              554\n",
       "4   TO             1115\n",
       "5   SE             1186\n",
       "6   AL             1257\n",
       "7   PA             1776\n",
       "8   DF             2130\n",
       "9   MA             2226\n",
       "10  PI             2546\n",
       "11  RN             2770\n",
       "12  PB             2965\n",
       "13  MS             2974\n",
       "14  RO             3018\n",
       "15  CE             3263\n",
       "16  MT             4326\n",
       "17  PE             5293\n",
       "18  ES             5372\n",
       "19  GO             6580\n",
       "20  BA             6914\n",
       "21  SP             8417\n",
       "22  RS             8771\n",
       "23  RJ             8828\n",
       "24  PR            14876\n",
       "25  SC            15645\n",
       "26  MG            17083"
      ]
     },
     "execution_count": 8,
     "metadata": {},
     "output_type": "execute_result"
    }
   ],
   "source": [
    "# Duas variáveis novas para armazenar os dados do rótulo \"uf\" (estados);\n",
    "acidentes_estado2019 = dados_2019[\"uf\"].value_counts()\n",
    "acidentes_estado2020 = dados_2020[\"uf\"].value_counts()\n",
    "# Soma dos dados por estado de 2019 e 2020;\n",
    "acidentes_total = acidentes_estado2019 + acidentes_estado2020\n",
    "# Renomeando a série para \"total_acidentes\" com a função name;\n",
    "acidentes_total.name = 'total_acidentes'\n",
    "# Filtrando pelo rótulo \"uf\" com a função index.name;\n",
    "acidentes_total.index.name = 'uf'\n",
    "# Organizando os valores com a função sort_values ...\n",
    "acidentes_total.sort_values(inplace = True, ascending=True) \n",
    "# Criando uma novo dataframe com uma nova variável chamada acidentestotal_df;\n",
    "acidentestotal_df = pd.DataFrame(acidentes_total)\n",
    "# Salvando o arquivo em csv com a função to_csv;\n",
    "acidentestotal_df.to_csv(\"/home/vinimedeiros/Desktop/Estatistica/Projeto/Arquivo.csv\")\n",
    "# Lendo o arquivo csv com a função read_csv;\n",
    "acidentestotal = pd.read_csv(\"/home/vinimedeiros/Desktop/Estatistica/Projeto/Arquivo.csv\")\n",
    "# Fazendo o rank de acitentes totais com a função rank e usando o method=min para caso haja empate; \n",
    "resultados = acidentestotal['total_acidentes'].rank(method=\"min\")\n",
    "# Printando a tabela final com o total de acidentes por estado.\n",
    "acidentestotal"
   ]
  },
  {
   "cell_type": "markdown",
   "metadata": {},
   "source": [
    "### B"
   ]
  },
  {
   "cell_type": "markdown",
   "metadata": {},
   "source": [
    "### Agora, a função do código a seguir é apresentar os acidentes por dia da semana para os anos de 2019 e 2020."
   ]
  },
  {
   "cell_type": "code",
   "execution_count": 9,
   "metadata": {},
   "outputs": [
    {
     "data": {
      "text/html": [
       "<div>\n",
       "<style scoped>\n",
       "    .dataframe tbody tr th:only-of-type {\n",
       "        vertical-align: middle;\n",
       "    }\n",
       "\n",
       "    .dataframe tbody tr th {\n",
       "        vertical-align: top;\n",
       "    }\n",
       "\n",
       "    .dataframe thead th {\n",
       "        text-align: right;\n",
       "    }\n",
       "</style>\n",
       "<table border=\"1\" class=\"dataframe\">\n",
       "  <thead>\n",
       "    <tr style=\"text-align: right;\">\n",
       "      <th></th>\n",
       "      <th>dia_semana</th>\n",
       "      <th>dias_semana</th>\n",
       "    </tr>\n",
       "  </thead>\n",
       "  <tbody>\n",
       "    <tr>\n",
       "      <th>0</th>\n",
       "      <td>terça-feira</td>\n",
       "      <td>16177</td>\n",
       "    </tr>\n",
       "    <tr>\n",
       "      <th>1</th>\n",
       "      <td>quarta-feira</td>\n",
       "      <td>16516</td>\n",
       "    </tr>\n",
       "    <tr>\n",
       "      <th>2</th>\n",
       "      <td>quinta-feira</td>\n",
       "      <td>16981</td>\n",
       "    </tr>\n",
       "    <tr>\n",
       "      <th>3</th>\n",
       "      <td>segunda-feira</td>\n",
       "      <td>17638</td>\n",
       "    </tr>\n",
       "    <tr>\n",
       "      <th>4</th>\n",
       "      <td>sexta-feira</td>\n",
       "      <td>20131</td>\n",
       "    </tr>\n",
       "    <tr>\n",
       "      <th>5</th>\n",
       "      <td>domingo</td>\n",
       "      <td>21706</td>\n",
       "    </tr>\n",
       "    <tr>\n",
       "      <th>6</th>\n",
       "      <td>sábado</td>\n",
       "      <td>21744</td>\n",
       "    </tr>\n",
       "  </tbody>\n",
       "</table>\n",
       "</div>"
      ],
      "text/plain": [
       "      dia_semana  dias_semana\n",
       "0    terça-feira        16177\n",
       "1   quarta-feira        16516\n",
       "2   quinta-feira        16981\n",
       "3  segunda-feira        17638\n",
       "4    sexta-feira        20131\n",
       "5        domingo        21706\n",
       "6         sábado        21744"
      ]
     },
     "execution_count": 9,
     "metadata": {},
     "output_type": "execute_result"
    }
   ],
   "source": [
    "# Duas variáveis criadas para os anos de 2019 e 2020, para filtrar os dados do rótulo \"dia_semana\" com a função value_counts;\n",
    "semanas2019 = dados_2019[\"dia_semana\"].value_counts()\n",
    "semanas2020 = dados_2020[\"dia_semana\"].value_counts()\n",
    "# criando uma variável para somar os dados de 2019 e 2020;\n",
    "semanas = semanas2019 + semanas2020\n",
    "# Renomeando a Serie para \"dias_semana com a função name\";\n",
    "semanas.name = 'dias_semana'\n",
    "# Filtrando o rótulo \"dia_semana\" com a função index.name;\n",
    "semanas.index.name = 'dia_semana'\n",
    "# Organizando os valores com a função sort_values ...\n",
    "semanas.sort_values(inplace = True,ascending=True) \n",
    "# Criando uma novo dataframe com uma nova variável chamada semanas_df;\n",
    "semanas_df = pd.DataFrame(semanas)\n",
    "# Salvando o arquivo em csv com a função to_csv;\n",
    "semanas_df.to_csv(\"/home/vinimedeiros/Desktop/Estatistica/Projeto/semanas.xlsx\")\n",
    "# Lendo o arquivo csv com a função read_csv;\n",
    "semanastotal = pd.read_csv(\"/home/vinimedeiros/Desktop/Estatistica/Projeto/semanas.xlsx\")\n",
    "# Fazendo o rank de acitentes totais com a função rank e usando o method=min para caso haja empate; \n",
    "resultados = semanastotal['dias_semana'].rank(method=\"min\")\n",
    "# Printando a tabela final com o total de acidentes por dias da semana.\n",
    "semanastotal"
   ]
  },
  {
   "cell_type": "markdown",
   "metadata": {},
   "source": [
    "## **4ª Tarefa**"
   ]
  },
  {
   "cell_type": "markdown",
   "metadata": {},
   "source": [
    "### O código a seguir apresenta a causa mais frequente e rara de acidentes registrados em 2019 e 2020."
   ]
  },
  {
   "cell_type": "markdown",
   "metadata": {},
   "source": [
    "### A"
   ]
  },
  {
   "cell_type": "code",
   "execution_count": 10,
   "metadata": {},
   "outputs": [],
   "source": [
    "# Filtrando os dados na coluna \"causa acidente em ambos os anos\".\n",
    "freq2019 = dados_2019['causa_acidente'].value_counts() \n",
    "freq2020 = dados_2020['causa_acidente'].value_counts()"
   ]
  },
  {
   "cell_type": "code",
   "execution_count": 11,
   "metadata": {},
   "outputs": [
    {
     "name": "stdout",
     "output_type": "stream",
     "text": [
      "2019:\n"
     ]
    },
    {
     "data": {
      "text/plain": [
       "Falta de Atenção à Condução                          24992\n",
       "Desobediência às normas de trânsito pelo condutor     8098\n",
       "Velocidade Incompatível                               6028\n",
       "Name: causa_acidente, dtype: int64"
      ]
     },
     "execution_count": 11,
     "metadata": {},
     "output_type": "execute_result"
    }
   ],
   "source": [
    "# Buscando os 3 primeiros valores encontrados em 2019\n",
    "print(\"2019:\")\n",
    "freq2019.head(3)\n",
    "# Falta de Atenção à Condução como valor mais frequente (24992)"
   ]
  },
  {
   "cell_type": "code",
   "execution_count": 12,
   "metadata": {},
   "outputs": [
    {
     "name": "stdout",
     "output_type": "stream",
     "text": [
      "2020:\n"
     ]
    },
    {
     "data": {
      "text/plain": [
       "Falta de Atenção à Condução                          22414\n",
       "Desobediência às normas de trânsito pelo condutor     8801\n",
       "Velocidade Incompatível                               5878\n",
       "Name: causa_acidente, dtype: int64"
      ]
     },
     "execution_count": 12,
     "metadata": {},
     "output_type": "execute_result"
    }
   ],
   "source": [
    "# Buscando os 3 primeiros valores encontrados em 2020;\n",
    "print(\"2020:\")\n",
    "freq2020.head(3)\n",
    "# Falta de Atenção à Condução como valor mais frequente (22414)."
   ]
  },
  {
   "cell_type": "code",
   "execution_count": 13,
   "metadata": {},
   "outputs": [],
   "source": [
    "# Calculando a soma dos valores de 2019 e 2020 da causa de acidentes mais ocorrida.\n",
    "freqtotal = freq2019[\"Falta de Atenção à Condução\"] + freq2020[\"Falta de Atenção à Condução\"]"
   ]
  },
  {
   "cell_type": "code",
   "execution_count": 14,
   "metadata": {},
   "outputs": [
    {
     "data": {
      "text/plain": [
       "Fenômenos da Natureza                                                             230\n",
       "Deficiência ou não Acionamento do Sistema de Iluminação/Sinalização do Veículo    160\n",
       "Ingestão de Substâncias Psicoativas                                                94\n",
       "Name: causa_acidente, dtype: int64"
      ]
     },
     "execution_count": 14,
     "metadata": {},
     "output_type": "execute_result"
    }
   ],
   "source": [
    "# Buscando os 3 últimos valores encontrados em 2019;\n",
    "freq2019.tail(3)\n",
    "# Ingestão de Substâncias Psicoativas como o valor mais raro (94)."
   ]
  },
  {
   "cell_type": "code",
   "execution_count": 15,
   "metadata": {},
   "outputs": [
    {
     "data": {
      "text/plain": [
       "Afundamento ou ondulação no pavimento                             1\n",
       "Ausência de sinalização                                           1\n",
       "Ingestão de álcool ou de substâncias psicoativas pelo pedestre    1\n",
       "Name: causa_acidente, dtype: int64"
      ]
     },
     "execution_count": 15,
     "metadata": {},
     "output_type": "execute_result"
    }
   ],
   "source": [
    "# Buscando os 3 últimos valores encontrados em 2020.\n",
    "freq2020.tail(3)"
   ]
  },
  {
   "cell_type": "code",
   "execution_count": 16,
   "metadata": {},
   "outputs": [
    {
     "name": "stdout",
     "output_type": "stream",
     "text": [
      "Causa mais frequente de acidentes em 2019: Falta de Atenção à Condução com 24992 vítimas\n",
      "Causa mais frequente de acidentes em 2020: Falta de Atenção à Condução com 22414 vítimas\n",
      "Causa mais frequente de acidentes em 2019 e 2020: Falta de Atenção à Condução com 47406 vítimas\n",
      "Causa mais rara no ano de 2019: Ingestão de Substâncias Psicoativas com 94 vítimas\n",
      "Causa mais rara no ano de 2020: Ingestão de álcool ou de substâncias psicoativas pelo pedestre com 1 vítima\n"
     ]
    }
   ],
   "source": [
    "# Printando primeiro as causas mais frequêntes e depois as mais raras em 2019 e 2020\n",
    "print(\"Causa mais frequente de acidentes em 2019:\",freq2019.index[0], \"com\",freq2019[0],\"vítimas\")\n",
    "print(\"Causa mais frequente de acidentes em 2020:\",freq2020.index[0],\"com\",freq2020[0],\"vítimas\")\n",
    "print(\"Causa mais frequente de acidentes em 2019 e 2020:\",freq2019.index[0],\"com\",freqtotal,\"vítimas\")\n",
    "print(\"Causa mais rara no ano de 2019:\", freq2019.index[-1],\"com\",freq2019[-1],\"vítimas\")\n",
    "print(\"Causa mais rara no ano de 2020:\", freq2020.index[-1],\"com\",freq2020[-1],\"vítima\")"
   ]
  },
  {
   "cell_type": "markdown",
   "metadata": {},
   "source": [
    "### B"
   ]
  },
  {
   "cell_type": "markdown",
   "metadata": {},
   "source": [
    "### O código a seguir apresenta a proporção de pessoas ilesas e de feridos graves por mês em 2019 e 2020"
   ]
  },
  {
   "cell_type": "markdown",
   "metadata": {},
   "source": [
    "## 2019 ilesos"
   ]
  },
  {
   "cell_type": "code",
   "execution_count": 17,
   "metadata": {},
   "outputs": [],
   "source": [
    "pessoas_ilesas = dados_2019[\"ilesos\"] >= 1"
   ]
  },
  {
   "cell_type": "code",
   "execution_count": 18,
   "metadata": {},
   "outputs": [],
   "source": [
    "ilesos = dados_2019[pessoas_ilesas]"
   ]
  },
  {
   "cell_type": "code",
   "execution_count": 51,
   "metadata": {},
   "outputs": [
    {
     "name": "stdout",
     "output_type": "stream",
     "text": [
      "[5562, 5004, 5878, 5327, 5312, 5683, 6260, 5544, 5761, 5836, 5886, 6581]\n"
     ]
    }
   ],
   "source": [
    "ilesos2019 = []\n",
    "for i in range(1,13):\n",
    "    data = ilesos[pd.DatetimeIndex(ilesos.data_inversa).month==i]\n",
    "    data_ilesos = data[\"ilesos\"].sum()\n",
    "    ilesos2019.append(data_ilesos)\n",
    "print(ilesos2019)"
   ]
  },
  {
   "cell_type": "markdown",
   "metadata": {},
   "source": [
    "## 2019 feridos"
   ]
  },
  {
   "cell_type": "code",
   "execution_count": 97,
   "metadata": {},
   "outputs": [],
   "source": [
    "graves = dados_2019[\"feridos_graves\"] >= 1"
   ]
  },
  {
   "cell_type": "code",
   "execution_count": 98,
   "metadata": {},
   "outputs": [],
   "source": [
    "feridosgraves = dados_2019[graves]"
   ]
  },
  {
   "cell_type": "code",
   "execution_count": 99,
   "metadata": {},
   "outputs": [
    {
     "name": "stdout",
     "output_type": "stream",
     "text": [
      "[1485, 1260, 1555, 1358, 1545, 1631, 1672, 1566, 1514, 1669, 1535, 1783]\n"
     ]
    }
   ],
   "source": [
    "feridos2019 = []\n",
    "for i in range(1,13):\n",
    "    data2 = feridosgraves[pd.DatetimeIndex(feridosgraves.data_inversa).month==i]\n",
    "    data_feridos = data2[\"feridos_graves\"].sum()\n",
    "    feridos2019.append(data_feridos)\n",
    "print(feridos2019)"
   ]
  },
  {
   "cell_type": "markdown",
   "metadata": {},
   "source": [
    "## 2020 ilesos"
   ]
  },
  {
   "cell_type": "code",
   "execution_count": 55,
   "metadata": {},
   "outputs": [],
   "source": [
    "pessoasilesas2020 = dados_2020[\"ilesos\"] >= 1"
   ]
  },
  {
   "cell_type": "code",
   "execution_count": 56,
   "metadata": {},
   "outputs": [],
   "source": [
    "ilesos2020 = dados_2020[pessoasilesas2020]"
   ]
  },
  {
   "cell_type": "code",
   "execution_count": 57,
   "metadata": {},
   "outputs": [
    {
     "name": "stdout",
     "output_type": "stream",
     "text": [
      "[5847, 5537, 4320, 3155, 4040, 4425, 4933, 5451, 5484, 5954, 5477, 6175]\n"
     ]
    }
   ],
   "source": [
    "lista_ilesos = []\n",
    "for i in range(1,13):\n",
    "    data_ilesos2020 = ilesos2020[pd.DatetimeIndex(ilesos2020.data_inversa).month==i]\n",
    "    data2020 = data_ilesos2020[\"ilesos\"].sum()\n",
    "    lista_ilesos.append(data2020)\n",
    "print(lista_ilesos)"
   ]
  },
  {
   "cell_type": "markdown",
   "metadata": {},
   "source": [
    "## 2020 feridos"
   ]
  },
  {
   "cell_type": "code",
   "execution_count": 58,
   "metadata": {},
   "outputs": [],
   "source": [
    "graves2020 = dados_2020[\"feridos_graves\"] >= 1"
   ]
  },
  {
   "cell_type": "code",
   "execution_count": 59,
   "metadata": {},
   "outputs": [],
   "source": [
    "feridosgraves2020 = dados_2020[graves2020]"
   ]
  },
  {
   "cell_type": "code",
   "execution_count": 60,
   "metadata": {},
   "outputs": [
    {
     "name": "stdout",
     "output_type": "stream",
     "text": [
      "[1512, 1468, 1211, 987, 1166, 1211, 1261, 1530, 1545, 1730, 1613, 1822]\n"
     ]
    }
   ],
   "source": [
    "feridos2020 = []\n",
    "for i in range(1,13):\n",
    "    dataferidos2020 = feridosgraves2020[pd.DatetimeIndex(feridosgraves2020.data_inversa).month==i]\n",
    "    data_feridos2020 = dataferidos2020[\"feridos_graves\"].sum()\n",
    "    feridos2020.append(data_feridos2020)\n",
    "print(feridos2020)"
   ]
  },
  {
   "cell_type": "markdown",
   "metadata": {},
   "source": [
    "## TOTAL ENVOLVIDOS EM ACIDENTES 2019"
   ]
  },
  {
   "cell_type": "code",
   "execution_count": 104,
   "metadata": {},
   "outputs": [],
   "source": [
    "total2019 = dados_2019[\"pessoas\"] >= 1"
   ]
  },
  {
   "cell_type": "code",
   "execution_count": 68,
   "metadata": {},
   "outputs": [],
   "source": [
    "totalpessoas2019 = dados_2019[total2019]"
   ]
  },
  {
   "cell_type": "code",
   "execution_count": 72,
   "metadata": {},
   "outputs": [
    {
     "name": "stdout",
     "output_type": "stream",
     "text": [
      "[13111, 11799, 13569, 12815, 12795, 13411, 14331, 13421, 13682, 13931, 13823, 15585]\n"
     ]
    }
   ],
   "source": [
    "total_2019 = []\n",
    "for i in range(1,13):\n",
    "    total_pessoas2019 = totalpessoas2019[pd.DatetimeIndex(totalpessoas2019.data_inversa).month==i]\n",
    "    total_pessoas_2019 = total_pessoas2019[\"pessoas\"].sum()\n",
    "    total_2019.append(total_pessoas_2019)\n",
    "print(total_2019)"
   ]
  },
  {
   "cell_type": "markdown",
   "metadata": {},
   "source": [
    "## TOTAL ENVOLVIDOS EM ACIDENTES 2020"
   ]
  },
  {
   "cell_type": "code",
   "execution_count": 90,
   "metadata": {},
   "outputs": [],
   "source": [
    "total2020 = dados_2020[\"pessoas\"] >= 1"
   ]
  },
  {
   "cell_type": "code",
   "execution_count": 91,
   "metadata": {},
   "outputs": [],
   "source": [
    "totalpessoas2020 = dados_2020[total2020]"
   ]
  },
  {
   "cell_type": "code",
   "execution_count": 92,
   "metadata": {},
   "outputs": [
    {
     "name": "stdout",
     "output_type": "stream",
     "text": [
      "[14070, 13183, 10772, 8380, 10068, 10449, 11622, 12871, 13171, 14480, 13435, 14971]\n"
     ]
    }
   ],
   "source": [
    "total_2020 = []\n",
    "for i in range(1,13):\n",
    "    total_pessoas2020 = totalpessoas2020[pd.DatetimeIndex(totalpessoas2020.data_inversa).month==i]\n",
    "    total_pessoas_2020 = total_pessoas2020[\"pessoas\"].sum()\n",
    "    total_2020.append(total_pessoas_2020)\n",
    "print(total_2020)"
   ]
  },
  {
   "cell_type": "markdown",
   "metadata": {},
   "source": [
    "## PROPORCAO ILESOS 2019"
   ]
  },
  {
   "cell_type": "code",
   "execution_count": 93,
   "metadata": {},
   "outputs": [
    {
     "name": "stdout",
     "output_type": "stream",
     "text": [
      "['0.42', '0.42', '0.43', '0.42', '0.42', '0.42', '0.44', '0.41', '0.42', '0.42', '0.43', '0.42']\n"
     ]
    }
   ],
   "source": [
    "lista_proporcao_ilesos2019 = []\n",
    "for i in range(12):\n",
    "    proporcao2019 = ilesos2019[i]/total_2019[i]\n",
    "    lista_proporcao_ilesos2019.append(\"{:.2f}\".format(proporcao2019))\n",
    "print(lista_proporcao_ilesos2019)"
   ]
  },
  {
   "cell_type": "markdown",
   "metadata": {},
   "source": [
    "## PROPORCAO ILESOS 2020"
   ]
  },
  {
   "cell_type": "code",
   "execution_count": 95,
   "metadata": {},
   "outputs": [
    {
     "name": "stdout",
     "output_type": "stream",
     "text": [
      "['0.42', '0.42', '0.40', '0.38', '0.40', '0.42', '0.42', '0.42', '0.42', '0.41', '0.41', '0.41']\n"
     ]
    }
   ],
   "source": [
    "lista_proporcao_ilesos2020 = []\n",
    "for i in range(12):\n",
    "    proporcao2020 = lista_ilesos[i]/total_2020[i]\n",
    "    lista_proporcao_ilesos2020.append(\"{:.2f}\".format(proporcao2020))\n",
    "print(lista_proporcao_ilesos2020)"
   ]
  },
  {
   "cell_type": "markdown",
   "metadata": {},
   "source": [
    "## PROPORCAO GRAVES 2019"
   ]
  },
  {
   "cell_type": "code",
   "execution_count": 101,
   "metadata": {},
   "outputs": [
    {
     "name": "stdout",
     "output_type": "stream",
     "text": [
      "['0.11', '0.11', '0.11', '0.11', '0.12', '0.12', '0.12', '0.12', '0.11', '0.12', '0.11', '0.11']\n"
     ]
    }
   ],
   "source": [
    "lista_graves_2019 = []\n",
    "for i in range(12):\n",
    "    proporcao_graves_2019 = feridos2019[i]/total_2019[i]\n",
    "    lista_graves_2019.append(\"{:.2f}\".format(proporcao_graves_2019))\n",
    "print(lista_graves_2019)"
   ]
  },
  {
   "cell_type": "markdown",
   "metadata": {},
   "source": [
    "## PROPORCAO GRAVES 2020"
   ]
  },
  {
   "cell_type": "code",
   "execution_count": 107,
   "metadata": {},
   "outputs": [
    {
     "name": "stdout",
     "output_type": "stream",
     "text": [
      "['0.11', '0.11', '0.11', '0.12', '0.12', '0.12', '0.11', '0.12', '0.12', '0.12', '0.12', '0.12']\n"
     ]
    }
   ],
   "source": [
    "lista_graves_2020 = []\n",
    "for i in range(12):\n",
    "    proporcao_graves_2020 = feridos2020[i]/total_2020[i]\n",
    "    lista_graves_2020.append(\"{:.2f}\".format(proporcao_graves_2020))\n",
    "print(lista_graves_2020)"
   ]
  },
  {
   "cell_type": "code",
   "execution_count": 120,
   "metadata": {},
   "outputs": [],
   "source": [
    "meses = [\"jan\", \"fev\", \"mar\",\"abr\", \"mai\", \"jun\", \"jul\", \"ago\", \"set\", \"out\", \"nov\", \"dez\"]"
   ]
  },
  {
   "cell_type": "code",
   "execution_count": null,
   "metadata": {},
   "outputs": [],
   "source": [
    "listatotalilesos2019 = pd.DataFrame(lista_graves_2019,index=meses)\n",
    "listatotalilesos2019"
   ]
  },
  {
   "cell_type": "markdown",
   "metadata": {},
   "source": [
    "# ILESOS 2019 "
   ]
  },
  {
   "cell_type": "code",
   "execution_count": 126,
   "metadata": {},
   "outputs": [
    {
     "data": {
      "text/html": [
       "<div>\n",
       "<style scoped>\n",
       "    .dataframe tbody tr th:only-of-type {\n",
       "        vertical-align: middle;\n",
       "    }\n",
       "\n",
       "    .dataframe tbody tr th {\n",
       "        vertical-align: top;\n",
       "    }\n",
       "\n",
       "    .dataframe thead th {\n",
       "        text-align: right;\n",
       "    }\n",
       "</style>\n",
       "<table border=\"1\" class=\"dataframe\">\n",
       "  <thead>\n",
       "    <tr style=\"text-align: right;\">\n",
       "      <th></th>\n",
       "      <th>0</th>\n",
       "    </tr>\n",
       "  </thead>\n",
       "  <tbody>\n",
       "    <tr>\n",
       "      <th>jan</th>\n",
       "      <td>0.42</td>\n",
       "    </tr>\n",
       "    <tr>\n",
       "      <th>fev</th>\n",
       "      <td>0.42</td>\n",
       "    </tr>\n",
       "    <tr>\n",
       "      <th>mar</th>\n",
       "      <td>0.43</td>\n",
       "    </tr>\n",
       "    <tr>\n",
       "      <th>abr</th>\n",
       "      <td>0.42</td>\n",
       "    </tr>\n",
       "    <tr>\n",
       "      <th>mai</th>\n",
       "      <td>0.42</td>\n",
       "    </tr>\n",
       "    <tr>\n",
       "      <th>jun</th>\n",
       "      <td>0.42</td>\n",
       "    </tr>\n",
       "    <tr>\n",
       "      <th>jul</th>\n",
       "      <td>0.44</td>\n",
       "    </tr>\n",
       "    <tr>\n",
       "      <th>ago</th>\n",
       "      <td>0.41</td>\n",
       "    </tr>\n",
       "    <tr>\n",
       "      <th>set</th>\n",
       "      <td>0.42</td>\n",
       "    </tr>\n",
       "    <tr>\n",
       "      <th>out</th>\n",
       "      <td>0.42</td>\n",
       "    </tr>\n",
       "    <tr>\n",
       "      <th>nov</th>\n",
       "      <td>0.43</td>\n",
       "    </tr>\n",
       "    <tr>\n",
       "      <th>dez</th>\n",
       "      <td>0.42</td>\n",
       "    </tr>\n",
       "  </tbody>\n",
       "</table>\n",
       "</div>"
      ],
      "text/plain": [
       "        0\n",
       "jan  0.42\n",
       "fev  0.42\n",
       "mar  0.43\n",
       "abr  0.42\n",
       "mai  0.42\n",
       "jun  0.42\n",
       "jul  0.44\n",
       "ago  0.41\n",
       "set  0.42\n",
       "out  0.42\n",
       "nov  0.43\n",
       "dez  0.42"
      ]
     },
     "execution_count": 126,
     "metadata": {},
     "output_type": "execute_result"
    }
   ],
   "source": [
    "listatotalilesos2019 = pd.DataFrame(lista_proporcao_ilesos2019,index=meses)\n",
    "listatotalilesos2019"
   ]
  },
  {
   "cell_type": "markdown",
   "metadata": {},
   "source": [
    "# Graves 2019"
   ]
  },
  {
   "cell_type": "code",
   "execution_count": 124,
   "metadata": {},
   "outputs": [
    {
     "data": {
      "text/html": [
       "<div>\n",
       "<style scoped>\n",
       "    .dataframe tbody tr th:only-of-type {\n",
       "        vertical-align: middle;\n",
       "    }\n",
       "\n",
       "    .dataframe tbody tr th {\n",
       "        vertical-align: top;\n",
       "    }\n",
       "\n",
       "    .dataframe thead th {\n",
       "        text-align: right;\n",
       "    }\n",
       "</style>\n",
       "<table border=\"1\" class=\"dataframe\">\n",
       "  <thead>\n",
       "    <tr style=\"text-align: right;\">\n",
       "      <th></th>\n",
       "      <th>0</th>\n",
       "    </tr>\n",
       "  </thead>\n",
       "  <tbody>\n",
       "    <tr>\n",
       "      <th>jan</th>\n",
       "      <td>0.11</td>\n",
       "    </tr>\n",
       "    <tr>\n",
       "      <th>fev</th>\n",
       "      <td>0.11</td>\n",
       "    </tr>\n",
       "    <tr>\n",
       "      <th>mar</th>\n",
       "      <td>0.11</td>\n",
       "    </tr>\n",
       "    <tr>\n",
       "      <th>abr</th>\n",
       "      <td>0.11</td>\n",
       "    </tr>\n",
       "    <tr>\n",
       "      <th>mai</th>\n",
       "      <td>0.12</td>\n",
       "    </tr>\n",
       "    <tr>\n",
       "      <th>jun</th>\n",
       "      <td>0.12</td>\n",
       "    </tr>\n",
       "    <tr>\n",
       "      <th>jul</th>\n",
       "      <td>0.12</td>\n",
       "    </tr>\n",
       "    <tr>\n",
       "      <th>ago</th>\n",
       "      <td>0.12</td>\n",
       "    </tr>\n",
       "    <tr>\n",
       "      <th>set</th>\n",
       "      <td>0.11</td>\n",
       "    </tr>\n",
       "    <tr>\n",
       "      <th>out</th>\n",
       "      <td>0.12</td>\n",
       "    </tr>\n",
       "    <tr>\n",
       "      <th>nov</th>\n",
       "      <td>0.11</td>\n",
       "    </tr>\n",
       "    <tr>\n",
       "      <th>dez</th>\n",
       "      <td>0.11</td>\n",
       "    </tr>\n",
       "  </tbody>\n",
       "</table>\n",
       "</div>"
      ],
      "text/plain": [
       "        0\n",
       "jan  0.11\n",
       "fev  0.11\n",
       "mar  0.11\n",
       "abr  0.11\n",
       "mai  0.12\n",
       "jun  0.12\n",
       "jul  0.12\n",
       "ago  0.12\n",
       "set  0.11\n",
       "out  0.12\n",
       "nov  0.11\n",
       "dez  0.11"
      ]
     },
     "execution_count": 124,
     "metadata": {},
     "output_type": "execute_result"
    }
   ],
   "source": [
    "listatotalgraves2019 = pd.DataFrame(lista_graves_2019,index=meses)\n",
    "listatotalgraves2019"
   ]
  },
  {
   "cell_type": "markdown",
   "metadata": {},
   "source": [
    "# ILESOS 2020"
   ]
  },
  {
   "cell_type": "code",
   "execution_count": 125,
   "metadata": {},
   "outputs": [
    {
     "data": {
      "text/html": [
       "<div>\n",
       "<style scoped>\n",
       "    .dataframe tbody tr th:only-of-type {\n",
       "        vertical-align: middle;\n",
       "    }\n",
       "\n",
       "    .dataframe tbody tr th {\n",
       "        vertical-align: top;\n",
       "    }\n",
       "\n",
       "    .dataframe thead th {\n",
       "        text-align: right;\n",
       "    }\n",
       "</style>\n",
       "<table border=\"1\" class=\"dataframe\">\n",
       "  <thead>\n",
       "    <tr style=\"text-align: right;\">\n",
       "      <th></th>\n",
       "      <th>0</th>\n",
       "    </tr>\n",
       "  </thead>\n",
       "  <tbody>\n",
       "    <tr>\n",
       "      <th>jan</th>\n",
       "      <td>0.42</td>\n",
       "    </tr>\n",
       "    <tr>\n",
       "      <th>fev</th>\n",
       "      <td>0.42</td>\n",
       "    </tr>\n",
       "    <tr>\n",
       "      <th>mar</th>\n",
       "      <td>0.40</td>\n",
       "    </tr>\n",
       "    <tr>\n",
       "      <th>abr</th>\n",
       "      <td>0.38</td>\n",
       "    </tr>\n",
       "    <tr>\n",
       "      <th>mai</th>\n",
       "      <td>0.40</td>\n",
       "    </tr>\n",
       "    <tr>\n",
       "      <th>jun</th>\n",
       "      <td>0.42</td>\n",
       "    </tr>\n",
       "    <tr>\n",
       "      <th>jul</th>\n",
       "      <td>0.42</td>\n",
       "    </tr>\n",
       "    <tr>\n",
       "      <th>ago</th>\n",
       "      <td>0.42</td>\n",
       "    </tr>\n",
       "    <tr>\n",
       "      <th>set</th>\n",
       "      <td>0.42</td>\n",
       "    </tr>\n",
       "    <tr>\n",
       "      <th>out</th>\n",
       "      <td>0.41</td>\n",
       "    </tr>\n",
       "    <tr>\n",
       "      <th>nov</th>\n",
       "      <td>0.41</td>\n",
       "    </tr>\n",
       "    <tr>\n",
       "      <th>dez</th>\n",
       "      <td>0.41</td>\n",
       "    </tr>\n",
       "  </tbody>\n",
       "</table>\n",
       "</div>"
      ],
      "text/plain": [
       "        0\n",
       "jan  0.42\n",
       "fev  0.42\n",
       "mar  0.40\n",
       "abr  0.38\n",
       "mai  0.40\n",
       "jun  0.42\n",
       "jul  0.42\n",
       "ago  0.42\n",
       "set  0.42\n",
       "out  0.41\n",
       "nov  0.41\n",
       "dez  0.41"
      ]
     },
     "execution_count": 125,
     "metadata": {},
     "output_type": "execute_result"
    }
   ],
   "source": [
    "listatotalilesos2020 = pd.DataFrame(lista_proporcao_ilesos2020,index=meses)\n",
    "listatotalilesos2020"
   ]
  },
  {
   "cell_type": "markdown",
   "metadata": {},
   "source": [
    "# GRAVES 2020"
   ]
  },
  {
   "cell_type": "code",
   "execution_count": 127,
   "metadata": {},
   "outputs": [
    {
     "data": {
      "text/html": [
       "<div>\n",
       "<style scoped>\n",
       "    .dataframe tbody tr th:only-of-type {\n",
       "        vertical-align: middle;\n",
       "    }\n",
       "\n",
       "    .dataframe tbody tr th {\n",
       "        vertical-align: top;\n",
       "    }\n",
       "\n",
       "    .dataframe thead th {\n",
       "        text-align: right;\n",
       "    }\n",
       "</style>\n",
       "<table border=\"1\" class=\"dataframe\">\n",
       "  <thead>\n",
       "    <tr style=\"text-align: right;\">\n",
       "      <th></th>\n",
       "      <th>0</th>\n",
       "    </tr>\n",
       "  </thead>\n",
       "  <tbody>\n",
       "    <tr>\n",
       "      <th>jan</th>\n",
       "      <td>0.11</td>\n",
       "    </tr>\n",
       "    <tr>\n",
       "      <th>fev</th>\n",
       "      <td>0.11</td>\n",
       "    </tr>\n",
       "    <tr>\n",
       "      <th>mar</th>\n",
       "      <td>0.11</td>\n",
       "    </tr>\n",
       "    <tr>\n",
       "      <th>abr</th>\n",
       "      <td>0.12</td>\n",
       "    </tr>\n",
       "    <tr>\n",
       "      <th>mai</th>\n",
       "      <td>0.12</td>\n",
       "    </tr>\n",
       "    <tr>\n",
       "      <th>jun</th>\n",
       "      <td>0.12</td>\n",
       "    </tr>\n",
       "    <tr>\n",
       "      <th>jul</th>\n",
       "      <td>0.11</td>\n",
       "    </tr>\n",
       "    <tr>\n",
       "      <th>ago</th>\n",
       "      <td>0.12</td>\n",
       "    </tr>\n",
       "    <tr>\n",
       "      <th>set</th>\n",
       "      <td>0.12</td>\n",
       "    </tr>\n",
       "    <tr>\n",
       "      <th>out</th>\n",
       "      <td>0.12</td>\n",
       "    </tr>\n",
       "    <tr>\n",
       "      <th>nov</th>\n",
       "      <td>0.12</td>\n",
       "    </tr>\n",
       "    <tr>\n",
       "      <th>dez</th>\n",
       "      <td>0.12</td>\n",
       "    </tr>\n",
       "  </tbody>\n",
       "</table>\n",
       "</div>"
      ],
      "text/plain": [
       "        0\n",
       "jan  0.11\n",
       "fev  0.11\n",
       "mar  0.11\n",
       "abr  0.12\n",
       "mai  0.12\n",
       "jun  0.12\n",
       "jul  0.11\n",
       "ago  0.12\n",
       "set  0.12\n",
       "out  0.12\n",
       "nov  0.12\n",
       "dez  0.12"
      ]
     },
     "execution_count": 127,
     "metadata": {},
     "output_type": "execute_result"
    }
   ],
   "source": [
    "listatotalgraves2020 = pd.DataFrame(lista_graves_2020,index=meses)\n",
    "listatotalgraves2020"
   ]
  },
  {
   "cell_type": "markdown",
   "metadata": {},
   "source": [
    "### C"
   ]
  },
  {
   "cell_type": "code",
   "execution_count": null,
   "metadata": {},
   "outputs": [],
   "source": []
  },
  {
   "cell_type": "code",
   "execution_count": null,
   "metadata": {},
   "outputs": [],
   "source": []
  }
 ],
 "metadata": {
  "kernelspec": {
   "display_name": "Python 3",
   "language": "python",
   "name": "python3"
  },
  "language_info": {
   "codemirror_mode": {
    "name": "ipython",
    "version": 3
   },
   "file_extension": ".py",
   "mimetype": "text/x-python",
   "name": "python",
   "nbconvert_exporter": "python",
   "pygments_lexer": "ipython3",
   "version": "3.8.5"
  }
 },
 "nbformat": 4,
 "nbformat_minor": 4
}
